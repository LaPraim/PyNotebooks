{
 "metadata": {
  "name": ""
 },
 "nbformat": 3,
 "nbformat_minor": 0,
 "worksheets": [
  {
   "cells": [
    {
     "cell_type": "code",
     "collapsed": false,
     "input": [
      "from netCDF4 import Dataset \n",
      "import matplotlib.pyplot as plt\n",
      "\n",
      "from mpl_toolkits.basemap import Basemap"
     ],
     "language": "python",
     "metadata": {},
     "outputs": [
      {
       "output_type": "stream",
       "stream": "stderr",
       "text": [
        "/skynet3_rech1/huziy/virtualenv_cython/lib/python2.7/site-packages/mpl_toolkits/__init__.py:2: UserWarning: Module argparse was already imported from /usr/local/Python-2.7.2/lib/python2.7/argparse.pyc, but /skynet3_rech1/huziy/virtualenv_cython/lib/python2.7/site-packages is being added to sys.path\n",
        "  __import__('pkg_resources').declare_namespace(__name__)\n"
       ]
      }
     ],
     "prompt_number": 4
    },
    {
     "cell_type": "code",
     "collapsed": false,
     "input": [
      "ds_aph = Dataset(\"aphrodite_std_cdo_annual.nc\")\n",
      "data_aph = ds_aph.variables[\"precip\"][:].squeeze()\n",
      "lon1 = ds_aph.variables[\"lon\"][:]\n",
      "lat1 = ds_aph.variables[\"lat\"][:]\n",
      "\n"
     ],
     "language": "python",
     "metadata": {},
     "outputs": [],
     "prompt_number": 2
    },
    {
     "cell_type": "code",
     "collapsed": false,
     "input": [
      "data_imd = Dataset(\"IMD_std.nc\").variables[\"var\"][:].squeeze()"
     ],
     "language": "python",
     "metadata": {},
     "outputs": [],
     "prompt_number": 3
    },
    {
     "cell_type": "code",
     "collapsed": false,
     "input": [
      "b = Basemap()"
     ],
     "language": "python",
     "metadata": {},
     "outputs": []
    }
   ],
   "metadata": {}
  }
 ]
}