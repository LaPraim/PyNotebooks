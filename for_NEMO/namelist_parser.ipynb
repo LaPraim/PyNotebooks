{
 "metadata": {
  "name": "",
  "signature": "sha256:c758a80e45c04ae4e61412d11e19f32992a87cd861bd330f4e51785eec81c9b3"
 },
 "nbformat": 3,
 "nbformat_minor": 0,
 "worksheets": [
  {
   "cells": [
    {
     "cell_type": "code",
     "collapsed": false,
     "input": [
      "import f90nml"
     ],
     "language": "python",
     "metadata": {},
     "outputs": [],
     "prompt_number": 11
    },
    {
     "cell_type": "code",
     "collapsed": false,
     "input": [
      "reload(f90nml)\n",
      "nml_dict = f90nml.read(\"nemo_namelist_sample\")"
     ],
     "language": "python",
     "metadata": {},
     "outputs": [],
     "prompt_number": 12
    },
    {
     "cell_type": "code",
     "collapsed": false,
     "input": [
      "%%bash\n",
      "grep -i wp nemo_namelist_sample"
     ],
     "language": "python",
     "metadata": {},
     "outputs": []
    },
    {
     "cell_type": "code",
     "collapsed": false,
     "input": [
      "print nml_dict"
     ],
     "language": "python",
     "metadata": {},
     "outputs": [
      {
       "output_type": "stream",
       "stream": "stdout",
       "text": [
        "NmlDict([('namrun', NmlDict([('nn_no', 0), ('cn_exp', 'GLK'), ('nn_it000', 876001), ('nn_itend', 1752000), ('nn_date0', 20071231), ('nn_leapy', 0), ('ln_rstart', True), ('nn_rstctl', 2), ('cn_ocerst_in', 'GLK_00876000_restart'), ('cn_ocerst_out', 'restart'), ('nn_istate', 1), ('nn_stock', 175200), ('nn_write', 480), ('ln_dimgnnn', False), ('ln_mskland', False), ('ln_clobber', False), ('nn_chunksz', 0)])), ('namzgr', NmlDict([('ln_zco', False), ('ln_zps', True), ('ln_sco', False)])), ('namzgr_sco', NmlDict([('rn_sbot_min', 300.0), ('rn_sbot_max', 5250.0), ('rn_theta', 6.0), ('rn_thetb', 0.75), ('rn_rmax', 0.15), ('ln_s_sigma', False), ('rn_bb', 0.8), ('rn_hc', 150.0)])), ('namdom', NmlDict([('nn_bathy', 1), ('nn_closea', 0), ('nn_msh', 0), ('rn_hmin', -3.0), ('rn_e3zps_min', 1.0), ('rn_e3zps_rat', 0.1), ('rn_rdt', 1800.0), ('nn_baro', 600), ('rn_atfp', 0.5), ('nn_acc', 0), ('rn_rdtmin', 28800.0), ('rn_rdtmax', 28800.0), ('rn_rdth', 800.0)])), ('namtsd', NmlDict([('sn_tem', ['IC_T', -1, 'votemper', True, True, 'yearly', ' ', ' ']), ('sn_sal', ['IC_S', -1, 'vosaline', True, True, 'yearly', '', ' ']), ('cn_dir', './'), ('ln_tsd_init', True), ('ln_tsd_tradmp', False)])), ('namsbc', NmlDict([('nn_fsbc', 3), ('ln_ana', False), ('ln_flx', False), ('ln_blk_clio', False), ('ln_blk_core', True), ('ln_blk_mfs', False), ('ln_cpl', False), ('ln_apr_dyn', False), ('nn_ice', 2), ('ln_dm2dc', False), ('ln_rnf', True), ('ln_ssr', False), ('nn_fwb', 2), ('ln_cdgw', False)])), ('namsbc_ana', NmlDict([('nn_tau000', 0), ('rn_utau0', 0.5), ('rn_vtau0', 0.0), ('rn_qns0', 0.0), ('rn_qsr0', 0.0), ('rn_emp0', 0.0)])), ('namsbc_flx', NmlDict([('sn_utau', ['utau', 24, 'utau', False, False, 'yearly', '', '']), ('sn_vtau', ['vtau', 24, 'vtau', False, False, 'yearly', '', '']), ('sn_qtot', ['qtot', 24, 'qtot', False, False, 'yearly', '', '']), ('sn_qsr', ['qsr', 24, 'qsr', False, False, 'yearly', '', '']), ('sn_emp', ['emp', 24, 'emp', False, False, 'yearly', '', '']), ('cn_dir', './')])), ('namsbc_clio', NmlDict([('sn_utau', ['taux_1m', -1, 'sozotaux', True, True, 'yearly', '', '']), ('sn_vtau', ['tauy_1m', -1, 'sometauy', True, True, 'yearly', '', '']), ('sn_wndm', ['flx', -1, 'socliowi', True, True, 'yearly', '', '']), ('sn_tair', ['flx', -1, 'socliot2', True, True, 'yearly', '', '']), ('sn_humi', ['flx', -1, 'socliohu', True, True, 'yearly', '', '']), ('sn_ccov', ['flx', -1, 'socliocl', False, True, 'yearly', '', '']), ('sn_prec', ['flx', -1, 'socliopl', False, True, 'yearly', '', '']), ('cn_dir', './')])), ('namsbc_core', NmlDict([('sn_wndi', ['u10', 3, 'u10', True, True, 'yearly', '', 'Uwnd']), ('sn_wndj', ['v10', 3, 'v10', True, True, 'yearly', '', 'Vwnd']), ('sn_qsr', ['radsw', 24, 'radsw', True, True, 'yearly', '', '']), ('sn_qlw', ['radlw', 24, 'radlw', True, True, 'yearly', '', '']), ('sn_tair', ['t2', 3, 't2', True, True, 'yearly', '', '']), ('sn_humi', ['q2', 3, 'q2', True, True, 'yearly', '', '']), ('sn_prec', ['precip', 24, 'precip', True, True, 'yearly', '', '']), ('sn_snow', ['snow', 24, 'snow', True, True, 'yearly', '', '']), ('sn_tdif', ['----', 24, 'taudif', True, True, 'yearly', '', '']), ('cn_dir', './'), ('ln_2m', True), ('ln_taudif', False), ('rn_pfac', 1.0)])), ('namsbc_mfs', NmlDict([('sn_wndi', ['ecmwf', 6, 'u10', True, False, 'daily', 'bicubic.nc', '']), ('sn_wndj', ['ecmwf', 6, 'v10', True, False, 'daily', 'bicubic.nc', '']), ('sn_clc', ['ecmwf', 6, 'clc', True, False, 'daily', 'bilinear.nc', '']), ('sn_msl', ['ecmwf', 6, 'msl', True, False, 'daily', 'bicubic.nc', '']), ('sn_tair', ['ecmwf', 6, 't2', True, False, 'daily', 'bicubic.nc', '']), ('sn_rhm', ['ecmwf', 6, 'rh', True, False, 'daily', 'bilinear.nc', '']), ('sn_prec', ['ecmwf', 6, 'precip', True, True, 'daily', 'bicubic.nc', '']), ('cn_dir', './ECMWF/')])), ('namsbc_cpl', NmlDict([('sn_snd_temp', ['weighted oce and ice', 'no', '', '', '']), ('sn_snd_alb', ['weighted ice', 'no', '', '', '']), ('sn_snd_thick', ['none', 'no', '', '', '']), ('sn_snd_crt', ['none', 'no', 'spherical', 'eastward-northward', 'T']), ('sn_snd_co2', ['coupled', 'no', '', '', '']), ('sn_rcv_w10m', ['none', 'no', '', '', '']), ('sn_rcv_taumod', ['coupled', 'no', '', '', '']), ('sn_rcv_tau', ['oce only', 'no', 'cartesian', 'eastward-northward', 'U,V']), ('sn_rcv_dqnsdt', ['coupled', 'no', '', '', '']), ('sn_rcv_qsr', ['oce and ice', 'no', '', '', '']), ('sn_rcv_qns', ['oce and ice', 'no', '', '', '']), ('sn_rcv_emp', ['conservative', 'no', '', '', '']), ('sn_rcv_rnf', ['coupled', 'no', '', '', '']), ('sn_rcv_cal', ['coupled', 'no', '', '', '']), ('sn_rcv_co2', ['coupled', 'no', '', '', ''])])), ('namtra_qsr', NmlDict([('sn_chl', ['chlorophyll', -1, 'CHLA', True, True, 'yearly', '', '']), ('cn_dir', './'), ('ln_traqsr', True), ('ln_qsr_rgb', True), ('ln_qsr_2bd', False), ('ln_qsr_bio', False), ('nn_chldta', 0), ('rn_abs', 0.58), ('rn_si0', 0.35), ('rn_si1', 23.0)])), ('namsbc_rnf', NmlDict([('sn_rnf', ['runoff_1m_nomask', -1, 'sorunoff', True, True, 'yearly', '', '']), ('sn_cnf', ['runoff_1m_nomask', 0, 'socoefr', False, True, 'yearly', '', '']), ('sn_s_rnf', ['runoffs', 24, 'rosaline', True, True, 'yearly', '', '']), ('sn_t_rnf', ['runoffs', 24, 'rotemper', True, True, 'yearly', '', '']), ('sn_dep_rnf', ['runoffs', 0, 'rodepth', False, True, 'yearly', '', '']), ('cn_dir', './'), ('ln_rnf_emp', False), ('ln_rnf_mouth', False), ('rn_hrnf', 15.0), ('rn_avt_rnf', 0.001), ('rn_rfact', 1.0), ('ln_rnf_depth', False), ('ln_rnf_tem', False), ('ln_rnf_sal', False)])), ('namsbc_apr', NmlDict([('sn_apr', ['patm', -1, 'somslpre', True, True, 'yearly', '', '']), ('cn_dir', './'), ('rn_pref', 101000.0), ('ln_ref_apr', False), ('ln_apr_obc', False)])), ('namsbc_ssr', NmlDict([('sn_sst', ['sst_data', 24, 'sst', False, False, 'yearly', '', '']), ('sn_sss', ['sss_data', -1, 'sss', True, True, 'yearly', '', '']), ('cn_dir', './'), ('nn_sstr', 0), ('nn_sssr', 0), ('rn_dqdt', -40.0), ('rn_deds', -166.67), ('ln_sssr_bnd', True), ('rn_sssr_bnd', 4.0)])), ('namsbc_alb', NmlDict([('rn_cloud', 0.06), ('rn_albice', 0.53), ('rn_alphd', 0.8), ('rn_alphc', 0.65), ('rn_alphdi', 0.72)])), ('namlbc', NmlDict([('rn_shlat', 2.0), ('ln_vorlat', False)])), ('namcla', NmlDict([('nn_cla', 0)])), ('namobc', NmlDict([('ln_obc_clim', False), ('ln_vol_cst', True), ('ln_obc_fla', False), ('nn_obcdta', 1), ('cn_obcdta', 'annual'), ('rn_dpein', 1.0), ('rn_dpwin', 1.0), ('rn_dpnin', 1.0), ('rn_dpsin', 1.0), ('rn_dpeob', 3000.0), ('rn_dpwob', 15.0), ('rn_dpnob', 3000.0), ('rn_dpsob', 15.0), ('rn_volemp', 1.0)])), ('namagrif', NmlDict([('nn_cln_update', 3), ('ln_spc_dyn', True), ('rn_sponge_tra', 2880.0), ('rn_sponge_dyn', 2880.0)])), ('nam_tide', NmlDict([('ln_tide_pot', True), ('nb_harmo', 11), ('clname', ['M2', 'S2', 'N2', 'K1', 'O1', 'Q1', 'M4', 'K2', 'P1', 'Mf', 'Mm'])])), ('nambdy', NmlDict([('nb_bdy', 1), ('ln_coords_file', True), ('cn_coords_file', 'coordinates.bdy.nc'), ('ln_mask_file', False), ('cn_mask_file', ''), ('nn_dyn2d', 2), ('nn_dyn2d_dta', 3), ('nn_dyn3d', 0), ('nn_dyn3d_dta', 0), ('nn_tra', 1), ('nn_tra_dta', 1), ('nn_rimwidth', 10), ('ln_vol', False), ('nn_volctl', 1)])), ('nambdy_dta', NmlDict([('bn_ssh', ['amm12_bdyT_u2d', 24, 'sossheig', True, False, 'daily', '', '']), ('bn_u2d', ['amm12_bdyU_u2d', 24, 'vobtcrtx', True, False, 'daily', '', '']), ('bn_v2d', ['amm12_bdyV_u2d', 24, 'vobtcrty', True, False, 'daily', '', '']), ('bn_u3d', ['amm12_bdyU_u3d', 24, 'vozocrtx', True, False, 'daily', '', '']), ('bn_v3d', ['amm12_bdyV_u3d', 24, 'vomecrty', True, False, 'daily', '', '']), ('bn_tem', ['amm12_bdyT_tra', 24, 'votemper', True, False, 'daily', '', '']), ('bn_sal', ['amm12_bdyT_tra', 24, 'vosaline', True, False, 'daily', '', '']), ('cn_dir', 'bdydta/'), ('ln_full_vel', False)])), ('nambdy_tide', NmlDict([('filtide', 'bdydta/amm12_bdytide_'), ('tide_cpt', ['Q1', 'O1', 'P1', 'S1', 'K1', '2N2', 'MU2', 'N2', 'NU2', 'M2', 'L2', 'T2', 'S2', 'K2', 'M4']), ('tide_speed', [13.398661, 13.943036, 14.958932, 15.000001, 15.041069, 27.895355, 27.96821, 28.43973, 28.512585, 28.984106, 29.528479, 29.958935, 30.000002, 30.082138, 57.968212]), ('ln_tide_date', True)])), ('nambfr', NmlDict([('nn_bfr', 2), ('rn_bfri1', 0.0004), ('rn_bfri2', 0.001), ('rn_bfeb2', 0.0025), ('ln_bfr2d', False), ('rn_bfrien', 50.0), ('ln_bfrimp', True)])), ('nambbc', NmlDict([('ln_trabbc', False), ('nn_geoflx', 0), ('rn_geoflx_cst', 0.0864)])), ('nambbl', NmlDict([('nn_bbl_ldf', 1), ('nn_bbl_adv', 0), ('rn_ahtbbl', 1000.0), ('rn_gambbl', 10.0)])), ('nameos', NmlDict([('nn_eos', 0), ('rn_alpha', 0.0002), ('rn_beta', 0.00077)])), ('namtra_adv', NmlDict([('ln_traadv_cen2', False), ('ln_traadv_tvd', True), ('ln_traadv_muscl', False), ('ln_traadv_muscl2', False), ('ln_traadv_ubs', False), ('ln_traadv_qck', False)])), ('namtra_ldf', NmlDict([('ln_traldf_lap', True), ('ln_traldf_bilap', False), ('ln_traldf_level', False), ('ln_traldf_hor', False), ('ln_traldf_iso', True), ('ln_traldf_grif', False), ('ln_traldf_gdia', False), ('ln_triad_iso', False), ('ln_botmix_grif', False), ('rn_aeiv_0', 2000.0), ('rn_aht_0', 100), ('rn_ahtb_0', 0.0)])), ('namtra_dmp', NmlDict([('ln_tradmp', False), ('nn_hdmp', -1), ('nn_zdmp', 0), ('rn_surf', 50.0), ('rn_bot', 360.0), ('rn_dep', 800.0), ('nn_file', 0)])), ('namdyn_adv', NmlDict([('ln_dynadv_vec', True), ('ln_dynadv_cen2', False), ('ln_dynadv_ubs', False)])), ('namdyn_vor', NmlDict([('ln_dynvor_ene', False), ('ln_dynvor_ens', False), ('ln_dynvor_mix', False), ('ln_dynvor_een', True)])), ('namdyn_hpg', NmlDict([('ln_hpg_zco', False), ('ln_hpg_zps', True), ('ln_hpg_sco', False), ('ln_hpg_djc', False), ('ln_hpg_prj', False), ('ln_dynhpg_imp', True)])), ('namdyn_ldf', NmlDict([('ln_dynldf_lap', True), ('ln_dynldf_bilap', False), ('ln_dynldf_level', False), ('ln_dynldf_hor', False), ('ln_dynldf_iso', True), ('rn_ahm_0_lap', 300.0), ('rn_ahmb_0', 0.0), ('rn_ahm_0_blp', 0.0)])), ('namzdf', NmlDict([('rn_avm0', 0.00012), ('rn_avt0', 1.2e-05), ('nn_avb', 0), ('nn_havtb', 0), ('ln_zdfevd', True), ('nn_evdm', 0), ('rn_avevd', 100.0), ('ln_zdfnpc', False), ('nn_npc', 1), ('nn_npcp', 365), ('ln_zdfexp', False), ('nn_zdfexp', 3)])), ('namzdf_ric', NmlDict([('rn_avmri', 0.01), ('rn_alp', 5.0), ('nn_ric', 2), ('rn_ekmfc', 0.7), ('rn_mldmin', 1.0), ('rn_mldmax', 1000.0), ('rn_wtmix', 10.0), ('rn_wvmix', 10.0), ('ln_mldw', True)])), ('namzdf_tke', NmlDict([('rn_ediff', 0.1), ('rn_ediss', 0.7), ('rn_ebb', 67.83), ('rn_emin', 1e-06), ('rn_emin0', 0.0001), ('nn_mxl', 2), ('nn_pdl', 1), ('ln_mxl0', True), ('rn_mxl0', 0.04), ('ln_lc', True), ('rn_lc', 0.15), ('nn_etau', 0), ('rn_efr', 0.05), ('nn_htau', 1)])), ('namzdf_kpp', NmlDict([('ln_kpprimix', True), ('rn_difmiw', 0.0001), ('rn_difsiw', 1e-05), ('rn_riinfty', 0.8), ('rn_difri', 0.005), ('rn_bvsqcon', -1e-09), ('rn_difcon', 1.0), ('nn_avb', 0), ('nn_ave', 1)])), ('namzdf_gls', NmlDict([('rn_emin', 1e-06), ('rn_epsmin', 1e-12), ('ln_length_lim', True), ('rn_clim_galp', 0.53), ('ln_crban', True), ('ln_sigpsi', True), ('rn_crban', 100.0), ('rn_charn', 70000.0), ('nn_tkebc_surf', 1), ('nn_tkebc_bot', 1), ('nn_psibc_surf', 1), ('nn_psibc_bot', 1), ('nn_stab_func', 2), ('nn_clos', 1)])), ('namzdf_ddm', NmlDict([('rn_avts', 0.0001), ('rn_hsbfr', 1.6)])), ('namzdf_tmx', NmlDict([('rn_htmx', 500.0), ('rn_n2min', 1e-08), ('rn_tfe', 0.333), ('rn_me', 0.2), ('ln_tmx_itf', True), ('rn_tfe_itf', 1.0)])), ('namsol', NmlDict([('nn_solv', 1), ('nn_sol_arp', 0), ('rn_eps', 1e-06), ('nn_nmin', 300), ('nn_nmax', 800), ('nn_nmod', 10), ('rn_resmax', 1e-10), ('rn_sor', 1.92)])), ('nammpp', NmlDict([('cn_mpi_send', 'I'), ('nn_buffer', 0), ('ln_nnogather', False), ('jpni', 0), ('jpnj', 0), ('jpnij', 0)])), ('namctl', NmlDict([('ln_ctl', False), ('nn_print', 0), ('nn_ictls', 0), ('nn_ictle', 0), ('nn_jctls', 0), ('nn_jctle', 0), ('nn_isplt', 1), ('nn_jsplt', 1), ('nn_bench', 0), ('nn_timing', 0)])), ('namnc4', NmlDict([('nn_nchunks_i', 4), ('nn_nchunks_j', 4), ('nn_nchunks_k', 31), ('ln_nc4zip', True)])), ('namtrd', NmlDict([('nn_trd', 1), ('nn_ctls', 0), ('rn_ucf', 1.0), ('cn_trdrst_in', 'restart_mld'), ('cn_trdrst_out', 'restart_mld'), ('ln_trdmld_restart', False), ('ln_trdmld_instant', False)])), ('namflo', NmlDict([('jpnfl', 1), ('jpnnewflo', 0), ('ln_rstflo', False), ('nn_writefl', 75), ('nn_stockfl', 5475), ('ln_argo', False), ('ln_flork4', False), ('ln_ariane', True), ('ln_flo_ascii', True)])), ('namptr', NmlDict([('ln_diaptr', False), ('ln_diaznl', True), ('ln_subbas', True), ('ln_ptrcomp', True), ('nn_fptr', 1), ('nn_fwri', 15)])), ('namhsb', NmlDict([('ln_diahsb', True)])), ('nam_diaharm', NmlDict([('nit000_han', 1), ('nitend_han', 75), ('nstep_han', 15), ('tname', ['M2', 'K1'])])), ('namdct', NmlDict([('nn_dct', 15), ('nn_dctwri', 15), ('nn_secdebug', 112)])), ('namobs', NmlDict([('ln_t3d', False), ('ln_s3d', False), ('ln_ena', False), ('ln_profb', False), ('ln_sla', False), ('ln_sladt', False), ('ln_slafb', False), ('ln_sst', False), ('ln_sstfb', False), ('profbfiles', 'profiles_01.nc'), ('slafbfiles', 'sla_01.nc'), ('sstfbfiles', ['sst_01.nc', 'sst_02.nc', 'sst_03.nc', 'sst_04.nc', 'sst_05.nc']), ('nmsshc', 0), ('ln_altbias', False), ('ln_ignmis', True), ('ln_grid_global', True), ('ln_grid_search_lookup', False)])), ('nam_asminc', NmlDict([('ln_bkgwri', False), ('ln_trainc', False), ('ln_dyninc', False), ('ln_sshinc', False), ('ln_asmdin', False), ('ln_asmiau', False), ('nitbkg', 0), ('nitdin', 0), ('nitiaustr', 1), ('nitiaufin', 15), ('niaufn', 0), ('ln_salfix', False), ('salfixmin', -9999), ('nn_divdmp', 0)])), ('namsbc_wave', NmlDict([('sn_cdg', ['cdg_wave', 1, 'drag_coeff', True, False, 'daily', '', '']), ('cn_dir_cdg', './')])), ('namdyn_nept', NmlDict([('ln_neptsimp', False), ('ln_smooth_neptvel', False), ('rn_tslse', 12000.0), ('rn_tslsp', 3000.0), ('ln_neptramp', True), ('rn_htrmin', 100.0), ('rn_htrmax', 200.0)])), ('namtrj', NmlDict([('cn_dirtrj', 'tam_trajectory'), ('ln_trjhand', False), ('nn_ittrjfrq', 20), ('ln_trj_spl', False)]))])\n"
       ]
      }
     ],
     "prompt_number": 13
    },
    {
     "cell_type": "code",
     "collapsed": false,
     "input": [
      "nml_dict[\"namrun\"][\"nn_date0\"]"
     ],
     "language": "python",
     "metadata": {},
     "outputs": [
      {
       "metadata": {},
       "output_type": "pyout",
       "prompt_number": 14,
       "text": [
        "20071231"
       ]
      }
     ],
     "prompt_number": 14
    },
    {
     "cell_type": "code",
     "collapsed": false,
     "input": [
      "nml_dict[\"namrun\"][\"nn_date0\"] = \"20071010\""
     ],
     "language": "python",
     "metadata": {},
     "outputs": [],
     "prompt_number": 15
    },
    {
     "cell_type": "code",
     "collapsed": false,
     "input": [
      "import os \n",
      "os.remove(\"namelist_modified\")\n",
      "nml_dict.save(\"namelist_modified\")"
     ],
     "language": "python",
     "metadata": {},
     "outputs": [],
     "prompt_number": 17
    },
    {
     "cell_type": "code",
     "collapsed": false,
     "input": [],
     "language": "python",
     "metadata": {},
     "outputs": []
    }
   ],
   "metadata": {}
  }
 ]
}