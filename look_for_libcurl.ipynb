{
 "metadata": {
  "name": "",
  "signature": "sha256:2401eb4f53408ad366f4d8f04c082e24ea1b736bc2477a66cf0ef0e94a71370f"
 },
 "nbformat": 3,
 "nbformat_minor": 0,
 "worksheets": [
  {
   "cells": [
    {
     "cell_type": "code",
     "collapsed": false,
     "input": [
      "\n",
      "import os\n",
      "libdirs = os.environ[\"LD_LIBRARY_PATH\"].split(\":\")"
     ],
     "language": "python",
     "metadata": {},
     "outputs": [],
     "prompt_number": 9
    },
    {
     "cell_type": "code",
     "collapsed": false,
     "input": [
      "def find_indir(dirpath, what=\"curl\"):\n",
      "    print dirpath\n",
      "    \n",
      "        \n",
      "    for root, dirnames, filenames in os.walk(dirpath):\n",
      "        \n",
      "        \n",
      "        for f in filenames:\n",
      "            if what in f.lower():\n",
      "                print root, f\n",
      "                \n",
      "    "
     ],
     "language": "python",
     "metadata": {},
     "outputs": [],
     "prompt_number": 20
    },
    {
     "cell_type": "code",
     "collapsed": false,
     "input": [
      "for the_dir in libdirs:\n",
      "    find_indir(the_dir)"
     ],
     "language": "python",
     "metadata": {},
     "outputs": [
      {
       "output_type": "stream",
       "stream": "stdout",
       "text": [
        "/home/huziy/PythonProjects/pylibrmn\n",
        "/sb/software/CentOS-6/libraries/netcdf/4.1.3-gcc/lib\n",
        "/sb/software/areas/armnssm/ssm-domains-base/tools/dev-tools/multi/lib\n",
        "/sb/software/areas/armnssm/non-ssm/gcc-4.6.3/lib64\n",
        "/sb/software/areas/armnssm/ssm-domains-base/tools/dev-tools/linux24-x86-64/lib\n",
        "/sb/software/areas/armnssm/ssm-domains-base/tools/dev-tools/all/lib\n",
        "/sb/software/areas/armnssm/ssm-domains-base/libs/rmnlib-dev/multi/lib/Linux_x86-64/gfortran\n",
        "/sb/software/areas/armnssm/ssm-domains-base/libs/rmnlib-dev/multi/lib\n",
        "/sb/software/areas/armnssm/ssm-domains-base/libs/rmnlib-dev/linux24-x86-64/lib/Linux_x86-64/gfortran\n",
        "/sb/software/areas/armnssm/ssm-domains-base/libs/rmnlib-dev/linux24-x86-64/lib\n",
        "/sb/software/areas/armnssm/ssm-domains-base/libs/rmnlib-dev/all/lib\n",
        "/sb/software/areas/armnssm/ssm-domains-base/tools/vis-tools/linux26-x86-64/lib\n",
        "/sb/software/areas/armnssm/ssm-domains-base/tools/vis-tools/linux24-i386/lib\n",
        "/sb/software/areas/armnssm/ssm-domains-base/tools/diag-tools/linux24-x86-64/lib\n",
        "/sb/software/areas/armnssm/ssm-domains-base/tools/dev-tools/gcc_4.6.3_linux24-x86-64/lib\n",
        "/home/huziy/PythonProjects/pylibrmn\n",
        "/software/CentOS-6/compilers/gcc-4.8.2/lib64"
       ]
      },
      {
       "output_type": "stream",
       "stream": "stdout",
       "text": [
        "\n",
        "/software/CentOS-6/compilers/gcc-4.8.2/lib\n",
        "/software/CentOS-6/libraries/gdal-1.9.2/lib\n",
        "/software/CentOS-6/libraries/proj-4.8.0/lib\n",
        "/software/CentOS-6/tools/hdf5/1.8.7-gcc/lib\n",
        "/software/CentOS-6/libraries/GotoBLAS_LAPACK/shared\n",
        "/software/CentOS-6/tools/python-2.7.3/lib\n",
        "/software/CentOS-6/tools/python-2.7.3/lib/python2.7 macurl2path.py\n",
        "/software/CentOS-6/tools/python-2.7.3/lib/python2.7 macurl2path.pyc\n",
        "/software/CentOS-6/tools/python-2.7.3/lib/python2.7 macurl2path.pyo\n",
        "/software/CentOS-6/tools/python-2.7.3/lib/python2.7/site-packages/tornado-3.1-py2.7.egg/tornado"
       ]
      },
      {
       "output_type": "stream",
       "stream": "stdout",
       "text": [
        " curl_httpclient.py\n",
        "/software/CentOS-6/tools/python-2.7.3/lib/python2.7/site-packages/tornado-3.1-py2.7.egg/tornado curl_httpclient.pyc\n",
        "/software/CentOS-6/tools/python-2.7.3/lib/python2.7/site-packages/tornado-3.1-py2.7.egg/tornado/test curl_httpclient_test.py\n",
        "/software/CentOS-6/tools/python-2.7.3/lib/python2.7/site-packages/tornado-3.1-py2.7.egg/tornado/test curl_httpclient_test.pyc\n",
        "/software/CentOS-6/tools/wx-2.8.12/lib"
       ]
      },
      {
       "output_type": "stream",
       "stream": "stdout",
       "text": [
        "\n",
        "/home/huziy/ECssm/multi/lib\n",
        "/home/huziy/ECssm/linux26-x86-64/lib\n",
        "/home/huziy/ECssm/all/lib\n",
        "/sb/software/areas/armnssm/ssm-domains-base/setup/ssm_8.11/all/lib\n"
       ]
      }
     ],
     "prompt_number": 21
    },
    {
     "cell_type": "code",
     "collapsed": false,
     "input": [
      "help(os.walk)"
     ],
     "language": "python",
     "metadata": {},
     "outputs": [
      {
       "output_type": "stream",
       "stream": "stdout",
       "text": [
        "Help on function walk in module os:\n",
        "\n",
        "walk(top, topdown=True, onerror=None, followlinks=False)\n",
        "    Directory tree generator.\n",
        "    \n",
        "    For each directory in the directory tree rooted at top (including top\n",
        "    itself, but excluding '.' and '..'), yields a 3-tuple\n",
        "    \n",
        "        dirpath, dirnames, filenames\n",
        "    \n",
        "    dirpath is a string, the path to the directory.  dirnames is a list of\n",
        "    the names of the subdirectories in dirpath (excluding '.' and '..').\n",
        "    filenames is a list of the names of the non-directory files in dirpath.\n",
        "    Note that the names in the lists are just names, with no path components.\n",
        "    To get a full path (which begins with top) to a file or directory in\n",
        "    dirpath, do os.path.join(dirpath, name).\n",
        "    \n",
        "    If optional arg 'topdown' is true or not specified, the triple for a\n",
        "    directory is generated before the triples for any of its subdirectories\n",
        "    (directories are generated top down).  If topdown is false, the triple\n",
        "    for a directory is generated after the triples for all of its\n",
        "    subdirectories (directories are generated bottom up).\n",
        "    \n",
        "    When topdown is true, the caller can modify the dirnames list in-place\n",
        "    (e.g., via del or slice assignment), and walk will only recurse into the\n",
        "    subdirectories whose names remain in dirnames; this can be used to prune\n",
        "    the search, or to impose a specific order of visiting.  Modifying\n",
        "    dirnames when topdown is false is ineffective, since the directories in\n",
        "    dirnames have already been generated by the time dirnames itself is\n",
        "    generated.\n",
        "    \n",
        "    By default errors from the os.listdir() call are ignored.  If\n",
        "    optional arg 'onerror' is specified, it should be a function; it\n",
        "    will be called with one argument, an os.error instance.  It can\n",
        "    report the error to continue with the walk, or raise the exception\n",
        "    to abort the walk.  Note that the filename is available as the\n",
        "    filename attribute of the exception object.\n",
        "    \n",
        "    By default, os.walk does not follow symbolic links to subdirectories on\n",
        "    systems that support them.  In order to get this functionality, set the\n",
        "    optional argument 'followlinks' to true.\n",
        "    \n",
        "    Caution:  if you pass a relative pathname for top, don't change the\n",
        "    current working directory between resumptions of walk.  walk never\n",
        "    changes the current directory, and assumes that the client doesn't\n",
        "    either.\n",
        "    \n",
        "    Example:\n",
        "    \n",
        "    import os\n",
        "    from os.path import join, getsize\n",
        "    for root, dirs, files in os.walk('python/Lib/email'):\n",
        "        print root, \"consumes\",\n",
        "        print sum([getsize(join(root, name)) for name in files]),\n",
        "        print \"bytes in\", len(files), \"non-directory files\"\n",
        "        if 'CVS' in dirs:\n",
        "            dirs.remove('CVS')  # don't visit CVS directories\n",
        "\n"
       ]
      }
     ],
     "prompt_number": 4
    },
    {
     "cell_type": "code",
     "collapsed": false,
     "input": [],
     "language": "python",
     "metadata": {},
     "outputs": []
    }
   ],
   "metadata": {}
  }
 ]
}