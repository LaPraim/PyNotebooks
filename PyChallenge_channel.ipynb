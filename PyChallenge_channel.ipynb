{
 "metadata": {
  "name": ""
 },
 "nbformat": 3,
 "nbformat_minor": 0,
 "worksheets": [
  {
   "cells": [
    {
     "cell_type": "code",
     "collapsed": false,
     "input": [
      "#challenge from http://www.pythonchallenge.com/pc/def/channel.html\n",
      "#download channel.zip and see readme\n"
     ],
     "language": "python",
     "metadata": {},
     "outputs": [],
     "prompt_number": 1
    },
    {
     "cell_type": "code",
     "collapsed": false,
     "input": [
      "import os\n",
      "folder = \"/Users/huziy/Downloads/channel\"\n",
      "start = \"90052\"\n",
      "count = 0\n",
      "found = False\n",
      "while not found:\n",
      "    count += 1\n",
      "    with open(os.path.join(folder, start + \".txt\")) as f:\n",
      "        for line in f: \n",
      "            #print line\n",
      "            if \"nothing\" in line:    \n",
      "                start = line.strip().split()[-1]\n",
      "            else:\n",
      "                print line\n",
      "                print start\n",
      "                found = True\n",
      "    if found:\n",
      "        break\n",
      "print count"
     ],
     "language": "python",
     "metadata": {},
     "outputs": [
      {
       "output_type": "stream",
       "stream": "stdout",
       "text": [
        "Collect the comments.\n",
        "46145\n",
        "909\n"
       ]
      }
     ],
     "prompt_number": 15
    },
    {
     "cell_type": "code",
     "collapsed": false,
     "input": [],
     "language": "python",
     "metadata": {},
     "outputs": []
    }
   ],
   "metadata": {}
  }
 ]
}