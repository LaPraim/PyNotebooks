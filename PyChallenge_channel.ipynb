{
 "metadata": {
  "name": "",
  "signature": "sha256:44041eb992e43113f07c9172f105dd2040bb46793a1405edf9912d8d7cbdd23d"
 },
 "nbformat": 3,
 "nbformat_minor": 0,
 "worksheets": [
  {
   "cells": [
    {
     "cell_type": "code",
     "collapsed": false,
     "input": [
      "#challenge from http://www.pythonchallenge.com/pc/def/channel.html\n",
      "#download channel.zip and see readme\n"
     ],
     "language": "python",
     "metadata": {},
     "outputs": [],
     "prompt_number": 1
    },
    {
     "cell_type": "code",
     "collapsed": false,
     "input": [
      "%%bash\n",
      "\n",
      "if [ -s \"channel\" ]; then\n",
      "    echo \"Channel data already downloaded\"\n",
      "else\n",
      "    mkdir -p channel\n",
      "    cd channel\n",
      "    wget http://www.pythonchallenge.com/pc/def/channel.zip\n",
      "    unzip channel.zip > /dev/null\n",
      "    cd -\n",
      "fi\n"
     ],
     "language": "python",
     "metadata": {},
     "outputs": [
      {
       "output_type": "stream",
       "stream": "stdout",
       "text": [
        "Channel data already downloaded\n"
       ]
      }
     ],
     "prompt_number": 9
    },
    {
     "cell_type": "code",
     "collapsed": false,
     "input": [],
     "language": "python",
     "metadata": {},
     "outputs": []
    },
    {
     "cell_type": "code",
     "collapsed": false,
     "input": [],
     "language": "python",
     "metadata": {},
     "outputs": []
    },
    {
     "cell_type": "code",
     "collapsed": false,
     "input": [
      "import os\n",
      "folder = \"channel\"\n",
      "start = \"90052\"\n",
      "count = 0\n",
      "found = False\n",
      "while not found:\n",
      "    count += 1\n",
      "    with open(os.path.join(folder, start + \".txt\")) as f:\n",
      "        for line in f: \n",
      "            #print line\n",
      "            if \"nothing\" in line:    \n",
      "                start = line.strip().split()[-1]\n",
      "            else:\n",
      "                print line\n",
      "                print start\n",
      "                found = True\n",
      "    if found:\n",
      "        break\n",
      "print count"
     ],
     "language": "python",
     "metadata": {},
     "outputs": [
      {
       "output_type": "stream",
       "stream": "stdout",
       "text": [
        "Collect the comments.\n",
        "46145\n",
        "909\n"
       ]
      }
     ],
     "prompt_number": 10
    },
    {
     "cell_type": "code",
     "collapsed": false,
     "input": [
      "path = \"/home/san/channel.zip\"\n",
      "from zipfile import ZipFile\n",
      "z = ZipFile(path)"
     ],
     "language": "python",
     "metadata": {},
     "outputs": [],
     "prompt_number": 1
    },
    {
     "cell_type": "code",
     "collapsed": false,
     "input": [
      "comments = []\n",
      "start = \"90052\"\n",
      "while True:\n",
      "    aname = start + \".txt\"\n",
      "    data = z.read(aname)\n",
      "    #print aname\n",
      "    zinfo = z.getinfo(aname)\n",
      "    #print zinfo.comment\n",
      "    comments += [zinfo.comment,]\n",
      "    \n",
      "    if \"nothing\" in data.lower():\n",
      "        start = data.split()[-1]\n",
      "    else:\n",
      "        break\n",
      "    \n",
      "    #print 10 * \"----\"\n",
      "print \"\".join(comments)"
     ],
     "language": "python",
     "metadata": {},
     "outputs": [
      {
       "output_type": "stream",
       "stream": "stdout",
       "text": [
        "****************************************************************\n",
        "****************************************************************\n",
        "**                                                            **\n",
        "**   OO    OO    XX      YYYY    GG    GG  EEEEEE NN      NN  **\n",
        "**   OO    OO  XXXXXX   YYYYYY   GG   GG   EEEEEE  NN    NN   **\n",
        "**   OO    OO XXX  XXX YYY   YY  GG GG     EE       NN  NN    **\n",
        "**   OOOOOOOO XX    XX YY        GGG       EEEEE     NNNN     **\n",
        "**   OOOOOOOO XX    XX YY        GGG       EEEEE      NN      **\n",
        "**   OO    OO XXX  XXX YYY   YY  GG GG     EE         NN      **\n",
        "**   OO    OO  XXXXXX   YYYYYY   GG   GG   EEEEEE     NN      **\n",
        "**   OO    OO    XX      YYYY    GG    GG  EEEEEE     NN      **\n",
        "**                                                            **\n",
        "****************************************************************\n",
        " **************************************************************\n",
        "\n"
       ]
      }
     ],
     "prompt_number": 21
    },
    {
     "cell_type": "code",
     "collapsed": false,
     "input": [],
     "language": "python",
     "metadata": {},
     "outputs": []
    }
   ],
   "metadata": {}
  }
 ]
}