{
 "metadata": {
  "name": "",
  "signature": "sha256:e4255851574153493b2cd03a14b1c18be9a7ead88be2ecad273be767a5b865f7"
 },
 "nbformat": 3,
 "nbformat_minor": 0,
 "worksheets": [
  {
   "cells": [
    {
     "cell_type": "code",
     "collapsed": false,
     "input": [
      "#challenge from http://www.pythonchallenge.com/pc/def/channel.html\n",
      "#download channel.zip and see readme\n"
     ],
     "language": "python",
     "metadata": {},
     "outputs": [],
     "prompt_number": 1
    },
    {
     "cell_type": "code",
     "collapsed": false,
     "input": [
      "%%bash\n",
      "\n",
      "if [ -s \"channel\" ]; then\n",
      "    echo \"Channel data already downloaded\"\n",
      "else\n",
      "    mkdir -p channel\n",
      "    cd channel\n",
      "    wget http://www.pythonchallenge.com/pc/def/channel.zip\n",
      "    unzip channel.zip > /dev/null\n",
      "    cd -\n",
      "fi\n"
     ],
     "language": "python",
     "metadata": {},
     "outputs": [
      {
       "output_type": "stream",
       "stream": "stdout",
       "text": [
        "Channel data already downloaded\n"
       ]
      }
     ],
     "prompt_number": 9
    },
    {
     "cell_type": "code",
     "collapsed": false,
     "input": [],
     "language": "python",
     "metadata": {},
     "outputs": []
    },
    {
     "cell_type": "code",
     "collapsed": false,
     "input": [],
     "language": "python",
     "metadata": {},
     "outputs": []
    },
    {
     "cell_type": "code",
     "collapsed": false,
     "input": [
      "import os\n",
      "folder = \"channel\"\n",
      "start = \"90052\"\n",
      "count = 0\n",
      "found = False\n",
      "while not found:\n",
      "    count += 1\n",
      "    with open(os.path.join(folder, start + \".txt\")) as f:\n",
      "        for line in f: \n",
      "            #print line\n",
      "            if \"nothing\" in line:    \n",
      "                start = line.strip().split()[-1]\n",
      "            else:\n",
      "                print line\n",
      "                print start\n",
      "                found = True\n",
      "    if found:\n",
      "        break\n",
      "print count"
     ],
     "language": "python",
     "metadata": {},
     "outputs": [
      {
       "output_type": "stream",
       "stream": "stdout",
       "text": [
        "Collect the comments.\n",
        "46145\n",
        "909\n"
       ]
      }
     ],
     "prompt_number": 10
    },
    {
     "cell_type": "code",
     "collapsed": false,
     "input": [],
     "language": "python",
     "metadata": {},
     "outputs": []
    }
   ],
   "metadata": {}
  }
 ]
}