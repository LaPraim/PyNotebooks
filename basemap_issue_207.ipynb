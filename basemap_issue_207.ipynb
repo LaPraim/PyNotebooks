{
 "cells": [
  {
   "cell_type": "code",
   "execution_count": 23,
   "metadata": {
    "collapsed": true
   },
   "outputs": [],
   "source": [
    "%matplotlib inline\n",
    "from mpl_toolkits.basemap import Basemap\n",
    "import numpy as np\n",
    "import matplotlib.pyplot as plt\n",
    "\n",
    "def meshtest(darray):\n",
    "    \"\"\"This demonstrates the bug in pcolormesh.\n",
    "    Define bmap with lat_0 = +90 and both plots are the same.  Define it\n",
    "    with lat_0 = -90 and pcolor creates the expected result but pcolormesh\n",
    "    does not.\n",
    "    \"\"\"\n",
    "    plt.gcf()\n",
    "    dpi = 100\n",
    "    x_pixels = 360\n",
    "    y_pixels = 180\n",
    "\n",
    "    fig_x_inches = x_pixels / float(dpi)\n",
    "    fig_y_inches = y_pixels / float(dpi)\n",
    "\n",
    "    # Create the default figure at the right dimensions\n",
    "    fig = plt.figure(figsize=(fig_x_inches, fig_y_inches), dpi=dpi)\n",
    "\n",
    "    bmap = Basemap(projection='ortho', lat_0=-90, lon_0=-90, resolution='c')\n",
    "    this_cmap = plt.get_cmap('PiYG')\n",
    "    lon_array = np.linspace(-180., 170., darray.shape[0])\n",
    "    lat_array = np.linspace(-90, 80., darray.shape[1])\n",
    "\n",
    "    lats, lons = np.meshgrid(lat_array, lon_array)\n",
    "    xx, yy = bmap(lons, lats)\n",
    "    bmap.pcolormesh(xx, yy, darray, vmin=1.0, vmax=14.0, cmap=this_cmap,\n",
    "                    alpha=1.0)\n",
    "    # fig.savefig('pcolormesh.png', dpi=dpi, transparent=1.0)\n",
    "    \n",
    "    plt.figure()\n",
    "\n",
    "    bmap.pcolor(lons, lats, darray, vmin=1.0, vmax=14.0, cmap=this_cmap,\n",
    "                alpha=1.0, latlon=True)\n",
    "    # fig.savefig('pcolor.png', dpi=dpi, transparent=1.0)\n",
    "\n",
    "    # plt.clf()  # clear the plot in case anything is cached\n",
    "    # plt.close('all')\n",
    "\n",
    "    return\n",
    "\n",
    "def make_data():\n",
    "    \"\"\"Make a highly colorful 2D image.  I'm sure there's a more pythonic\n",
    "    way to do this but it works.\"\"\"\n",
    "    nrows = 180\n",
    "    ncols = 360\n",
    "    square_size = 20\n",
    "    square_len = square_size**2\n",
    "    nsquares = (nrows * ncols) // square_len\n",
    "    darray = np.zeros((nrows, ncols))\n",
    "\n",
    "    for square in range(nsquares):\n",
    "        k = np.random.randint(16)\n",
    "        nrow = square_size * int((square_size * square) / nrows)\n",
    "        ncol = (square_size * square) % nrows\n",
    "        darray[ncol:ncol + square_size, nrow:nrow + square_size] = k\n",
    "    return darray\n",
    "\n",
    "def main():\n",
    "    darray = make_data()\n",
    "    meshtest(darray)\n",
    "    return\n"
   ]
  },
  {
   "cell_type": "code",
   "execution_count": 24,
   "metadata": {
    "collapsed": false
   },
   "outputs": [
    {
     "data": {
      "text/plain": [
       "<matplotlib.figure.Figure at 0x7f1a4a37af60>"
      ]
     },
     "metadata": {},
     "output_type": "display_data"
    },
    {
     "data": {
      "image/png": "[encoded data removed]",
      "text/plain": [
       "<matplotlib.figure.Figure at 0x7f1a4aa7dd68>"
      ]
     },
     "metadata": {},
     "output_type": "display_data"
    },
    {
     "data": {
      "image/png": "[encoded data removed]",
      "text/plain": [
       "<matplotlib.figure.Figure at 0x7f1a4b4d2b70>"
      ]
     },
     "metadata": {},
     "output_type": "display_data"
    }
   ],
   "source": [
    "main()"
   ]
  },
  {
   "cell_type": "code",
   "execution_count": null,
   "metadata": {
    "collapsed": true
   },
   "outputs": [],
   "source": []
  }
 ],
 "metadata": {
  "kernelspec": {
   "display_name": "Python 3",
   "language": "python",
   "name": "python3"
  },
  "language_info": {
   "codemirror_mode": {
    "name": "ipython",
    "version": 3
   },
   "file_extension": ".py",
   "mimetype": "text/x-python",
   "name": "python",
   "nbconvert_exporter": "python",
   "pygments_lexer": "ipython3",
   "version": "3.4.2"
  }
 },
 "nbformat": 4,
 "nbformat_minor": 0
}
