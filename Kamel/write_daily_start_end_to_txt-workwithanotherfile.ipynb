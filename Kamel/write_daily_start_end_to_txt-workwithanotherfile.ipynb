{
 "cells": [
  {
   "cell_type": "code",
   "execution_count": 2,
   "metadata": {
    "collapsed": true
   },
   "outputs": [],
   "source": [
    "%matplotlib inline"
   ]
  },
  {
   "cell_type": "code",
   "execution_count": 3,
   "metadata": {
    "collapsed": true
   },
   "outputs": [],
   "source": [
    "import numpy as np\n",
    "import pandas as pd\n",
    "from datetime import datetime, timedelta\n",
    "from collections import defaultdict"
   ]
  },
  {
   "cell_type": "code",
   "execution_count": 6,
   "metadata": {
    "collapsed": false
   },
   "outputs": [],
   "source": [
    "path = \"/Users/huziy/Downloads/Data2004\"\n",
    "day = timedelta(days=1)\n",
    "date_format = \"%Y%m%d%H\""
   ]
  },
  {
   "cell_type": "code",
   "execution_count": 7,
   "metadata": {
    "collapsed": false
   },
   "outputs": [],
   "source": [
    "indf = pd.read_csv(path, sep=\"\\s+\", header=None)"
   ]
  },
  {
   "cell_type": "code",
   "execution_count": 14,
   "metadata": {
    "collapsed": false
   },
   "outputs": [
    {
     "data": {
      "text/html": [
       "<div>\n",
       "<table border=\"1\" class=\"dataframe\">\n",
       "  <thead>\n",
       "    <tr style=\"text-align: right;\">\n",
       "      <th></th>\n",
       "      <th>0</th>\n",
       "      <th>1</th>\n",
       "      <th>2</th>\n",
       "      <th>3</th>\n",
       "      <th>4</th>\n",
       "      <th>5</th>\n",
       "      <th>6</th>\n",
       "    </tr>\n",
       "  </thead>\n",
       "  <tbody>\n",
       "    <tr>\n",
       "      <th>0</th>\n",
       "      <td>2004</td>\n",
       "      <td>1</td>\n",
       "      <td>1</td>\n",
       "      <td>0</td>\n",
       "      <td>1907</td>\n",
       "      <td>81.727</td>\n",
       "      <td>178.737</td>\n",
       "    </tr>\n",
       "    <tr>\n",
       "      <th>1</th>\n",
       "      <td>2004</td>\n",
       "      <td>1</td>\n",
       "      <td>1</td>\n",
       "      <td>0</td>\n",
       "      <td>1908</td>\n",
       "      <td>78.060</td>\n",
       "      <td>-150.768</td>\n",
       "    </tr>\n",
       "    <tr>\n",
       "      <th>2</th>\n",
       "      <td>2004</td>\n",
       "      <td>1</td>\n",
       "      <td>1</td>\n",
       "      <td>0</td>\n",
       "      <td>3690</td>\n",
       "      <td>78.268</td>\n",
       "      <td>-166.780</td>\n",
       "    </tr>\n",
       "    <tr>\n",
       "      <th>3</th>\n",
       "      <td>2004</td>\n",
       "      <td>1</td>\n",
       "      <td>1</td>\n",
       "      <td>0</td>\n",
       "      <td>3982</td>\n",
       "      <td>74.142</td>\n",
       "      <td>-146.212</td>\n",
       "    </tr>\n",
       "    <tr>\n",
       "      <th>4</th>\n",
       "      <td>2004</td>\n",
       "      <td>1</td>\n",
       "      <td>1</td>\n",
       "      <td>0</td>\n",
       "      <td>5300</td>\n",
       "      <td>85.961</td>\n",
       "      <td>-159.301</td>\n",
       "    </tr>\n",
       "  </tbody>\n",
       "</table>\n",
       "</div>"
      ],
      "text/plain": [
       "      0  1  2  3     4       5        6\n",
       "0  2004  1  1  0  1907  81.727  178.737\n",
       "1  2004  1  1  0  1908  78.060 -150.768\n",
       "2  2004  1  1  0  3690  78.268 -166.780\n",
       "3  2004  1  1  0  3982  74.142 -146.212\n",
       "4  2004  1  1  0  5300  85.961 -159.301"
      ]
     },
     "execution_count": 14,
     "metadata": {},
     "output_type": "execute_result"
    }
   ],
   "source": [
    "indf.head()"
   ]
  },
  {
   "cell_type": "code",
   "execution_count": 15,
   "metadata": {
    "collapsed": true
   },
   "outputs": [],
   "source": [
    "outdf = indf.copy()"
   ]
  },
  {
   "cell_type": "code",
   "execution_count": 20,
   "metadata": {
    "collapsed": false
   },
   "outputs": [],
   "source": [
    "outdf[7] = indf.apply(\n",
    "    lambda arow: datetime(*[int(arow[i]) for i in range(4)]).strftime(date_format), axis=1)\n",
    "\n",
    "outdf[8] = indf.apply(\n",
    "    lambda arow: (datetime(*[int(arow[i]) for i in range(4)]) + day).strftime(date_format), axis=1)"
   ]
  },
  {
   "cell_type": "code",
   "execution_count": 21,
   "metadata": {
    "collapsed": false
   },
   "outputs": [
    {
     "data": {
      "text/html": [
       "<div>\n",
       "<table border=\"1\" class=\"dataframe\">\n",
       "  <thead>\n",
       "    <tr style=\"text-align: right;\">\n",
       "      <th></th>\n",
       "      <th>0</th>\n",
       "      <th>1</th>\n",
       "      <th>2</th>\n",
       "      <th>3</th>\n",
       "      <th>4</th>\n",
       "      <th>5</th>\n",
       "      <th>6</th>\n",
       "      <th>7</th>\n",
       "      <th>8</th>\n",
       "    </tr>\n",
       "  </thead>\n",
       "  <tbody>\n",
       "    <tr>\n",
       "      <th>0</th>\n",
       "      <td>2004</td>\n",
       "      <td>1</td>\n",
       "      <td>1</td>\n",
       "      <td>0</td>\n",
       "      <td>1907</td>\n",
       "      <td>81.727</td>\n",
       "      <td>178.737</td>\n",
       "      <td>2004010100</td>\n",
       "      <td>2004010200</td>\n",
       "    </tr>\n",
       "    <tr>\n",
       "      <th>1</th>\n",
       "      <td>2004</td>\n",
       "      <td>1</td>\n",
       "      <td>1</td>\n",
       "      <td>0</td>\n",
       "      <td>1908</td>\n",
       "      <td>78.060</td>\n",
       "      <td>-150.768</td>\n",
       "      <td>2004010100</td>\n",
       "      <td>2004010200</td>\n",
       "    </tr>\n",
       "    <tr>\n",
       "      <th>2</th>\n",
       "      <td>2004</td>\n",
       "      <td>1</td>\n",
       "      <td>1</td>\n",
       "      <td>0</td>\n",
       "      <td>3690</td>\n",
       "      <td>78.268</td>\n",
       "      <td>-166.780</td>\n",
       "      <td>2004010100</td>\n",
       "      <td>2004010200</td>\n",
       "    </tr>\n",
       "    <tr>\n",
       "      <th>3</th>\n",
       "      <td>2004</td>\n",
       "      <td>1</td>\n",
       "      <td>1</td>\n",
       "      <td>0</td>\n",
       "      <td>3982</td>\n",
       "      <td>74.142</td>\n",
       "      <td>-146.212</td>\n",
       "      <td>2004010100</td>\n",
       "      <td>2004010200</td>\n",
       "    </tr>\n",
       "    <tr>\n",
       "      <th>4</th>\n",
       "      <td>2004</td>\n",
       "      <td>1</td>\n",
       "      <td>1</td>\n",
       "      <td>0</td>\n",
       "      <td>5300</td>\n",
       "      <td>85.961</td>\n",
       "      <td>-159.301</td>\n",
       "      <td>2004010100</td>\n",
       "      <td>2004010200</td>\n",
       "    </tr>\n",
       "  </tbody>\n",
       "</table>\n",
       "</div>"
      ],
      "text/plain": [
       "      0  1  2  3     4       5        6           7           8\n",
       "0  2004  1  1  0  1907  81.727  178.737  2004010100  2004010200\n",
       "1  2004  1  1  0  1908  78.060 -150.768  2004010100  2004010200\n",
       "2  2004  1  1  0  3690  78.268 -166.780  2004010100  2004010200\n",
       "3  2004  1  1  0  3982  74.142 -146.212  2004010100  2004010200\n",
       "4  2004  1  1  0  5300  85.961 -159.301  2004010100  2004010200"
      ]
     },
     "execution_count": 21,
     "metadata": {},
     "output_type": "execute_result"
    }
   ],
   "source": [
    "outdf.head()"
   ]
  },
  {
   "cell_type": "code",
   "execution_count": 22,
   "metadata": {
    "collapsed": false
   },
   "outputs": [],
   "source": [
    "st_date_to_lat_lon = {}\n",
    "for st, data in outdf.groupby(4):\n",
    "    st_date_to_lat_lon[st] = defaultdict(lambda: (np.nan, np.nan))\n",
    "    \n",
    "    for row_i, row in data.iterrows():\n",
    "        st_date_to_lat_lon[st][row[7]] = (row[5], row[6])\n",
    "        "
   ]
  },
  {
   "cell_type": "code",
   "execution_count": 25,
   "metadata": {
    "collapsed": false
   },
   "outputs": [],
   "source": [
    "outdf[9] = outdf.apply(lambda arow: st_date_to_lat_lon[arow[4]][arow[8]][0], axis=1)\n",
    "outdf[10] = outdf.apply(lambda arow: st_date_to_lat_lon[arow[4]][arow[8]][1], axis=1)"
   ]
  },
  {
   "cell_type": "code",
   "execution_count": 60,
   "metadata": {
    "collapsed": false
   },
   "outputs": [],
   "source": [
    "# Some dates do not have the corresponding data a day later (so for those I've put nans), \n",
    "# If not needed => uncomment the line below\n",
    "\n",
    "# outdf = outdf.dropna()"
   ]
  },
  {
   "cell_type": "code",
   "execution_count": 26,
   "metadata": {
    "collapsed": false
   },
   "outputs": [],
   "source": [
    "outdf.to_csv(\"test_for_Kamel.csv\", sep=\" \", index=False, header=False)"
   ]
  },
  {
   "cell_type": "code",
   "execution_count": 27,
   "metadata": {
    "collapsed": false
   },
   "outputs": [
    {
     "data": {
      "text/html": [
       "<div>\n",
       "<table border=\"1\" class=\"dataframe\">\n",
       "  <thead>\n",
       "    <tr style=\"text-align: right;\">\n",
       "      <th></th>\n",
       "      <th>0</th>\n",
       "      <th>1</th>\n",
       "      <th>2</th>\n",
       "      <th>3</th>\n",
       "      <th>4</th>\n",
       "      <th>5</th>\n",
       "      <th>6</th>\n",
       "      <th>7</th>\n",
       "      <th>8</th>\n",
       "      <th>9</th>\n",
       "      <th>10</th>\n",
       "    </tr>\n",
       "  </thead>\n",
       "  <tbody>\n",
       "    <tr>\n",
       "      <th>0</th>\n",
       "      <td>2004</td>\n",
       "      <td>1</td>\n",
       "      <td>1</td>\n",
       "      <td>0</td>\n",
       "      <td>1907</td>\n",
       "      <td>81.727</td>\n",
       "      <td>178.737</td>\n",
       "      <td>2004010100</td>\n",
       "      <td>2004010200</td>\n",
       "      <td>81.864</td>\n",
       "      <td>178.594</td>\n",
       "    </tr>\n",
       "    <tr>\n",
       "      <th>1</th>\n",
       "      <td>2004</td>\n",
       "      <td>1</td>\n",
       "      <td>1</td>\n",
       "      <td>0</td>\n",
       "      <td>1908</td>\n",
       "      <td>78.060</td>\n",
       "      <td>-150.768</td>\n",
       "      <td>2004010100</td>\n",
       "      <td>2004010200</td>\n",
       "      <td>78.159</td>\n",
       "      <td>-150.727</td>\n",
       "    </tr>\n",
       "    <tr>\n",
       "      <th>2</th>\n",
       "      <td>2004</td>\n",
       "      <td>1</td>\n",
       "      <td>1</td>\n",
       "      <td>0</td>\n",
       "      <td>3690</td>\n",
       "      <td>78.268</td>\n",
       "      <td>-166.780</td>\n",
       "      <td>2004010100</td>\n",
       "      <td>2004010200</td>\n",
       "      <td>78.422</td>\n",
       "      <td>-166.842</td>\n",
       "    </tr>\n",
       "    <tr>\n",
       "      <th>3</th>\n",
       "      <td>2004</td>\n",
       "      <td>1</td>\n",
       "      <td>1</td>\n",
       "      <td>0</td>\n",
       "      <td>3982</td>\n",
       "      <td>74.142</td>\n",
       "      <td>-146.212</td>\n",
       "      <td>2004010100</td>\n",
       "      <td>2004010200</td>\n",
       "      <td>74.202</td>\n",
       "      <td>-146.316</td>\n",
       "    </tr>\n",
       "    <tr>\n",
       "      <th>4</th>\n",
       "      <td>2004</td>\n",
       "      <td>1</td>\n",
       "      <td>1</td>\n",
       "      <td>0</td>\n",
       "      <td>5300</td>\n",
       "      <td>85.961</td>\n",
       "      <td>-159.301</td>\n",
       "      <td>2004010100</td>\n",
       "      <td>2004010200</td>\n",
       "      <td>86.127</td>\n",
       "      <td>-159.110</td>\n",
       "    </tr>\n",
       "  </tbody>\n",
       "</table>\n",
       "</div>"
      ],
      "text/plain": [
       "     0   1   2   3     4       5        6           7           8       9   \\\n",
       "0  2004   1   1   0  1907  81.727  178.737  2004010100  2004010200  81.864   \n",
       "1  2004   1   1   0  1908  78.060 -150.768  2004010100  2004010200  78.159   \n",
       "2  2004   1   1   0  3690  78.268 -166.780  2004010100  2004010200  78.422   \n",
       "3  2004   1   1   0  3982  74.142 -146.212  2004010100  2004010200  74.202   \n",
       "4  2004   1   1   0  5300  85.961 -159.301  2004010100  2004010200  86.127   \n",
       "\n",
       "        10  \n",
       "0  178.594  \n",
       "1 -150.727  \n",
       "2 -166.842  \n",
       "3 -146.316  \n",
       "4 -159.110  "
      ]
     },
     "execution_count": 27,
     "metadata": {},
     "output_type": "execute_result"
    }
   ],
   "source": [
    "outdf.head()"
   ]
  },
  {
   "cell_type": "code",
   "execution_count": 28,
   "metadata": {
    "collapsed": false
   },
   "outputs": [
    {
     "data": {
      "text/plain": [
       "(19348, 19348)"
      ]
     },
     "execution_count": 28,
     "metadata": {},
     "output_type": "execute_result"
    }
   ],
   "source": [
    "len(indf), len(outdf)"
   ]
  },
  {
   "cell_type": "code",
   "execution_count": null,
   "metadata": {
    "collapsed": true
   },
   "outputs": [],
   "source": []
  }
 ],
 "metadata": {
  "kernelspec": {
   "display_name": "Python 3",
   "language": "python",
   "name": "python3"
  },
  "language_info": {
   "codemirror_mode": {
    "name": "ipython",
    "version": 3
   },
   "file_extension": ".py",
   "mimetype": "text/x-python",
   "name": "python",
   "nbconvert_exporter": "python",
   "pygments_lexer": "ipython3",
   "version": "3.4.4"
  }
 },
 "nbformat": 4,
 "nbformat_minor": 0
}
