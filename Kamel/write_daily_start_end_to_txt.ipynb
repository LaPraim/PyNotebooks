{
 "cells": [
  {
   "cell_type": "code",
   "execution_count": 1,
   "metadata": {
    "collapsed": true
   },
   "outputs": [],
   "source": [
    "%matplotlib inline"
   ]
  },
  {
   "cell_type": "code",
   "execution_count": 19,
   "metadata": {
    "collapsed": true
   },
   "outputs": [],
   "source": [
    "import numpy as np\n",
    "import pandas as pd\n",
    "from datetime import datetime, timedelta\n",
    "from collections import defaultdict"
   ]
  },
  {
   "cell_type": "code",
   "execution_count": 3,
   "metadata": {
    "collapsed": true
   },
   "outputs": [],
   "source": [
    "path = \"/Users/san/Downloads/test\"\n",
    "day = timedelta(days=1)\n",
    "date_format = \"%Y%m%d%H\""
   ]
  },
  {
   "cell_type": "code",
   "execution_count": 4,
   "metadata": {
    "collapsed": false
   },
   "outputs": [],
   "source": [
    "indf = pd.read_csv(path, sep=\"\\s+\", header=None)"
   ]
  },
  {
   "cell_type": "code",
   "execution_count": 5,
   "metadata": {
    "collapsed": false
   },
   "outputs": [
    {
     "data": {
      "text/html": [
       "<div style=\"max-height:1000px;max-width:1500px;overflow:auto;\">\n",
       "<table border=\"1\" class=\"dataframe\">\n",
       "  <thead>\n",
       "    <tr style=\"text-align: right;\">\n",
       "      <th></th>\n",
       "      <th>0</th>\n",
       "      <th>1</th>\n",
       "      <th>2</th>\n",
       "      <th>3</th>\n",
       "    </tr>\n",
       "  </thead>\n",
       "  <tbody>\n",
       "    <tr>\n",
       "      <th>0</th>\n",
       "      <td>5300</td>\n",
       "      <td>2015010700</td>\n",
       "      <td>79.3</td>\n",
       "      <td>-175</td>\n",
       "    </tr>\n",
       "    <tr>\n",
       "      <th>1</th>\n",
       "      <td>5315</td>\n",
       "      <td>2015010700</td>\n",
       "      <td>78.0</td>\n",
       "      <td>-171</td>\n",
       "    </tr>\n",
       "    <tr>\n",
       "      <th>2</th>\n",
       "      <td>5318</td>\n",
       "      <td>2015010700</td>\n",
       "      <td>80.5</td>\n",
       "      <td>175</td>\n",
       "    </tr>\n",
       "    <tr>\n",
       "      <th>3</th>\n",
       "      <td>35094</td>\n",
       "      <td>2015010700</td>\n",
       "      <td>79.1</td>\n",
       "      <td>177</td>\n",
       "    </tr>\n",
       "    <tr>\n",
       "      <th>4</th>\n",
       "      <td>83723</td>\n",
       "      <td>2015010700</td>\n",
       "      <td>83.8</td>\n",
       "      <td>165</td>\n",
       "    </tr>\n",
       "  </tbody>\n",
       "</table>\n",
       "</div>"
      ],
      "text/plain": [
       "       0           1     2    3\n",
       "0   5300  2015010700  79.3 -175\n",
       "1   5315  2015010700  78.0 -171\n",
       "2   5318  2015010700  80.5  175\n",
       "3  35094  2015010700  79.1  177\n",
       "4  83723  2015010700  83.8  165"
      ]
     },
     "execution_count": 5,
     "metadata": {},
     "output_type": "execute_result"
    }
   ],
   "source": [
    "indf.head()"
   ]
  },
  {
   "cell_type": "code",
   "execution_count": 6,
   "metadata": {
    "collapsed": true
   },
   "outputs": [],
   "source": [
    "outdf = indf.copy()"
   ]
  },
  {
   "cell_type": "code",
   "execution_count": 7,
   "metadata": {
    "collapsed": false
   },
   "outputs": [],
   "source": [
    "outdf[4] = indf[1].map(\n",
    "    lambda d: int((datetime.strptime(str(d), date_format) + day).strftime(date_format)))"
   ]
  },
  {
   "cell_type": "code",
   "execution_count": 8,
   "metadata": {
    "collapsed": false
   },
   "outputs": [
    {
     "data": {
      "text/html": [
       "<div style=\"max-height:1000px;max-width:1500px;overflow:auto;\">\n",
       "<table border=\"1\" class=\"dataframe\">\n",
       "  <thead>\n",
       "    <tr style=\"text-align: right;\">\n",
       "      <th></th>\n",
       "      <th>0</th>\n",
       "      <th>1</th>\n",
       "      <th>2</th>\n",
       "      <th>3</th>\n",
       "      <th>4</th>\n",
       "    </tr>\n",
       "  </thead>\n",
       "  <tbody>\n",
       "    <tr>\n",
       "      <th>0</th>\n",
       "      <td>5300</td>\n",
       "      <td>2015010700</td>\n",
       "      <td>79.3</td>\n",
       "      <td>-175</td>\n",
       "      <td>2015010800</td>\n",
       "    </tr>\n",
       "    <tr>\n",
       "      <th>1</th>\n",
       "      <td>5315</td>\n",
       "      <td>2015010700</td>\n",
       "      <td>78.0</td>\n",
       "      <td>-171</td>\n",
       "      <td>2015010800</td>\n",
       "    </tr>\n",
       "    <tr>\n",
       "      <th>2</th>\n",
       "      <td>5318</td>\n",
       "      <td>2015010700</td>\n",
       "      <td>80.5</td>\n",
       "      <td>175</td>\n",
       "      <td>2015010800</td>\n",
       "    </tr>\n",
       "    <tr>\n",
       "      <th>3</th>\n",
       "      <td>35094</td>\n",
       "      <td>2015010700</td>\n",
       "      <td>79.1</td>\n",
       "      <td>177</td>\n",
       "      <td>2015010800</td>\n",
       "    </tr>\n",
       "    <tr>\n",
       "      <th>4</th>\n",
       "      <td>83723</td>\n",
       "      <td>2015010700</td>\n",
       "      <td>83.8</td>\n",
       "      <td>165</td>\n",
       "      <td>2015010800</td>\n",
       "    </tr>\n",
       "  </tbody>\n",
       "</table>\n",
       "</div>"
      ],
      "text/plain": [
       "       0           1     2    3           4\n",
       "0   5300  2015010700  79.3 -175  2015010800\n",
       "1   5315  2015010700  78.0 -171  2015010800\n",
       "2   5318  2015010700  80.5  175  2015010800\n",
       "3  35094  2015010700  79.1  177  2015010800\n",
       "4  83723  2015010700  83.8  165  2015010800"
      ]
     },
     "execution_count": 8,
     "metadata": {},
     "output_type": "execute_result"
    }
   ],
   "source": [
    "outdf.head()"
   ]
  },
  {
   "cell_type": "code",
   "execution_count": 41,
   "metadata": {
    "collapsed": false
   },
   "outputs": [],
   "source": [
    "st_date_to_lat_lon = {}\n",
    "for st, data in outdf.groupby(0):\n",
    "    st_date_to_lat_lon[st] = defaultdict(lambda: (np.nan, np.nan))\n",
    "    \n",
    "    for row_i, row in data.iterrows():\n",
    "        st_date_to_lat_lon[st][row[1]] = (row[2], row[3])\n",
    "        "
   ]
  },
  {
   "cell_type": "code",
   "execution_count": 42,
   "metadata": {
    "collapsed": false
   },
   "outputs": [],
   "source": [
    "outdf[5] = outdf.apply(lambda arow: st_date_to_lat_lon[arow[0]][arow[4]][0], axis=1)\n",
    "outdf[6] = outdf.apply(lambda arow: st_date_to_lat_lon[arow[0]][arow[4]][1], axis=1)"
   ]
  },
  {
   "cell_type": "code",
   "execution_count": 47,
   "metadata": {
    "collapsed": false
   },
   "outputs": [],
   "source": [
    "# Some dates do not have the corresponding data a day later (so for those I've put nans), \n",
    "# If not needed \n",
    "\n",
    "# outdf = outdf.dropna()"
   ]
  },
  {
   "cell_type": "code",
   "execution_count": 48,
   "metadata": {
    "collapsed": false
   },
   "outputs": [],
   "source": [
    "outdf.to_csv(\"test_for_Kamel.csv\", sep=\" \", index=False, header=False)"
   ]
  },
  {
   "cell_type": "code",
   "execution_count": 49,
   "metadata": {
    "collapsed": false
   },
   "outputs": [
    {
     "data": {
      "text/plain": [
       "(2359, 2213)"
      ]
     },
     "execution_count": 49,
     "metadata": {},
     "output_type": "execute_result"
    }
   ],
   "source": [
    "len(indf), len(outdf)"
   ]
  },
  {
   "cell_type": "code",
   "execution_count": 45,
   "metadata": {
    "collapsed": false
   },
   "outputs": [
    {
     "data": {
      "text/html": [
       "<div style=\"max-height:1000px;max-width:1500px;overflow:auto;\">\n",
       "<table border=\"1\" class=\"dataframe\">\n",
       "  <thead>\n",
       "    <tr style=\"text-align: right;\">\n",
       "      <th></th>\n",
       "      <th>0</th>\n",
       "      <th>1</th>\n",
       "      <th>2</th>\n",
       "      <th>3</th>\n",
       "    </tr>\n",
       "  </thead>\n",
       "  <tbody>\n",
       "    <tr>\n",
       "      <th>0</th>\n",
       "      <td>5300</td>\n",
       "      <td>2015010700</td>\n",
       "      <td>79.3</td>\n",
       "      <td>-175</td>\n",
       "    </tr>\n",
       "    <tr>\n",
       "      <th>100</th>\n",
       "      <td>5300</td>\n",
       "      <td>2015010800</td>\n",
       "      <td>79.4</td>\n",
       "      <td>-175</td>\n",
       "    </tr>\n",
       "    <tr>\n",
       "      <th>200</th>\n",
       "      <td>5300</td>\n",
       "      <td>2015010900</td>\n",
       "      <td>79.4</td>\n",
       "      <td>-175</td>\n",
       "    </tr>\n",
       "    <tr>\n",
       "      <th>299</th>\n",
       "      <td>5300</td>\n",
       "      <td>2015011000</td>\n",
       "      <td>79.5</td>\n",
       "      <td>-175</td>\n",
       "    </tr>\n",
       "    <tr>\n",
       "      <th>398</th>\n",
       "      <td>5300</td>\n",
       "      <td>2015011100</td>\n",
       "      <td>79.4</td>\n",
       "      <td>-174</td>\n",
       "    </tr>\n",
       "    <tr>\n",
       "      <th>495</th>\n",
       "      <td>5300</td>\n",
       "      <td>2015011200</td>\n",
       "      <td>79.4</td>\n",
       "      <td>-173</td>\n",
       "    </tr>\n",
       "    <tr>\n",
       "      <th>592</th>\n",
       "      <td>5300</td>\n",
       "      <td>2015011300</td>\n",
       "      <td>79.4</td>\n",
       "      <td>-173</td>\n",
       "    </tr>\n",
       "    <tr>\n",
       "      <th>690</th>\n",
       "      <td>5300</td>\n",
       "      <td>2015011400</td>\n",
       "      <td>79.3</td>\n",
       "      <td>-172</td>\n",
       "    </tr>\n",
       "    <tr>\n",
       "      <th>786</th>\n",
       "      <td>5300</td>\n",
       "      <td>2015011500</td>\n",
       "      <td>79.3</td>\n",
       "      <td>-172</td>\n",
       "    </tr>\n",
       "    <tr>\n",
       "      <th>881</th>\n",
       "      <td>5300</td>\n",
       "      <td>2015011600</td>\n",
       "      <td>79.3</td>\n",
       "      <td>-172</td>\n",
       "    </tr>\n",
       "    <tr>\n",
       "      <th>978</th>\n",
       "      <td>5300</td>\n",
       "      <td>2015011700</td>\n",
       "      <td>79.3</td>\n",
       "      <td>-172</td>\n",
       "    </tr>\n",
       "    <tr>\n",
       "      <th>1076</th>\n",
       "      <td>5300</td>\n",
       "      <td>2015011800</td>\n",
       "      <td>79.3</td>\n",
       "      <td>-172</td>\n",
       "    </tr>\n",
       "    <tr>\n",
       "      <th>1173</th>\n",
       "      <td>5300</td>\n",
       "      <td>2015011900</td>\n",
       "      <td>79.3</td>\n",
       "      <td>-172</td>\n",
       "    </tr>\n",
       "    <tr>\n",
       "      <th>1270</th>\n",
       "      <td>5300</td>\n",
       "      <td>2015012000</td>\n",
       "      <td>79.3</td>\n",
       "      <td>-172</td>\n",
       "    </tr>\n",
       "    <tr>\n",
       "      <th>1366</th>\n",
       "      <td>5300</td>\n",
       "      <td>2015012100</td>\n",
       "      <td>79.3</td>\n",
       "      <td>-172</td>\n",
       "    </tr>\n",
       "    <tr>\n",
       "      <th>1460</th>\n",
       "      <td>5300</td>\n",
       "      <td>2015012200</td>\n",
       "      <td>79.3</td>\n",
       "      <td>-172</td>\n",
       "    </tr>\n",
       "    <tr>\n",
       "      <th>1553</th>\n",
       "      <td>5300</td>\n",
       "      <td>2015012300</td>\n",
       "      <td>79.4</td>\n",
       "      <td>-172</td>\n",
       "    </tr>\n",
       "    <tr>\n",
       "      <th>1646</th>\n",
       "      <td>5300</td>\n",
       "      <td>2015012400</td>\n",
       "      <td>79.4</td>\n",
       "      <td>-173</td>\n",
       "    </tr>\n",
       "    <tr>\n",
       "      <th>1739</th>\n",
       "      <td>5300</td>\n",
       "      <td>2015012500</td>\n",
       "      <td>79.4</td>\n",
       "      <td>-172</td>\n",
       "    </tr>\n",
       "    <tr>\n",
       "      <th>1830</th>\n",
       "      <td>5300</td>\n",
       "      <td>2015012600</td>\n",
       "      <td>79.3</td>\n",
       "      <td>-172</td>\n",
       "    </tr>\n",
       "    <tr>\n",
       "      <th>1920</th>\n",
       "      <td>5300</td>\n",
       "      <td>2015012700</td>\n",
       "      <td>79.3</td>\n",
       "      <td>-172</td>\n",
       "    </tr>\n",
       "    <tr>\n",
       "      <th>2013</th>\n",
       "      <td>5300</td>\n",
       "      <td>2015012800</td>\n",
       "      <td>79.3</td>\n",
       "      <td>-172</td>\n",
       "    </tr>\n",
       "    <tr>\n",
       "      <th>2089</th>\n",
       "      <td>5300</td>\n",
       "      <td>2015012900</td>\n",
       "      <td>79.3</td>\n",
       "      <td>-172</td>\n",
       "    </tr>\n",
       "    <tr>\n",
       "      <th>2178</th>\n",
       "      <td>5300</td>\n",
       "      <td>2015013000</td>\n",
       "      <td>79.3</td>\n",
       "      <td>-172</td>\n",
       "    </tr>\n",
       "    <tr>\n",
       "      <th>2268</th>\n",
       "      <td>5300</td>\n",
       "      <td>2015013100</td>\n",
       "      <td>79.4</td>\n",
       "      <td>-172</td>\n",
       "    </tr>\n",
       "  </tbody>\n",
       "</table>\n",
       "</div>"
      ],
      "text/plain": [
       "         0           1     2    3\n",
       "0     5300  2015010700  79.3 -175\n",
       "100   5300  2015010800  79.4 -175\n",
       "200   5300  2015010900  79.4 -175\n",
       "299   5300  2015011000  79.5 -175\n",
       "398   5300  2015011100  79.4 -174\n",
       "495   5300  2015011200  79.4 -173\n",
       "592   5300  2015011300  79.4 -173\n",
       "690   5300  2015011400  79.3 -172\n",
       "786   5300  2015011500  79.3 -172\n",
       "881   5300  2015011600  79.3 -172\n",
       "978   5300  2015011700  79.3 -172\n",
       "1076  5300  2015011800  79.3 -172\n",
       "1173  5300  2015011900  79.3 -172\n",
       "1270  5300  2015012000  79.3 -172\n",
       "1366  5300  2015012100  79.3 -172\n",
       "1460  5300  2015012200  79.3 -172\n",
       "1553  5300  2015012300  79.4 -172\n",
       "1646  5300  2015012400  79.4 -173\n",
       "1739  5300  2015012500  79.4 -172\n",
       "1830  5300  2015012600  79.3 -172\n",
       "1920  5300  2015012700  79.3 -172\n",
       "2013  5300  2015012800  79.3 -172\n",
       "2089  5300  2015012900  79.3 -172\n",
       "2178  5300  2015013000  79.3 -172\n",
       "2268  5300  2015013100  79.4 -172"
      ]
     },
     "execution_count": 45,
     "metadata": {},
     "output_type": "execute_result"
    }
   ],
   "source": [
    "indf[indf[0] == 5300]"
   ]
  },
  {
   "cell_type": "code",
   "execution_count": null,
   "metadata": {
    "collapsed": true
   },
   "outputs": [],
   "source": []
  }
 ],
 "metadata": {
  "kernelspec": {
   "display_name": "Python 3",
   "language": "python",
   "name": "python3"
  },
  "language_info": {
   "codemirror_mode": {
    "name": "ipython",
    "version": 3
   },
   "file_extension": ".py",
   "mimetype": "text/x-python",
   "name": "python",
   "nbconvert_exporter": "python",
   "pygments_lexer": "ipython3",
   "version": "3.4.3"
  }
 },
 "nbformat": 4,
 "nbformat_minor": 0
}
