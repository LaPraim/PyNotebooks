{
 "metadata": {
  "name": ""
 },
 "nbformat": 3,
 "nbformat_minor": 0,
 "worksheets": [
  {
   "cells": [
    {
     "cell_type": "code",
     "collapsed": false,
     "input": [
      "import iris\n",
      "import iris.quickplot as iplt\n",
      "print iris.__version__"
     ],
     "language": "python",
     "metadata": {},
     "outputs": [
      {
       "output_type": "stream",
       "stream": "stdout",
       "text": [
        "1.7.0-dev\n"
       ]
      }
     ],
     "prompt_number": 2
    },
    {
     "cell_type": "code",
     "collapsed": false,
     "input": [
      "%%bash\n",
      "if [ ! -f test1.nc ]\n",
      "then\n",
      "    wget http://scaweb.sca.uqam.ca/~huziy/example_data/test1.nc  \n",
      "fi\n",
      "ncdump -h test1.nc"
     ],
     "language": "python",
     "metadata": {},
     "outputs": [
      {
       "output_type": "stream",
       "stream": "stdout",
       "text": [
        "netcdf test1 {\n",
        "dimensions:\n",
        "\ttime_counter = UNLIMITED ; // (1 currently)\n",
        "\ty = 435 ;\n",
        "\tx = 355 ;\n",
        "variables:\n",
        "\tfloat sosstsst(time_counter, y, x) ;\n",
        "\t\tsosstsst:standard_name = \"Sea Surface temperature\" ;\n",
        "\t\tsosstsst:long_name = \"Sea Surface temperature\" ;\n",
        "\t\tsosstsst:units = \"C\" ;\n",
        "\t\tsosstsst:coordinates = \"nav_lon nav_lat\" ;\n",
        "\t\tsosstsst:_FillValue = 9.96921e+36f ;\n",
        "\t\tsosstsst:missing_value = 9.96921e+36f ;\n",
        "\t\tsosstsst:online_operation = \"ave(x)\" ;\n",
        "\t\tsosstsst:interval_operation = 600.f ;\n",
        "\t\tsosstsst:interval_write = 86400.f ;\n",
        "\tdouble time_counter(time_counter) ;\n",
        "\t\ttime_counter:standard_name = \"time\" ;\n",
        "\t\ttime_counter:long_name = \"Time axis\" ;\n",
        "\t\ttime_counter:bounds = \"time_counter_bnds\" ;\n",
        "\t\ttime_counter:units = \"seconds since 1958-01-01 00:00:00\" ;\n",
        "\t\ttime_counter:calendar = \"365_day\" ;\n",
        "\tfloat nav_lon(y, x) ;\n",
        "\t\tnav_lon:standard_name = \"longitude\" ;\n",
        "\t\tnav_lon:long_name = \"Longitude\" ;\n",
        "\t\tnav_lon:units = \"degrees_east\" ;\n",
        "\t\tnav_lon:_CoordinateAxisType = \"Lon\" ;\n",
        "\tfloat nav_lat(y, x) ;\n",
        "\t\tnav_lat:standard_name = \"latitude\" ;\n",
        "\t\tnav_lat:long_name = \"Latitude\" ;\n",
        "\t\tnav_lat:units = \"degrees_north\" ;\n",
        "\t\tnav_lat:_CoordinateAxisType = \"Lat\" ;\n",
        "\n",
        "// global attributes:\n",
        "\t\t:CDI = \"Climate Data Interface version 1.6.2 (http://code.zmaw.de/projects/cdi)\" ;\n",
        "\t\t:Conventions = \"CF-1.1\" ;\n",
        "\t\t:history = \"Mon Feb 10 19:23:31 2014: ncks -v time_counter test.nc test1.nc\\n\",\n",
        "\t\t\t\"Mon Feb 10 19:18:30 2014: cdo seltimestep,1 GLK_1d_19580101_19581231_grid_T.nc test.nc\" ;\n",
        "\t\t:production = \"An IPSL model\" ;\n",
        "\t\t:TimeStamp = \"07/02/2014 13:55:37 -0500\" ;\n",
        "\t\t:file_name = \"GLK_1d_19580101_19581231_grid_T.nc\" ;\n",
        "\t\t:CDO = \"Climate Data Operators version 1.6.2rc1 (http://code.zmaw.de/projects/cdo)\" ;\n",
        "\t\t:NCO = \"20140211\" ;\n",
        "}\n"
       ]
      }
     ],
     "prompt_number": 3
    },
    {
     "cell_type": "code",
     "collapsed": false,
     "input": [
      "cubes = iris.load(\"test1.nc\")"
     ],
     "language": "python",
     "metadata": {},
     "outputs": [
      {
       "output_type": "stream",
       "stream": "stderr",
       "text": [
        "/home/san/Python/virtual_envs/py2.7-default/local/lib/python2.7/site-packages/Iris-1.7.0_dev-py2.7.egg/iris/fileformats/cf.py:321: UserWarning: Missing CF-netCDF boundary variable u'time_counter_bnds', referenced by netCDF variable u'time_counter'\n",
        "  warnings.warn(message % (name, nc_var_name))\n"
       ]
      }
     ],
     "prompt_number": 4
    },
    {
     "cell_type": "code",
     "collapsed": false,
     "input": [
      "print cubes"
     ],
     "language": "python",
     "metadata": {},
     "outputs": [
      {
       "output_type": "stream",
       "stream": "stdout",
       "text": [
        "0: Sea Surface temperature / (C)       (time: 1; -- : 435; -- : 355)\n"
       ]
      }
     ],
     "prompt_number": 5
    },
    {
     "cell_type": "code",
     "collapsed": false,
     "input": [
      "print cubes[0]"
     ],
     "language": "python",
     "metadata": {},
     "outputs": [
      {
       "output_type": "stream",
       "stream": "stdout",
       "text": [
        "Sea Surface temperature / (C)       (time: 1; -- : 435; -- : 355)\n",
        "     Dimension coordinates:\n",
        "          time                           x       -         -\n",
        "     Auxiliary coordinates:\n",
        "          latitude                       -       x         x\n",
        "          longitude                      -       x         x\n",
        "     Attributes:\n",
        "          CDI: Climate Data Interface version 1.6.2 (http://code.zmaw.de/projects/cdi...\n",
        "          CDO: Climate Data Operators version 1.6.2rc1 (http://code.zmaw.de/projects/...\n",
        "          Conventions: CF-1.1\n",
        "          NCO: 20140211\n",
        "          TimeStamp: 07/02/2014 13:55:37 -0500\n",
        "          file_name: GLK_1d_19580101_19581231_grid_T.nc\n",
        "          history: Mon Feb 10 19:23:31 2014: ncks -v time_counter test.nc test1.nc\n",
        "Mon Feb...\n",
        "          interval_operation: 600.0\n",
        "          interval_write: 86400.0\n",
        "          invalid_standard_name: Sea Surface temperature\n",
        "          online_operation: ave(x)\n",
        "          production: An IPSL model\n"
       ]
      }
     ],
     "prompt_number": 6
    },
    {
     "cell_type": "code",
     "collapsed": false,
     "input": [
      "cubes[0].coord(\"longitude\").points"
     ],
     "language": "python",
     "metadata": {},
     "outputs": [
      {
       "metadata": {},
       "output_type": "pyout",
       "prompt_number": 7,
       "text": [
        "array([[-90.        , -90.        , -90.        , ..., -90.        ,\n",
        "        -90.        , -90.        ],\n",
        "       [-90.        , -90.        , -90.        , ..., -90.        ,\n",
        "        -90.        , -90.        ],\n",
        "       [-90.        , -90.        , -90.        , ..., -90.        ,\n",
        "        -90.        , -90.        ],\n",
        "       ..., \n",
        "       [-92.19999695, -92.1760025 , -92.15200043, ..., -90.        ,\n",
        "        -90.        , -90.        ],\n",
        "       [-92.19999695, -92.1760025 , -92.15200043, ..., -90.        ,\n",
        "        -90.        , -90.        ],\n",
        "       [-92.19999695, -92.1760025 , -92.15200043, ..., -90.        ,\n",
        "        -90.        , -90.        ]], dtype=float32)"
       ]
      }
     ],
     "prompt_number": 7
    },
    {
     "cell_type": "code",
     "collapsed": false,
     "input": [
      "cubes[0].coord(\"latitude\").points"
     ],
     "language": "python",
     "metadata": {},
     "outputs": [
      {
       "metadata": {},
       "output_type": "pyout",
       "prompt_number": 8,
       "text": [
        "array([[ 43.        ,  43.        ,  43.        , ...,  43.        ,\n",
        "         43.        ,  43.        ],\n",
        "       [ 43.        ,  43.        ,  43.        , ...,  43.        ,\n",
        "         43.        ,  43.        ],\n",
        "       [ 43.        ,  43.        ,  43.        , ...,  43.        ,\n",
        "         43.        ,  43.        ],\n",
        "       ..., \n",
        "       [ 49.04600143,  49.04600143,  49.04600143, ...,  43.        ,\n",
        "         43.        ,  43.        ],\n",
        "       [ 49.06399918,  49.06399918,  49.06399918, ...,  43.        ,\n",
        "         43.        ,  43.        ],\n",
        "       [ 49.08200073,  49.08200073,  49.08200073, ...,  43.        ,\n",
        "         43.        ,  43.        ]], dtype=float32)"
       ]
      }
     ],
     "prompt_number": 8
    },
    {
     "cell_type": "code",
     "collapsed": false,
     "input": [
      "the_cube = cubes[0]\n",
      "iplt.contourf(the_cube[0], 20, coords = [\"longitude\", \"latitude\"])\n",
      "ax = plt.gca()\n",
      "ax.coastlines()"
     ],
     "language": "python",
     "metadata": {},
     "outputs": [
      {
       "metadata": {},
       "output_type": "pyout",
       "prompt_number": 10,
       "text": [
        "<cartopy.mpl.feature_artist.FeatureArtist at 0x39b4550>"
       ]
      },
      {
       "metadata": {},
       "output_type": "display_data",
       "png": "[encoded data removed]",
       "text": [
        "<matplotlib.figure.Figure at 0x39b4350>"
       ]
      }
     ],
     "prompt_number": 10
    },
    {
     "cell_type": "code",
     "collapsed": false,
     "input": [],
     "language": "python",
     "metadata": {},
     "outputs": []
    }
   ],
   "metadata": {}
  }
 ]
}