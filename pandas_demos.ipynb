{
 "metadata": {
  "name": ""
 },
 "nbformat": 3,
 "nbformat_minor": 0,
 "worksheets": [
  {
   "cells": [
    {
     "cell_type": "code",
     "collapsed": false,
     "input": [
      "from pandas import DataFrame\n",
      "import numpy as np\n",
      "from datetime import datetime, timedelta\n",
      "import pandas as pd\n",
      "import matplotlib.pyplot as plt"
     ],
     "language": "python",
     "metadata": {},
     "outputs": [],
     "prompt_number": 1
    },
    {
     "cell_type": "code",
     "collapsed": false,
     "input": [
      "x = np.ones((20, 5))\n",
      "dates = [ datetime.now() + i * timedelta(days = 1) for i in range(20) ]\n",
      "colnames = map(str, range(5))"
     ],
     "language": "python",
     "metadata": {},
     "outputs": [],
     "prompt_number": 2
    },
    {
     "cell_type": "code",
     "collapsed": false,
     "input": [],
     "language": "python",
     "metadata": {},
     "outputs": [],
     "prompt_number": 25
    },
    {
     "cell_type": "code",
     "collapsed": false,
     "input": [
      "data = np.random.randn(len(dates), 5)\n",
      "df = DataFrame(data=data, index=dates)\n",
      "df[\"day\"] = df.index.map(lambda d: d.day)\n",
      "\n",
      "\n",
      "df1 = df.ix[df.day.isin([15,16,18]),:]\n",
      "print df1\n",
      "print \"droped:\"\n",
      "print df1.drop([\"day\"], axis = 1)\n",
      " \n",
      "print df.values\n",
      "\n",
      "res = df.ix[df.day.isin([15,16,18]),:].mean(axis = 0)\n",
      "print res.values\n",
      "\n",
      "\n",
      "print res"
     ],
     "language": "python",
     "metadata": {},
     "outputs": [
      {
       "output_type": "stream",
       "stream": "stdout",
       "text": [
        "Empty DataFrame\n",
        "Columns: [0, 1, 2, 3, 4, day]\n",
        "Index: []\n",
        "droped:\n",
        "Empty DataFrame\n",
        "Columns: [0, 1, 2, 3, 4]\n",
        "Index: []\n",
        "[[ -7.44831531e-01  -1.36531116e+00   1.28328351e-01   2.72524519e-02\n",
        "    1.37960795e-01   1.90000000e+01]\n",
        " [  3.42841288e-01  -7.97931535e-01   1.45823140e-02  -2.30170644e+00\n",
        "   -6.51910831e-01   2.00000000e+01]\n",
        " [ -4.17918494e-01  -2.51063035e-01   1.06589498e+00  -7.04373573e-01\n",
        "    1.35170753e-02   2.10000000e+01]\n",
        " [ -1.01906632e+00   3.16830294e-01  -3.00903684e-01  -4.73693362e-01\n",
        "   -7.46221439e-01   2.20000000e+01]\n",
        " [ -2.76801052e-01  -8.29202293e-01   1.98744312e+00   9.59348115e-01\n",
        "    1.97567067e+00   2.30000000e+01]\n",
        " [ -3.94247172e-02  -2.79199606e+00   1.09363541e+00  -7.61565252e-01\n",
        "    1.27244577e+00   2.40000000e+01]\n",
        " [ -8.50999281e-01  -6.05442503e-01  -5.66872290e-01  -8.77013002e-01\n",
        "    6.85959266e-01   2.50000000e+01]\n",
        " [  1.24646628e+00  -2.01967170e-01   7.28612647e-01   1.95553098e-01\n",
        "    3.52824363e-01   2.60000000e+01]\n",
        " [  4.36861607e-01   5.87942110e-01   1.41376042e+00   8.23691190e-02\n",
        "   -2.07049489e+00   2.70000000e+01]\n",
        " [ -4.95451473e-01  -3.08211176e-01   1.63313574e+00  -9.69930991e-01\n",
        "   -5.13323955e-01   2.80000000e+01]\n",
        " [ -2.82395355e-01  -6.89822165e-01   1.73839184e+00   2.06986626e-01\n",
        "    1.08340268e+00   2.90000000e+01]\n",
        " [  8.44687971e-01  -5.01199895e-01  -4.24066950e-01   4.71271807e-01\n",
        "   -5.80304597e-01   3.00000000e+01]\n",
        " [ -2.62193483e+00   2.11219816e-01   4.13580039e-01   1.36456077e+00\n",
        "   -1.88870241e-01   3.10000000e+01]\n",
        " [ -5.34029014e-01   1.39211272e+00   3.72745996e-01   6.47383479e-01\n",
        "   -1.66215818e+00   1.00000000e+00]\n",
        " [ -1.03891043e-02   5.87896090e-01  -4.38817109e-01  -3.78432562e-01\n",
        "   -9.64351359e-01   2.00000000e+00]\n",
        " [  1.58173046e-01  -6.22924443e-01  -1.57671414e+00  -2.75170219e+00\n",
        "   -9.36724478e-01   3.00000000e+00]\n",
        " [  1.21320663e+00   9.61226406e-01  -1.51097885e-01   2.38049436e-02\n",
        "   -1.27102314e+00   4.00000000e+00]\n",
        " [  2.88270212e-01  -4.80219037e-01  -1.89332205e+00   1.45570193e+00\n",
        "   -2.62494926e-02   5.00000000e+00]\n",
        " [ -1.60462649e+00   5.97960532e-01   7.68121794e-01  -2.12248712e+00\n",
        "   -1.31910639e+00   6.00000000e+00]\n",
        " [ -8.14038126e-01  -9.61299138e-02  -8.86871667e-02   1.23979662e+00\n",
        "    2.25528524e+00   7.00000000e+00]]\n",
        "[ nan  nan  nan  nan  nan  nan]\n",
        "0     NaN\n",
        "1     NaN\n",
        "2     NaN\n",
        "3     NaN\n",
        "4     NaN\n",
        "day   NaN\n",
        "dtype: float64"
       ]
      },
      {
       "output_type": "stream",
       "stream": "stdout",
       "text": [
        "\n"
       ]
      }
     ],
     "prompt_number": 3
    },
    {
     "cell_type": "code",
     "collapsed": false,
     "input": [
      "stamp_year = 2012\n",
      "d0 = datetime(stamp_year,  1,  1)\n",
      "d1 = datetime(stamp_year, 12, 31)\n",
      "\n",
      "\n",
      "dr = pd.DatetimeIndex(start = d0, end = d1, freq = pd.datetools.offsets.Day())\n",
      "\n",
      "df = pd.DataFrame(index=dr, data=range(366))\n",
      "print len(dr), dr[0], dr[-1]"
     ],
     "language": "python",
     "metadata": {},
     "outputs": [
      {
       "output_type": "stream",
       "stream": "stdout",
       "text": [
        "366 2012-01-01 00:00:00 2012-12-31 00:00:00\n"
       ]
      }
     ],
     "prompt_number": 4
    },
    {
     "cell_type": "code",
     "collapsed": false,
     "input": [
      "x = df.select(lambda d: d > datetime(2012,10,5))\n",
      "len(x)"
     ],
     "language": "python",
     "metadata": {},
     "outputs": [
      {
       "metadata": {},
       "output_type": "pyout",
       "prompt_number": 5,
       "text": [
        "87"
       ]
      }
     ],
     "prompt_number": 5
    },
    {
     "cell_type": "code",
     "collapsed": false,
     "input": [
      "fig = plt.figure()\n",
      "plt.plot(x.index, x.ix[x.index, :])\n"
     ],
     "language": "python",
     "metadata": {},
     "outputs": [
      {
       "metadata": {},
       "output_type": "pyout",
       "prompt_number": 6,
       "text": [
        "[<matplotlib.lines.Line2D at 0x1065f9d90>]"
       ]
      },
      {
       "metadata": {},
       "output_type": "display_data",
       "png": "[encoded data removed]",
       "text": [
        "<matplotlib.figure.Figure at 0x1065dda90>"
       ]
      }
     ],
     "prompt_number": 6
    },
    {
     "cell_type": "code",
     "collapsed": false,
     "input": [
      "df.resample('5D')[:-1].tail(5)\n"
     ],
     "language": "python",
     "metadata": {},
     "outputs": [
      {
       "html": [
        "<div style=\"max-height:1000px;max-width:1500px;overflow:auto;\">\n",
        "<table border=\"1\" class=\"dataframe\">\n",
        "  <thead>\n",
        "    <tr style=\"text-align: right;\">\n",
        "      <th></th>\n",
        "      <th>0</th>\n",
        "    </tr>\n",
        "  </thead>\n",
        "  <tbody>\n",
        "    <tr>\n",
        "      <th>2012-12-06</th>\n",
        "      <td> 342</td>\n",
        "    </tr>\n",
        "    <tr>\n",
        "      <th>2012-12-11</th>\n",
        "      <td> 347</td>\n",
        "    </tr>\n",
        "    <tr>\n",
        "      <th>2012-12-16</th>\n",
        "      <td> 352</td>\n",
        "    </tr>\n",
        "    <tr>\n",
        "      <th>2012-12-21</th>\n",
        "      <td> 357</td>\n",
        "    </tr>\n",
        "    <tr>\n",
        "      <th>2012-12-26</th>\n",
        "      <td> 362</td>\n",
        "    </tr>\n",
        "  </tbody>\n",
        "</table>\n",
        "</div>"
       ],
       "metadata": {},
       "output_type": "pyout",
       "prompt_number": 81,
       "text": [
        "              0\n",
        "2012-12-06  342\n",
        "2012-12-11  347\n",
        "2012-12-16  352\n",
        "2012-12-21  357\n",
        "2012-12-26  362"
       ]
      }
     ],
     "prompt_number": 81
    },
    {
     "cell_type": "code",
     "collapsed": false,
     "input": [
      "df.resample('5D', how=np.mean, closed=\"left\").head(5)"
     ],
     "language": "python",
     "metadata": {},
     "outputs": [
      {
       "html": [
        "<div style=\"max-height:1000px;max-width:1500px;overflow:auto;\">\n",
        "<table border=\"1\" class=\"dataframe\">\n",
        "  <thead>\n",
        "    <tr style=\"text-align: right;\">\n",
        "      <th></th>\n",
        "      <th>0</th>\n",
        "    </tr>\n",
        "  </thead>\n",
        "  <tbody>\n",
        "    <tr>\n",
        "      <th>2012-01-01</th>\n",
        "      <td>  2</td>\n",
        "    </tr>\n",
        "    <tr>\n",
        "      <th>2012-01-06</th>\n",
        "      <td>  7</td>\n",
        "    </tr>\n",
        "    <tr>\n",
        "      <th>2012-01-11</th>\n",
        "      <td> 12</td>\n",
        "    </tr>\n",
        "    <tr>\n",
        "      <th>2012-01-16</th>\n",
        "      <td> 17</td>\n",
        "    </tr>\n",
        "    <tr>\n",
        "      <th>2012-01-21</th>\n",
        "      <td> 22</td>\n",
        "    </tr>\n",
        "  </tbody>\n",
        "</table>\n",
        "</div>"
       ],
       "metadata": {},
       "output_type": "pyout",
       "prompt_number": 64,
       "text": [
        "             0\n",
        "2012-01-01   2\n",
        "2012-01-06   7\n",
        "2012-01-11  12\n",
        "2012-01-16  17\n",
        "2012-01-21  22"
       ]
      }
     ],
     "prompt_number": 64
    },
    {
     "cell_type": "code",
     "collapsed": false,
     "input": [
      "df1 = pd.rolling_mean(df, 1, freq='5D')\n",
      "\n",
      "print df1.head(5)\n",
      "print df1.tail(5)\n",
      "print df1.describe()"
     ],
     "language": "python",
     "metadata": {},
     "outputs": [
      {
       "output_type": "stream",
       "stream": "stdout",
       "text": [
        "             0\n",
        "2012-01-01   2\n",
        "2012-01-06   7\n",
        "2012-01-11  12\n",
        "2012-01-16  17\n",
        "2012-01-21  22\n",
        "              0\n",
        "2012-12-11  347\n",
        "2012-12-16  352\n",
        "2012-12-21  357\n",
        "2012-12-26  362\n",
        "2012-12-31  365\n",
        "                0\n",
        "count   74.000000\n",
        "mean   184.472973\n",
        "std    107.482808\n",
        "min      2.000000\n",
        "25%     93.250000\n",
        "50%    184.500000\n",
        "75%    275.750000\n",
        "max    365.000000\n"
       ]
      }
     ],
     "prompt_number": 97
    },
    {
     "cell_type": "code",
     "collapsed": false,
     "input": [
      "df.tail(5)"
     ],
     "language": "python",
     "metadata": {},
     "outputs": [
      {
       "html": [
        "<div style=\"max-height:1000px;max-width:1500px;overflow:auto;\">\n",
        "<table border=\"1\" class=\"dataframe\">\n",
        "  <thead>\n",
        "    <tr style=\"text-align: right;\">\n",
        "      <th></th>\n",
        "      <th>0</th>\n",
        "    </tr>\n",
        "  </thead>\n",
        "  <tbody>\n",
        "    <tr>\n",
        "      <th>2012-12-27</th>\n",
        "      <td> 361</td>\n",
        "    </tr>\n",
        "    <tr>\n",
        "      <th>2012-12-28</th>\n",
        "      <td> 362</td>\n",
        "    </tr>\n",
        "    <tr>\n",
        "      <th>2012-12-29</th>\n",
        "      <td> 363</td>\n",
        "    </tr>\n",
        "    <tr>\n",
        "      <th>2012-12-30</th>\n",
        "      <td> 364</td>\n",
        "    </tr>\n",
        "    <tr>\n",
        "      <th>2012-12-31</th>\n",
        "      <td> 365</td>\n",
        "    </tr>\n",
        "  </tbody>\n",
        "</table>\n",
        "</div>"
       ],
       "metadata": {},
       "output_type": "pyout",
       "prompt_number": 45,
       "text": [
        "              0\n",
        "2012-12-27  361\n",
        "2012-12-28  362\n",
        "2012-12-29  363\n",
        "2012-12-30  364\n",
        "2012-12-31  365"
       ]
      }
     ],
     "prompt_number": 45
    },
    {
     "cell_type": "code",
     "collapsed": false,
     "input": [
      "pd.__version__"
     ],
     "language": "python",
     "metadata": {},
     "outputs": [
      {
       "metadata": {},
       "output_type": "pyout",
       "prompt_number": 73,
       "text": [
        "'0.12.0'"
       ]
      }
     ],
     "prompt_number": 73
    },
    {
     "cell_type": "code",
     "collapsed": false,
     "input": [],
     "language": "python",
     "metadata": {},
     "outputs": []
    }
   ],
   "metadata": {}
  }
 ]
}