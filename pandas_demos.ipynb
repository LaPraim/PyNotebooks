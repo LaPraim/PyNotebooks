{
 "metadata": {
  "name": "pandas_demos"
 },
 "nbformat": 3,
 "nbformat_minor": 0,
 "worksheets": [
  {
   "cells": [
    {
     "cell_type": "code",
     "collapsed": false,
     "input": [
      "from pandas import DataFrame\n",
      "import numpy as np\n",
      "from datetime import datetime, timedelta"
     ],
     "language": "python",
     "metadata": {},
     "outputs": [],
     "prompt_number": 6
    },
    {
     "cell_type": "code",
     "collapsed": false,
     "input": [
      "x = np.ones((20, 5))\n",
      "dates = [ datetime.now() + i * timedelta(days = 1) for i in range(20) ]\n",
      "colnames = map(str, range(5))"
     ],
     "language": "python",
     "metadata": {},
     "outputs": [],
     "prompt_number": 8
    },
    {
     "cell_type": "code",
     "collapsed": false,
     "input": [],
     "language": "python",
     "metadata": {},
     "outputs": [],
     "prompt_number": 11
    },
    {
     "cell_type": "code",
     "collapsed": false,
     "input": [
      "dates"
     ],
     "language": "python",
     "metadata": {},
     "outputs": [
      {
       "output_type": "pyout",
       "prompt_number": 10,
       "text": [
        "[datetime.datetime(2013, 4, 15, 10, 39, 15, 641903),\n",
        " datetime.datetime(2013, 4, 16, 10, 39, 15, 641922),\n",
        " datetime.datetime(2013, 4, 17, 10, 39, 15, 641927),\n",
        " datetime.datetime(2013, 4, 18, 10, 39, 15, 641931),\n",
        " datetime.datetime(2013, 4, 19, 10, 39, 15, 641934),\n",
        " datetime.datetime(2013, 4, 20, 10, 39, 15, 641939),\n",
        " datetime.datetime(2013, 4, 21, 10, 39, 15, 641943),\n",
        " datetime.datetime(2013, 4, 22, 10, 39, 15, 641946),\n",
        " datetime.datetime(2013, 4, 23, 10, 39, 15, 641950),\n",
        " datetime.datetime(2013, 4, 24, 10, 39, 15, 641960),\n",
        " datetime.datetime(2013, 4, 25, 10, 39, 15, 641965),\n",
        " datetime.datetime(2013, 4, 26, 10, 39, 15, 641969),\n",
        " datetime.datetime(2013, 4, 27, 10, 39, 15, 641972),\n",
        " datetime.datetime(2013, 4, 28, 10, 39, 15, 641976),\n",
        " datetime.datetime(2013, 4, 29, 10, 39, 15, 641980),\n",
        " datetime.datetime(2013, 4, 30, 10, 39, 15, 641983),\n",
        " datetime.datetime(2013, 5, 1, 10, 39, 15, 641987),\n",
        " datetime.datetime(2013, 5, 2, 10, 39, 15, 641993),\n",
        " datetime.datetime(2013, 5, 3, 10, 39, 15, 641997),\n",
        " datetime.datetime(2013, 5, 4, 10, 39, 15, 642001)]"
       ]
      }
     ],
     "prompt_number": 10
    },
    {
     "cell_type": "code",
     "collapsed": false,
     "input": [],
     "language": "python",
     "metadata": {},
     "outputs": []
    }
   ],
   "metadata": {}
  }
 ]
}