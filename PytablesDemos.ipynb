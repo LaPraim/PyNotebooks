{
 "metadata": {
  "name": ""
 },
 "nbformat": 3,
 "nbformat_minor": 0,
 "worksheets": [
  {
   "cells": [
    {
     "cell_type": "code",
     "collapsed": false,
     "input": [
      "import tables as tb\n",
      "import numpy as np\n",
      "from datetime import datetime\n",
      "import time\n",
      "\n",
      "###generate the date to field dictionary\n",
      "from datetime import datetime, timedelta\n",
      "def generate_date_to_field_dict():\n",
      "    t0 = datetime.now()\n",
      "    res = []\n",
      "    for i in range(400):\n",
      "        t = t0 + timedelta(days = 1) * i\n",
      "        res.append( (t.year, t.month, t.day, t.hour, t.minute, t.second, time.mktime(t.timetuple()) , np.random.randn(10,10)) )\n",
      "    return res\n",
      "    \n",
      "data = generate_date_to_field_dict()"
     ],
     "language": "python",
     "metadata": {},
     "outputs": [],
     "prompt_number": 2
    },
    {
     "cell_type": "code",
     "collapsed": false,
     "input": [
      "\n",
      "if h5file is not None and h5file.isopen: h5file.close()\n",
      "\n",
      "#print h5file.isopen\n",
      "\n",
      "h5file = tb.openFile(\"tutorial1.h5\", mode = \"w\", title = \"Test file\")\n",
      "#h5file.removeNode(\"year_2013\")\n",
      "#h5file.removeNode(\"year_2014\")\n",
      "\n",
      "\n",
      "\n",
      "##create groups for different years\n",
      "#for d, v in data.iteritems():\n",
      "#    yearGroupName = d.strftime(\"year_%Y\") \n",
      "#    if not yearGroupName in h5file.root:\n",
      "#        h5file.createGroup(\"/\", d.strftime(\"year_%Y\"))\n",
      "    \n",
      "\n",
      "    \n",
      "#delete nodes created for each year\n",
      "for year in (2013, 2014):\n",
      "    nodePath = \"/\" + \"year-{0}\".format(year)\n",
      "    if nodePath in h5file:\n",
      "        h5file.removeNode(nodePath)\n",
      "\n",
      "    nodePath = \"/\" + \"year_{0}\".format(year)\n",
      "    if nodePath in h5file:\n",
      "        h5file.removeNode(nodePath)\n",
      "        \n",
      "#ceate a table  for a variable random and call it random        \n",
      "print h5file\n",
      "\n",
      "\n",
      "#when passing pos make sure to use different variables\n",
      "class RandomTableDescription(tb.IsDescription):\n",
      "    year = tb.Int32Col()\n",
      "    month = tb.Int32Col()\n",
      "    day = tb.Int32Col()\n",
      "    hour = tb.Int32Col()\n",
      "    minute = tb.Int32Col()\n",
      "    second = tb.Int32Col()\n",
      "    date = tb.Time32Col()\n",
      "    field = tb.Float32Col(shape = data[0][-1].shape)\n",
      "\n",
      "\n",
      "#create random table if it does not exist yet\n",
      "if \"/random\" not in h5file:\n",
      "    print \"creating a table: /random\"\n",
      "    randomTable = h5file.createTable(\"/\", \"random\", RandomTableDescription)\n",
      "else:\n",
      "    randomTable = h5file.getNode(\"/random\")\n",
      "\n",
      "#randomTable.append(data)    \n",
      "\n",
      "row = randomTable.row\n",
      "\n",
      "for rowData in data:\n",
      "    row[\"year\"] = rowData[0]\n",
      "    row[\"month\"] = rowData[1]\n",
      "    row[\"day\"] = rowData[2]\n",
      "    row[\"hour\"] = rowData[3]\n",
      "    row[\"minute\"] = rowData[4]\n",
      "    row[\"second\"] = rowData[5]\n",
      "    row[\"date\"] = rowData[6]\n",
      "    row[\"field\"] = rowData[-1]\n",
      "    row.append()\n",
      "randomTable.flush()\n",
      "\n",
      "\n",
      "#print data.items()\n",
      "print h5file\n",
      "\n",
      "h5file.close()\n",
      "    \n",
      "    \n",
      "##To see the schema of the created file in command line, do:\n",
      "#huziy$ ptdump-2.7 -v tutorial1.h5\n",
      "#/ (RootGroup) 'Test file'\n",
      "#/random (Table(400,)) ''\n",
      "#  description := {\n",
      "#  \"day\": Int32Col(shape=(), dflt=0, pos=0),\n",
      "#  \"field\": Float32Col(shape=(10, 10), dflt=0.0, pos=1),\n",
      "#  \"hour\": Int32Col(shape=(), dflt=0, pos=2),\n",
      "#  \"minute\": Int32Col(shape=(), dflt=0, pos=3),\n",
      "#  \"month\": Int32Col(shape=(), dflt=0, pos=4),\n",
      "#  \"second\": Int32Col(shape=(), dflt=0, pos=5),\n",
      "#  \"year\": Int32Col(shape=(), dflt=0, pos=6)}\n",
      "#  byteorder := 'little'\n",
      "#  chunkshape := (154,)\n",
      "\n",
      "\n",
      "\n",
      "\n",
      "\n",
      "    \n"
     ],
     "language": "python",
     "metadata": {},
     "outputs": [
      {
       "output_type": "stream",
       "stream": "stdout",
       "text": [
        "tutorial1.h5 (File) 'Test file'\n",
        "Last modif.: 'Mon Aug 19 14:58:33 2013'\n",
        "Object Tree: \n",
        "/ (RootGroup) 'Test file'\n",
        "\n",
        "creating a table: /random\n",
        "tutorial1.h5 (File) 'Test file'\n",
        "Last modif.: 'Mon Aug 19 14:58:33 2013'\n",
        "Object Tree: \n",
        "/ (RootGroup) 'Test file'\n",
        "/random (Table(400,)) ''\n",
        "\n",
        "/random (Table(400,)) ''"
       ]
      },
      {
       "output_type": "stream",
       "stream": "stdout",
       "text": [
        "\n"
       ]
      }
     ],
     "prompt_number": 9
    },
    {
     "cell_type": "code",
     "collapsed": false,
     "input": [
      "h = tb.openFile(\"tutorial1.h5\")\n",
      "\n",
      "varTable = h.getNode(\"/random\")\n",
      "print varTable.colnames\n",
      "for row in varTable.where(\"(month == 3) & (day == 23)\"):\n",
      "    print row[\"minute\"], row[\"day\"], row[\"year\"], row[\"month\"] \n",
      "\n",
      "h.close()\n"
     ],
     "language": "python",
     "metadata": {},
     "outputs": [
      {
       "output_type": "stream",
       "stream": "stdout",
       "text": [
        "['date', 'day', 'field', 'hour', 'minute', 'month', 'second', 'year']\n",
        "56 23 2014 3\n"
       ]
      }
     ],
     "prompt_number": 18
    },
    {
     "cell_type": "code",
     "collapsed": false,
     "input": [
      "if h5file is not None and h5file.isopen:\n",
      "    h5file.close()\n",
      "\n",
      "h5file = tb.openFile(\"tutorial1.h5\", \"a\")\n",
      "\n",
      "print h5file\n",
      "\n",
      "randomTable = h5file.getNode(\"/random\")\n",
      "print \"columns: {0}\".format(\",\".join(randomTable.colnames)) \n",
      "\n",
      "\n",
      "##selecting by index\n",
      "for x in randomTable.iterrows(start = 10, stop = 20):\n",
      "    print x[\"year\"]\n",
      "print 20 * \"===\"\n",
      "##selecting by condition\n",
      "##calculate summer mean\n",
      "all_data = []\n",
      "for row in randomTable.where(\"(month >= 6) & (month <= 8)\"):\n",
      "    all_data.append(row[\"field\"])\n",
      "    \n",
      "\n",
      "print len(all_data)\n",
      "print np.mean(all_data, axis = 0)\n",
      "h5file.close()\n"
     ],
     "language": "python",
     "metadata": {},
     "outputs": [
      {
       "ename": "NameError",
       "evalue": "name 'h5file' is not defined",
       "output_type": "pyerr",
       "traceback": [
        "\u001b[0;31m---------------------------------------------------------------------------\u001b[0m\n\u001b[0;31mNameError\u001b[0m                                 Traceback (most recent call last)",
        "\u001b[0;32m<ipython-input-16-e3c8e3ea1b1f>\u001b[0m in \u001b[0;36m<module>\u001b[0;34m()\u001b[0m\n\u001b[0;32m----> 1\u001b[0;31m \u001b[0;32mif\u001b[0m \u001b[0mh5file\u001b[0m \u001b[0;32mis\u001b[0m \u001b[0;32mnot\u001b[0m \u001b[0mNone\u001b[0m \u001b[0;32mand\u001b[0m \u001b[0mh5file\u001b[0m\u001b[0;34m.\u001b[0m\u001b[0misopen\u001b[0m\u001b[0;34m:\u001b[0m\u001b[0;34m\u001b[0m\u001b[0m\n\u001b[0m\u001b[1;32m      2\u001b[0m     \u001b[0mh5file\u001b[0m\u001b[0;34m.\u001b[0m\u001b[0mclose\u001b[0m\u001b[0;34m(\u001b[0m\u001b[0;34m)\u001b[0m\u001b[0;34m\u001b[0m\u001b[0m\n\u001b[1;32m      3\u001b[0m \u001b[0;34m\u001b[0m\u001b[0m\n\u001b[1;32m      4\u001b[0m \u001b[0mh5file\u001b[0m \u001b[0;34m=\u001b[0m \u001b[0mtb\u001b[0m\u001b[0;34m.\u001b[0m\u001b[0mopenFile\u001b[0m\u001b[0;34m(\u001b[0m\u001b[0;34m\"tutorial1.h5\"\u001b[0m\u001b[0;34m,\u001b[0m \u001b[0;34m\"a\"\u001b[0m\u001b[0;34m)\u001b[0m\u001b[0;34m\u001b[0m\u001b[0m\n\u001b[1;32m      5\u001b[0m \u001b[0;34m\u001b[0m\u001b[0m\n",
        "\u001b[0;31mNameError\u001b[0m: name 'h5file' is not defined"
       ]
      }
     ],
     "prompt_number": 16
    },
    {
     "cell_type": "code",
     "collapsed": false,
     "input": [
      "#test batch append to a table\n",
      "import tables as tb\n",
      "import numpy as np\n",
      "\n",
      "x  = [(i, j) for i,j in zip(range(10), range(10,20))]\n",
      "h5 = tb.open_file(\"test_batch_append.h5\", \"a\")\n",
      "\n",
      "h5.remove_node(\"/test_table\")\n",
      "table = h5.create_table(\"/\", \"test_table\", {\"first\": tb.IntCol(pos = 0), \"second\": tb.IntCol(pos = 1)})\n",
      "table.append(x)\n",
      "print table.description\n",
      "print table[:]\n",
      "\n",
      "h5.close()\n"
     ],
     "language": "python",
     "metadata": {},
     "outputs": [
      {
       "output_type": "stream",
       "stream": "stdout",
       "text": [
        "Description([('first', '()i4'), ('second', '()i4')])\n",
        "[(0, 10) (1, 11) (2, 12) (3, 13) (4, 14) (5, 15) (6, 16) (7, 17) (8, 18)\n",
        " (9, 19)]\n"
       ]
      }
     ],
     "prompt_number": 14
    },
    {
     "cell_type": "code",
     "collapsed": false,
     "input": [],
     "language": "python",
     "metadata": {},
     "outputs": []
    }
   ],
   "metadata": {}
  }
 ]
}