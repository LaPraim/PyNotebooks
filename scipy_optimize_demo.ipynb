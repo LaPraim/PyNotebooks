{
 "metadata": {
  "name": "scipy_optimize_demo"
 },
 "nbformat": 3,
 "nbformat_minor": 0,
 "worksheets": [
  {
   "cells": [
    {
     "cell_type": "code",
     "collapsed": false,
     "input": [
      "import scipy.optimize\n",
      "\n",
      "upper_bounds = [91680237, 87141351, 19183473, 84453111]\n",
      "x0 = [1461516, 1230049, 0, 0]\n",
      "\n",
      "ieqcons = [\n",
      "    lambda x: 3139153 - sum(x),\n",
      "    lambda x: 1461516 - (x[0] + x[2] + x[3]),\n",
      "    lambda x: 123049 - (x[1] + x[2]),\n",
      "]\n",
      "\n",
      "scipy.optimize.slsqp.fmin_slsqp(\n",
      "    func=lambda x: sum((x[i] - upper_bounds[i])**2 for i in xrange(4)),\n",
      "    fprime=lambda x: [2 * (x[i] - upper_bounds[i]) for i in xrange(4)],\n",
      "    x0=x0,\n",
      "    bounds=[(0, b) for b in upper_bounds],\n",
      "    ieqcons=ieqcons,\n",
      "    iprint=2,\n",
      ")\n"
     ],
     "language": "python",
     "metadata": {},
     "outputs": [
      {
       "output_type": "stream",
       "stream": "stdout",
       "text": [
        "  NIT    FC           OBJFUN            GNORM\n",
        "    1     1     2.302050E+16     3.034502E+08\n",
        "    2     3     7.171887E+13     1.693740E+07\n",
        "    7     4     6.522132E+13     1.615194E+07\n",
        "Positive directional derivative for linesearch    (Exit mode 8)\n",
        "            Current function value: 6.52213187442e+13\n",
        "            Iterations: 7\n",
        "            Function evaluations: 4\n",
        "            Gradient evaluations: 3\n"
       ]
      },
      {
       "output_type": "pyout",
       "prompt_number": 11,
       "text": [
        "array([ 87850983.83629538,  83918664.56005463,  12854256.4640864 ,\n",
        "        84116288.93461165])"
       ]
      }
     ],
     "prompt_number": 11
    },
    {
     "cell_type": "code",
     "collapsed": false,
     "input": [],
     "language": "python",
     "metadata": {},
     "outputs": [
      {
       "output_type": "pyout",
       "prompt_number": 2,
       "text": [
        "2691565"
       ]
      }
     ],
     "prompt_number": 2
    },
    {
     "cell_type": "code",
     "collapsed": false,
     "input": [
      "x0[0] + x0[2]"
     ],
     "language": "python",
     "metadata": {},
     "outputs": [
      {
       "output_type": "pyout",
       "prompt_number": 3,
       "text": [
        "1461516"
       ]
      }
     ],
     "prompt_number": 3
    },
    {
     "cell_type": "code",
     "collapsed": false,
     "input": [],
     "language": "python",
     "metadata": {},
     "outputs": []
    }
   ],
   "metadata": {}
  }
 ]
}