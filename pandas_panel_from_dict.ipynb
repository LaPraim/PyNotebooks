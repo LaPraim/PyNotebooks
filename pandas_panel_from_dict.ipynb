{
 "metadata": {
  "name": "",
  "signature": "sha256:28a18d1ca966d70e1de5674969d1d663ef08797bd6b09af82f193b1bfe49072d"
 },
 "nbformat": 3,
 "nbformat_minor": 0,
 "worksheets": [
  {
   "cells": [
    {
     "cell_type": "code",
     "collapsed": false,
     "input": [
      "%matplotlib inline\n",
      "import pandas as pd\n",
      "import numpy as np\n",
      "from datetime import datetime, timedelta\n",
      "import matplotlib.pyplot as plt\n",
      "from IPython.display import display\n",
      "from IPython.html.widgets import interactive"
     ],
     "language": "python",
     "metadata": {},
     "outputs": [],
     "prompt_number": 36
    },
    {
     "cell_type": "code",
     "collapsed": false,
     "input": [
      "\n",
      "def generate_data(nrows = 20, nx = 10, ny = 15):\n",
      "    \"\"\"\n",
      "    Generate test data\n",
      "    \"\"\"\n",
      "    data = np.random.randn(nrows, nx, ny)\n",
      "    d0 = datetime(1985, 4, 23)\n",
      "    dt = timedelta(days=1)\n",
      "    dates = [d0 + i * dt for i in range(nrows)]\n",
      "    \n",
      "    return [{\"year\": d.year, \n",
      "             \"month\": d.month, \n",
      "             \"day\": d.day, \n",
      "             \"hour\": d.hour, \n",
      "             \"minute\": d.minute, \n",
      "             \"second\": d.second,\n",
      "             \"field\": data[i, :, :]} for i, d in enumerate(dates)]"
     ],
     "language": "python",
     "metadata": {},
     "outputs": [],
     "prompt_number": 37
    },
    {
     "cell_type": "code",
     "collapsed": false,
     "input": [
      "rows = generate_data()"
     ],
     "language": "python",
     "metadata": {},
     "outputs": [],
     "prompt_number": 38
    },
    {
     "cell_type": "code",
     "collapsed": false,
     "input": [
      "def get_pandas_panel(the_rows):\n",
      "    date_keys = [\"year\", \"month\", \"day\", \"hour\", \"minute\", \"second\"]\n",
      "    return pd.Panel({datetime(*[row[k] for k in date_keys]): pd.DataFrame(row[\"field\"]) \n",
      "                     for row in the_rows})\n",
      "    \n",
      "    "
     ],
     "language": "python",
     "metadata": {},
     "outputs": [],
     "prompt_number": 39
    },
    {
     "cell_type": "code",
     "collapsed": false,
     "input": [
      "ppanel = get_pandas_panel(rows)"
     ],
     "language": "python",
     "metadata": {},
     "outputs": [],
     "prompt_number": 40
    },
    {
     "cell_type": "code",
     "collapsed": false,
     "input": [
      "ppanel"
     ],
     "language": "python",
     "metadata": {},
     "outputs": [
      {
       "metadata": {},
       "output_type": "pyout",
       "prompt_number": 41,
       "text": [
        "<class 'pandas.core.panel.Panel'>\n",
        "Dimensions: 20 (items) x 10 (major_axis) x 15 (minor_axis)\n",
        "Items axis: 1985-04-23 00:00:00 to 1985-05-12 00:00:00\n",
        "Major_axis axis: 0 to 9\n",
        "Minor_axis axis: 0 to 14"
       ]
      }
     ],
     "prompt_number": 41
    },
    {
     "cell_type": "code",
     "collapsed": false,
     "input": [
      "def plot_frame(frame_index):\n",
      "    im = plt.pcolormesh(ppanel[frame_index].values.transpose(), vmin=-1, vmax=1)\n",
      "    plt.colorbar(im)\n"
     ],
     "language": "python",
     "metadata": {},
     "outputs": [],
     "prompt_number": 55
    },
    {
     "cell_type": "code",
     "collapsed": false,
     "input": [
      "w = interactive(plot_frame, frame_index=[str(d) for d in sorted(ppanel.items)])"
     ],
     "language": "python",
     "metadata": {},
     "outputs": [],
     "prompt_number": 56
    },
    {
     "cell_type": "code",
     "collapsed": false,
     "input": [
      "display(w)"
     ],
     "language": "python",
     "metadata": {},
     "outputs": [
      {
       "metadata": {},
       "output_type": "display_data",
       "png": "[encoded data removed]",
       "text": [
        "<matplotlib.figure.Figure at 0x10c1d43d0>"
       ]
      }
     ],
     "prompt_number": 57
    },
    {
     "cell_type": "code",
     "collapsed": false,
     "input": [
      "ppanel4d = pd.Panel4D({i: ppanel for i in range(5)})"
     ],
     "language": "python",
     "metadata": {},
     "outputs": [],
     "prompt_number": 59
    },
    {
     "cell_type": "code",
     "collapsed": false,
     "input": [
      "ppanel.groupby??"
     ],
     "language": "python",
     "metadata": {},
     "outputs": [],
     "prompt_number": 62
    }
   ],
   "metadata": {}
  }
 ]
}