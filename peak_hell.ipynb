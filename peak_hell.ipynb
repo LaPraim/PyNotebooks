{
 "metadata": {
  "name": ""
 },
 "nbformat": 3,
 "nbformat_minor": 0,
 "worksheets": [
  {
   "cells": [
    {
     "cell_type": "code",
     "collapsed": false,
     "input": [
      "#Python challenge at http://www.pythonchallenge.com/pc/def/peak.html"
     ],
     "language": "python",
     "metadata": {},
     "outputs": []
    },
    {
     "cell_type": "code",
     "collapsed": false,
     "input": [],
     "language": "python",
     "metadata": {},
     "outputs": [],
     "prompt_number": 1
    },
    {
     "cell_type": "code",
     "collapsed": false,
     "input": [
      "import urllib2\n",
      "import os\n"
     ],
     "language": "python",
     "metadata": {},
     "outputs": [],
     "prompt_number": 8
    },
    {
     "cell_type": "code",
     "collapsed": false,
     "input": [
      "url=\"http://www.pythonchallenge.com/pc/def/banner.p\"\n",
      "local_path = os.path.basename(url)\n",
      "flink = urllib2.urlopen(url)\n",
      "with open(local_path, \"w\") as flocal:\n",
      "    flocal.write(flink.read())"
     ],
     "language": "python",
     "metadata": {},
     "outputs": [],
     "prompt_number": 10
    },
    {
     "cell_type": "code",
     "collapsed": false,
     "input": [
      "import pickle  "
     ],
     "language": "python",
     "metadata": {},
     "outputs": [],
     "prompt_number": 11
    },
    {
     "cell_type": "code",
     "collapsed": false,
     "input": [
      "flink = urllib2.urlopen(url)\n",
      "x = pickle.load(flink)"
     ],
     "language": "python",
     "metadata": {},
     "outputs": [],
     "prompt_number": 13
    },
    {
     "cell_type": "code",
     "collapsed": false,
     "input": [
      "\n",
      "for line in x:\n",
      "    to_print = \"\"\n",
      "    for section in line:\n",
      "        to_print += section[0] * section[1]\n",
      "        \n",
      "    print to_print"
     ],
     "language": "python",
     "metadata": {},
     "outputs": [
      {
       "output_type": "stream",
       "stream": "stdout",
       "text": [
        "                                                                                               \n",
        "              #####                                                                      ##### \n",
        "               ####                                                                       #### \n",
        "               ####                                                                       #### \n",
        "               ####                                                                       #### \n",
        "               ####                                                                       #### \n",
        "               ####                                                                       #### \n",
        "               ####                                                                       #### \n",
        "               ####                                                                       #### \n",
        "      ###      ####   ###         ###       #####   ###    #####   ###          ###       #### \n",
        "   ###   ##    #### #######     ##  ###      #### #######   #### #######     ###  ###     #### \n",
        "  ###     ###  #####    ####   ###   ####    #####    ####  #####    ####   ###     ###   #### \n",
        " ###           ####     ####   ###    ###    ####     ####  ####     ####  ###      ####  #### \n",
        " ###           ####     ####          ###    ####     ####  ####     ####  ###       ###  #### \n",
        "####           ####     ####     ##   ###    ####     ####  ####     #### ####       ###  #### \n",
        "####           ####     ####   ##########    ####     ####  ####     #### ##############  #### \n",
        "####           ####     ####  ###    ####    ####     ####  ####     #### ####            #### \n",
        "####           ####     #### ####     ###    ####     ####  ####     #### ####            #### \n",
        " ###           ####     #### ####     ###    ####     ####  ####     ####  ###            #### \n",
        "  ###      ##  ####     ####  ###    ####    ####     ####  ####     ####   ###      ##   #### \n",
        "   ###    ##   ####     ####   ###########   ####     ####  ####     ####    ###    ##    #### \n",
        "      ###     ######    #####    ##    #### ######    ###########    #####      ###      ######\n",
        "                                                                                               \n"
       ]
      }
     ],
     "prompt_number": 15
    },
    {
     "cell_type": "code",
     "collapsed": false,
     "input": [],
     "language": "python",
     "metadata": {},
     "outputs": []
    }
   ],
   "metadata": {}
  }
 ]
}