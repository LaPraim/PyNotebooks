{
 "cells": [
  {
   "cell_type": "code",
   "execution_count": 21,
   "metadata": {
    "collapsed": true
   },
   "outputs": [],
   "source": [
    "%matplotlib inline\n",
    "from datetime import timedelta\n",
    "import numpy as np"
   ]
  },
  {
   "cell_type": "code",
   "execution_count": 22,
   "metadata": {
    "collapsed": true
   },
   "outputs": [],
   "source": [
    "GLOB_MODELS = [\"MPI\", \"CanESM2\",]\n",
    "SCENARIOS = [\"RCP85\"]\n",
    "\n",
    "ADDED_PROCESSES = [\"Default\", \"Frozen soil\", \"Glaciers\", \"Surface-groundwater interactions\"]\n",
    "\n",
    "n_years_cc = 150\n",
    "n_years_cc_total = -1\n",
    "\n",
    "n_years_current = 36\n",
    "\n",
    "\n",
    "YEAR_SECONDS = 365.25 * timedelta(days=1).total_seconds()\n",
    "\n",
    "NA_month = timedelta(minutes=51).total_seconds() * 36 / YEAR_SECONDS\n",
    "PA_month = timedelta(minutes=34).total_seconds() * 48 / YEAR_SECONDS\n",
    "GL_month = timedelta(hours=5, minutes=5).total_seconds() * 144 / YEAR_SECONDS\n",
    "GL_NO_NEMO_month = timedelta(hours=2, minutes=30).total_seconds() * 180 / YEAR_SECONDS  # not in NEI \n",
    "WC_month = timedelta(hours=5, minutes=10).total_seconds() * 72 / YEAR_SECONDS\n",
    "\n",
    "\n",
    "if (len(SCENARIOS) > 1):\n",
    "        n_years_cc_total = n_years_cc * len(GLOB_MODELS) * len(SCENARIOS) - 60 * (len(SCENARIOS) - 1)\n",
    "else:\n",
    "        n_years_cc_total = n_years_cc * len(GLOB_MODELS) * len(SCENARIOS)\n",
    "\n",
    "NA_numyears = len(ADDED_PROCESSES) * n_years_current + n_years_cc_total\n",
    "PA_numyears = NA_numyears\n",
    "GL_numyears = n_years_current + n_years_cc_total\n",
    "WC_numyears = n_years_current + n_years_cc_total"
   ]
  },
  {
   "cell_type": "code",
   "execution_count": 23,
   "metadata": {
    "collapsed": false
   },
   "outputs": [
    {
     "data": {
      "text/plain": [
       "542.9256673511294"
      ]
     },
     "execution_count": 23,
     "metadata": {},
     "output_type": "execute_result"
    }
   ],
   "source": [
    "# total number of (core) x (years) -- NEI\n",
    "(NA_month * NA_numyears + PA_month * PA_numyears + GL_month * GL_numyears + WC_month * WC_numyears) * 12"
   ]
  },
  {
   "cell_type": "code",
   "execution_count": 24,
   "metadata": {
    "collapsed": true
   },
   "outputs": [],
   "source": [
    "# TODO: find out the sizes of the outputs\n",
    "PA_space_per_month = 6.1\n",
    "NA_space_per_month = 5.1\n",
    "GL_space_per_month = 39 + 0.877 + 0.335 * 2 + 0.96 + 0.4 + 0.5\n",
    "WC_space_per_month = 19\n",
    "GL_NO_NEMO_space_per_month = 40"
   ]
  },
  {
   "cell_type": "code",
   "execution_count": 25,
   "metadata": {
    "collapsed": false
   },
   "outputs": [
    {
     "data": {
      "text/plain": [
       "307.26662400000004"
      ]
     },
     "execution_count": 25,
     "metadata": {},
     "output_type": "execute_result"
    }
   ],
   "source": [
    "# Storage for NEI (TB)\n",
    "\n",
    "(NA_space_per_month * NA_numyears + PA_space_per_month * PA_numyears + GL_space_per_month * GL_numyears + WC_space_per_month * WC_numyears) * 12 / 1000"
   ]
  },
  {
   "cell_type": "code",
   "execution_count": 26,
   "metadata": {
    "collapsed": false
   },
   "outputs": [
    {
     "data": {
      "text/plain": [
       "0.003490759753593429"
      ]
     },
     "execution_count": 26,
     "metadata": {},
     "output_type": "execute_result"
    }
   ],
   "source": [
    "NA_month"
   ]
  },
  {
   "cell_type": "code",
   "execution_count": 27,
   "metadata": {
    "collapsed": false
   },
   "outputs": [
    {
     "data": {
      "text/plain": [
       "300"
      ]
     },
     "execution_count": 27,
     "metadata": {},
     "output_type": "execute_result"
    }
   ],
   "source": [
    "n_years_cc_total"
   ]
  },
  {
   "cell_type": "code",
   "execution_count": 28,
   "metadata": {
    "collapsed": false
   },
   "outputs": [
    {
     "data": {
      "text/plain": [
       "92.40246406570841"
      ]
     },
     "execution_count": 28,
     "metadata": {},
     "output_type": "execute_result"
    }
   ],
   "source": [
    "# total for impact of NEMO on CC (core*years) (becauase the era-interim is already do)\n",
    "GL_NO_NEMO_month * n_years_cc * (len(GLOB_MODELS) - 1) * len(SCENARIOS) * 12"
   ]
  },
  {
   "cell_type": "code",
   "execution_count": 30,
   "metadata": {
    "collapsed": false
   },
   "outputs": [
    {
     "data": {
      "text/plain": [
       "144.0"
      ]
     },
     "execution_count": 30,
     "metadata": {},
     "output_type": "execute_result"
    }
   ],
   "source": [
    "\n",
    "## Space in terrabytes\n",
    "GL_NO_NEMO_space_per_month * n_years_cc_total * 12 / 1000"
   ]
  },
  {
   "cell_type": "code",
   "execution_count": 31,
   "metadata": {
    "collapsed": false
   },
   "outputs": [
    {
     "name": "stdout",
     "output_type": "stream",
     "text": [
      "300\n"
     ]
    },
    {
     "data": {
      "text/plain": [
       "152.77207392197127"
      ]
     },
     "execution_count": 31,
     "metadata": {},
     "output_type": "execute_result"
    }
   ],
   "source": [
    "WC_month * 2  * 1 * 150 * 12"
   ]
  },
  {
   "cell_type": "code",
   "execution_count": 12,
   "metadata": {
    "collapsed": false
   },
   "outputs": [
    {
     "data": {
      "text/plain": [
       "170985.024"
      ]
     },
     "execution_count": 12,
     "metadata": {},
     "output_type": "execute_result"
    }
   ],
   "source": [
    "GL_space_per_month * GL_numyears * 12"
   ]
  },
  {
   "cell_type": "code",
   "execution_count": 14,
   "metadata": {
    "collapsed": false
   },
   "outputs": [
    {
     "data": {
      "text/plain": [
       "36.07392197125256"
      ]
     },
     "execution_count": 14,
     "metadata": {},
     "output_type": "execute_result"
    }
   ],
   "source": [
    "GL_month * n_years_current * 12"
   ]
  },
  {
   "cell_type": "code",
   "execution_count": 15,
   "metadata": {
    "collapsed": false
   },
   "outputs": [
    {
     "data": {
      "text/plain": [
       "336"
      ]
     },
     "execution_count": 15,
     "metadata": {},
     "output_type": "execute_result"
    }
   ],
   "source": [
    "GL_numyears"
   ]
  },
  {
   "cell_type": "code",
   "execution_count": 16,
   "metadata": {
    "collapsed": false
   },
   "outputs": [
    {
     "data": {
      "text/plain": [
       "171.1047227926078"
      ]
     },
     "execution_count": 16,
     "metadata": {},
     "output_type": "execute_result"
    }
   ],
   "source": [
    "WC_month * WC_numyears * 12"
   ]
  },
  {
   "cell_type": "code",
   "execution_count": 17,
   "metadata": {
    "collapsed": false
   },
   "outputs": [
    {
     "data": {
      "text/plain": [
       "336"
      ]
     },
     "execution_count": 17,
     "metadata": {},
     "output_type": "execute_result"
    }
   ],
   "source": [
    "WC_numyears"
   ]
  },
  {
   "cell_type": "code",
   "execution_count": 19,
   "metadata": {
    "collapsed": false
   },
   "outputs": [
    {
     "data": {
      "text/plain": [
       "22.17659137577002"
      ]
     },
     "execution_count": 19,
     "metadata": {},
     "output_type": "execute_result"
    }
   ],
   "source": [
    "GL_NO_NEMO_month * 36 * 12"
   ]
  },
  {
   "cell_type": "code",
   "execution_count": 20,
   "metadata": {
    "collapsed": false
   },
   "outputs": [
    {
     "data": {
      "text/plain": [
       "92.40246406570841"
      ]
     },
     "execution_count": 20,
     "metadata": {},
     "output_type": "execute_result"
    }
   ],
   "source": [
    "GL_NO_NEMO_month * 150 * 12"
   ]
  },
  {
   "cell_type": "code",
   "execution_count": null,
   "metadata": {
    "collapsed": true
   },
   "outputs": [],
   "source": []
  }
 ],
 "metadata": {
  "kernelspec": {
   "display_name": "Python 3",
   "language": "python",
   "name": "python3"
  },
  "language_info": {
   "codemirror_mode": {
    "name": "ipython",
    "version": 3
   },
   "file_extension": ".py",
   "mimetype": "text/x-python",
   "name": "python",
   "nbconvert_exporter": "python",
   "pygments_lexer": "ipython3",
   "version": "3.4.4"
  }
 },
 "nbformat": 4,
 "nbformat_minor": 1
}
