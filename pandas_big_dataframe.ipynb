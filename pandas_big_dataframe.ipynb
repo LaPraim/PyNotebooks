{
 "metadata": {
  "name": ""
 },
 "nbformat": 3,
 "nbformat_minor": 0,
 "worksheets": [
  {
   "cells": [
    {
     "cell_type": "code",
     "collapsed": false,
     "input": [
      "#Testing import of a big dataframe in pandas\n",
      "import pandas as pd\n",
      "from datetime import datetime, timedelta\n",
      "import numpy as np\n",
      "print pd.__version__, np.__version__"
     ],
     "language": "python",
     "metadata": {},
     "outputs": [
      {
       "output_type": "stream",
       "stream": "stdout",
       "text": [
        "0.12.0 1.8.0\n"
       ]
      }
     ],
     "prompt_number": 40
    },
    {
     "cell_type": "code",
     "collapsed": false,
     "input": [
      "dates = pd.DatetimeIndex(start = datetime(2000,1,1), end=datetime(2014,1,1), freq = pd.offsets.Second(n=30))"
     ],
     "language": "python",
     "metadata": {},
     "outputs": [],
     "prompt_number": 41
    },
    {
     "cell_type": "code",
     "collapsed": false,
     "input": [
      "dates.size, dates[0], dates[1]"
     ],
     "language": "python",
     "metadata": {},
     "outputs": [
      {
       "metadata": {},
       "output_type": "pyout",
       "prompt_number": 42,
       "text": [
        "(14728321,\n",
        " Timestamp('2000-01-01 00:00:00', tz=None),\n",
        " Timestamp('2000-01-01 00:00:30', tz=None))"
       ]
      }
     ],
     "prompt_number": 42
    },
    {
     "cell_type": "code",
     "collapsed": false,
     "input": [
      "data = np.random.randn(dates.size, 3)"
     ],
     "language": "python",
     "metadata": {},
     "outputs": [],
     "prompt_number": 43
    },
    {
     "cell_type": "code",
     "collapsed": false,
     "input": [
      "df = pd.DataFrame(index=dates, data = data)"
     ],
     "language": "python",
     "metadata": {},
     "outputs": [],
     "prompt_number": 44
    },
    {
     "cell_type": "code",
     "collapsed": false,
     "input": [
      "df.head(10)"
     ],
     "language": "python",
     "metadata": {},
     "outputs": [
      {
       "html": [
        "<div style=\"max-height:1000px;max-width:1500px;overflow:auto;\">\n",
        "<table border=\"1\" class=\"dataframe\">\n",
        "  <thead>\n",
        "    <tr style=\"text-align: right;\">\n",
        "      <th></th>\n",
        "      <th>0</th>\n",
        "      <th>1</th>\n",
        "      <th>2</th>\n",
        "    </tr>\n",
        "  </thead>\n",
        "  <tbody>\n",
        "    <tr>\n",
        "      <th>2000-01-01 00:00:00</th>\n",
        "      <td> 1.329230</td>\n",
        "      <td>-1.475414</td>\n",
        "      <td> 0.284839</td>\n",
        "    </tr>\n",
        "    <tr>\n",
        "      <th>2000-01-01 00:00:30</th>\n",
        "      <td> 2.052899</td>\n",
        "      <td>-0.697756</td>\n",
        "      <td> 1.608937</td>\n",
        "    </tr>\n",
        "    <tr>\n",
        "      <th>2000-01-01 00:01:00</th>\n",
        "      <td> 0.595667</td>\n",
        "      <td>-0.896427</td>\n",
        "      <td>-0.113011</td>\n",
        "    </tr>\n",
        "    <tr>\n",
        "      <th>2000-01-01 00:01:30</th>\n",
        "      <td>-0.437437</td>\n",
        "      <td>-0.146718</td>\n",
        "      <td>-2.432031</td>\n",
        "    </tr>\n",
        "    <tr>\n",
        "      <th>2000-01-01 00:02:00</th>\n",
        "      <td> 1.153661</td>\n",
        "      <td> 0.273218</td>\n",
        "      <td>-1.446318</td>\n",
        "    </tr>\n",
        "    <tr>\n",
        "      <th>2000-01-01 00:02:30</th>\n",
        "      <td> 0.242431</td>\n",
        "      <td>-0.491394</td>\n",
        "      <td>-0.018182</td>\n",
        "    </tr>\n",
        "    <tr>\n",
        "      <th>2000-01-01 00:03:00</th>\n",
        "      <td> 0.046882</td>\n",
        "      <td> 2.092559</td>\n",
        "      <td>-0.951516</td>\n",
        "    </tr>\n",
        "    <tr>\n",
        "      <th>2000-01-01 00:03:30</th>\n",
        "      <td>-0.457786</td>\n",
        "      <td> 1.009443</td>\n",
        "      <td> 0.063907</td>\n",
        "    </tr>\n",
        "    <tr>\n",
        "      <th>2000-01-01 00:04:00</th>\n",
        "      <td>-0.380764</td>\n",
        "      <td> 0.200770</td>\n",
        "      <td> 0.272974</td>\n",
        "    </tr>\n",
        "    <tr>\n",
        "      <th>2000-01-01 00:04:30</th>\n",
        "      <td> 0.626648</td>\n",
        "      <td> 0.567464</td>\n",
        "      <td> 0.445892</td>\n",
        "    </tr>\n",
        "  </tbody>\n",
        "</table>\n",
        "</div>"
       ],
       "metadata": {},
       "output_type": "pyout",
       "prompt_number": 45,
       "text": [
        "                            0         1         2\n",
        "2000-01-01 00:00:00  1.329230 -1.475414  0.284839\n",
        "2000-01-01 00:00:30  2.052899 -0.697756  1.608937\n",
        "2000-01-01 00:01:00  0.595667 -0.896427 -0.113011\n",
        "2000-01-01 00:01:30 -0.437437 -0.146718 -2.432031\n",
        "2000-01-01 00:02:00  1.153661  0.273218 -1.446318\n",
        "2000-01-01 00:02:30  0.242431 -0.491394 -0.018182\n",
        "2000-01-01 00:03:00  0.046882  2.092559 -0.951516\n",
        "2000-01-01 00:03:30 -0.457786  1.009443  0.063907\n",
        "2000-01-01 00:04:00 -0.380764  0.200770  0.272974\n",
        "2000-01-01 00:04:30  0.626648  0.567464  0.445892"
       ]
      }
     ],
     "prompt_number": 45
    },
    {
     "cell_type": "code",
     "collapsed": false,
     "input": [
      "df.to_csv(\"test.csv\")"
     ],
     "language": "python",
     "metadata": {},
     "outputs": [],
     "prompt_number": 46
    },
    {
     "cell_type": "code",
     "collapsed": false,
     "input": [
      "%%bash\n",
      "du -shc test.csv"
     ],
     "language": "python",
     "metadata": {},
     "outputs": [
      {
       "output_type": "stream",
       "stream": "stdout",
       "text": [
        "1,1G\ttest.csv\n",
        "1,1G\ttotal\n"
       ]
      }
     ],
     "prompt_number": 47
    },
    {
     "cell_type": "code",
     "collapsed": false,
     "input": [
      "df1 = pd.DataFrame.from_csv(\"test.csv\")"
     ],
     "language": "python",
     "metadata": {},
     "outputs": [],
     "prompt_number": 48
    },
    {
     "cell_type": "code",
     "collapsed": false,
     "input": [
      "df1.head(10)"
     ],
     "language": "python",
     "metadata": {},
     "outputs": [
      {
       "html": [
        "<div style=\"max-height:1000px;max-width:1500px;overflow:auto;\">\n",
        "<table border=\"1\" class=\"dataframe\">\n",
        "  <thead>\n",
        "    <tr style=\"text-align: right;\">\n",
        "      <th></th>\n",
        "      <th>0</th>\n",
        "      <th>1</th>\n",
        "      <th>2</th>\n",
        "    </tr>\n",
        "  </thead>\n",
        "  <tbody>\n",
        "    <tr>\n",
        "      <th>2000-01-01 00:00:00</th>\n",
        "      <td> 1.329230</td>\n",
        "      <td>-1.475414</td>\n",
        "      <td> 0.284839</td>\n",
        "    </tr>\n",
        "    <tr>\n",
        "      <th>2000-01-01 00:00:30</th>\n",
        "      <td> 2.052899</td>\n",
        "      <td>-0.697756</td>\n",
        "      <td> 1.608937</td>\n",
        "    </tr>\n",
        "    <tr>\n",
        "      <th>2000-01-01 00:01:00</th>\n",
        "      <td> 0.595667</td>\n",
        "      <td>-0.896427</td>\n",
        "      <td>-0.113011</td>\n",
        "    </tr>\n",
        "    <tr>\n",
        "      <th>2000-01-01 00:01:30</th>\n",
        "      <td>-0.437437</td>\n",
        "      <td>-0.146718</td>\n",
        "      <td>-2.432031</td>\n",
        "    </tr>\n",
        "    <tr>\n",
        "      <th>2000-01-01 00:02:00</th>\n",
        "      <td> 1.153661</td>\n",
        "      <td> 0.273218</td>\n",
        "      <td>-1.446318</td>\n",
        "    </tr>\n",
        "    <tr>\n",
        "      <th>2000-01-01 00:02:30</th>\n",
        "      <td> 0.242431</td>\n",
        "      <td>-0.491394</td>\n",
        "      <td>-0.018182</td>\n",
        "    </tr>\n",
        "    <tr>\n",
        "      <th>2000-01-01 00:03:00</th>\n",
        "      <td> 0.046882</td>\n",
        "      <td> 2.092559</td>\n",
        "      <td>-0.951516</td>\n",
        "    </tr>\n",
        "    <tr>\n",
        "      <th>2000-01-01 00:03:30</th>\n",
        "      <td>-0.457786</td>\n",
        "      <td> 1.009443</td>\n",
        "      <td> 0.063907</td>\n",
        "    </tr>\n",
        "    <tr>\n",
        "      <th>2000-01-01 00:04:00</th>\n",
        "      <td>-0.380764</td>\n",
        "      <td> 0.200770</td>\n",
        "      <td> 0.272974</td>\n",
        "    </tr>\n",
        "    <tr>\n",
        "      <th>2000-01-01 00:04:30</th>\n",
        "      <td> 0.626648</td>\n",
        "      <td> 0.567464</td>\n",
        "      <td> 0.445892</td>\n",
        "    </tr>\n",
        "  </tbody>\n",
        "</table>\n",
        "</div>"
       ],
       "metadata": {},
       "output_type": "pyout",
       "prompt_number": 49,
       "text": [
        "                            0         1         2\n",
        "2000-01-01 00:00:00  1.329230 -1.475414  0.284839\n",
        "2000-01-01 00:00:30  2.052899 -0.697756  1.608937\n",
        "2000-01-01 00:01:00  0.595667 -0.896427 -0.113011\n",
        "2000-01-01 00:01:30 -0.437437 -0.146718 -2.432031\n",
        "2000-01-01 00:02:00  1.153661  0.273218 -1.446318\n",
        "2000-01-01 00:02:30  0.242431 -0.491394 -0.018182\n",
        "2000-01-01 00:03:00  0.046882  2.092559 -0.951516\n",
        "2000-01-01 00:03:30 -0.457786  1.009443  0.063907\n",
        "2000-01-01 00:04:00 -0.380764  0.200770  0.272974\n",
        "2000-01-01 00:04:30  0.626648  0.567464  0.445892"
       ]
      }
     ],
     "prompt_number": 49
    },
    {
     "cell_type": "code",
     "collapsed": false,
     "input": [
      "len(df1)"
     ],
     "language": "python",
     "metadata": {},
     "outputs": [
      {
       "metadata": {},
       "output_type": "pyout",
       "prompt_number": 50,
       "text": [
        "14728321"
       ]
      }
     ],
     "prompt_number": 50
    },
    {
     "cell_type": "code",
     "collapsed": false,
     "input": [],
     "language": "python",
     "metadata": {},
     "outputs": [],
     "prompt_number": 50
    }
   ],
   "metadata": {}
  }
 ]
}