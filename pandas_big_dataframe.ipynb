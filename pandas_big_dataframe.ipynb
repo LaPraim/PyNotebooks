{
 "metadata": {
  "name": ""
 },
 "nbformat": 3,
 "nbformat_minor": 0,
 "worksheets": [
  {
   "cells": [
    {
     "cell_type": "code",
     "collapsed": false,
     "input": [
      "#Testing import of a big dataframe in pandas\n",
      "import pandas as pd\n",
      "from datetime import datetime, timedelta\n",
      "import numpy as np\n",
      "print pd.__version__, np.__version__"
     ],
     "language": "python",
     "metadata": {},
     "outputs": [
      {
       "output_type": "stream",
       "stream": "stdout",
       "text": [
        "0.12.0 1.8.0\n"
       ]
      }
     ],
     "prompt_number": 27
    },
    {
     "cell_type": "code",
     "collapsed": false,
     "input": [
      "dates = pd.DatetimeIndex(start = datetime(2000,1,1), end=datetime(2014,1,1), freq = pd.offsets.Minute())"
     ],
     "language": "python",
     "metadata": {},
     "outputs": [],
     "prompt_number": 28
    },
    {
     "cell_type": "code",
     "collapsed": false,
     "input": [
      "dates.size, dates[0], dates[1]"
     ],
     "language": "python",
     "metadata": {},
     "outputs": [
      {
       "metadata": {},
       "output_type": "pyout",
       "prompt_number": 29,
       "text": [
        "(7364161,\n",
        " Timestamp('2000-01-01 00:00:00', tz=None),\n",
        " Timestamp('2000-01-01 00:01:00', tz=None))"
       ]
      }
     ],
     "prompt_number": 29
    },
    {
     "cell_type": "code",
     "collapsed": false,
     "input": [
      "data = np.random.randn(dates.size, 3)"
     ],
     "language": "python",
     "metadata": {},
     "outputs": [],
     "prompt_number": 30
    },
    {
     "cell_type": "code",
     "collapsed": false,
     "input": [
      "df = pd.DataFrame(index=dates, data = data)"
     ],
     "language": "python",
     "metadata": {},
     "outputs": [],
     "prompt_number": 31
    },
    {
     "cell_type": "code",
     "collapsed": false,
     "input": [
      "df.head(10)"
     ],
     "language": "python",
     "metadata": {},
     "outputs": [
      {
       "html": [
        "<div style=\"max-height:1000px;max-width:1500px;overflow:auto;\">\n",
        "<table border=\"1\" class=\"dataframe\">\n",
        "  <thead>\n",
        "    <tr style=\"text-align: right;\">\n",
        "      <th></th>\n",
        "      <th>0</th>\n",
        "      <th>1</th>\n",
        "      <th>2</th>\n",
        "    </tr>\n",
        "  </thead>\n",
        "  <tbody>\n",
        "    <tr>\n",
        "      <th>2000-01-01 00:00:00</th>\n",
        "      <td>-1.419179</td>\n",
        "      <td> 0.270402</td>\n",
        "      <td>-0.829909</td>\n",
        "    </tr>\n",
        "    <tr>\n",
        "      <th>2000-01-01 00:01:00</th>\n",
        "      <td> 1.077804</td>\n",
        "      <td> 1.658641</td>\n",
        "      <td>-0.589011</td>\n",
        "    </tr>\n",
        "    <tr>\n",
        "      <th>2000-01-01 00:02:00</th>\n",
        "      <td> 1.283330</td>\n",
        "      <td>-0.947351</td>\n",
        "      <td>-1.830510</td>\n",
        "    </tr>\n",
        "    <tr>\n",
        "      <th>2000-01-01 00:03:00</th>\n",
        "      <td> 1.824290</td>\n",
        "      <td>-1.391936</td>\n",
        "      <td> 1.467623</td>\n",
        "    </tr>\n",
        "    <tr>\n",
        "      <th>2000-01-01 00:04:00</th>\n",
        "      <td>-0.610866</td>\n",
        "      <td> 0.699745</td>\n",
        "      <td>-1.011138</td>\n",
        "    </tr>\n",
        "    <tr>\n",
        "      <th>2000-01-01 00:05:00</th>\n",
        "      <td>-0.433065</td>\n",
        "      <td>-0.073862</td>\n",
        "      <td>-0.277393</td>\n",
        "    </tr>\n",
        "    <tr>\n",
        "      <th>2000-01-01 00:06:00</th>\n",
        "      <td> 0.709932</td>\n",
        "      <td> 0.977699</td>\n",
        "      <td> 1.007249</td>\n",
        "    </tr>\n",
        "    <tr>\n",
        "      <th>2000-01-01 00:07:00</th>\n",
        "      <td> 0.443333</td>\n",
        "      <td> 1.109627</td>\n",
        "      <td>-0.688296</td>\n",
        "    </tr>\n",
        "    <tr>\n",
        "      <th>2000-01-01 00:08:00</th>\n",
        "      <td>-1.680666</td>\n",
        "      <td> 0.996811</td>\n",
        "      <td> 0.216894</td>\n",
        "    </tr>\n",
        "    <tr>\n",
        "      <th>2000-01-01 00:09:00</th>\n",
        "      <td> 1.030687</td>\n",
        "      <td> 2.323445</td>\n",
        "      <td>-1.106857</td>\n",
        "    </tr>\n",
        "  </tbody>\n",
        "</table>\n",
        "</div>"
       ],
       "metadata": {},
       "output_type": "pyout",
       "prompt_number": 32,
       "text": [
        "                            0         1         2\n",
        "2000-01-01 00:00:00 -1.419179  0.270402 -0.829909\n",
        "2000-01-01 00:01:00  1.077804  1.658641 -0.589011\n",
        "2000-01-01 00:02:00  1.283330 -0.947351 -1.830510\n",
        "2000-01-01 00:03:00  1.824290 -1.391936  1.467623\n",
        "2000-01-01 00:04:00 -0.610866  0.699745 -1.011138\n",
        "2000-01-01 00:05:00 -0.433065 -0.073862 -0.277393\n",
        "2000-01-01 00:06:00  0.709932  0.977699  1.007249\n",
        "2000-01-01 00:07:00  0.443333  1.109627 -0.688296\n",
        "2000-01-01 00:08:00 -1.680666  0.996811  0.216894\n",
        "2000-01-01 00:09:00  1.030687  2.323445 -1.106857"
       ]
      }
     ],
     "prompt_number": 32
    },
    {
     "cell_type": "code",
     "collapsed": false,
     "input": [
      "df.to_csv(\"test.csv\")"
     ],
     "language": "python",
     "metadata": {},
     "outputs": [],
     "prompt_number": 33
    },
    {
     "cell_type": "code",
     "collapsed": false,
     "input": [
      "%%bash\n",
      "du -shc test.csv\n"
     ],
     "language": "python",
     "metadata": {},
     "outputs": [
      {
       "output_type": "stream",
       "stream": "stdout",
       "text": [
        "554M\ttest.csv\n",
        "554M\ttotal\n"
       ]
      }
     ],
     "prompt_number": 34
    },
    {
     "cell_type": "code",
     "collapsed": false,
     "input": [
      "df1 = pd.DataFrame.from_csv(\"test.csv\")"
     ],
     "language": "python",
     "metadata": {},
     "outputs": [],
     "prompt_number": 35
    },
    {
     "cell_type": "code",
     "collapsed": false,
     "input": [
      "df1.head(10)"
     ],
     "language": "python",
     "metadata": {},
     "outputs": [
      {
       "html": [
        "<div style=\"max-height:1000px;max-width:1500px;overflow:auto;\">\n",
        "<table border=\"1\" class=\"dataframe\">\n",
        "  <thead>\n",
        "    <tr style=\"text-align: right;\">\n",
        "      <th></th>\n",
        "      <th>0</th>\n",
        "      <th>1</th>\n",
        "      <th>2</th>\n",
        "    </tr>\n",
        "  </thead>\n",
        "  <tbody>\n",
        "    <tr>\n",
        "      <th>2000-01-01 00:00:00</th>\n",
        "      <td>-1.419179</td>\n",
        "      <td> 0.270402</td>\n",
        "      <td>-0.829909</td>\n",
        "    </tr>\n",
        "    <tr>\n",
        "      <th>2000-01-01 00:01:00</th>\n",
        "      <td> 1.077804</td>\n",
        "      <td> 1.658641</td>\n",
        "      <td>-0.589011</td>\n",
        "    </tr>\n",
        "    <tr>\n",
        "      <th>2000-01-01 00:02:00</th>\n",
        "      <td> 1.283330</td>\n",
        "      <td>-0.947351</td>\n",
        "      <td>-1.830510</td>\n",
        "    </tr>\n",
        "    <tr>\n",
        "      <th>2000-01-01 00:03:00</th>\n",
        "      <td> 1.824290</td>\n",
        "      <td>-1.391936</td>\n",
        "      <td> 1.467623</td>\n",
        "    </tr>\n",
        "    <tr>\n",
        "      <th>2000-01-01 00:04:00</th>\n",
        "      <td>-0.610866</td>\n",
        "      <td> 0.699745</td>\n",
        "      <td>-1.011138</td>\n",
        "    </tr>\n",
        "    <tr>\n",
        "      <th>2000-01-01 00:05:00</th>\n",
        "      <td>-0.433065</td>\n",
        "      <td>-0.073862</td>\n",
        "      <td>-0.277393</td>\n",
        "    </tr>\n",
        "    <tr>\n",
        "      <th>2000-01-01 00:06:00</th>\n",
        "      <td> 0.709932</td>\n",
        "      <td> 0.977699</td>\n",
        "      <td> 1.007249</td>\n",
        "    </tr>\n",
        "    <tr>\n",
        "      <th>2000-01-01 00:07:00</th>\n",
        "      <td> 0.443333</td>\n",
        "      <td> 1.109627</td>\n",
        "      <td>-0.688296</td>\n",
        "    </tr>\n",
        "    <tr>\n",
        "      <th>2000-01-01 00:08:00</th>\n",
        "      <td>-1.680666</td>\n",
        "      <td> 0.996811</td>\n",
        "      <td> 0.216894</td>\n",
        "    </tr>\n",
        "    <tr>\n",
        "      <th>2000-01-01 00:09:00</th>\n",
        "      <td> 1.030687</td>\n",
        "      <td> 2.323445</td>\n",
        "      <td>-1.106857</td>\n",
        "    </tr>\n",
        "  </tbody>\n",
        "</table>\n",
        "</div>"
       ],
       "metadata": {},
       "output_type": "pyout",
       "prompt_number": 37,
       "text": [
        "                            0         1         2\n",
        "2000-01-01 00:00:00 -1.419179  0.270402 -0.829909\n",
        "2000-01-01 00:01:00  1.077804  1.658641 -0.589011\n",
        "2000-01-01 00:02:00  1.283330 -0.947351 -1.830510\n",
        "2000-01-01 00:03:00  1.824290 -1.391936  1.467623\n",
        "2000-01-01 00:04:00 -0.610866  0.699745 -1.011138\n",
        "2000-01-01 00:05:00 -0.433065 -0.073862 -0.277393\n",
        "2000-01-01 00:06:00  0.709932  0.977699  1.007249\n",
        "2000-01-01 00:07:00  0.443333  1.109627 -0.688296\n",
        "2000-01-01 00:08:00 -1.680666  0.996811  0.216894\n",
        "2000-01-01 00:09:00  1.030687  2.323445 -1.106857"
       ]
      }
     ],
     "prompt_number": 37
    },
    {
     "cell_type": "code",
     "collapsed": false,
     "input": [
      "len(df1)"
     ],
     "language": "python",
     "metadata": {},
     "outputs": [
      {
       "metadata": {},
       "output_type": "pyout",
       "prompt_number": 38,
       "text": [
        "7364161"
       ]
      }
     ],
     "prompt_number": 38
    },
    {
     "cell_type": "code",
     "collapsed": false,
     "input": [],
     "language": "python",
     "metadata": {},
     "outputs": []
    }
   ],
   "metadata": {}
  }
 ]
}