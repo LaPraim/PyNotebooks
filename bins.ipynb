{
 "metadata": {
  "name": ""
 },
 "nbformat": 3,
 "nbformat_minor": 0,
 "worksheets": [
  {
   "cells": [
    {
     "cell_type": "code",
     "collapsed": false,
     "input": [
      "#solution by josef.pktd\n",
      "\n",
      "import itertools\n",
      "import numpy as np\n",
      "\n",
      "def enumit(nobs, rr):\n",
      "    return np.array(list(itertools.ifilter(lambda ii: sum(ii)<=nobs,\n",
      "                                 itertools.product(*[range(nobs + 1)]*rr))))"
     ],
     "language": "python",
     "metadata": {},
     "outputs": [],
     "prompt_number": 3
    },
    {
     "cell_type": "code",
     "collapsed": false,
     "input": [
      "#my recursive solution with memoization\n",
      "memo = {}\n",
      "def enumit_my(nobs, rr, memo):\n",
      "    \n",
      "    key = (nobs, rr)\n",
      "    if key in memo:\n",
      "        return memo[key]\n",
      "    \n",
      "    if nobs == 0:\n",
      "        return [rr * [0, ], ]\n",
      "    if rr == 1:\n",
      "        return [[i, ] for i in range(nobs + 1)]\n",
      "    res = []\n",
      "    for i1 in range(nobs + 1):\n",
      "        res += [[i1,] + vec for vec in enumit_my(nobs - i1, rr - 1, memo)]\n",
      "    \n",
      "    memo[key] = res\n",
      "    return res\n",
      "    "
     ],
     "language": "python",
     "metadata": {},
     "outputs": [],
     "prompt_number": 2
    },
    {
     "cell_type": "code",
     "collapsed": false,
     "input": [
      "nobs = 10\n",
      "rr = 3\n",
      "\n",
      "m_all = enumit(nobs, rr)\n",
      "print m_all.shape\n",
      "print np.bincount(m_all.sum(1))\n"
     ],
     "language": "python",
     "metadata": {},
     "outputs": [
      {
       "output_type": "stream",
       "stream": "stdout",
       "text": [
        "(286, 3)\n",
        "[ 1  3  6 10 15 21 28 36 45 55 66]\n"
       ]
      }
     ],
     "prompt_number": 4
    },
    {
     "cell_type": "code",
     "collapsed": false,
     "input": [
      "%%timeit\n",
      "memo = {}\n",
      "enumit_my(10, 3, memo)"
     ],
     "language": "python",
     "metadata": {},
     "outputs": [
      {
       "output_type": "stream",
       "stream": "stdout",
       "text": [
        "1000 loops, best of 3: 355 \u00b5s per loop\n"
       ]
      }
     ],
     "prompt_number": 5
    },
    {
     "cell_type": "code",
     "collapsed": false,
     "input": [
      "%%timeit\n",
      "enumit(10, 3)"
     ],
     "language": "python",
     "metadata": {},
     "outputs": [
      {
       "output_type": "stream",
       "stream": "stdout",
       "text": [
        "10 loops, best of 3: 22 ms per loop\n"
       ]
      }
     ],
     "prompt_number": 6
    },
    {
     "cell_type": "code",
     "collapsed": false,
     "input": [
      "memo = {}\n",
      "m_all = np.asarray(enumit_my(10, 3, memo))\n",
      "print m_all.shape\n",
      "print np.bincount(m_all.sum(1))"
     ],
     "language": "python",
     "metadata": {},
     "outputs": [
      {
       "output_type": "stream",
       "stream": "stdout",
       "text": [
        "(286, 3)\n",
        "[ 1  3  6 10 15 21 28 36 45 55 66]\n"
       ]
      }
     ],
     "prompt_number": 8
    },
    {
     "cell_type": "code",
     "collapsed": false,
     "input": [],
     "language": "python",
     "metadata": {},
     "outputs": []
    }
   ],
   "metadata": {}
  }
 ]
}