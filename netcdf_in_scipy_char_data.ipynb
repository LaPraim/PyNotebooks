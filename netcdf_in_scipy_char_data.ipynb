{
 "metadata": {
  "name": ""
 },
 "nbformat": 3,
 "nbformat_minor": 0,
 "worksheets": [
  {
   "cells": [
    {
     "cell_type": "code",
     "collapsed": false,
     "input": [
      "import scipy.io.netcdf as CDF\n",
      "from datetime import datetime, timedelta\n",
      "\n",
      "nepochs = 10\n",
      "fnet = CDF.netcdf_file(\"test.nc\", 'w')\n",
      "fnet.createDimension('nepochs',nepochs)\n",
      "\n",
      "d_length = len(str(datetime.now()))\n",
      "fnet.createDimension(\"dlength\", d_length)\n",
      "\n",
      "v = fnet.createVariable('varepochs',\"c\",('nepochs', \"dlength\"))\n",
      "d0 = datetime.now()\n",
      "dt = timedelta(days = 5)\n",
      "for i in range(nepochs):\n",
      "    v[i] = str(d0 + i * dt)\n",
      "\n",
      "fnet.close()"
     ],
     "language": "python",
     "metadata": {},
     "outputs": [],
     "prompt_number": 13
    },
    {
     "cell_type": "code",
     "collapsed": false,
     "input": [
      "%%bash\n",
      "ncdump test.nc"
     ],
     "language": "python",
     "metadata": {},
     "outputs": [
      {
       "output_type": "stream",
       "stream": "stdout",
       "text": [
        "netcdf test {\n",
        "dimensions:\n",
        "\tnepochs = 10 ;\n",
        "\tdlength = 26 ;\n",
        "variables:\n",
        "\tchar varepochs(nepochs, dlength) ;\n",
        "data:\n",
        "\n",
        " varepochs =\n",
        "  \"2014-01-24 19:35:26.861073\",\n",
        "  \"2014-01-29 19:35:26.861073\",\n",
        "  \"2014-02-03 19:35:26.861073\",\n",
        "  \"2014-02-08 19:35:26.861073\",\n",
        "  \"2014-02-13 19:35:26.861073\",\n",
        "  \"2014-02-18 19:35:26.861073\",\n",
        "  \"2014-02-23 19:35:26.861073\",\n",
        "  \"2014-02-28 19:35:26.861073\",\n",
        "  \"2014-03-05 19:35:26.861073\",\n",
        "  \"2014-03-10 19:35:26.861073\" ;\n",
        "}\n"
       ]
      }
     ],
     "prompt_number": 14
    },
    {
     "cell_type": "code",
     "collapsed": false,
     "input": [],
     "language": "python",
     "metadata": {},
     "outputs": []
    }
   ],
   "metadata": {}
  }
 ]
}