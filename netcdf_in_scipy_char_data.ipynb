{
 "metadata": {
  "name": ""
 },
 "nbformat": 3,
 "nbformat_minor": 0,
 "worksheets": [
  {
   "cells": [
    {
     "cell_type": "code",
     "collapsed": false,
     "input": [
      "import scipy.io.netcdf as CDF\n",
      "from datetime import datetime, timedelta\n",
      "\n",
      "nepochs = 10\n",
      "fnet = CDF.netcdf_file(\"test.nc\", 'w')\n",
      "fnet.createDimension('nepochs',nepochs)\n",
      "\n",
      "d_length = len(str(datetime.now()))\n",
      "fnet.createDimension(\"dlength\", d_length)\n",
      "\n",
      "v = fnet.createVariable('varepochs',\"c\",('nepochs', \"dlength\"))\n",
      "d0 = datetime.now()\n",
      "dt = timedelta(days = 5)\n",
      "for i in range(nepochs):\n",
      "    v[i] = str(d0 + i * dt)\n",
      "\n",
      "fnet.close()"
     ],
     "language": "python",
     "metadata": {},
     "outputs": [],
     "prompt_number": 13
    },
    {
     "cell_type": "code",
     "collapsed": false,
     "input": [],
     "language": "python",
     "metadata": {},
     "outputs": []
    }
   ],
   "metadata": {}
  }
 ]
}