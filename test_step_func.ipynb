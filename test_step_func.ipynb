{
 "cells": [
  {
   "cell_type": "code",
   "execution_count": 1,
   "metadata": {
    "collapsed": true
   },
   "outputs": [],
   "source": [
    "%matplotlib inline\n",
    "import matplotlib.pyplot as plt\n",
    "import numpy as np"
   ]
  },
  {
   "cell_type": "code",
   "execution_count": 2,
   "metadata": {
    "collapsed": true
   },
   "outputs": [],
   "source": [
    "mask = np.array(range(1000)) // 20"
   ]
  },
  {
   "cell_type": "code",
   "execution_count": 3,
   "metadata": {
    "collapsed": true
   },
   "outputs": [],
   "source": [
    "x = np.random.randn(len(mask))"
   ]
  },
  {
   "cell_type": "code",
   "execution_count": 4,
   "metadata": {
    "collapsed": false
   },
   "outputs": [
    {
     "data": {
      "text/plain": [
       "[<matplotlib.lines.Line2D at 0x1076751d0>]"
      ]
     },
     "execution_count": 4,
     "metadata": {},
     "output_type": "execute_result"
    },
    {
     "data": {
      "image/png": "[encoded data removed]",
      "text/plain": [
       "<matplotlib.figure.Figure at 0x105511c88>"
      ]
     },
     "metadata": {},
     "output_type": "display_data"
    }
   ],
   "source": [
    "plt.plot(x[mask])"
   ]
  },
  {
   "cell_type": "code",
   "execution_count": 5,
   "metadata": {
    "collapsed": false
   },
   "outputs": [
    {
     "data": {
      "text/plain": [
       "[<matplotlib.lines.Line2D at 0x107768fd0>]"
      ]
     },
     "execution_count": 5,
     "metadata": {},
     "output_type": "execute_result"
    },
    {
     "data": {
      "image/png": "[encoded data removed]",
      "text/plain": [
       "<matplotlib.figure.Figure at 0x107641240>"
      ]
     },
     "metadata": {},
     "output_type": "display_data"
    }
   ],
   "source": [
    "plt.plot(mask)"
   ]
  },
  {
   "cell_type": "code",
   "execution_count": 18,
   "metadata": {
    "collapsed": false
   },
   "outputs": [],
   "source": [
    "import pickle\n",
    "with open(\"/Users/san/Downloads/df_daily.bin\", \"rb\") as f:\n",
    "    df_daily = pickle.load(f)\n",
    "    \n",
    "mask = np.array(range(len(df_daily))) // 15 * 15\n",
    "\n",
    "date_to_start_date = dict(zip(df_daily.index, df_daily.index[mask]))"
   ]
  },
  {
   "cell_type": "code",
   "execution_count": 19,
   "metadata": {
    "collapsed": false
   },
   "outputs": [],
   "source": [
    "ndavg = df_daily.groupby(by=lambda d: date_to_start_date[d]).mean()"
   ]
  },
  {
   "cell_type": "code",
   "execution_count": 20,
   "metadata": {
    "collapsed": false
   },
   "outputs": [
    {
     "data": {
      "text/plain": [
       "0"
      ]
     },
     "execution_count": 20,
     "metadata": {},
     "output_type": "execute_result"
    }
   ],
   "source": [
    "sum(mask == 10)"
   ]
  },
  {
   "cell_type": "code",
   "execution_count": 22,
   "metadata": {
    "collapsed": false
   },
   "outputs": [
    {
     "name": "stdout",
     "output_type": "stream",
     "text": [
      "1980-01-01 00:00:00 1980-01-01 00:00:00\n",
      "1980-01-02 00:00:00 1980-01-01 00:00:00\n",
      "1980-01-03 00:00:00 1980-01-01 00:00:00\n",
      "1980-01-04 00:00:00 1980-01-01 00:00:00\n",
      "1980-01-05 00:00:00 1980-01-01 00:00:00\n",
      "1980-01-06 00:00:00 1980-01-01 00:00:00\n",
      "1980-01-07 00:00:00 1980-01-01 00:00:00\n",
      "1980-01-08 00:00:00 1980-01-01 00:00:00\n",
      "1980-01-09 00:00:00 1980-01-01 00:00:00\n",
      "1980-01-10 00:00:00 1980-01-01 00:00:00\n",
      "1980-01-11 00:00:00 1980-01-01 00:00:00\n",
      "1980-01-12 00:00:00 1980-01-01 00:00:00\n",
      "1980-01-13 00:00:00 1980-01-01 00:00:00\n",
      "1980-01-14 00:00:00 1980-01-01 00:00:00\n",
      "1980-01-15 00:00:00 1980-01-01 00:00:00\n",
      "1980-01-16 00:00:00 1980-01-16 00:00:00\n",
      "1980-01-17 00:00:00 1980-01-16 00:00:00\n",
      "1980-01-18 00:00:00 1980-01-16 00:00:00\n",
      "1980-01-19 00:00:00 1980-01-16 00:00:00\n",
      "1980-01-20 00:00:00 1980-01-16 00:00:00\n",
      "1980-01-21 00:00:00 1980-01-16 00:00:00\n",
      "1980-01-22 00:00:00 1980-01-16 00:00:00\n",
      "1980-01-23 00:00:00 1980-01-16 00:00:00\n",
      "1980-01-24 00:00:00 1980-01-16 00:00:00\n",
      "1980-01-25 00:00:00 1980-01-16 00:00:00\n",
      "1980-01-26 00:00:00 1980-01-16 00:00:00\n",
      "1980-01-27 00:00:00 1980-01-16 00:00:00\n",
      "1980-01-28 00:00:00 1980-01-16 00:00:00\n",
      "1980-01-29 00:00:00 1980-01-16 00:00:00\n",
      "1980-01-30 00:00:00 1980-01-16 00:00:00\n",
      "1980-01-31 00:00:00 1980-01-31 00:00:00\n",
      "1980-02-01 00:00:00 1980-01-31 00:00:00\n",
      "1980-02-02 00:00:00 1980-01-31 00:00:00\n",
      "1980-02-03 00:00:00 1980-01-31 00:00:00\n",
      "1980-02-04 00:00:00 1980-01-31 00:00:00\n",
      "1980-02-05 00:00:00 1980-01-31 00:00:00\n",
      "1980-02-06 00:00:00 1980-01-31 00:00:00\n",
      "1980-02-07 00:00:00 1980-01-31 00:00:00\n",
      "1980-02-08 00:00:00 1980-01-31 00:00:00\n",
      "1980-02-09 00:00:00 1980-01-31 00:00:00\n"
     ]
    }
   ],
   "source": [
    "for d in df_daily.index[:40]:\n",
    "    print(d, date_to_start_date[d])"
   ]
  },
  {
   "cell_type": "code",
   "execution_count": null,
   "metadata": {
    "collapsed": true
   },
   "outputs": [],
   "source": []
  }
 ],
 "metadata": {
  "kernelspec": {
   "display_name": "Python 3",
   "language": "python",
   "name": "python3"
  },
  "language_info": {
   "codemirror_mode": {
    "name": "ipython",
    "version": 3
   },
   "file_extension": ".py",
   "mimetype": "text/x-python",
   "name": "python",
   "nbconvert_exporter": "python",
   "pygments_lexer": "ipython3",
   "version": "3.4.3"
  }
 },
 "nbformat": 4,
 "nbformat_minor": 0
}
