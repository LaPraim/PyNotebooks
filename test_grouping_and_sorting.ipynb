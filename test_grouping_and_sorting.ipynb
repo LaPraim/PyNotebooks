{
 "metadata": {
  "name": "",
  "signature": "sha256:6569457aa51951bc8487ca0727a0073b6cf23b61b17505d609a85f9b9e0c4659"
 },
 "nbformat": 3,
 "nbformat_minor": 0,
 "worksheets": [
  {
   "cells": [
    {
     "cell_type": "code",
     "collapsed": false,
     "input": [
      "\n",
      "import itertools as itt\n",
      "import random\n"
     ],
     "language": "python",
     "metadata": {},
     "outputs": [],
     "prompt_number": 2
    },
    {
     "cell_type": "code",
     "collapsed": false,
     "input": [
      "x1 = [1,3,5,7,6,324,235,467687,9,9,0,764]\n",
      "y1 = [ xi / 2.0 for xi in x1]\n",
      "\n",
      "    "
     ],
     "language": "python",
     "metadata": {},
     "outputs": [],
     "prompt_number": 4
    },
    {
     "cell_type": "code",
     "collapsed": false,
     "input": [
      "key_func = lambda x: x[0]\n",
      "for k, grouped in itt.groupby(sorted(zip(x1, y1), key=key_func), key_func):\n",
      "    print k, [g for g in grouped]"
     ],
     "language": "python",
     "metadata": {},
     "outputs": [
      {
       "output_type": "stream",
       "stream": "stdout",
       "text": [
        "0 [(0, 0.0)]\n",
        "1 [(1, 0.5)]\n",
        "3 [(3, 1.5)]\n",
        "5 [(5, 2.5)]\n",
        "6 [(6, 3.0)]\n",
        "7 [(7, 3.5)]\n",
        "9 [(9, 4.5), (9, 4.5)]\n",
        "235 [(235, 117.5)]\n",
        "324 [(324, 162.0)]\n",
        "764 [(764, 382.0)]\n",
        "467687 [(467687, 233843.5)]\n"
       ]
      }
     ],
     "prompt_number": 7
    },
    {
     "cell_type": "code",
     "collapsed": false,
     "input": [
      "sorted?"
     ],
     "language": "python",
     "metadata": {},
     "outputs": [],
     "prompt_number": 8
    },
    {
     "cell_type": "code",
     "collapsed": false,
     "input": [],
     "language": "python",
     "metadata": {},
     "outputs": []
    }
   ],
   "metadata": {}
  }
 ]
}