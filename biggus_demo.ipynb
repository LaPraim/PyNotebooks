{
 "metadata": {
  "name": "",
  "signature": "sha256:c0368ece9a2606b126f063be0735b898bcafb58d1dce13af4fbbc3ce01758395"
 },
 "nbformat": 3,
 "nbformat_minor": 0,
 "worksheets": [
  {
   "cells": [
    {
     "cell_type": "code",
     "collapsed": false,
     "input": [
      "%matplotlib inline\n",
      "\n",
      "import numpy as np\n",
      "import biggus\n",
      "\n",
      "class ArrForDate:\n",
      "    def __init__(self):\n",
      "        self.shape = (1000, 1000)\n",
      "        self.dtype = np.dtype(np.float32)\n",
      "\n",
      "    def __getitem__(self, item):\n",
      "        return np.ones(self.shape, dtype=self.dtype)[item]\n",
      "\n",
      "\n",
      "def main():\n",
      "    arr_stack = biggus.ArrayStack(\n",
      "        np.array([biggus.NumpyArrayAdapter(ArrForDate()) for _ in range(1000)])\n",
      "    )\n",
      "\n",
      "    print arr_stack.shape\n",
      "    import matplotlib.pyplot as plt\n",
      "    the_mean = biggus.mean(arr_stack, axis=0).ndarray()\n",
      "    plt.pcolormesh(the_mean)"
     ],
     "language": "python",
     "metadata": {},
     "outputs": [],
     "prompt_number": 16
    },
    {
     "cell_type": "code",
     "collapsed": false,
     "input": [
      "main()"
     ],
     "language": "python",
     "metadata": {},
     "outputs": [
      {
       "output_type": "stream",
       "stream": "stdout",
       "text": [
        "(1000, 1000, 1000)\n"
       ]
      },
      {
       "metadata": {},
       "output_type": "display_data",
       "png": "[encoded data removed]",
       "text": [
        "<matplotlib.figure.Figure at 0x101d027d0>"
       ]
      }
     ],
     "prompt_number": 17
    },
    {
     "cell_type": "code",
     "collapsed": false,
     "input": [],
     "language": "python",
     "metadata": {},
     "outputs": []
    }
   ],
   "metadata": {}
  }
 ]
}