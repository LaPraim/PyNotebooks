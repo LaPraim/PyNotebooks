{
 "cells": [
  {
   "cell_type": "code",
   "execution_count": 1,
   "metadata": {
    "collapsed": false
   },
   "outputs": [],
   "source": [
    "import xarray\n",
    "from datetime import datetime, timedelta\n",
    "from netCDF4 import date2num"
   ]
  },
  {
   "cell_type": "code",
   "execution_count": 2,
   "metadata": {
    "collapsed": true
   },
   "outputs": [],
   "source": [
    "d0 = datetime(1960, 3, 28)\n",
    "t = [d0 + i * timedelta(hours=1) for i in range(200)]\n",
    "data = list(range(len(t)))"
   ]
  },
  {
   "cell_type": "code",
   "execution_count": 3,
   "metadata": {
    "collapsed": false
   },
   "outputs": [
    {
     "data": {
      "text/plain": [
       "'hours since 1960-03-28 00:00:00'"
      ]
     },
     "execution_count": 3,
     "metadata": {},
     "output_type": "execute_result"
    }
   ],
   "source": [
    "units = \"hours since {:%Y-%m-%d %H:%M:%S}\".format(t[0])\n",
    "units"
   ]
  },
  {
   "cell_type": "code",
   "execution_count": 7,
   "metadata": {
    "collapsed": false
   },
   "outputs": [],
   "source": [
    "\n",
    "t_data = date2num(t, units, calendar=\"365_day\")\n",
    "\n",
    "ds = xarray.Dataset({\n",
    "        \"test\": ((\"time\",), data, {\"description\": \"Test\"})\n",
    "    },\n",
    "    coords={\"time\": (\"time\", t),\n",
    "           #\"calendar\": \"365_day\"\n",
    "           })"
   ]
  },
  {
   "cell_type": "code",
   "execution_count": 8,
   "metadata": {
    "collapsed": false
   },
   "outputs": [
    {
     "data": {
      "text/plain": [
       "<xarray.Dataset>\n",
       "Dimensions:  (time: 200)\n",
       "Coordinates:\n",
       "  * time     (time) datetime64[ns] 1960-03-28 1960-03-28T01:00:00 ...\n",
       "Data variables:\n",
       "    test     (time) int64 0 1 2 3 4 5 6 7 8 9 10 11 12 13 14 15 16 17 18 19 ..."
      ]
     },
     "execution_count": 8,
     "metadata": {},
     "output_type": "execute_result"
    }
   ],
   "source": [
    "ds"
   ]
  },
  {
   "cell_type": "code",
   "execution_count": 9,
   "metadata": {
    "collapsed": false
   },
   "outputs": [],
   "source": [
    "ds.to_netcdf(\"test.nc\", encoding={\"time\": {\"calendar\": \"365_day\"}})"
   ]
  },
  {
   "cell_type": "code",
   "execution_count": 10,
   "metadata": {
    "collapsed": false
   },
   "outputs": [
    {
     "name": "stdout",
     "output_type": "stream",
     "text": [
      "netcdf test {\n",
      "dimensions:\n",
      "\ttime = 200 ;\n",
      "variables:\n",
      "\tint64 test(time) ;\n",
      "\t\ttest:description = \"Test\" ;\n",
      "\tdouble time(time) ;\n",
      "\t\ttime:units = \"hours since 1960-03-28 00:00:00\" ;\n",
      "\t\ttime:calendar = \"365_day\" ;\n",
      "}\n"
     ]
    }
   ],
   "source": [
    "%%bash\n",
    "ncdump -h test.nc"
   ]
  },
  {
   "cell_type": "code",
   "execution_count": null,
   "metadata": {
    "collapsed": true
   },
   "outputs": [],
   "source": []
  }
 ],
 "metadata": {
  "kernelspec": {
   "display_name": "Python 3",
   "language": "python",
   "name": "python3"
  },
  "language_info": {
   "codemirror_mode": {
    "name": "ipython",
    "version": 3
   },
   "file_extension": ".py",
   "mimetype": "text/x-python",
   "name": "python",
   "nbconvert_exporter": "python",
   "pygments_lexer": "ipython3",
   "version": "3.4.3"
  }
 },
 "nbformat": 4,
 "nbformat_minor": 1
}
