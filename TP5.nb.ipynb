{
 "metadata": {
  "name": "TP5.nb"
 },
 "nbformat": 3,
 "nbformat_minor": 0,
 "worksheets": [
  {
   "cells": [
    {
     "cell_type": "code",
     "collapsed": false,
     "input": [
      "import numpy as np\n"
     ],
     "language": "python",
     "metadata": {},
     "outputs": [],
     "prompt_number": 1
    },
    {
     "cell_type": "code",
     "collapsed": false,
     "input": [
      "x = [30.3, 41.0, 33.5, 34.0, 33.3, 36.2, 33.6, 30.2, 35.5, 36.3]"
     ],
     "language": "python",
     "metadata": {},
     "outputs": [],
     "prompt_number": 2
    },
    {
     "cell_type": "code",
     "collapsed": false,
     "input": [
      "np.median(x)"
     ],
     "language": "python",
     "metadata": {},
     "outputs": [
      {
       "output_type": "pyout",
       "prompt_number": 3,
       "text": [
        "33.799999999999997"
       ]
      }
     ],
     "prompt_number": 3
    },
    {
     "cell_type": "code",
     "collapsed": false,
     "input": [
      "def myMedian(x):\n",
      "    x_sort = list(sorted(x))\n",
      "    N = len(x)\n",
      "    if N % 2:\n",
      "        return x[(N-1)/2]\n",
      "    else:\n",
      "        i = (N-1)/2.0\n",
      "        i1 = int(np.floor(i)) \n",
      "        i2 = int(np.ceil(i))\n",
      "        print x_sort[i1], x_sort[i2], i1, i2\n",
      "        return 0.5 * (x_sort[i1] + x_sort[i2])"
     ],
     "language": "python",
     "metadata": {},
     "outputs": [],
     "prompt_number": 8
    },
    {
     "cell_type": "code",
     "collapsed": false,
     "input": [
      "myMedian(x)"
     ],
     "language": "python",
     "metadata": {},
     "outputs": [
      {
       "output_type": "stream",
       "stream": "stdout",
       "text": [
        "33.6 34.0 4 5\n"
       ]
      },
      {
       "output_type": "pyout",
       "prompt_number": 9,
       "text": [
        "33.8"
       ]
      }
     ],
     "prompt_number": 9
    },
    {
     "cell_type": "code",
     "collapsed": false,
     "input": [
      "print sorted(x)"
     ],
     "language": "python",
     "metadata": {},
     "outputs": [
      {
       "output_type": "stream",
       "stream": "stdout",
       "text": [
        "[30.2, 30.3, 33.3, 33.5, 33.6, 34.0, 35.5, 36.2, 36.3, 41.0]\n"
       ]
      }
     ],
     "prompt_number": 10
    },
    {
     "cell_type": "code",
     "collapsed": false,
     "input": [],
     "language": "python",
     "metadata": {},
     "outputs": []
    }
   ],
   "metadata": {}
  }
 ]
}