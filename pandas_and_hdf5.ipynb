{
 "metadata": {
  "name": "",
  "signature": "sha256:ce5622e4e0d25e1368e8a92b962895df683680d0ca33e691d7b1bf8005838913"
 },
 "nbformat": 3,
 "nbformat_minor": 0,
 "worksheets": [
  {
   "cells": [
    {
     "cell_type": "code",
     "collapsed": false,
     "input": [
      "%matplotlib inline"
     ],
     "language": "python",
     "metadata": {},
     "outputs": [],
     "prompt_number": 1
    },
    {
     "cell_type": "code",
     "collapsed": false,
     "input": [
      "import pandas as pd\n",
      "from datetime import datetime, timedelta\n",
      "import numpy as np\n",
      "import matplotlib.pyplot as plt"
     ],
     "language": "python",
     "metadata": {},
     "outputs": [],
     "prompt_number": 2
    },
    {
     "cell_type": "code",
     "collapsed": false,
     "input": [
      "d0 = datetime(1985, 4, 23)\n",
      "nx = ny = 100\n",
      "dt = timedelta(days=1)\n",
      "data = {\n",
      "    d0 + i * dt : np.random.randn(nx, ny) for i in range(30)\n",
      "}"
     ],
     "language": "python",
     "metadata": {},
     "outputs": [],
     "prompt_number": 3
    },
    {
     "cell_type": "code",
     "collapsed": false,
     "input": [
      "test_file_name = \"test.hdf5\"\n",
      "#Create test data file\n",
      "store = pd.HDFStore(test_file_name, \"w\")\n",
      "keys = data.keys()\n",
      "\n",
      "frames = {key: pd.DataFrame(data[key]) for key in keys}\n",
      "panel = pd.Panel(frames)\n",
      "panel = panel.transpose(1,0,2)\n",
      "\n",
      "store.put(\"/longitudes\", pd.DataFrame(np.random.randn(5,5)))\n",
      "store.put(\"/latitudes\", pd.DataFrame(np.random.randn(5,5)))\n",
      "\n",
      "store.put(\"/test/fields\", panel, format=\"t\")\n",
      "for i in range(1000):\n",
      "\n",
      "    d0 = panel.major_axis[-1] + dt\n",
      "    #print d0\n",
      "    data = {\n",
      "        d0 + i * dt : np.random.randn(nx, ny) for i in range(30)\n",
      "    }\n",
      "    keys = data.keys()    \n",
      "    frames = {key: pd.DataFrame(data[key]) for key in keys}\n",
      "    panel = pd.Panel(frames).transpose(1, 0, 2)\n",
      "\n",
      "    store.append(\"/test/fields\", panel, format=\"t\")\n",
      "    \n",
      "store.close()"
     ],
     "language": "python",
     "metadata": {},
     "outputs": [],
     "prompt_number": 5
    },
    {
     "cell_type": "code",
     "collapsed": false,
     "input": [
      "%%bash\n",
      "\n",
      "#ptdump test.hdf5\n",
      "#du -sh test.hdf5\n",
      "rm test.hdf5"
     ],
     "language": "python",
     "metadata": {},
     "outputs": [],
     "prompt_number": 186
    },
    {
     "cell_type": "code",
     "collapsed": false,
     "input": [
      "#read data\n",
      "store_read = pd.HDFStore(test_file_name)"
     ],
     "language": "python",
     "metadata": {},
     "outputs": [],
     "prompt_number": 151
    },
    {
     "cell_type": "code",
     "collapsed": false,
     "input": [
      "pdata = store_read.get(\"/test/fields\")"
     ],
     "language": "python",
     "metadata": {},
     "outputs": [],
     "prompt_number": 152
    },
    {
     "cell_type": "code",
     "collapsed": false,
     "input": [
      "len(pdata)\n",
      "type(pdata)\n",
      "data = pdata.values\n",
      "print data.shape\n",
      "\n",
      "df_sel = pdata.select(lambda d: d.month == 5 and d.day == 17, axis=1)"
     ],
     "language": "python",
     "metadata": {},
     "outputs": [
      {
       "output_type": "stream",
       "stream": "stdout",
       "text": [
        "(5, 30030, 5)\n"
       ]
      }
     ],
     "prompt_number": 153
    },
    {
     "cell_type": "code",
     "collapsed": false,
     "input": [
      "df1 = df_sel[:,0,:]\n",
      "df1.head()"
     ],
     "language": "python",
     "metadata": {},
     "outputs": [
      {
       "html": [
        "<div style=\"max-height:1000px;max-width:1500px;overflow:auto;\">\n",
        "<table border=\"1\" class=\"dataframe\">\n",
        "  <thead>\n",
        "    <tr style=\"text-align: right;\">\n",
        "      <th></th>\n",
        "      <th>0</th>\n",
        "      <th>1</th>\n",
        "      <th>2</th>\n",
        "      <th>3</th>\n",
        "      <th>4</th>\n",
        "    </tr>\n",
        "  </thead>\n",
        "  <tbody>\n",
        "    <tr>\n",
        "      <th>0</th>\n",
        "      <td> 1.079098</td>\n",
        "      <td> 1.465806</td>\n",
        "      <td> 0.263134</td>\n",
        "      <td> 0.084116</td>\n",
        "      <td>-0.655373</td>\n",
        "    </tr>\n",
        "    <tr>\n",
        "      <th>1</th>\n",
        "      <td> 0.524524</td>\n",
        "      <td>-1.071452</td>\n",
        "      <td> 1.653458</td>\n",
        "      <td> 2.502534</td>\n",
        "      <td> 1.544612</td>\n",
        "    </tr>\n",
        "    <tr>\n",
        "      <th>2</th>\n",
        "      <td> 1.285034</td>\n",
        "      <td> 0.351534</td>\n",
        "      <td>-1.187012</td>\n",
        "      <td>-1.677279</td>\n",
        "      <td>-0.266749</td>\n",
        "    </tr>\n",
        "    <tr>\n",
        "      <th>3</th>\n",
        "      <td>-0.197201</td>\n",
        "      <td>-0.394938</td>\n",
        "      <td>-1.606993</td>\n",
        "      <td>-0.297209</td>\n",
        "      <td>-0.611381</td>\n",
        "    </tr>\n",
        "    <tr>\n",
        "      <th>4</th>\n",
        "      <td>-1.176566</td>\n",
        "      <td> 0.384558</td>\n",
        "      <td> 0.434727</td>\n",
        "      <td>-0.495374</td>\n",
        "      <td>-0.748344</td>\n",
        "    </tr>\n",
        "  </tbody>\n",
        "</table>\n",
        "</div>"
       ],
       "metadata": {},
       "output_type": "pyout",
       "prompt_number": 154,
       "text": [
        "          0         1         2         3         4\n",
        "0  1.079098  1.465806  0.263134  0.084116 -0.655373\n",
        "1  0.524524 -1.071452  1.653458  2.502534  1.544612\n",
        "2  1.285034  0.351534 -1.187012 -1.677279 -0.266749\n",
        "3 -0.197201 -0.394938 -1.606993 -0.297209 -0.611381\n",
        "4 -1.176566  0.384558  0.434727 -0.495374 -0.748344"
       ]
      }
     ],
     "prompt_number": 154
    },
    {
     "cell_type": "code",
     "collapsed": false,
     "input": [
      "store_read.close()"
     ],
     "language": "python",
     "metadata": {},
     "outputs": [],
     "prompt_number": 188
    },
    {
     "cell_type": "code",
     "collapsed": false,
     "input": [
      "p23 = panel.select(lambda d: d.day == 23)"
     ],
     "language": "python",
     "metadata": {},
     "outputs": [],
     "prompt_number": 32
    },
    {
     "cell_type": "code",
     "collapsed": false,
     "input": [
      "the_mean = p23.apply(np.mean, axis=\"items\")\n",
      "print p23.items"
     ],
     "language": "python",
     "metadata": {},
     "outputs": [
      {
       "output_type": "stream",
       "stream": "stdout",
       "text": [
        "<class 'pandas.tseries.index.DatetimeIndex'>\n",
        "[1985-04-23]\n",
        "Length: 1, Freq: None, Timezone: None\n"
       ]
      }
     ],
     "prompt_number": 45
    },
    {
     "cell_type": "code",
     "collapsed": false,
     "input": [
      "type(the_mean)\n",
      "the_mean.head()"
     ],
     "language": "python",
     "metadata": {},
     "outputs": [
      {
       "html": [
        "<div style=\"max-height:1000px;max-width:1500px;overflow:auto;\">\n",
        "<table border=\"1\" class=\"dataframe\">\n",
        "  <thead>\n",
        "    <tr style=\"text-align: right;\">\n",
        "      <th></th>\n",
        "      <th>0</th>\n",
        "      <th>1</th>\n",
        "      <th>2</th>\n",
        "      <th>3</th>\n",
        "      <th>4</th>\n",
        "    </tr>\n",
        "  </thead>\n",
        "  <tbody>\n",
        "    <tr>\n",
        "      <th>0</th>\n",
        "      <td>-0.512486</td>\n",
        "      <td>-0.380609</td>\n",
        "      <td>-1.503868</td>\n",
        "      <td>-0.581996</td>\n",
        "      <td>-1.109489</td>\n",
        "    </tr>\n",
        "    <tr>\n",
        "      <th>1</th>\n",
        "      <td>-0.817123</td>\n",
        "      <td> 0.187748</td>\n",
        "      <td> 1.187213</td>\n",
        "      <td>-0.309679</td>\n",
        "      <td> 0.921205</td>\n",
        "    </tr>\n",
        "    <tr>\n",
        "      <th>2</th>\n",
        "      <td> 0.619241</td>\n",
        "      <td>-0.074285</td>\n",
        "      <td> 0.366137</td>\n",
        "      <td>-1.218055</td>\n",
        "      <td> 0.443352</td>\n",
        "    </tr>\n",
        "    <tr>\n",
        "      <th>3</th>\n",
        "      <td>-0.168427</td>\n",
        "      <td> 0.829792</td>\n",
        "      <td>-0.024154</td>\n",
        "      <td>-1.486247</td>\n",
        "      <td>-0.795931</td>\n",
        "    </tr>\n",
        "    <tr>\n",
        "      <th>4</th>\n",
        "      <td>-0.689152</td>\n",
        "      <td>-2.093129</td>\n",
        "      <td> 1.934674</td>\n",
        "      <td> 0.421813</td>\n",
        "      <td>-0.481539</td>\n",
        "    </tr>\n",
        "  </tbody>\n",
        "</table>\n",
        "</div>"
       ],
       "metadata": {},
       "output_type": "pyout",
       "prompt_number": 43,
       "text": [
        "          0         1         2         3         4\n",
        "0 -0.512486 -0.380609 -1.503868 -0.581996 -1.109489\n",
        "1 -0.817123  0.187748  1.187213 -0.309679  0.921205\n",
        "2  0.619241 -0.074285  0.366137 -1.218055  0.443352\n",
        "3 -0.168427  0.829792 -0.024154 -1.486247 -0.795931\n",
        "4 -0.689152 -2.093129  1.934674  0.421813 -0.481539"
       ]
      }
     ],
     "prompt_number": 43
    },
    {
     "cell_type": "code",
     "collapsed": false,
     "input": [
      "plt.pcolormesh(the_mean.values.transpose())"
     ],
     "language": "python",
     "metadata": {},
     "outputs": [
      {
       "metadata": {},
       "output_type": "pyout",
       "prompt_number": 44,
       "text": [
        "<matplotlib.collections.QuadMesh at 0x109905d50>"
       ]
      },
      {
       "metadata": {},
       "output_type": "display_data",
       "png": "[encoded data removed]",
       "text": [
        "<matplotlib.figure.Figure at 0x1068fd4d0>"
       ]
      }
     ],
     "prompt_number": 44
    },
    {
     "cell_type": "code",
     "collapsed": false,
     "input": [
      "###Test panel4D\n",
      "data_4d = { lev: data for lev in [1, 2, 5]}\n",
      "\n"
     ],
     "language": "python",
     "metadata": {},
     "outputs": [],
     "prompt_number": 53
    },
    {
     "cell_type": "code",
     "collapsed": false,
     "input": [
      "p4d = pd.Panel4D({lev: pd.Panel({d: pd.DataFrame(the_field) for d, the_field in the_data.iteritems()}) for lev, the_data in data_4d.iteritems()})"
     ],
     "language": "python",
     "metadata": {},
     "outputs": [],
     "prompt_number": 55
    },
    {
     "cell_type": "code",
     "collapsed": false,
     "input": [
      "p4d.values.shape"
     ],
     "language": "python",
     "metadata": {},
     "outputs": [
      {
       "metadata": {},
       "output_type": "pyout",
       "prompt_number": 56,
       "text": [
        "(3, 30, 5, 5)"
       ]
      }
     ],
     "prompt_number": 56
    },
    {
     "cell_type": "code",
     "collapsed": false,
     "input": [
      "tmean = p4d.apply(np.mean, axis=1)"
     ],
     "language": "python",
     "metadata": {},
     "outputs": [],
     "prompt_number": 60
    },
    {
     "cell_type": "code",
     "collapsed": false,
     "input": [
      "tmean.values.shape"
     ],
     "language": "python",
     "metadata": {},
     "outputs": [
      {
       "metadata": {},
       "output_type": "pyout",
       "prompt_number": 63,
       "text": [
        "(3, 5, 5)"
       ]
      }
     ],
     "prompt_number": 63
    },
    {
     "cell_type": "code",
     "collapsed": false,
     "input": [],
     "language": "python",
     "metadata": {},
     "outputs": [
      {
       "ename": "TypeError",
       "evalue": "cannot properly create the storer for: [_STORER_MAP] [group->/test/mltlf (Group) u'',value-><class 'pandas.core.panelnd.Panel4D'>,format->fixed,append->False,kwargs->{'encoding': None}]",
       "output_type": "pyerr",
       "traceback": [
        "\u001b[0;31m---------------------------------------------------------------------------\u001b[0m\n\u001b[0;31mTypeError\u001b[0m                                 Traceback (most recent call last)",
        "\u001b[0;32m<ipython-input-64-c117be962ff8>\u001b[0m in \u001b[0;36m<module>\u001b[0;34m()\u001b[0m\n\u001b[1;32m      1\u001b[0m \u001b[0mstore4d\u001b[0m \u001b[0;34m=\u001b[0m \u001b[0mpd\u001b[0m\u001b[0;34m.\u001b[0m\u001b[0mHDFStore\u001b[0m\u001b[0;34m(\u001b[0m\u001b[0;34m\"testpanel_4d.hdf5\"\u001b[0m\u001b[0;34m,\u001b[0m \u001b[0;34m\"w\"\u001b[0m\u001b[0;34m)\u001b[0m\u001b[0;34m\u001b[0m\u001b[0m\n\u001b[0;32m----> 2\u001b[0;31m \u001b[0mstore4d\u001b[0m\u001b[0;34m.\u001b[0m\u001b[0mput\u001b[0m\u001b[0;34m(\u001b[0m\u001b[0;34m\"/test/mltlf\"\u001b[0m\u001b[0;34m,\u001b[0m \u001b[0mp4d\u001b[0m\u001b[0;34m)\u001b[0m\u001b[0;34m\u001b[0m\u001b[0m\n\u001b[0m\u001b[1;32m      3\u001b[0m \u001b[0mstore4d\u001b[0m\u001b[0;34m.\u001b[0m\u001b[0mclose\u001b[0m\u001b[0;34m(\u001b[0m\u001b[0;34m)\u001b[0m\u001b[0;34m\u001b[0m\u001b[0m\n",
        "\u001b[0;32m/Users/huziy/virtualenvs/py2.7-default/lib/python2.7/site-packages/pandas/io/pytables.pyc\u001b[0m in \u001b[0;36mput\u001b[0;34m(self, key, value, format, append, **kwargs)\u001b[0m\n\u001b[1;32m    828\u001b[0m             \u001b[0mformat\u001b[0m \u001b[0;34m=\u001b[0m \u001b[0mget_option\u001b[0m\u001b[0;34m(\u001b[0m\u001b[0;34m\"io.hdf.default_format\"\u001b[0m\u001b[0;34m)\u001b[0m \u001b[0;32mor\u001b[0m \u001b[0;34m'fixed'\u001b[0m\u001b[0;34m\u001b[0m\u001b[0m\n\u001b[1;32m    829\u001b[0m         \u001b[0mkwargs\u001b[0m \u001b[0;34m=\u001b[0m \u001b[0mself\u001b[0m\u001b[0;34m.\u001b[0m\u001b[0m_validate_format\u001b[0m\u001b[0;34m(\u001b[0m\u001b[0mformat\u001b[0m\u001b[0;34m,\u001b[0m \u001b[0mkwargs\u001b[0m\u001b[0;34m)\u001b[0m\u001b[0;34m\u001b[0m\u001b[0m\n\u001b[0;32m--> 830\u001b[0;31m         \u001b[0mself\u001b[0m\u001b[0;34m.\u001b[0m\u001b[0m_write_to_group\u001b[0m\u001b[0;34m(\u001b[0m\u001b[0mkey\u001b[0m\u001b[0;34m,\u001b[0m \u001b[0mvalue\u001b[0m\u001b[0;34m,\u001b[0m \u001b[0mappend\u001b[0m\u001b[0;34m=\u001b[0m\u001b[0mappend\u001b[0m\u001b[0;34m,\u001b[0m \u001b[0;34m**\u001b[0m\u001b[0mkwargs\u001b[0m\u001b[0;34m)\u001b[0m\u001b[0;34m\u001b[0m\u001b[0m\n\u001b[0m\u001b[1;32m    831\u001b[0m \u001b[0;34m\u001b[0m\u001b[0m\n\u001b[1;32m    832\u001b[0m     \u001b[0;32mdef\u001b[0m \u001b[0mremove\u001b[0m\u001b[0;34m(\u001b[0m\u001b[0mself\u001b[0m\u001b[0;34m,\u001b[0m \u001b[0mkey\u001b[0m\u001b[0;34m,\u001b[0m \u001b[0mwhere\u001b[0m\u001b[0;34m=\u001b[0m\u001b[0mNone\u001b[0m\u001b[0;34m,\u001b[0m \u001b[0mstart\u001b[0m\u001b[0;34m=\u001b[0m\u001b[0mNone\u001b[0m\u001b[0;34m,\u001b[0m \u001b[0mstop\u001b[0m\u001b[0;34m=\u001b[0m\u001b[0mNone\u001b[0m\u001b[0;34m)\u001b[0m\u001b[0;34m:\u001b[0m\u001b[0;34m\u001b[0m\u001b[0m\n",
        "\u001b[0;32m/Users/huziy/virtualenvs/py2.7-default/lib/python2.7/site-packages/pandas/io/pytables.pyc\u001b[0m in \u001b[0;36m_write_to_group\u001b[0;34m(self, key, value, format, index, append, complib, encoding, **kwargs)\u001b[0m\n\u001b[1;32m   1259\u001b[0m \u001b[0;34m\u001b[0m\u001b[0m\n\u001b[1;32m   1260\u001b[0m         s = self._create_storer(group, format, value, append=append,\n\u001b[0;32m-> 1261\u001b[0;31m                                 encoding=encoding, **kwargs)\n\u001b[0m\u001b[1;32m   1262\u001b[0m         \u001b[0;32mif\u001b[0m \u001b[0mappend\u001b[0m\u001b[0;34m:\u001b[0m\u001b[0;34m\u001b[0m\u001b[0m\n\u001b[1;32m   1263\u001b[0m             \u001b[0;31m# raise if we are trying to append to a Fixed format,\u001b[0m\u001b[0;34m\u001b[0m\u001b[0;34m\u001b[0m\u001b[0m\n",
        "\u001b[0;32m/Users/huziy/virtualenvs/py2.7-default/lib/python2.7/site-packages/pandas/io/pytables.pyc\u001b[0m in \u001b[0;36m_create_storer\u001b[0;34m(self, group, format, value, append, **kwargs)\u001b[0m\n\u001b[1;32m   1184\u001b[0m                 \u001b[0;32mreturn\u001b[0m \u001b[0mglobals\u001b[0m\u001b[0;34m(\u001b[0m\u001b[0;34m)\u001b[0m\u001b[0;34m[\u001b[0m\u001b[0m_STORER_MAP\u001b[0m\u001b[0;34m[\u001b[0m\u001b[0mpt\u001b[0m\u001b[0;34m]\u001b[0m\u001b[0;34m]\u001b[0m\u001b[0;34m(\u001b[0m\u001b[0mself\u001b[0m\u001b[0;34m,\u001b[0m \u001b[0mgroup\u001b[0m\u001b[0;34m,\u001b[0m \u001b[0;34m**\u001b[0m\u001b[0mkwargs\u001b[0m\u001b[0;34m)\u001b[0m\u001b[0;34m\u001b[0m\u001b[0m\n\u001b[1;32m   1185\u001b[0m             \u001b[0;32mexcept\u001b[0m\u001b[0;34m:\u001b[0m\u001b[0;34m\u001b[0m\u001b[0m\n\u001b[0;32m-> 1186\u001b[0;31m                 \u001b[0merror\u001b[0m\u001b[0;34m(\u001b[0m\u001b[0;34m'_STORER_MAP'\u001b[0m\u001b[0;34m)\u001b[0m\u001b[0;34m\u001b[0m\u001b[0m\n\u001b[0m\u001b[1;32m   1187\u001b[0m \u001b[0;34m\u001b[0m\u001b[0m\n\u001b[1;32m   1188\u001b[0m         \u001b[0;31m# existing node (and must be a table)\u001b[0m\u001b[0;34m\u001b[0m\u001b[0;34m\u001b[0m\u001b[0m\n",
        "\u001b[0;32m/Users/huziy/virtualenvs/py2.7-default/lib/python2.7/site-packages/pandas/io/pytables.pyc\u001b[0m in \u001b[0;36merror\u001b[0;34m(t)\u001b[0m\n\u001b[1;32m   1149\u001b[0m                 \u001b[0;34m\"cannot properly create the storer for: [%s] [group->%s,\"\u001b[0m\u001b[0;34m\u001b[0m\u001b[0m\n\u001b[1;32m   1150\u001b[0m                 \u001b[0;34m\"value->%s,format->%s,append->%s,kwargs->%s]\"\u001b[0m\u001b[0;34m\u001b[0m\u001b[0m\n\u001b[0;32m-> 1151\u001b[0;31m                 \u001b[0;34m%\u001b[0m \u001b[0;34m(\u001b[0m\u001b[0mt\u001b[0m\u001b[0;34m,\u001b[0m \u001b[0mgroup\u001b[0m\u001b[0;34m,\u001b[0m \u001b[0mtype\u001b[0m\u001b[0;34m(\u001b[0m\u001b[0mvalue\u001b[0m\u001b[0;34m)\u001b[0m\u001b[0;34m,\u001b[0m \u001b[0mformat\u001b[0m\u001b[0;34m,\u001b[0m \u001b[0mappend\u001b[0m\u001b[0;34m,\u001b[0m \u001b[0mkwargs\u001b[0m\u001b[0;34m)\u001b[0m\u001b[0;34m\u001b[0m\u001b[0m\n\u001b[0m\u001b[1;32m   1152\u001b[0m             )\n\u001b[1;32m   1153\u001b[0m \u001b[0;34m\u001b[0m\u001b[0m\n",
        "\u001b[0;31mTypeError\u001b[0m: cannot properly create the storer for: [_STORER_MAP] [group->/test/mltlf (Group) u'',value-><class 'pandas.core.panelnd.Panel4D'>,format->fixed,append->False,kwargs->{'encoding': None}]"
       ]
      }
     ],
     "prompt_number": 64
    },
    {
     "cell_type": "code",
     "collapsed": false,
     "input": [
      "365*48*(2010-1980+1)"
     ],
     "language": "python",
     "metadata": {},
     "outputs": [
      {
       "metadata": {},
       "output_type": "pyout",
       "prompt_number": 66,
       "text": [
        "543120"
       ]
      }
     ],
     "prompt_number": 66
    },
    {
     "cell_type": "code",
     "collapsed": false,
     "input": [
      "import re\n",
      "s = \"\"\"\n",
      "'FSGV FSGS FSGG FLGV FLGS FLGG HFSC HFSS HFSG ',\n",
      "'HEVC HEVS HEVG HMFC HMFS HMFG1 HMFG2 HMFG3 ',\n",
      "'HTCC HTCS HTC1 HTC2 HTC3'\n",
      " \"\"\"\n",
      "\n",
      "s = \"\"\"\n",
      "'PCFC PCLC PCPN PCPG QFCF QFCL QFN QFG QFC1 ',\n",
      "   'QFC2 QFC3 ROFC ROFN ROFO ROF WTRC WTRS WTRG EVDF ',\n",
      "       'CTV CTS CT1 CT2 CT3'\n",
      "\"\"\"\n",
      "groups = re.findall(\"\\w+\", s)"
     ],
     "language": "python",
     "metadata": {},
     "outputs": [],
     "prompt_number": 10
    },
    {
     "cell_type": "code",
     "collapsed": false,
     "input": [
      "print \",\".join(\"'{}'\".format(tok) for tok in groups)"
     ],
     "language": "python",
     "metadata": {},
     "outputs": [
      {
       "output_type": "stream",
       "stream": "stdout",
       "text": [
        "'PCFC','PCLC','PCPN','PCPG','QFCF','QFCL','QFN','QFG','QFC1','QFC2','QFC3','ROFC','ROFN','ROFO','ROF','WTRC','WTRS','WTRG','EVDF','CTV','CTS','CT1','CT2','CT3'\n"
       ]
      }
     ],
     "prompt_number": 11
    },
    {
     "cell_type": "code",
     "collapsed": false,
     "input": [],
     "language": "python",
     "metadata": {},
     "outputs": []
    }
   ],
   "metadata": {}
  }
 ]
}