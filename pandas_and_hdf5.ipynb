{
 "metadata": {
  "name": "",
  "signature": "sha256:cfeeae682d9b4e5fdfeab1d1d0974cf86f49726661b45dfc5a6c4e43732fbb7e"
 },
 "nbformat": 3,
 "nbformat_minor": 0,
 "worksheets": [
  {
   "cells": [
    {
     "cell_type": "code",
     "collapsed": false,
     "input": [
      "%matplotlib inline"
     ],
     "language": "python",
     "metadata": {},
     "outputs": [],
     "prompt_number": 1
    },
    {
     "cell_type": "code",
     "collapsed": false,
     "input": [
      "import pandas as pd\n",
      "from datetime import datetime, timedelta\n",
      "import numpy as np\n",
      "import matplotlib.pyplot as plt\n",
      "import os"
     ],
     "language": "python",
     "metadata": {},
     "outputs": [],
     "prompt_number": 2
    },
    {
     "cell_type": "code",
     "collapsed": false,
     "input": [
      "d0 = datetime(1985, 4, 23)\n",
      "nx = ny = 10\n",
      "period_length = 30\n",
      "dt = timedelta(days=1)\n",
      "test_file_name = \"test.hdf5\"\n"
     ],
     "language": "python",
     "metadata": {},
     "outputs": [],
     "prompt_number": 3
    },
    {
     "cell_type": "code",
     "collapsed": false,
     "input": [
      "if os.path.isfile(test_file_name):\n",
      "    os.remove(test_file_name)\n",
      "\n",
      "#store = None\n",
      "try:\n",
      "    #Create test data file\n",
      "    store = pd.HDFStore(test_file_name, \"w\")\n",
      "    \n",
      "\n",
      "    store.put(\"/longitudes\", pd.DataFrame(np.random.randn(5,5)))\n",
      "    store.put(\"/latitudes\", pd.DataFrame(np.random.randn(5,5)))\n",
      "\n",
      "    \n",
      "    for i in range(10):\n",
      "\n",
      "        print d0\n",
      "        data = {\n",
      "            d0 + i * dt : np.random.randn(nx, ny) for i in range(period_length)\n",
      "        }\n",
      "        keys = data.keys()    \n",
      "        frames = {key: pd.DataFrame(data[key]) for key in keys}\n",
      "        panel = pd.Panel(frames).transpose(1, 0, 2)\n",
      "        \n",
      "        \n",
      "        if i == 0:\n",
      "            store.put(\"/test/fields\", panel, format=\"table\")\n",
      "        else:\n",
      "            store.append(\"/test/fields\", panel, format=\"table\")\n",
      "        \n",
      "        d0 = panel.major_axis[-1] + dt\n",
      "finally:\n",
      "    \n",
      "    if store.is_open:\n",
      "        store.close()"
     ],
     "language": "python",
     "metadata": {},
     "outputs": [
      {
       "output_type": "stream",
       "stream": "stdout",
       "text": [
        "1985-04-23 00:00:00\n",
        "1985-05-23 00:00:00\n",
        "1985-06-22 00:00:00"
       ]
      },
      {
       "output_type": "stream",
       "stream": "stdout",
       "text": [
        "\n",
        "1985-07-22 00:00:00\n",
        "1985-08-21 00:00:00\n",
        "1985-09-20 00:00:00"
       ]
      },
      {
       "output_type": "stream",
       "stream": "stdout",
       "text": [
        "\n",
        "1985-10-20 00:00:00\n",
        "1985-11-19 00:00:00\n",
        "1985-12-19 00:00:00"
       ]
      },
      {
       "output_type": "stream",
       "stream": "stdout",
       "text": [
        "\n",
        "1986-01-18 00:00:00\n"
       ]
      }
     ],
     "prompt_number": 4
    },
    {
     "cell_type": "code",
     "collapsed": false,
     "input": [
      "%%bash\n",
      "\n",
      "#rm test.hdf5\n",
      "#ptdump -h\n",
      "#ptdump -c -v test.hdf5\n",
      "#du -sh test.hdf5\n",
      "#rm test.hdf5"
     ],
     "language": "python",
     "metadata": {},
     "outputs": [],
     "prompt_number": 9
    },
    {
     "cell_type": "code",
     "collapsed": false,
     "input": [
      "#read data\n",
      "store_read = pd.HDFStore(test_file_name)"
     ],
     "language": "python",
     "metadata": {},
     "outputs": [],
     "prompt_number": 26
    },
    {
     "cell_type": "code",
     "collapsed": false,
     "input": [
      "pdata = store_read.get(\"/test/fields\")\n",
      "\n",
      "len(pdata.major_axis), pdata.major_axis[0], pdata.major_axis[-1]\n",
      "\n",
      "d1 = pdata.major_axis[0]\n",
      "d2 = pdata.major_axis[-1]\n",
      "print pdata.major_axis"
     ],
     "language": "python",
     "metadata": {},
     "outputs": [
      {
       "output_type": "stream",
       "stream": "stdout",
       "text": [
        "<class 'pandas.tseries.index.DatetimeIndex'>\n",
        "[1985-04-23, ..., 1986-02-16]\n",
        "Length: 300, Freq: None, Timezone: None\n"
       ]
      }
     ],
     "prompt_number": 27
    },
    {
     "cell_type": "code",
     "collapsed": false,
     "input": [
      "c1 = store_read.select_column(\"/test/fields\", \"major_axis\")\n",
      "c2 = store_read.select_column(\"/test/fields\", \"minor_axis\")\n",
      "#c3 = store_read.select_column(\"/test/fields\", \"index\")\n",
      "#c0 = store_read.select_as_coordinates(\"/test/fields\", \"major_axis\")\n",
      "\n"
     ],
     "language": "python",
     "metadata": {},
     "outputs": [],
     "prompt_number": 40
    },
    {
     "cell_type": "code",
     "collapsed": false,
     "input": [
      "dtime_index = pd.DatetimeIndex(c1)\n",
      "coords = c1[(dtime_index.day == 23) & (dtime_index.year == 1985)]\n",
      "z = (dtime_index.day == 23) & (dtime_index.year == 1985)\n",
      "print sum(1 for zi in z if zi), len(z)\n",
      "\n",
      "plt.plot(c1)\n",
      "plt.figure()\n",
      "plt.plot(c2)\n",
      "print len(c1), len(c2)"
     ],
     "language": "python",
     "metadata": {},
     "outputs": [
      {
       "output_type": "stream",
       "stream": "stdout",
       "text": [
        "90 3000\n",
        "3000"
       ]
      },
      {
       "output_type": "stream",
       "stream": "stdout",
       "text": [
        " 3000\n"
       ]
      },
      {
       "metadata": {},
       "output_type": "display_data",
       "png": "[encoded data removed]",
       "text": [
        "<matplotlib.figure.Figure at 0x1072c5dd0>"
       ]
      },
      {
       "metadata": {},
       "output_type": "display_data",
       "png": "[encoded data removed]",
       "text": [
        "<matplotlib.figure.Figure at 0x106f70d90>"
       ]
      }
     ],
     "prompt_number": 41
    },
    {
     "cell_type": "code",
     "collapsed": false,
     "input": [
      "len(c), c[:10]"
     ],
     "language": "python",
     "metadata": {},
     "outputs": [
      {
       "metadata": {},
       "output_type": "pyout",
       "prompt_number": 9,
       "text": [
        "(3000, 0   1985-04-23\n",
        " 1   1985-04-23\n",
        " 2   1985-04-23\n",
        " 3   1985-04-23\n",
        " 4   1985-04-23\n",
        " 5   1985-04-23\n",
        " 6   1985-04-23\n",
        " 7   1985-04-23\n",
        " 8   1985-04-23\n",
        " 9   1985-04-23\n",
        " dtype: datetime64[ns])"
       ]
      }
     ],
     "prompt_number": 9
    },
    {
     "cell_type": "code",
     "collapsed": false,
     "input": [
      "coords[1:10]"
     ],
     "language": "python",
     "metadata": {},
     "outputs": [
      {
       "metadata": {},
       "output_type": "pyout",
       "prompt_number": 57,
       "text": [
        "1   1985-04-23\n",
        "2   1985-04-23\n",
        "3   1985-04-23\n",
        "4   1985-04-23\n",
        "5   1985-04-23\n",
        "6   1985-04-23\n",
        "7   1985-04-23\n",
        "8   1985-04-23\n",
        "9   1985-04-23\n",
        "dtype: datetime64[ns]"
       ]
      }
     ],
     "prompt_number": 57
    },
    {
     "cell_type": "code",
     "collapsed": false,
     "input": [
      "store_read.close()"
     ],
     "language": "python",
     "metadata": {},
     "outputs": [],
     "prompt_number": 22
    },
    {
     "cell_type": "code",
     "collapsed": false,
     "input": [
      "df1 = df_sel[:,0,:]\n",
      "df1.head()"
     ],
     "language": "python",
     "metadata": {},
     "outputs": [
      {
       "html": [
        "<div style=\"max-height:1000px;max-width:1500px;overflow:auto;\">\n",
        "<table border=\"1\" class=\"dataframe\">\n",
        "  <thead>\n",
        "    <tr style=\"text-align: right;\">\n",
        "      <th></th>\n",
        "      <th>0</th>\n",
        "      <th>1</th>\n",
        "      <th>2</th>\n",
        "      <th>3</th>\n",
        "      <th>4</th>\n",
        "      <th>5</th>\n",
        "      <th>6</th>\n",
        "      <th>7</th>\n",
        "      <th>8</th>\n",
        "      <th>9</th>\n",
        "      <th>...</th>\n",
        "      <th>290</th>\n",
        "      <th>291</th>\n",
        "      <th>292</th>\n",
        "      <th>293</th>\n",
        "      <th>294</th>\n",
        "      <th>295</th>\n",
        "      <th>296</th>\n",
        "      <th>297</th>\n",
        "      <th>298</th>\n",
        "      <th>299</th>\n",
        "    </tr>\n",
        "  </thead>\n",
        "  <tbody>\n",
        "    <tr>\n",
        "      <th>0</th>\n",
        "      <td> 0.815404</td>\n",
        "      <td>-1.517700</td>\n",
        "      <td> 0.531967</td>\n",
        "      <td>-0.094340</td>\n",
        "      <td>-0.934608</td>\n",
        "      <td> 0.274305</td>\n",
        "      <td>-0.693771</td>\n",
        "      <td>-0.040097</td>\n",
        "      <td> 0.041705</td>\n",
        "      <td>-0.700845</td>\n",
        "      <td>...</td>\n",
        "      <td>-1.283820</td>\n",
        "      <td>-0.426407</td>\n",
        "      <td> 1.030645</td>\n",
        "      <td>-0.864650</td>\n",
        "      <td> 0.905053</td>\n",
        "      <td> 0.034567</td>\n",
        "      <td>-0.432224</td>\n",
        "      <td> 0.238615</td>\n",
        "      <td> 0.970831</td>\n",
        "      <td>-1.224179</td>\n",
        "    </tr>\n",
        "    <tr>\n",
        "      <th>1</th>\n",
        "      <td>-1.139067</td>\n",
        "      <td> 0.519108</td>\n",
        "      <td>-1.277634</td>\n",
        "      <td>-0.157313</td>\n",
        "      <td> 0.712811</td>\n",
        "      <td> 0.588608</td>\n",
        "      <td> 2.521726</td>\n",
        "      <td>-0.654906</td>\n",
        "      <td>-0.921738</td>\n",
        "      <td>-0.604650</td>\n",
        "      <td>...</td>\n",
        "      <td> 1.362258</td>\n",
        "      <td> 1.689791</td>\n",
        "      <td>-1.099681</td>\n",
        "      <td>-0.307401</td>\n",
        "      <td>-0.640703</td>\n",
        "      <td> 0.960646</td>\n",
        "      <td> 0.834003</td>\n",
        "      <td>-0.169518</td>\n",
        "      <td> 2.023215</td>\n",
        "      <td>-0.001976</td>\n",
        "    </tr>\n",
        "    <tr>\n",
        "      <th>2</th>\n",
        "      <td> 1.553434</td>\n",
        "      <td> 1.425138</td>\n",
        "      <td>-2.315390</td>\n",
        "      <td>-0.771129</td>\n",
        "      <td>-0.384513</td>\n",
        "      <td>-1.056099</td>\n",
        "      <td>-0.755404</td>\n",
        "      <td> 0.919022</td>\n",
        "      <td> 1.073343</td>\n",
        "      <td>-0.914346</td>\n",
        "      <td>...</td>\n",
        "      <td> 0.502556</td>\n",
        "      <td>-0.302759</td>\n",
        "      <td>-0.574225</td>\n",
        "      <td> 1.496134</td>\n",
        "      <td> 0.665858</td>\n",
        "      <td>-1.090808</td>\n",
        "      <td> 0.224132</td>\n",
        "      <td>-1.487864</td>\n",
        "      <td> 0.021938</td>\n",
        "      <td> 0.576593</td>\n",
        "    </tr>\n",
        "    <tr>\n",
        "      <th>3</th>\n",
        "      <td> 1.587373</td>\n",
        "      <td>-0.232855</td>\n",
        "      <td>-0.702639</td>\n",
        "      <td>-0.694084</td>\n",
        "      <td>-0.392005</td>\n",
        "      <td>-1.503081</td>\n",
        "      <td>-1.421766</td>\n",
        "      <td> 0.426672</td>\n",
        "      <td> 1.231533</td>\n",
        "      <td> 0.705653</td>\n",
        "      <td>...</td>\n",
        "      <td>-0.358851</td>\n",
        "      <td> 1.852596</td>\n",
        "      <td>-0.423395</td>\n",
        "      <td> 1.036792</td>\n",
        "      <td> 0.529837</td>\n",
        "      <td>-1.803539</td>\n",
        "      <td>-0.913257</td>\n",
        "      <td>-0.421444</td>\n",
        "      <td>-1.246575</td>\n",
        "      <td>-0.247873</td>\n",
        "    </tr>\n",
        "    <tr>\n",
        "      <th>4</th>\n",
        "      <td>-0.074654</td>\n",
        "      <td> 0.037755</td>\n",
        "      <td> 0.877705</td>\n",
        "      <td>-1.338489</td>\n",
        "      <td> 0.933322</td>\n",
        "      <td>-0.706706</td>\n",
        "      <td> 0.490578</td>\n",
        "      <td>-1.795134</td>\n",
        "      <td> 0.802950</td>\n",
        "      <td> 0.486320</td>\n",
        "      <td>...</td>\n",
        "      <td>-0.045248</td>\n",
        "      <td> 1.283440</td>\n",
        "      <td>-0.231535</td>\n",
        "      <td>-0.262459</td>\n",
        "      <td>-1.114730</td>\n",
        "      <td>-1.723148</td>\n",
        "      <td> 2.562029</td>\n",
        "      <td> 0.775773</td>\n",
        "      <td> 1.379849</td>\n",
        "      <td> 0.305322</td>\n",
        "    </tr>\n",
        "  </tbody>\n",
        "</table>\n",
        "<p>5 rows \u00d7 300 columns</p>\n",
        "</div>"
       ],
       "metadata": {},
       "output_type": "pyout",
       "prompt_number": 9,
       "text": [
        "        0         1         2         3         4         5         6    \\\n",
        "0  0.815404 -1.517700  0.531967 -0.094340 -0.934608  0.274305 -0.693771   \n",
        "1 -1.139067  0.519108 -1.277634 -0.157313  0.712811  0.588608  2.521726   \n",
        "2  1.553434  1.425138 -2.315390 -0.771129 -0.384513 -1.056099 -0.755404   \n",
        "3  1.587373 -0.232855 -0.702639 -0.694084 -0.392005 -1.503081 -1.421766   \n",
        "4 -0.074654  0.037755  0.877705 -1.338489  0.933322 -0.706706  0.490578   \n",
        "\n",
        "        7         8         9      ...          290       291       292  \\\n",
        "0 -0.040097  0.041705 -0.700845    ...    -1.283820 -0.426407  1.030645   \n",
        "1 -0.654906 -0.921738 -0.604650    ...     1.362258  1.689791 -1.099681   \n",
        "2  0.919022  1.073343 -0.914346    ...     0.502556 -0.302759 -0.574225   \n",
        "3  0.426672  1.231533  0.705653    ...    -0.358851  1.852596 -0.423395   \n",
        "4 -1.795134  0.802950  0.486320    ...    -0.045248  1.283440 -0.231535   \n",
        "\n",
        "        293       294       295       296       297       298       299  \n",
        "0 -0.864650  0.905053  0.034567 -0.432224  0.238615  0.970831 -1.224179  \n",
        "1 -0.307401 -0.640703  0.960646  0.834003 -0.169518  2.023215 -0.001976  \n",
        "2  1.496134  0.665858 -1.090808  0.224132 -1.487864  0.021938  0.576593  \n",
        "3  1.036792  0.529837 -1.803539 -0.913257 -0.421444 -1.246575 -0.247873  \n",
        "4 -0.262459 -1.114730 -1.723148  2.562029  0.775773  1.379849  0.305322  \n",
        "\n",
        "[5 rows x 300 columns]"
       ]
      }
     ],
     "prompt_number": 9
    },
    {
     "cell_type": "code",
     "collapsed": false,
     "input": [
      "store_read.close()"
     ],
     "language": "python",
     "metadata": {},
     "outputs": [],
     "prompt_number": 75
    },
    {
     "cell_type": "code",
     "collapsed": false,
     "input": [
      "p23 = panel.select(lambda d: d.day == 23)"
     ],
     "language": "python",
     "metadata": {},
     "outputs": [],
     "prompt_number": 32
    },
    {
     "cell_type": "code",
     "collapsed": false,
     "input": [
      "the_mean = p23.apply(np.mean, axis=\"items\")\n",
      "print p23.items"
     ],
     "language": "python",
     "metadata": {},
     "outputs": [
      {
       "output_type": "stream",
       "stream": "stdout",
       "text": [
        "<class 'pandas.tseries.index.DatetimeIndex'>\n",
        "[1985-04-23]\n",
        "Length: 1, Freq: None, Timezone: None\n"
       ]
      }
     ],
     "prompt_number": 45
    },
    {
     "cell_type": "code",
     "collapsed": false,
     "input": [
      "type(the_mean)\n",
      "the_mean.head()"
     ],
     "language": "python",
     "metadata": {},
     "outputs": [
      {
       "html": [
        "<div style=\"max-height:1000px;max-width:1500px;overflow:auto;\">\n",
        "<table border=\"1\" class=\"dataframe\">\n",
        "  <thead>\n",
        "    <tr style=\"text-align: right;\">\n",
        "      <th></th>\n",
        "      <th>0</th>\n",
        "      <th>1</th>\n",
        "      <th>2</th>\n",
        "      <th>3</th>\n",
        "      <th>4</th>\n",
        "    </tr>\n",
        "  </thead>\n",
        "  <tbody>\n",
        "    <tr>\n",
        "      <th>0</th>\n",
        "      <td>-0.512486</td>\n",
        "      <td>-0.380609</td>\n",
        "      <td>-1.503868</td>\n",
        "      <td>-0.581996</td>\n",
        "      <td>-1.109489</td>\n",
        "    </tr>\n",
        "    <tr>\n",
        "      <th>1</th>\n",
        "      <td>-0.817123</td>\n",
        "      <td> 0.187748</td>\n",
        "      <td> 1.187213</td>\n",
        "      <td>-0.309679</td>\n",
        "      <td> 0.921205</td>\n",
        "    </tr>\n",
        "    <tr>\n",
        "      <th>2</th>\n",
        "      <td> 0.619241</td>\n",
        "      <td>-0.074285</td>\n",
        "      <td> 0.366137</td>\n",
        "      <td>-1.218055</td>\n",
        "      <td> 0.443352</td>\n",
        "    </tr>\n",
        "    <tr>\n",
        "      <th>3</th>\n",
        "      <td>-0.168427</td>\n",
        "      <td> 0.829792</td>\n",
        "      <td>-0.024154</td>\n",
        "      <td>-1.486247</td>\n",
        "      <td>-0.795931</td>\n",
        "    </tr>\n",
        "    <tr>\n",
        "      <th>4</th>\n",
        "      <td>-0.689152</td>\n",
        "      <td>-2.093129</td>\n",
        "      <td> 1.934674</td>\n",
        "      <td> 0.421813</td>\n",
        "      <td>-0.481539</td>\n",
        "    </tr>\n",
        "  </tbody>\n",
        "</table>\n",
        "</div>"
       ],
       "metadata": {},
       "output_type": "pyout",
       "prompt_number": 43,
       "text": [
        "          0         1         2         3         4\n",
        "0 -0.512486 -0.380609 -1.503868 -0.581996 -1.109489\n",
        "1 -0.817123  0.187748  1.187213 -0.309679  0.921205\n",
        "2  0.619241 -0.074285  0.366137 -1.218055  0.443352\n",
        "3 -0.168427  0.829792 -0.024154 -1.486247 -0.795931\n",
        "4 -0.689152 -2.093129  1.934674  0.421813 -0.481539"
       ]
      }
     ],
     "prompt_number": 43
    },
    {
     "cell_type": "code",
     "collapsed": false,
     "input": [
      "plt.pcolormesh(the_mean.values.transpose())"
     ],
     "language": "python",
     "metadata": {},
     "outputs": [
      {
       "metadata": {},
       "output_type": "pyout",
       "prompt_number": 44,
       "text": [
        "<matplotlib.collections.QuadMesh at 0x109905d50>"
       ]
      },
      {
       "metadata": {},
       "output_type": "display_data",
       "png": "[encoded data removed]",
       "text": [
        "<matplotlib.figure.Figure at 0x1068fd4d0>"
       ]
      }
     ],
     "prompt_number": 44
    },
    {
     "cell_type": "code",
     "collapsed": false,
     "input": [
      "###Test panel4D\n",
      "data_4d = { lev: data for lev in [1, 2, 5]}\n",
      "\n"
     ],
     "language": "python",
     "metadata": {},
     "outputs": [],
     "prompt_number": 53
    },
    {
     "cell_type": "code",
     "collapsed": false,
     "input": [
      "p4d = pd.Panel4D({lev: pd.Panel({d: pd.DataFrame(the_field) for d, the_field in the_data.iteritems()}) for lev, the_data in data_4d.iteritems()})"
     ],
     "language": "python",
     "metadata": {},
     "outputs": [],
     "prompt_number": 55
    },
    {
     "cell_type": "code",
     "collapsed": false,
     "input": [
      "p4d.values.shape"
     ],
     "language": "python",
     "metadata": {},
     "outputs": [
      {
       "metadata": {},
       "output_type": "pyout",
       "prompt_number": 56,
       "text": [
        "(3, 30, 5, 5)"
       ]
      }
     ],
     "prompt_number": 56
    },
    {
     "cell_type": "code",
     "collapsed": false,
     "input": [
      "tmean = p4d.apply(np.mean, axis=1)"
     ],
     "language": "python",
     "metadata": {},
     "outputs": [],
     "prompt_number": 60
    },
    {
     "cell_type": "code",
     "collapsed": false,
     "input": [
      "tmean.values.shape"
     ],
     "language": "python",
     "metadata": {},
     "outputs": [
      {
       "metadata": {},
       "output_type": "pyout",
       "prompt_number": 63,
       "text": [
        "(3, 5, 5)"
       ]
      }
     ],
     "prompt_number": 63
    },
    {
     "cell_type": "code",
     "collapsed": false,
     "input": [],
     "language": "python",
     "metadata": {},
     "outputs": [
      {
       "ename": "TypeError",
       "evalue": "cannot properly create the storer for: [_STORER_MAP] [group->/test/mltlf (Group) u'',value-><class 'pandas.core.panelnd.Panel4D'>,format->fixed,append->False,kwargs->{'encoding': None}]",
       "output_type": "pyerr",
       "traceback": [
        "\u001b[0;31m---------------------------------------------------------------------------\u001b[0m\n\u001b[0;31mTypeError\u001b[0m                                 Traceback (most recent call last)",
        "\u001b[0;32m<ipython-input-64-c117be962ff8>\u001b[0m in \u001b[0;36m<module>\u001b[0;34m()\u001b[0m\n\u001b[1;32m      1\u001b[0m \u001b[0mstore4d\u001b[0m \u001b[0;34m=\u001b[0m \u001b[0mpd\u001b[0m\u001b[0;34m.\u001b[0m\u001b[0mHDFStore\u001b[0m\u001b[0;34m(\u001b[0m\u001b[0;34m\"testpanel_4d.hdf5\"\u001b[0m\u001b[0;34m,\u001b[0m \u001b[0;34m\"w\"\u001b[0m\u001b[0;34m)\u001b[0m\u001b[0;34m\u001b[0m\u001b[0m\n\u001b[0;32m----> 2\u001b[0;31m \u001b[0mstore4d\u001b[0m\u001b[0;34m.\u001b[0m\u001b[0mput\u001b[0m\u001b[0;34m(\u001b[0m\u001b[0;34m\"/test/mltlf\"\u001b[0m\u001b[0;34m,\u001b[0m \u001b[0mp4d\u001b[0m\u001b[0;34m)\u001b[0m\u001b[0;34m\u001b[0m\u001b[0m\n\u001b[0m\u001b[1;32m      3\u001b[0m \u001b[0mstore4d\u001b[0m\u001b[0;34m.\u001b[0m\u001b[0mclose\u001b[0m\u001b[0;34m(\u001b[0m\u001b[0;34m)\u001b[0m\u001b[0;34m\u001b[0m\u001b[0m\n",
        "\u001b[0;32m/Users/huziy/virtualenvs/py2.7-default/lib/python2.7/site-packages/pandas/io/pytables.pyc\u001b[0m in \u001b[0;36mput\u001b[0;34m(self, key, value, format, append, **kwargs)\u001b[0m\n\u001b[1;32m    828\u001b[0m             \u001b[0mformat\u001b[0m \u001b[0;34m=\u001b[0m \u001b[0mget_option\u001b[0m\u001b[0;34m(\u001b[0m\u001b[0;34m\"io.hdf.default_format\"\u001b[0m\u001b[0;34m)\u001b[0m \u001b[0;32mor\u001b[0m \u001b[0;34m'fixed'\u001b[0m\u001b[0;34m\u001b[0m\u001b[0m\n\u001b[1;32m    829\u001b[0m         \u001b[0mkwargs\u001b[0m \u001b[0;34m=\u001b[0m \u001b[0mself\u001b[0m\u001b[0;34m.\u001b[0m\u001b[0m_validate_format\u001b[0m\u001b[0;34m(\u001b[0m\u001b[0mformat\u001b[0m\u001b[0;34m,\u001b[0m \u001b[0mkwargs\u001b[0m\u001b[0;34m)\u001b[0m\u001b[0;34m\u001b[0m\u001b[0m\n\u001b[0;32m--> 830\u001b[0;31m         \u001b[0mself\u001b[0m\u001b[0;34m.\u001b[0m\u001b[0m_write_to_group\u001b[0m\u001b[0;34m(\u001b[0m\u001b[0mkey\u001b[0m\u001b[0;34m,\u001b[0m \u001b[0mvalue\u001b[0m\u001b[0;34m,\u001b[0m \u001b[0mappend\u001b[0m\u001b[0;34m=\u001b[0m\u001b[0mappend\u001b[0m\u001b[0;34m,\u001b[0m \u001b[0;34m**\u001b[0m\u001b[0mkwargs\u001b[0m\u001b[0;34m)\u001b[0m\u001b[0;34m\u001b[0m\u001b[0m\n\u001b[0m\u001b[1;32m    831\u001b[0m \u001b[0;34m\u001b[0m\u001b[0m\n\u001b[1;32m    832\u001b[0m     \u001b[0;32mdef\u001b[0m \u001b[0mremove\u001b[0m\u001b[0;34m(\u001b[0m\u001b[0mself\u001b[0m\u001b[0;34m,\u001b[0m \u001b[0mkey\u001b[0m\u001b[0;34m,\u001b[0m \u001b[0mwhere\u001b[0m\u001b[0;34m=\u001b[0m\u001b[0mNone\u001b[0m\u001b[0;34m,\u001b[0m \u001b[0mstart\u001b[0m\u001b[0;34m=\u001b[0m\u001b[0mNone\u001b[0m\u001b[0;34m,\u001b[0m \u001b[0mstop\u001b[0m\u001b[0;34m=\u001b[0m\u001b[0mNone\u001b[0m\u001b[0;34m)\u001b[0m\u001b[0;34m:\u001b[0m\u001b[0;34m\u001b[0m\u001b[0m\n",
        "\u001b[0;32m/Users/huziy/virtualenvs/py2.7-default/lib/python2.7/site-packages/pandas/io/pytables.pyc\u001b[0m in \u001b[0;36m_write_to_group\u001b[0;34m(self, key, value, format, index, append, complib, encoding, **kwargs)\u001b[0m\n\u001b[1;32m   1259\u001b[0m \u001b[0;34m\u001b[0m\u001b[0m\n\u001b[1;32m   1260\u001b[0m         s = self._create_storer(group, format, value, append=append,\n\u001b[0;32m-> 1261\u001b[0;31m                                 encoding=encoding, **kwargs)\n\u001b[0m\u001b[1;32m   1262\u001b[0m         \u001b[0;32mif\u001b[0m \u001b[0mappend\u001b[0m\u001b[0;34m:\u001b[0m\u001b[0;34m\u001b[0m\u001b[0m\n\u001b[1;32m   1263\u001b[0m             \u001b[0;31m# raise if we are trying to append to a Fixed format,\u001b[0m\u001b[0;34m\u001b[0m\u001b[0;34m\u001b[0m\u001b[0m\n",
        "\u001b[0;32m/Users/huziy/virtualenvs/py2.7-default/lib/python2.7/site-packages/pandas/io/pytables.pyc\u001b[0m in \u001b[0;36m_create_storer\u001b[0;34m(self, group, format, value, append, **kwargs)\u001b[0m\n\u001b[1;32m   1184\u001b[0m                 \u001b[0;32mreturn\u001b[0m \u001b[0mglobals\u001b[0m\u001b[0;34m(\u001b[0m\u001b[0;34m)\u001b[0m\u001b[0;34m[\u001b[0m\u001b[0m_STORER_MAP\u001b[0m\u001b[0;34m[\u001b[0m\u001b[0mpt\u001b[0m\u001b[0;34m]\u001b[0m\u001b[0;34m]\u001b[0m\u001b[0;34m(\u001b[0m\u001b[0mself\u001b[0m\u001b[0;34m,\u001b[0m \u001b[0mgroup\u001b[0m\u001b[0;34m,\u001b[0m \u001b[0;34m**\u001b[0m\u001b[0mkwargs\u001b[0m\u001b[0;34m)\u001b[0m\u001b[0;34m\u001b[0m\u001b[0m\n\u001b[1;32m   1185\u001b[0m             \u001b[0;32mexcept\u001b[0m\u001b[0;34m:\u001b[0m\u001b[0;34m\u001b[0m\u001b[0m\n\u001b[0;32m-> 1186\u001b[0;31m                 \u001b[0merror\u001b[0m\u001b[0;34m(\u001b[0m\u001b[0;34m'_STORER_MAP'\u001b[0m\u001b[0;34m)\u001b[0m\u001b[0;34m\u001b[0m\u001b[0m\n\u001b[0m\u001b[1;32m   1187\u001b[0m \u001b[0;34m\u001b[0m\u001b[0m\n\u001b[1;32m   1188\u001b[0m         \u001b[0;31m# existing node (and must be a table)\u001b[0m\u001b[0;34m\u001b[0m\u001b[0;34m\u001b[0m\u001b[0m\n",
        "\u001b[0;32m/Users/huziy/virtualenvs/py2.7-default/lib/python2.7/site-packages/pandas/io/pytables.pyc\u001b[0m in \u001b[0;36merror\u001b[0;34m(t)\u001b[0m\n\u001b[1;32m   1149\u001b[0m                 \u001b[0;34m\"cannot properly create the storer for: [%s] [group->%s,\"\u001b[0m\u001b[0;34m\u001b[0m\u001b[0m\n\u001b[1;32m   1150\u001b[0m                 \u001b[0;34m\"value->%s,format->%s,append->%s,kwargs->%s]\"\u001b[0m\u001b[0;34m\u001b[0m\u001b[0m\n\u001b[0;32m-> 1151\u001b[0;31m                 \u001b[0;34m%\u001b[0m \u001b[0;34m(\u001b[0m\u001b[0mt\u001b[0m\u001b[0;34m,\u001b[0m \u001b[0mgroup\u001b[0m\u001b[0;34m,\u001b[0m \u001b[0mtype\u001b[0m\u001b[0;34m(\u001b[0m\u001b[0mvalue\u001b[0m\u001b[0;34m)\u001b[0m\u001b[0;34m,\u001b[0m \u001b[0mformat\u001b[0m\u001b[0;34m,\u001b[0m \u001b[0mappend\u001b[0m\u001b[0;34m,\u001b[0m \u001b[0mkwargs\u001b[0m\u001b[0;34m)\u001b[0m\u001b[0;34m\u001b[0m\u001b[0m\n\u001b[0m\u001b[1;32m   1152\u001b[0m             )\n\u001b[1;32m   1153\u001b[0m \u001b[0;34m\u001b[0m\u001b[0m\n",
        "\u001b[0;31mTypeError\u001b[0m: cannot properly create the storer for: [_STORER_MAP] [group->/test/mltlf (Group) u'',value-><class 'pandas.core.panelnd.Panel4D'>,format->fixed,append->False,kwargs->{'encoding': None}]"
       ]
      }
     ],
     "prompt_number": 64
    },
    {
     "cell_type": "code",
     "collapsed": false,
     "input": [
      "prices_dict = {\"bread\": 5, \"metro\": 80, \"rent\": 800}"
     ],
     "language": "python",
     "metadata": {},
     "outputs": [],
     "prompt_number": 5
    },
    {
     "cell_type": "code",
     "collapsed": false,
     "input": [
      "for i, (name, price) in enumerate(prices_dict.iteritems()):\n",
      "    print i, name, price"
     ],
     "language": "python",
     "metadata": {},
     "outputs": [
      {
       "output_type": "stream",
       "stream": "stdout",
       "text": [
        "0 rent 800\n",
        "1 metro 80\n",
        "2 bread 5\n"
       ]
      }
     ],
     "prompt_number": 7
    },
    {
     "cell_type": "code",
     "collapsed": false,
     "input": [
      "for i, name in enumerate(sorted(prices_dict)):\n",
      "    print i, name, prices_dict[name]"
     ],
     "language": "python",
     "metadata": {},
     "outputs": [
      {
       "output_type": "stream",
       "stream": "stdout",
       "text": [
        "0 bread 5\n",
        "1 metro 80\n",
        "2 rent 800\n"
       ]
      }
     ],
     "prompt_number": 8
    },
    {
     "cell_type": "code",
     "collapsed": false,
     "input": [],
     "language": "python",
     "metadata": {},
     "outputs": []
    }
   ],
   "metadata": {}
  }
 ]
}