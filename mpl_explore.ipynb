{
 "metadata": {
  "name": ""
 },
 "nbformat": 3,
 "nbformat_minor": 0,
 "worksheets": [
  {
   "cells": [
    {
     "cell_type": "code",
     "collapsed": false,
     "input": [
      "import matplotlib.pyplot as plt\n",
      "import numpy as np\n",
      "from matplotlib.ticker import ScalarFormatter\n",
      "\n",
      "fig = plt.figure()\n",
      "\n",
      "ax = plt.gca()\n",
      "x = np.arange(0, 100, 1)\n",
      "y = x ** 3\n",
      "ax.plot(x, y)\n",
      "\n",
      "\n",
      "\n",
      "#format y-axis labels\n",
      "sfmt = ScalarFormatter(useMathText=True)\n",
      "sfmt.set_powerlimits((-1,2))\n",
      "\n",
      "#print sfmt.set_scientific(False)\n",
      "\n",
      "ax.yaxis.set_major_formatter(sfmt)\n",
      "y = ax.yaxis\n",
      "\n",
      "import itertools as itt\n",
      "ms = list(itt.ifilter(lambda a: not a.startswith(\"_\"), dir(y)))\n",
      "print y.offsetText\n",
      "\n",
      "print [label.get_text() for label in y.get_ticklabels()]\n",
      "print y.offsetText.set_text( \"wiij\" )\n",
      "print y.offset_text_position\n",
      "\n",
      "plt.show()\n",
      "print y.offsetText"
     ],
     "language": "python",
     "metadata": {},
     "outputs": [
      {
       "output_type": "stream",
       "stream": "stdout",
       "text": [
        "Text(0,0.5,'')\n",
        "['', '', '', '', '', '']\n",
        "None\n",
        "left\n"
       ]
      },
      {
       "metadata": {},
       "output_type": "display_data",
       "png": "[encoded data removed]",
       "text": [
        "<matplotlib.figure.Figure at 0x10502ab50>"
       ]
      },
      {
       "output_type": "stream",
       "stream": "stdout",
       "text": [
        "Text(0,250.4,u'$\\\\times\\\\mathdefault{10^{6}}\\\\mathdefault{}$')\n"
       ]
      }
     ],
     "prompt_number": 4
    },
    {
     "cell_type": "code",
     "collapsed": false,
     "input": [
      "import re\n"
     ],
     "language": "python",
     "metadata": {},
     "outputs": [],
     "prompt_number": 66
    },
    {
     "cell_type": "code",
     "collapsed": false,
     "input": [
      "pattern = re.compile(\"^((([a-zA-Z]([a-zA-Z0-9_-]{0,61}[a-zA-Z0-9])?)|(([a-zA-Z0-9][a-zA-Z0-9_-]{0,61})?[a-zA-Z]))[.])+[a-zA-Z]+$\")"
     ],
     "language": "python",
     "metadata": {},
     "outputs": [],
     "prompt_number": 67
    },
    {
     "cell_type": "code",
     "collapsed": false,
     "input": [
      "the_match = pattern.match(\"www.example.com\")"
     ],
     "language": "python",
     "metadata": {},
     "outputs": [],
     "prompt_number": 89
    },
    {
     "cell_type": "code",
     "collapsed": false,
     "input": [
      "the_match.groups()"
     ],
     "language": "python",
     "metadata": {},
     "outputs": [
      {
       "metadata": {},
       "output_type": "pyout",
       "prompt_number": 90,
       "text": [
        "('example.', 'example', 'example', 'xample', None, None)"
       ]
      }
     ],
     "prompt_number": 90
    },
    {
     "cell_type": "code",
     "collapsed": false,
     "input": [
      "primes = [2,3,5,7,11,13,17,19,23,29,31,37,41,43,47,53,59,\n",
      " 61,67,71,73,79,83,89,97,101,103,107,109,113,127,\n",
      " 131,137,139,149,151,157,163,167,173,179,181,191,\n",
      " 193,197,199,211,223,227,229,233,239,241,251,257,\n",
      " 263,269,271, 277, 281, 283, 293,307,311,313]\n",
      "len(primes)\n",
      "\n",
      "h = [primes[i] ** 0.5 for i in range(8)]\n",
      "k = [primes[i] ** (1.0/3.0) for i in range(64)]\n",
      "\n",
      "import binascii\n",
      "s = \"And no more shall we part.\"\n",
      "\n",
      "for x in s:\n",
      "    print bin(ord(x))"
     ],
     "language": "python",
     "metadata": {},
     "outputs": [
      {
       "output_type": "stream",
       "stream": "stdout",
       "text": [
        "0b1000001\n",
        "0b1101110\n",
        "0b1100100\n",
        "0b100000\n",
        "0b1101110\n",
        "0b1101111\n",
        "0b100000\n",
        "0b1101101\n",
        "0b1101111\n",
        "0b1110010\n",
        "0b1100101\n",
        "0b100000\n",
        "0b1110011\n",
        "0b1101000\n",
        "0b1100001\n",
        "0b1101100\n",
        "0b1101100\n",
        "0b100000\n",
        "0b1110111\n",
        "0b1100101\n",
        "0b100000\n",
        "0b1110000\n",
        "0b1100001\n",
        "0b1110010\n",
        "0b1110100\n",
        "0b101110\n"
       ]
      }
     ],
     "prompt_number": 98
    },
    {
     "cell_type": "code",
     "collapsed": false,
     "input": [
      "hex(0xCB2A3B76 - binascii.crc32('away') + binascii.crc32(\"owly\"))"
     ],
     "language": "python",
     "metadata": {},
     "outputs": [
      {
       "metadata": {},
       "output_type": "pyout",
       "prompt_number": 111,
       "text": [
        "'0x117f94454'"
       ]
      }
     ],
     "prompt_number": 111
    },
    {
     "cell_type": "code",
     "collapsed": false,
     "input": [
      "print binascii.crc32(\"hello world\") \n",
      "# Or, in two pieces:\n",
      "crc = binascii.crc32(\"hello\")\n",
      "print 'crc32 = 0x%08x' % crc\n",
      "crc = binascii.crc32(\" world\", crc) & 0xffffffff\n",
      "print 'crc32 = 0x%08x' % crc"
     ],
     "language": "python",
     "metadata": {},
     "outputs": [
      {
       "output_type": "stream",
       "stream": "stdout",
       "text": [
        "222957957\n",
        "crc32 = 0x3610a686\n",
        "crc32 = 0x0d4a1185\n"
       ]
      }
     ],
     "prompt_number": 104
    },
    {
     "cell_type": "code",
     "collapsed": false,
     "input": [
      "a = 0xCB2A3B76\n",
      "b = 0x58D674F6"
     ],
     "language": "python",
     "metadata": {},
     "outputs": [],
     "prompt_number": 110
    },
    {
     "cell_type": "code",
     "collapsed": false,
     "input": [
      "bin(7)"
     ],
     "language": "python",
     "metadata": {},
     "outputs": [
      {
       "metadata": {},
       "output_type": "pyout",
       "prompt_number": 118,
       "text": [
        "'0b111'"
       ]
      }
     ],
     "prompt_number": 118
    },
    {
     "cell_type": "code",
     "collapsed": false,
     "input": [],
     "language": "python",
     "metadata": {},
     "outputs": []
    }
   ],
   "metadata": {}
  }
 ]
}