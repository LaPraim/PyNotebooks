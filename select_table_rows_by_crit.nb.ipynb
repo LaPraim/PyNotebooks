{
 "metadata": {
  "name": "select_table_rows_by_crit.nb"
 },
 "nbformat": 3,
 "nbformat_minor": 0,
 "worksheets": [
  {
   "cells": [
    {
     "cell_type": "code",
     "collapsed": false,
     "input": [
      "import numpy as np\n",
      "import time\n",
      "data = np.loadtxt('tmp/data.txt', skiprows=1)\n",
      "altitudes = np.array([10.5, 11.5, 14.0])\n",
      "\n",
      "tol = 0.01\n",
      "all_alts = data[:,0]\n",
      "#print all_alts\n",
      "all_alts_temp = np.vstack([all_alts]*len(altitudes))\n",
      "#print all_alts_temp\n",
      "\n",
      "t1 = time.clock()\n",
      "sel_alts_temp = np.vstack([altitudes]*len(all_alts)).transpose()\n",
      "#print sel_alts_temp\n",
      "sel_pattern = np.any( np.abs(all_alts_temp - sel_alts_temp) < tol, axis = 0)\n",
      "#print sel_pattern\n",
      "#print data\n",
      "selection = data[sel_pattern,:]\n",
      "print selection\n",
      "print time.clock() - t1"
     ],
     "language": "python",
     "metadata": {},
     "outputs": [
      {
       "output_type": "stream",
       "stream": "stdout",
       "text": [
        "[[    10.5      220.     24540.         0.389]\n",
        " [    11.5      216.7    20985.         0.337]\n",
        " [    14.       216.7    14170.         0.228]\n",
        " [    11.5      216.7    20985.         0.337]]\n",
        "0.001204\n"
       ]
      }
     ],
     "prompt_number": 122
    },
    {
     "cell_type": "code",
     "collapsed": false,
     "input": [
      "import time\n",
      "\n",
      "import pandas\n",
      "df = pandas.read_csv(\"tmp/data.txt\", sep=\"\\\\s\")\n",
      "df = df.dropna(axis = 1)\n",
      "\n",
      "t1 = time.clock()\n",
      "selection = df.select(lambda i: df.ix[i, \"alt\"] in altitudes)\n",
      "print selection\n",
      "print time.clock() - t1"
     ],
     "language": "python",
     "metadata": {},
     "outputs": [
      {
       "output_type": "stream",
       "stream": "stdout",
       "text": [
        "     alt   temp  press   dens\n",
        "1   10.5  220.0  24540  0.389\n",
        "3   11.5  216.7  20985  0.337\n",
        "8   14.0  216.7  14170  0.228\n",
        "10  11.5  216.7  20985  0.337\n",
        "0.004205\n"
       ]
      }
     ],
     "prompt_number": 123
    },
    {
     "cell_type": "code",
     "collapsed": false,
     "input": [
      "tol = 0.01\n",
      "t1 = time.clock()\n",
      "d = data[np.any([np.abs(data[:,0] - x) < tol for x in altitudes],axis=0)]\n",
      "print d\n",
      "print time.clock() - t1"
     ],
     "language": "python",
     "metadata": {},
     "outputs": [
      {
       "output_type": "stream",
       "stream": "stdout",
       "text": [
        "[[    10.5      220.     24540.         0.389]\n",
        " [    11.5      216.7    20985.         0.337]\n",
        " [    14.       216.7    14170.         0.228]\n",
        " [    11.5      216.7    20985.         0.337]]\n",
        "0.001088\n"
       ]
      }
     ],
     "prompt_number": 124
    },
    {
     "cell_type": "code",
     "collapsed": false,
     "input": [
      "\n",
      "from datetime import datetime, timedelta\n",
      "\n",
      "t = datetime.now()\n",
      "dt = timedelta(hours = 5)\n",
      "ts = pandas.TimeSeries({t:1, t+dt:2, t+2*dt:3})"
     ],
     "language": "python",
     "metadata": {},
     "outputs": [],
     "prompt_number": 110
    },
    {
     "cell_type": "code",
     "collapsed": false,
     "input": [
      "ts.groupby(by=lambda t: t.hour)\n",
      "ts1 = pandas.TimeSeries({t:1, t+10*dt:2, t+200*dt:3})\n",
      "\n",
      "ts2 = ts.append(ts1)\n",
      "\n",
      "ts3 = ts2.groupby(by=lambda t: t.year).mean()\n",
      "print type(ts3), ts3.describe()\n",
      "print ts3.to_dict()\n",
      "\n",
      "print ts2\n",
      "print 10 * \"--\"\n",
      "print ts"
     ],
     "language": "python",
     "metadata": {},
     "outputs": [
      {
       "output_type": "stream",
       "stream": "stdout",
       "text": [
        "<class 'pandas.core.series.Series'> count     1\n",
        "mean      2\n",
        "std     NaN\n",
        "min       2\n",
        "25%       2\n",
        "50%       2\n",
        "75%       2\n",
        "max       2\n",
        "{2012: 2.0}\n",
        "2012-11-13 12:30:11.621189    1\n",
        "2012-11-13 17:30:11.621189    2\n",
        "2012-11-13 22:30:11.621189    3\n",
        "2012-11-13 12:30:11.621189    1\n",
        "2012-11-15 14:30:11.621189    2\n",
        "2012-12-25 04:30:11.621189    3\n",
        "--------------------\n",
        "2012-11-13 12:30:11.621189    1\n",
        "2012-11-13 17:30:11.621189    2\n",
        "2012-11-13 22:30:11.621189    3\n"
       ]
      }
     ],
     "prompt_number": 96
    },
    {
     "cell_type": "code",
     "collapsed": false,
     "input": [],
     "language": "python",
     "metadata": {},
     "outputs": []
    }
   ],
   "metadata": {}
  }
 ]
}