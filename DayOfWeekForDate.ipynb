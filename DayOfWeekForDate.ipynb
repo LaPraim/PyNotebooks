{
 "metadata": {
  "name": "DayOfWeekForDate"
 },
 "nbformat": 3,
 "nbformat_minor": 0,
 "worksheets": [
  {
   "cells": [
    {
     "cell_type": "code",
     "collapsed": false,
     "input": [
      "import calendar\n",
      "daysOfWeek = [\"Mon\", \"Tue\", \"Wed\", \"Thu\", \"Fri\", \"Sat\", \"Sun\"]\n",
      "def get_weekdays(year, month, day, nyears = 20):\n",
      "    for aYear in range(year, year + nyears):\n",
      "        weekDay = calendar.weekday(aYear, month, day)\n",
      "        print \"{0:02d}/{1:02d}/{2} is on {3}\".format(day,month,aYear,daysOfWeek[weekDay])\n",
      "        \n"
     ],
     "language": "python",
     "metadata": {},
     "outputs": [],
     "prompt_number": 7
    },
    {
     "cell_type": "code",
     "collapsed": false,
     "input": [
      "\n",
      "day = 22\n",
      "month = 7\n",
      "\n",
      "for year in range(2012, 2030):\n",
      "    weekDay = calendar.weekday(year, month, day)\n",
      "    print \"{0:02d}/{1:02d}/{2} is on {3}\".format(day,month,year,daysOfWeek[weekDay])"
     ],
     "language": "python",
     "metadata": {},
     "outputs": [
      {
       "output_type": "stream",
       "stream": "stdout",
       "text": [
        "22/07/2012 is on Sun\n",
        "22/07/2013 is on Mon\n",
        "22/07/2014 is on Tue\n",
        "22/07/2015 is on Wed\n",
        "22/07/2016 is on Fri\n",
        "22/07/2017 is on Sat\n",
        "22/07/2018 is on Sun\n",
        "22/07/2019 is on Mon\n",
        "22/07/2020 is on Wed\n",
        "22/07/2021 is on Thu\n",
        "22/07/2022 is on Fri\n",
        "22/07/2023 is on Sat\n",
        "22/07/2024 is on Mon\n",
        "22/07/2025 is on Tue\n",
        "22/07/2026 is on Wed\n",
        "22/07/2027 is on Thu\n",
        "22/07/2028 is on Sat\n",
        "22/07/2029 is on Sun\n"
       ]
      }
     ],
     "prompt_number": 8
    },
    {
     "cell_type": "code",
     "collapsed": false,
     "input": [],
     "language": "python",
     "metadata": {},
     "outputs": [],
     "prompt_number": 8
    },
    {
     "cell_type": "code",
     "collapsed": false,
     "input": [
      "get_weekdays(1985,4, 23)"
     ],
     "language": "python",
     "metadata": {},
     "outputs": [
      {
       "output_type": "stream",
       "stream": "stdout",
       "text": [
        "23/04/1985 is on Tue\n",
        "23/04/1986 is on Wed\n",
        "23/04/1987 is on Thu\n",
        "23/04/1988 is on Sat\n",
        "23/04/1989 is on Sun\n",
        "23/04/1990 is on Mon\n",
        "23/04/1991 is on Tue\n",
        "23/04/1992 is on Thu\n",
        "23/04/1993 is on Fri\n",
        "23/04/1994 is on Sat\n",
        "23/04/1995 is on Sun\n",
        "23/04/1996 is on Tue\n",
        "23/04/1997 is on Wed\n",
        "23/04/1998 is on Thu\n",
        "23/04/1999 is on Fri\n",
        "23/04/2000 is on Sun\n",
        "23/04/2001 is on Mon\n",
        "23/04/2002 is on Tue\n",
        "23/04/2003 is on Wed\n",
        "23/04/2004 is on Fri\n"
       ]
      }
     ],
     "prompt_number": 9
    },
    {
     "cell_type": "code",
     "collapsed": false,
     "input": [
      "get_weekdays(1986,1, 31, nyears=40)"
     ],
     "language": "python",
     "metadata": {},
     "outputs": [
      {
       "output_type": "stream",
       "stream": "stdout",
       "text": [
        "31/01/1986 is on Fri\n",
        "31/01/1987 is on Sat\n",
        "31/01/1988 is on Sun\n",
        "31/01/1989 is on Tue\n",
        "31/01/1990 is on Wed\n",
        "31/01/1991 is on Thu\n",
        "31/01/1992 is on Fri\n",
        "31/01/1993 is on Sun\n",
        "31/01/1994 is on Mon\n",
        "31/01/1995 is on Tue\n",
        "31/01/1996 is on Wed\n",
        "31/01/1997 is on Fri\n",
        "31/01/1998 is on Sat\n",
        "31/01/1999 is on Sun\n",
        "31/01/2000 is on Mon\n",
        "31/01/2001 is on Wed\n",
        "31/01/2002 is on Thu\n",
        "31/01/2003 is on Fri\n",
        "31/01/2004 is on Sat\n",
        "31/01/2005 is on Mon\n",
        "31/01/2006 is on Tue\n",
        "31/01/2007 is on Wed\n",
        "31/01/2008 is on Thu\n",
        "31/01/2009 is on Sat\n",
        "31/01/2010 is on Sun\n",
        "31/01/2011 is on Mon\n",
        "31/01/2012 is on Tue\n",
        "31/01/2013 is on Thu\n",
        "31/01/2014 is on Fri\n",
        "31/01/2015 is on Sat\n",
        "31/01/2016 is on Sun\n",
        "31/01/2017 is on Tue\n",
        "31/01/2018 is on Wed\n",
        "31/01/2019 is on Thu\n",
        "31/01/2020 is on Fri\n",
        "31/01/2021 is on Sun\n",
        "31/01/2022 is on Mon\n",
        "31/01/2023 is on Tue\n",
        "31/01/2024 is on Wed\n",
        "31/01/2025 is on Fri\n"
       ]
      }
     ],
     "prompt_number": 10
    },
    {
     "cell_type": "code",
     "collapsed": false,
     "input": [
      "get_weekdays(1980,12,2)"
     ],
     "language": "python",
     "metadata": {},
     "outputs": [
      {
       "output_type": "stream",
       "stream": "stdout",
       "text": [
        "02/12/1980 is on Tue\n",
        "02/12/1981 is on Wed\n",
        "02/12/1982 is on Thu\n",
        "02/12/1983 is on Fri\n",
        "02/12/1984 is on Sun\n",
        "02/12/1985 is on Mon\n",
        "02/12/1986 is on Tue\n",
        "02/12/1987 is on Wed\n",
        "02/12/1988 is on Fri\n",
        "02/12/1989 is on Sat\n",
        "02/12/1990 is on Sun\n",
        "02/12/1991 is on Mon\n",
        "02/12/1992 is on Wed\n",
        "02/12/1993 is on Thu\n",
        "02/12/1994 is on Fri\n",
        "02/12/1995 is on Sat\n",
        "02/12/1996 is on Mon\n",
        "02/12/1997 is on Tue\n",
        "02/12/1998 is on Wed\n",
        "02/12/1999 is on Thu\n"
       ]
      }
     ],
     "prompt_number": 11
    },
    {
     "cell_type": "code",
     "collapsed": false,
     "input": [
      "get_weekdays(1956,2,19)"
     ],
     "language": "python",
     "metadata": {},
     "outputs": [
      {
       "output_type": "stream",
       "stream": "stdout",
       "text": [
        "19/02/1956 is on Sun\n",
        "19/02/1957 is on Tue\n",
        "19/02/1958 is on Wed\n",
        "19/02/1959 is on Thu\n",
        "19/02/1960 is on Fri\n",
        "19/02/1961 is on Sun\n",
        "19/02/1962 is on Mon\n",
        "19/02/1963 is on Tue\n",
        "19/02/1964 is on Wed\n",
        "19/02/1965 is on Fri\n",
        "19/02/1966 is on Sat\n",
        "19/02/1967 is on Sun\n",
        "19/02/1968 is on Mon\n",
        "19/02/1969 is on Wed\n",
        "19/02/1970 is on Thu\n",
        "19/02/1971 is on Fri\n",
        "19/02/1972 is on Sat\n",
        "19/02/1973 is on Mon\n",
        "19/02/1974 is on Tue\n",
        "19/02/1975 is on Wed\n"
       ]
      }
     ],
     "prompt_number": 12
    },
    {
     "cell_type": "code",
     "collapsed": false,
     "input": [],
     "language": "python",
     "metadata": {},
     "outputs": [],
     "prompt_number": 12
    }
   ],
   "metadata": {}
  }
 ]
}