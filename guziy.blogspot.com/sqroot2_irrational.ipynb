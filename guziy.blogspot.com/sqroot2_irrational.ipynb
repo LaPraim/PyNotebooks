{
 "cells": [
  {
   "cell_type": "markdown",
   "metadata": {},
   "source": [
    "# Prooving that $\\sqrt{2}$ is irrational\n",
    "\n",
    "In this post I would like to tell you about a math problem that I encountered for the first time during my 9th grade math exam. I guess I was 15 years old back then. The question, if I remember correctly, was to proove that $\\sqrt{2}$ is irrational. At the exam I was trying to proove it assuming that the inverse statement is true, i.e. assuming that $\\sqrt{2}$ is rational. So basically I did the following:\n",
    "\n",
    "$$\n",
    "\\sqrt{2} \\in Q \\Rightarrow \\text{ exist } m, n \\in Z \\text{ such that } \\sqrt{2} = \\frac{m}{n}\\Rightarrow m = n \\sqrt{2}\n",
    "$$\n",
    "\n",
    "And stopped there saying that this is a contradiction because of the whole number on the left and real numer on the right, but the fact that $n\\sqrt{2}$ is a real number requires proof not less than the initial problem statement. I guess I got 0 points for the proof like that. I remember that I did very bad at that exam, and the mark was low (almost failed). It nevertheless taught me to never leave an exam even if completed in advance, so at all my following exams at school and the university I was double checking my solutions If I had time and had never left an exam before the alocated time elapsed.\n",
    "\n",
    "But, surprisingly, I have never got back to this problem afterwards. Until, 20 years later, my wife got the same question as homework. At that point I decided to revisit it. Please see my solution below, still using the contrary assertion:\n",
    "\n",
    "\\begin{equation}\n",
    "\\text{Let } \\sqrt{2} \\in Q \\Rightarrow \\text{ exist } m, n \\in Z \\text{ such that } \\sqrt{2} = \\frac{m}{n}\\Rightarrow m = n \\sqrt{2} \\Rightarrow \\boxed{m^2 = 2 n^2}\n",
    "\\end{equation}\n",
    "\n",
    "$$\n",
    "\\text{Exist } k, l = 0, 1, 2, ..., +\\infty \\text{ such that } \n",
    "\\left\\{\\begin{array}{l}\n",
    "&m=2^k\\cdot m_1\\\\\n",
    "&n=2^l\\cdot n_1\\\\\n",
    "\\end{array}\\right.\n",
    "$$\n",
    "\n",
    "where $m_1, n_1$ are odd.\n",
    "\n",
    "Substituting the above expressions for $m$ and $n$ into the last part of the equation $m^2 = 2 n^2$, we get:\n",
    "\n",
    "$$\n",
    "2^{2k} m_1^2 = 2^{2l + 1} n_1^2,\n",
    "$$\n",
    "\n",
    "where $m_1^2, n_1^2$ are odd, because $m_1$ and $n_1$ are odd.\n",
    "\n",
    "In order to be equal the left and right parts should have equal powers of each divisor. Therefore for the divisor 2 it is necessary that $2k = 2l + 1$, which is not possible, since the sets of odd and even numbers do not intersect. Since our assumption that $\\sqrt{2} \\in Q$ leads to a contradiction we conclude that the inverse to our initial assumption is true, i.e. $\\sqrt{2} \\notin Q$.\n"
   ]
  },
  {
   "cell_type": "markdown",
   "metadata": {},
   "source": []
  }
 ],
 "metadata": {
  "kernelspec": {
   "display_name": "Python 3",
   "language": "python",
   "name": "python3"
  },
  "language_info": {
   "codemirror_mode": {
    "name": "ipython",
    "version": 3
   },
   "file_extension": ".py",
   "mimetype": "text/x-python",
   "name": "python",
   "nbconvert_exporter": "python",
   "pygments_lexer": "ipython3",
   "version": "3.7.3"
  }
 },
 "nbformat": 4,
 "nbformat_minor": 2
}
