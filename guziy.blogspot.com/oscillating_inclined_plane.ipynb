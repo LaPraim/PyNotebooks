{
 "cells": [
  {
   "cell_type": "markdown",
   "metadata": {},
   "source": [
    "# Physics problem: A mass on an oscillating inclined plane\n",
    "\n",
    "This problem comes from the problem book by Savchenko et al. which I mentions on the blog before. Since I am posting it here, it means that the solution took me quite long time and I have still some points that are not completely clear to me (hoping someone will comment and clarify it for me :-)).\n",
    "\n",
    "**Problem statement** \n",
    "\n",
    "Given an inclined plane at an angle $\\alpha$ with respect to the horizon. The plane is oscillating harmonically at high frequency along the axis parallel to its surface and making the same angle $\\alpha$ with respect to the horizon (as shown in Fig. 1). The maximum speed of the oscillating plane is $v_0$. An object is then placed on the inclied plane. The friction coefficient between the plane and the object is $\\mu$. Assuming that $\\mu \\ll \\tan\\alpha$ determine how would the object move and its mean velocity after a long period of time.\n",
    "\n",
    "**Solution**\n",
    "\n",
    "We will consider the object in the reference system tight to the oscillating plane. In this reference system there would be the inertial force (varying harmonically) acting on the object and the object will oscillate up and down the inclined plane. Since the frequency of the oscillations of the plane is high, then we can consider that there are two two states of the object: it is moving upwards and downwards with respect to the plane. So the object will be oscillating on the plane up and down. \n",
    "\n",
    "Let's take $T$ to be the period of the oscillation motion of the object."
   ]
  },
  {
   "cell_type": "code",
   "execution_count": null,
   "metadata": {},
   "outputs": [],
   "source": []
  }
 ],
 "metadata": {
  "kernelspec": {
   "display_name": "Python 3",
   "language": "python",
   "name": "python3"
  },
  "language_info": {
   "codemirror_mode": {
    "name": "ipython",
    "version": 3
   },
   "file_extension": ".py",
   "mimetype": "text/x-python",
   "name": "python",
   "nbconvert_exporter": "python",
   "pygments_lexer": "ipython3",
   "version": "3.7.3"
  }
 },
 "nbformat": 4,
 "nbformat_minor": 2
}
