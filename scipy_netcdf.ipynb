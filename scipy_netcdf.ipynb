{
 "metadata": {
  "name": "",
  "signature": "sha256:432d7d4fc570f6dc86aa5846594cf48d23e230f978c75656d856b44392d520f8"
 },
 "nbformat": 3,
 "nbformat_minor": 0,
 "worksheets": [
  {
   "cells": [
    {
     "cell_type": "code",
     "collapsed": false,
     "input": [
      "import numpy as np\n",
      "import scipy.io.netcdf as CDF\n",
      "f = CDF.netcdf_file('simple.nc', 'w')\n",
      "f.createDimension('time', 10)\n",
      "time = f.createVariable('time', 'i', ('time',))\n",
      "time[:] = np.arange(10)\n",
      "nodimvar = f.createVariable('nodimvar','f8',()) # Guessing this creates a scalar variable. \n",
      "nodimvar.assignValue(8.0) # nodimvar[:] fails with an error. Scalar not indexable. \n",
      "f.close()\n",
      "\n",
      "f = CDF.netcdf_file('simple.nc', 'r')\n",
      "print f.variables.keys()\n",
      "print f.variables['time'][:]\n",
      "print f.variables['nodimvar'] # Does not print variable value, just the object.\n",
      "the_var = f.variables['nodimvar'] # Error, scalar is not indexable.\n",
      "print the_var.getValue()\n",
      "f.close()"
     ],
     "language": "python",
     "metadata": {},
     "outputs": [
      {
       "output_type": "stream",
       "stream": "stdout",
       "text": [
        "['nodimvar', 'time']\n",
        "[0 1 2 3 4 5 6 7 8 9]\n",
        "<scipy.io.netcdf.netcdf_variable object at 0x3cb8090>\n",
        "8.0\n"
       ]
      }
     ],
     "prompt_number": 11
    },
    {
     "cell_type": "code",
     "collapsed": false,
     "input": [
      "%%bash \n",
      "ncdump -h simple.nc\n"
     ],
     "language": "python",
     "metadata": {},
     "outputs": [
      {
       "output_type": "stream",
       "stream": "stdout",
       "text": [
        "netcdf simple {\n",
        "dimensions:\n",
        "\ttime = 10 ;\n",
        "variables:\n",
        "\tdouble nodimvar ;\n",
        "\tint time(time) ;\n",
        "}\n"
       ]
      }
     ],
     "prompt_number": 8
    },
    {
     "cell_type": "code",
     "collapsed": false,
     "input": [
      "the_var."
     ],
     "language": "python",
     "metadata": {},
     "outputs": []
    }
   ],
   "metadata": {}
  }
 ]
}