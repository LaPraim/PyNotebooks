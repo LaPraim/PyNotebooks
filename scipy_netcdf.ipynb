{
 "metadata": {
  "name": "",
  "signature": "sha256:76af31b8ab49df28744d7b27e3f7f9c7966a2b4952e67096105650aaa231ce0c"
 },
 "nbformat": 3,
 "nbformat_minor": 0,
 "worksheets": [
  {
   "cells": [
    {
     "cell_type": "code",
     "collapsed": false,
     "input": [
      "import numpy as np\n",
      "import scipy.io.netcdf as CDF\n",
      "f = CDF.netcdf_file('simple.nc', 'w')\n",
      "f.createDimension('time', 10)\n",
      "time = f.createVariable('time', 'i', ('time',))\n",
      "time[:] = np.arange(10)\n",
      "nodimvar = f.createVariable('nodimvar','f8',()) # Guessing this creates a scalar variable. \n",
      "nodimvar.assignValue(8.0) # nodimvar[:] fails with an error. Scalar not indexable. \n",
      "f.close()\n",
      "\n",
      "f = CDF.netcdf_file('simple.nc', 'r')\n",
      "print f.variables.keys()\n",
      "print f.variables['time'][:]\n",
      "print f.variables['nodimvar'] # Does not print variable value, just the object.\n",
      "the_var = f.variables['nodimvar'] \n",
      "print the_var.getValue()\n",
      "f.close()"
     ],
     "language": "python",
     "metadata": {},
     "outputs": [
      {
       "output_type": "stream",
       "stream": "stdout",
       "text": [
        "['nodimvar', 'time']\n",
        "[0 1 2 3 4 5 6 7 8 9]\n",
        "<scipy.io.netcdf.netcdf_variable object at 0x105a3c890>\n",
        "8.0\n"
       ]
      }
     ],
     "prompt_number": 11
    },
    {
     "cell_type": "code",
     "collapsed": false,
     "input": [
      "%%bash \n",
      "ncdump -h simple.nc\n"
     ],
     "language": "python",
     "metadata": {},
     "outputs": [
      {
       "output_type": "stream",
       "stream": "stdout",
       "text": [
        "netcdf simple {\n",
        "dimensions:\n",
        "\ttime = 10 ;\n",
        "variables:\n",
        "\tdouble nodimvar ;\n",
        "\tint time(time) ;\n",
        "}\n"
       ]
      }
     ],
     "prompt_number": 10
    },
    {
     "cell_type": "code",
     "collapsed": false,
     "input": [
      "%%bash \n",
      "ncdump simple.nc"
     ],
     "language": "python",
     "metadata": {},
     "outputs": [
      {
       "output_type": "stream",
       "stream": "stdout",
       "text": [
        "netcdf simple {\n",
        "dimensions:\n",
        "\ttime = 10 ;\n",
        "variables:\n",
        "\tdouble nodimvar ;\n",
        "\tint time(time) ;\n",
        "data:\n",
        "\n",
        " nodimvar = 8 ;\n",
        "\n",
        " time = 0, 1, 2, 3, 4, 5, 6, 7, 8, 9 ;\n",
        "}\n"
       ]
      }
     ],
     "prompt_number": 12
    },
    {
     "cell_type": "code",
     "collapsed": false,
     "input": [],
     "language": "python",
     "metadata": {},
     "outputs": []
    }
   ],
   "metadata": {}
  }
 ]
}