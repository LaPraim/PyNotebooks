{
 "metadata": {
  "name": ""
 },
 "nbformat": 3,
 "nbformat_minor": 0,
 "worksheets": [
  {
   "cells": [
    {
     "cell_type": "markdown",
     "metadata": {
      "slideshow": {
       "slide_type": "slide"
      }
     },
     "source": [
      "Data handling and visualization using Python\n",
      "=============================================\n",
      "\n",
      "\n",
      "\n",
      "\n",
      "###CNRCWP: student workshop\n",
      "\n",
      "\n",
      "#UQ\u00c0M\n",
      "\n",
      "##### Oleksandr (Sasha) Huziy\n",
      "\n",
      "\n"
     ]
    },
    {
     "cell_type": "markdown",
     "metadata": {
      "slideshow": {
       "slide_type": "slide"
      }
     },
     "source": [
      "Outline\n",
      "========\n",
      "\n",
      "* ##Python basics\n",
      "\n",
      "* ##Libraries for scientific computing\n",
      "    * NumPy/SciPy\n",
      "\n",
      "* ##Handling NetCDF4 files\n",
      "\n",
      "* ##Plotting libraries\n",
      "    * matplotlib\n",
      "    * basemap\n",
      "    \n",
      "* ## Interpolation using ``KDTree``\n",
      "\n"
     ]
    },
    {
     "cell_type": "markdown",
     "metadata": {
      "slideshow": {
       "slide_type": "slide"
      }
     },
     "source": [
      "netcdf4-python\n",
      "=================\n",
      "The python module that for reading and writing NetCDF files in python, created by Jeff Whitaker. \n",
      "Requires installation of C libraries:\n",
      "\n",
      "* NetCDF4\n",
      "* HDF5\n",
      "\n",
      "\n"
     ]
    },
    {
     "cell_type": "markdown",
     "metadata": {
      "slideshow": {
       "slide_type": "subslide"
      }
     },
     "source": [
      "Below is the example using the **netcdf4-python** library."
     ]
    },
    {
     "cell_type": "code",
     "collapsed": false,
     "input": [
      "from netCDF4 import Dataset\n",
      "import numpy as np\n",
      "\n",
      "##Create netcdf file\n",
      "## Create a file with 3 dimensions time, x, y and 2 variables field1 and field2\n",
      "file_name = \"test.nc\"\n",
      "#open the file\n",
      "ds = Dataset(file_name, \"w\")\n",
      "ds.createDimension(\"x\", 20)\n",
      "ds.createDimension(\"y\", 20)\n",
      "ds.createDimension(\"time\", None)\n",
      "var1 = ds.createVariable(\"field1\", \"f4\", (\"time\", \"x\", \"y\"))\n",
      "var2 = ds.createVariable(\"field2\", \"f4\", (\"time\", \"x\", \"y\"))\n",
      "\n",
      "#generate random data and tell to the program where it should go\n",
      "data = np.random.randn(10, 20, 20)\n",
      "var1[:] = data\n",
      "var2[:] = 10 * data + 10\n",
      "#actually write data to the disk\n",
      "ds.close()\n",
      "\n",
      "#read the file we've just created\n",
      "ds1 = Dataset(file_name)\n",
      "\n",
      "#get variable names\n",
      "print ds1.variables.keys()\n",
      "ds1.close()"
     ],
     "language": "python",
     "metadata": {
      "slideshow": {
       "slide_type": "fragment"
      }
     },
     "outputs": [
      {
       "output_type": "stream",
       "stream": "stdout",
       "text": [
        "[u'field1', u'field2']\n"
       ]
      }
     ],
     "prompt_number": 11
    },
    {
     "cell_type": "markdown",
     "metadata": {
      "slideshow": {
       "slide_type": "slide"
      }
     },
     "source": [
      "matplotlib\n",
      "============\n",
      "\n",
      "The module for creating publiation quality plots (mainly 2D), created by John Hunter. \n",
      "An alternative is PyNGL - a wrapper around NCL developed at NCAR.\n",
      "\n",
      "Let us draw the data we just saved to the netcdf file."
     ]
    },
    {
     "cell_type": "code",
     "collapsed": false,
     "input": [
      "import matplotlib.pyplot as plt\n",
      "from netCDF4 import Dataset\n",
      "from matplotlib.colors import BoundaryNorm\n",
      "from matplotlib import cm\n",
      "\n",
      "ds = Dataset(\"test.nc\")\n",
      "#now data is a netcdf4 Variable object, which contain only links to the data\n",
      "data = ds.variables[\"field1\"]\n",
      "#now we ask to really read the data into the memory\n",
      "all_data = data[:]\n",
      "#print all_data.shape\n",
      "data1 = data[1,:,:]\n",
      "data2 = ds.variables[\"field2\"][2,:,:]"
     ],
     "language": "python",
     "metadata": {
      "slideshow": {
       "slide_type": "fragment"
      }
     },
     "outputs": [],
     "prompt_number": 3
    },
    {
     "cell_type": "code",
     "collapsed": false,
     "input": [
      "#print data1.shape\n",
      "fig, axes = plt.subplots(nrows=1, ncols=3)\n",
      "\n",
      "levels = [-30,-10, -3,-1,0,1,3,10,30,40]\n",
      "norm = BoundaryNorm(levels, len(levels) - 1)\n",
      "cmap = cm.get_cmap(\"jet\", len(levels) - 1)\n",
      "\n",
      "im1 = axes[0].contourf(data1.transpose(), levels = levels, norm = norm, cmap = cmap)\n",
      "#plt.colorbar(im1, ax = axes[0])\n",
      "im2 = axes[1].contourf(data2.transpose(), levels = levels, norm = norm, cmap = cmap)\n",
      "axes[1].set_yticks([])\n",
      "axes[2].set_aspect(20)\n",
      "\n",
      "plt.colorbar(im2, cax = axes[2]) \n",
      "#to save figures directly to files use fig.savefig(\"filename\")"
     ],
     "language": "python",
     "metadata": {
      "slideshow": {
       "slide_type": "slide"
      }
     },
     "outputs": [
      {
       "metadata": {},
       "output_type": "pyout",
       "prompt_number": 10,
       "text": [
        "<matplotlib.colorbar.Colorbar instance at 0x40be638>"
       ]
      },
      {
       "metadata": {},
       "output_type": "display_data",
       "png": "[encoded data removed]",
       "text": [
        "<matplotlib.figure.Figure at 0x3f345d0>"
       ]
      }
     ],
     "prompt_number": 10
    },
    {
     "cell_type": "code",
     "collapsed": true,
     "input": [],
     "language": "python",
     "metadata": {
      "slideshow": {
       "slide_type": "slide"
      }
     },
     "outputs": []
    }
   ],
   "metadata": {}
  }
 ]
}