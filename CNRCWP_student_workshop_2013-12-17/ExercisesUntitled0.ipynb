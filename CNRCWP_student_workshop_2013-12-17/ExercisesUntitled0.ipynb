{
 "metadata": {
  "name": ""
 },
 "nbformat": 3,
 "nbformat_minor": 0,
 "worksheets": [
  {
   "cells": [
    {
     "cell_type": "markdown",
     "metadata": {},
     "source": [
      "Exercises for Python tutorial\n",
      "=======\n",
      "\n",
      "Syntax and basic constructs\n",
      "------\n",
      "\n",
      "1. Write a function called `post_message` with one positional argument (message) and a named argument (author, default should be your name), when `message = \"Hello\"` and `name = \"xxx\"` the function should print \"xxx says: Hello\"\n",
      "\n",
      "2. Save the function `post_message` to the file `post_helper.py` and then call this function from another file `do_post.py`\n",
      "\n",
      "3. Calculate 20 first fibonacci numbers\n",
      "\n",
      "4. Create a class Person and a \n",
      "\n",
      "Useful builtin modules and classes, data containers\n",
      "----\n",
      "\n",
      "1. Create 20 objects of class Person with name and age fields. Put them into a list and print sorted by name, sorted by age\n",
      "\n",
      "2. (Problem on dict)\n",
      "\n",
      "3. Check if a string is a palindrome\n",
      "\n",
      "4. Problem with dates (How old are you in days, weeks)\n",
      "\n",
      "5. Iterators, groupby\n",
      "\n",
      "\n",
      "NetCDF4\n",
      "---\n",
      "\n",
      "1. Write a 3d field into a netcdf file with dimensions (time, longitude, latitude). The field is a random 2D field with the first record corresponding to 2001-01-01 and the last to 2005-01-01. The time step is 12 hours.\n",
      "\n",
      "2. \n",
      "\n",
      "\n"
     ]
    },
    {
     "cell_type": "code",
     "collapsed": false,
     "input": [],
     "language": "python",
     "metadata": {},
     "outputs": []
    }
   ],
   "metadata": {}
  }
 ]
}