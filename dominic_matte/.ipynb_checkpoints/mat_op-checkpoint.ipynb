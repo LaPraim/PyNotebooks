{
 "cells": [
  {
   "cell_type": "code",
   "execution_count": 1,
   "metadata": {
    "collapsed": true
   },
   "outputs": [],
   "source": [
    "import numpy as np"
   ]
  },
  {
   "cell_type": "code",
   "execution_count": 7,
   "metadata": {
    "collapsed": true
   },
   "outputs": [],
   "source": [
    "TT = np.random.randn(10, 10)\n",
    "\n",
    "TT = np.ma.masked_where(TT < 1, TT)"
   ]
  },
  {
   "cell_type": "code",
   "execution_count": 8,
   "metadata": {
    "collapsed": false
   },
   "outputs": [
    {
     "data": {
      "text/plain": [
       "masked_array(data =\n",
       " [[-- -- -- -- -- -- -- 1.7167681845380212 -- --]\n",
       " [-- -- -- -- -- -- -- -- -- --]\n",
       " [-- -- -- -- -- -- -- -- -- --]\n",
       " [1.163475393426306 -- -- -- -- -- 1.8709957065201255 -- --\n",
       "  2.160959890130978]\n",
       " [1.0603953271595716 -- -- -- -- -- -- 1.0581985210043254 -- --]\n",
       " [-- 2.1238472712449905 -- -- -- 1.2302757738444206 -- -- -- --]\n",
       " [-- -- -- -- -- 1.993424012206332 -- -- 1.599130074352693 --]\n",
       " [-- -- -- -- -- -- -- 1.8783114125822697 1.2502569059653728 --]\n",
       " [1.9114655111707088 -- -- -- -- -- -- -- 1.2277105790797902 --]\n",
       " [-- -- 1.0438942541366134 -- -- -- -- 2.102209961925718 --\n",
       "  1.4420912406094306]],\n",
       "             mask =\n",
       " [[ True  True  True  True  True  True  True False  True  True]\n",
       " [ True  True  True  True  True  True  True  True  True  True]\n",
       " [ True  True  True  True  True  True  True  True  True  True]\n",
       " [False  True  True  True  True  True False  True  True False]\n",
       " [False  True  True  True  True  True  True False  True  True]\n",
       " [ True False  True  True  True False  True  True  True  True]\n",
       " [ True  True  True  True  True False  True  True False  True]\n",
       " [ True  True  True  True  True  True  True False False  True]\n",
       " [False  True  True  True  True  True  True  True False  True]\n",
       " [ True  True False  True  True  True  True False  True False]],\n",
       "       fill_value = 1e+20)"
      ]
     },
     "execution_count": 8,
     "metadata": {},
     "output_type": "execute_result"
    }
   ],
   "source": [
    "TT"
   ]
  },
  {
   "cell_type": "code",
   "execution_count": 4,
   "metadata": {
    "collapsed": false
   },
   "outputs": [],
   "source": [
    "res = np.exp((17.67 * TT)/(TT + 243.5))"
   ]
  },
  {
   "cell_type": "code",
   "execution_count": 5,
   "metadata": {
    "collapsed": false
   },
   "outputs": [
    {
     "data": {
      "text/plain": [
       "array([[ 0.97410257,  1.12487246,  0.97230144,  0.95113706,  1.0126222 ,\n",
       "         1.06133388,  1.1183922 ,  0.9559144 ,  0.9802765 ,  0.99190823],\n",
       "       [ 0.90098126,  0.9873828 ,  1.00292423,  0.8818982 ,  1.09854804,\n",
       "         1.03191994,  0.96344643,  0.84233627,  0.97995489,  0.95617641],\n",
       "       [ 0.99253246,  1.00883015,  1.05713772,  1.18981116,  0.98082363,\n",
       "         1.03104866,  0.98839781,  1.04062943,  0.99029539,  0.9271347 ],\n",
       "       [ 1.0559442 ,  1.02111356,  1.02479825,  0.97371745,  0.97491814,\n",
       "         0.97123073,  1.03339464,  0.92282044,  0.8873249 ,  1.0027565 ],\n",
       "       [ 1.03270399,  1.01970476,  1.07978247,  0.90224364,  0.96080643,\n",
       "         0.92186456,  0.9695936 ,  0.91880601,  1.03181875,  1.01630478],\n",
       "       [ 1.0416898 ,  0.97210149,  0.96603651,  1.04967796,  0.99703036,\n",
       "         0.93543197,  0.89998792,  0.99211519,  1.03419018,  1.06673655],\n",
       "       [ 0.88091339,  0.94344506,  1.15729966,  0.97964697,  0.96200406,\n",
       "         1.01303925,  1.06086406,  0.88189582,  1.07718745,  1.0357571 ],\n",
       "       [ 0.97832613,  0.97902858,  1.10951847,  1.05505247,  1.01269752,\n",
       "         1.01087941,  0.94397133,  0.91605626,  0.99111413,  1.22209806],\n",
       "       [ 0.95050174,  1.0113254 ,  1.19110681,  0.94030411,  1.01815214,\n",
       "         0.9820371 ,  0.98923098,  1.02994545,  1.09398334,  1.02465709],\n",
       "       [ 0.93204941,  1.08727891,  1.0705942 ,  1.05970718,  0.93948011,\n",
       "         0.91888358,  1.16632173,  1.01839877,  0.98459684,  1.01136528]])"
      ]
     },
     "execution_count": 5,
     "metadata": {},
     "output_type": "execute_result"
    }
   ],
   "source": [
    "res"
   ]
  },
  {
   "cell_type": "code",
   "execution_count": 6,
   "metadata": {
    "collapsed": false
   },
   "outputs": [
    {
     "data": {
      "text/plain": [
       "(10, 10)"
      ]
     },
     "execution_count": 6,
     "metadata": {},
     "output_type": "execute_result"
    }
   ],
   "source": [
    "res.shape"
   ]
  },
  {
   "cell_type": "code",
   "execution_count": null,
   "metadata": {
    "collapsed": true
   },
   "outputs": [],
   "source": []
  }
 ],
 "metadata": {
  "kernelspec": {
   "display_name": "Python 3",
   "language": "python",
   "name": "python3"
  },
  "language_info": {
   "codemirror_mode": {
    "name": "ipython",
    "version": 3
   },
   "file_extension": ".py",
   "mimetype": "text/x-python",
   "name": "python",
   "nbconvert_exporter": "python",
   "pygments_lexer": "ipython3",
   "version": "3.4.3"
  }
 },
 "nbformat": 4,
 "nbformat_minor": 0
}
