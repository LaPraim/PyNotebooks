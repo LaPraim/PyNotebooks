{
 "metadata": {
  "name": "TP2"
 },
 "nbformat": 3,
 "nbformat_minor": 0,
 "worksheets": [
  {
   "cells": [
    {
     "cell_type": "code",
     "collapsed": false,
     "input": [
      "\n",
      "def get_mean(ng, temps):\n",
      "    assert len(ng) == len(temps)\n",
      "    x = 0\n",
      "    nprev = 0\n",
      "    ntot = 0\n",
      "    for i in range(len(ng)):\n",
      "        dn = ng[i] - nprev\n",
      "        x += dn*(temps[i])\n",
      "        ntot += dn\n",
      "        nprev = ng[i]\n",
      "    return x / float(ntot), ntot\n",
      "\n",
      "def print_mean_expr(ng, temps):\n",
      "    assert len(ng) == len(temps)\n",
      "    s = \"(\"\n",
      "    the_res = get_mean(ng, temps)\n",
      "    ntot = 0\n",
      "    nprev = 0\n",
      "    the_list = []\n",
      "    for i in range(len(ng)):\n",
      "        dn = ng[i] - nprev\n",
      "        \n",
      "        complex_format = \"+{0}*({1})\" if i > 0 else \"{0}*({1})\"\n",
      "        \n",
      "        s += complex_format.format(dn, temps[i]) if dn > 1 else \"{0}\".format(temps[i])\n",
      "        ntot += dn\n",
      "        nprev = ng[i]\n",
      "        \n",
      "    s += \")/{0} = {1}\".format(ntot, the_res[0])   \n",
      "    print s\n",
      "\n",
      "#Andr\u00e9 Leroux\n",
      "vals = [-3.2, -4.4,-5.4,-6.4,-6.6]+[-6.7]*2+[-6.8]*2+[-6.9]*5+ [-7.1]*6\n",
      "import numpy as np\n",
      "print np.mean(vals)\n",
      "\n",
      "print get_mean(range(1,21), vals)\n",
      "print_mean_expr(range(1, 21), vals)"
     ],
     "language": "python",
     "metadata": {},
     "outputs": [
      {
       "output_type": "stream",
       "stream": "stdout",
       "text": [
        "-6.505\n",
        "(-6.505, 20)\n",
        "(-3.2-4.4-5.4-6.4-6.6-6.7-6.7-6.8-6.8-6.9-6.9-6.9-6.9-6.9-7.1-7.1-7.1-7.1-7.1-7.1)/20 = -6.505\n"
       ]
      }
     ],
     "prompt_number": 35
    },
    {
     "cell_type": "code",
     "collapsed": false,
     "input": [
      "#Florent Dakouo\n",
      "\n",
      "#sale\n",
      "vals = [-1.6] + [-2.1]+2*[-2.5]+2*[-3.1]+[-3.6]+[-5.2]+[-5.5]*2+[-5.6]*10\n",
      "print np.mean(vals)\n",
      "\n",
      "#distill\u00e9e\n",
      "vals = [-4.5]+2*[-5.3]+2*[-5.9]+3*[-6.3]+[-7]+[-7.1]+[-7.2]+[-7.6]+[-8.0] +2*[-8.3]+[-9.1]+4*[-9.5]+[-9.9]+[-11]\n",
      "print np.mean(vals)"
     ],
     "language": "python",
     "metadata": {},
     "outputs": [
      {
       "output_type": "stream",
       "stream": "stdout",
       "text": [
        "-4.535\n",
        "-7.60454545455\n"
       ]
      }
     ],
     "prompt_number": 9
    },
    {
     "cell_type": "code",
     "collapsed": false,
     "input": [
      "#Moreira Floriane\n",
      "\n",
      "vals = [-6.4]*2+[-7.2]+[-7.4]+[-7.9]+[-8.3]+[-8.5]+[-9.4]+[-10.2]+[-10.7]+[-11.1]+2*[-11.4]+[-11.6]+[-12]+2*[-12.1]+[-12.4]+[-13.2]+[-14, -15]\n",
      "print np.mean(vals)\n",
      "\n",
      "vals = [-2.9,-3.1]+[-3.2]*2+[-3.3]+[-3.5]+[-3.7]*2+[-3.9]*2+[-4.2]*2+[-4.5,-5.6,-6]+2*[-6.1]+[-6.2,-6.3,-6.4]\n",
      "print np.mean(vals)"
     ],
     "language": "python",
     "metadata": {},
     "outputs": [
      {
       "output_type": "stream",
       "stream": "stdout",
       "text": [
        "-10.4142857143\n",
        "-4.5\n"
       ]
      }
     ],
     "prompt_number": 17
    },
    {
     "cell_type": "code",
     "collapsed": false,
     "input": [
      "#Murielle Hinse\n",
      "vals = [-5.7]*3+[-5.9]*2+[-6.3]*3+[-6.9,-7.0,-7.2,-7.6]+[-8]*6+[-9,-9.5,-9.9,-10.5,-10.9,-11.2]\n",
      "print len(vals), np.mean(vals)\n",
      "\n",
      "vals = [-1.6]+[-2]*3+[-2.4]+[-3.1]*2+[-3.6,-5,-5.2]+[-5.3]*2+[-5.5]*3+[-5.6]*5\n",
      "print len(vals), np.mean(vals)\n"
     ],
     "language": "python",
     "metadata": {},
     "outputs": [
      {
       "output_type": "stream",
       "stream": "stdout",
       "text": [
        "24 -7.72916666667\n",
        "20 -4.255\n"
       ]
      }
     ],
     "prompt_number": 19
    },
    {
     "cell_type": "code",
     "collapsed": false,
     "input": [
      "#Amanda of Camille\n",
      "#sale\n",
      "ng = [1,\n",
      "2,\n",
      "4,\n",
      "6,\n",
      "7,\n",
      "8,\n",
      "9,\n",
      "12,\n",
      "16,\n",
      "20\n",
      "]\n",
      "vals = [-2.3,\n",
      "-2.8,\n",
      "-3.4,\n",
      "-3.8,\n",
      "-4.1,\n",
      "-5.6,\n",
      "-5.8,\n",
      "-6,\n",
      "-6.5,\n",
      "-6.9\n",
      "]\n",
      "print \"l'eau sale: \", get_mean(ng, vals)\n",
      "print_mean_expr(ng, vals)\n",
      "\n",
      "#distille\n",
      "ng = [\n",
      "1,\n",
      "2,\n",
      "7,\n",
      "8,\n",
      "9,\n",
      "10,\n",
      "11,\n",
      "12,\n",
      "13,\n",
      "14,\n",
      "15,\n",
      "16,\n",
      "17,\n",
      "18\n",
      "]\n",
      "\n",
      "vals = [\n",
      "-8.3,\n",
      "-8.8,\n",
      "-9.4,\n",
      "-10.2,\n",
      "-10.8,\n",
      "-11.3,\n",
      "-12.2,\n",
      "-12.6,\n",
      "-13.1,\n",
      "-13.8,\n",
      "-14.2,\n",
      "-15,\n",
      "-16.3,\n",
      "-16.3\n",
      "]\n",
      "\n",
      "print \"l'eau distille: \", get_mean(ng, vals)\n",
      "print_mean_expr(ng, vals)    "
     ],
     "language": "python",
     "metadata": {},
     "outputs": [
      {
       "output_type": "stream",
       "stream": "stdout",
       "text": [
        "l'eau sale:  (-5.33, 20)\n",
        "(-2.3-2.8+2*(-3.4)+2*(-3.8)-4.1-5.6-5.8+3*(-6)+4*(-6.5)+4*(-6.9))/20 = -5.33\n",
        "l'eau distille:  (-11.661111111111111, 18)\n",
        "(-8.3-8.8+5*(-9.4)-10.2-10.8-11.3-12.2-12.6-13.1-13.8-14.2-15-16.3-16.3)/18 = -11.6611111111\n"
       ]
      }
     ],
     "prompt_number": 36
    },
    {
     "cell_type": "code",
     "collapsed": false,
     "input": [],
     "language": "python",
     "metadata": {},
     "outputs": []
    }
   ],
   "metadata": {}
  }
 ]
}