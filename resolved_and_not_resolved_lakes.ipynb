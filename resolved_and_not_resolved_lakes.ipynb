{
 "metadata": {
  "name": "resolved_and_not_resolved_lakes"
 },
 "nbformat": 3,
 "nbformat_minor": 0,
 "worksheets": [
  {
   "cells": [
    {
     "cell_type": "heading",
     "level": 1,
     "metadata": {},
     "source": [
      "My first published notebook."
     ]
    },
    {
     "cell_type": "markdown",
     "metadata": {},
     "source": [
      "After reading the blogpost by the author of IPython [here](http://blog.fperez.org/2012/09/blogging-with-ipython-notebook.html) I wanted to try out this publishing with IPython, because it looks really neat. \n",
      "Just below follows a section with the example of schematic plots that I've created for a presentation, and then later I just try out different things."
     ]
    },
    {
     "cell_type": "code",
     "collapsed": false,
     "input": [
      "import numpy as np\n",
      "import matplotlib.pyplot as plt\n",
      "from matplotlib import patches\n",
      "import matplotlib.path as mpath\n",
      "from matplotlib.path import Path\n",
      "from matplotlib.font_manager import FontProperties"
     ],
     "language": "python",
     "metadata": {},
     "outputs": [],
     "prompt_number": 2
    },
    {
     "cell_type": "code",
     "collapsed": false,
     "input": [
      "#create figure\n",
      "fig = plt.figure(figsize=(8,8))\n",
      "ax = fig.gca()\n",
      "#set ranges\n",
      "ax.xaxis.set_ticks(np.arange(0,1.1,0.1))\n",
      "ax.yaxis.set_ticks(np.arange(0,1.1,0.1))\n",
      "#hide tick labels\n",
      "ax.xaxis.set_ticklabels([])\n",
      "ax.yaxis.set_ticklabels([])\n",
      "#show grid\n",
      "ax.grid(\"on\", linestyle = \"-\")\n",
      "\n",
      "#draw a resolved lake\n",
      "verts = np.array([\n",
      "     (0.1, 0.25),\n",
      "     (0.15,0.8),\n",
      "     (1, 1),\n",
      "     (0.45, 0.25),\n",
      "     (0.15, 0.1),\n",
      "     (0.1, 0.15),\n",
      "     (0.05,0.2),\n",
      "     (0.1, 0.25)  \n",
      "])\n",
      "\n",
      "codes = [Path.MOVETO,\n",
      "         Path.CURVE4,\n",
      "         Path.CURVE4, Path.CURVE4, \n",
      "         Path.CURVE4, Path.CURVE4, \n",
      "         Path.CURVE4, Path.CURVE4]\n",
      "path = Path(verts, codes)\n",
      "path_patch = patches.PathPatch(path, alpha = 0.5)\n",
      "#local lake as an ellipse\n",
      "ell = patches.Ellipse((0.85, 0.125), 0.05, 0.02, alpha = 0.35)\n",
      "\n",
      "ax.add_patch(ell)\n",
      "ax.add_patch(path_patch)\n",
      "\n",
      "#annotate objects\n",
      "bbox_props = dict(boxstyle=\"round,pad=0.5\", fc=\"wheat\", ec=\"k\", lw=2)\n",
      "ax.annotate(\"Resolved Lake\",\n",
      "            xy=(0.4, 0.7), xycoords='data',\n",
      "            font_properties = FontProperties(size = 18, weight=\"bold\"),\n",
      "            xytext=(0.1, 0.95), textcoords='data',\n",
      "            arrowprops=dict(arrowstyle=\"fancy\", #linestyle=\"dashed\",\n",
      "                            color=\"0.5\",\n",
      "                            patchB=path_patch,\n",
      "                            shrinkB=5,\n",
      "                            connectionstyle=\"arc3,rad=0.3\"\n",
      "                            ), \n",
      "            bbox = bbox_props\n",
      ")\n",
      "\n",
      "\n",
      "bbox_props = dict(boxstyle=\"rarrow,pad=0.5\", fc=\"wheat\", ec=\"k\", lw=2)\n",
      "ax.annotate(\"Local Lake\",\n",
      "            xy=(0.875, 0.12), xycoords='data',\n",
      "            font_properties = FontProperties(size = 18, weight=\"bold\"),\n",
      "            xytext=(0.6, 0.12), textcoords='data',\n",
      "            bbox = bbox_props\n",
      ")\n",
      "\n",
      "fig.tight_layout()\n",
      "fig.savefig(\"resolved_and_local_lake_schem.pdf\")\n"
     ],
     "language": "python",
     "metadata": {},
     "outputs": [
      {
       "output_type": "display_data",
       "png": "[encoded data removed]"
      }
     ],
     "prompt_number": 3
    },
    {
     "cell_type": "heading",
     "level": 2,
     "metadata": {},
     "source": [
      "So what about equations"
     ]
    },
    {
     "cell_type": "markdown",
     "metadata": {},
     "source": [
      "Well, these are my favourite (I can mess up something, but in general the Idea should be OK):\n",
      "\n",
      "* $$\\delta (x) = \\frac{1}{2\\pi} \\int\\limits_{-\\infty}^{+\\infty}e^{ikx} dx $$ \n",
      "\n",
      "***\n",
      "\n",
      "* $$\\int\\limits_{-\\infty}^{\\infty}e^{-x^2}dx = \\sqrt{\\pi} $$\n",
      "\n",
      "***\n",
      "\n",
      "* $$\\int\\limits_{\\partial\\Omega}\\omega = \\int\\limits_{\\Omega}d\\omega$$\n",
      "\n",
      "***\n",
      "It looks very good, and I really enjoyed writing it, for that I think, we have to thank [MathJax](http://www.mathjax.org/) and for the headings and the easy links to the [markdown](http://daringfireball.net/projects/markdown/)."
     ]
    },
    {
     "cell_type": "heading",
     "level": 2,
     "metadata": {},
     "source": [
      "Maybe it's time to relax and watch a video"
     ]
    },
    {
     "cell_type": "code",
     "collapsed": false,
     "input": [
      "from IPython.display import YouTubeVideo\n",
      "YouTubeVideo('1XM9gHWAvX0')"
     ],
     "language": "python",
     "metadata": {},
     "outputs": [
      {
       "html": [
        "\n",
        "            <iframe\n",
        "                width=\"400\"\n",
        "                height=\"300\"\n",
        "                src=\"http://www.youtube.com/embed/1XM9gHWAvX0\"\n",
        "                frameborder=\"0\"\n",
        "                allowfullscreen\n",
        "            ></iframe>\n",
        "        "
       ],
       "output_type": "pyout",
       "prompt_number": 1,
       "text": [
        "<IPython.lib.display.YouTubeVideo at 0x104b5fa50>"
       ]
      }
     ],
     "prompt_number": 1
    },
    {
     "cell_type": "heading",
     "level": 2,
     "metadata": {},
     "source": [
      "What about code highlighting"
     ]
    },
    {
     "cell_type": "markdown",
     "metadata": {},
     "source": [
      "Are you kidding? all I need to do is just indent lines with tabs?\n",
      "\n",
      "    subroutine fortranSub(param)\n",
      "        integer :: param\n",
      "        print*, \"The param = \", param\n",
      "    end subroutine fortranSub\n",
      "\n",
      "Yeah, Fortran is not supported very well :)\n",
      "\n",
      "And C:\n",
      "\n",
      "    #include <stdio.h>\n",
      "    int main(int argc, char** argv){\n",
      "        printf(\"Hello world\");\n",
      "    }\n",
      "C is better, probably everything else is also better ..."
     ]
    },
    {
     "cell_type": "markdown",
     "metadata": {},
     "source": [
      "It's time to work, but this thing IPython notebook rules!!"
     ]
    },
    {
     "cell_type": "code",
     "collapsed": false,
     "input": [],
     "language": "python",
     "metadata": {},
     "outputs": []
    }
   ],
   "metadata": {}
  }
 ]
}