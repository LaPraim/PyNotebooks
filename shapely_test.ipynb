{
 "metadata": {
  "name": "",
  "signature": "sha256:b209da63dc85bac950d7366fa088e532d0d8a08855f8fbb551260b82a55467fc"
 },
 "nbformat": 3,
 "nbformat_minor": 0,
 "worksheets": [
  {
   "cells": [
    {
     "cell_type": "code",
     "collapsed": false,
     "input": [
      "import shapely.geometry\n",
      "path = shapely.geometry.LineString([\n",
      "        [581037.19575668662, 4509299.98342364],\n",
      "        [580996.61134201661, 4509304.202782942],\n",
      "        [581037.19575668662, 4509299.98342364],\n",
      "        [581072.19594137045, 4509296.7024005251],\n",
      "        [581072.19594137045, 4509296.7024005251],\n",
      "        [581037.19575668662, 4509299.98342364]\n",
      "        ])\n",
      "\n",
      "path.parallel_offset(2, shapely.geometry.JOIN_STYLE.mitre)\n"
     ],
     "language": "python",
     "metadata": {},
     "outputs": [
      {
       "output_type": "stream",
       "stream": "stderr",
       "text": [
        "ERROR:shapely.geos:TopologyException: depth mismatch at  at 581037.39250326285 4509301.9737485535\n"
       ]
      },
      {
       "ename": "NameError",
       "evalue": "global name 'WindowsError' is not defined",
       "output_type": "pyerr",
       "traceback": [
        "\u001b[0;31m---------------------------------------------------------------------------\u001b[0m\n\u001b[0;31mNameError\u001b[0m                                 Traceback (most recent call last)",
        "\u001b[0;32m<ipython-input-1-404022539fc8>\u001b[0m in \u001b[0;36m<module>\u001b[0;34m()\u001b[0m\n\u001b[1;32m      8\u001b[0m         \u001b[0;34m[\u001b[0m\u001b[0;36m581037.19575668662\u001b[0m\u001b[0;34m,\u001b[0m \u001b[0;36m4509299.98342364\u001b[0m\u001b[0;34m]\u001b[0m\u001b[0;34m\u001b[0m\u001b[0m\n\u001b[1;32m      9\u001b[0m         ])\n\u001b[0;32m---> 10\u001b[0;31m \u001b[0mpath\u001b[0m\u001b[0;34m.\u001b[0m\u001b[0mparallel_offset\u001b[0m\u001b[0;34m(\u001b[0m\u001b[0;36m2\u001b[0m\u001b[0;34m,\u001b[0m \u001b[0mshapely\u001b[0m\u001b[0;34m.\u001b[0m\u001b[0mgeometry\u001b[0m\u001b[0;34m.\u001b[0m\u001b[0mJOIN_STYLE\u001b[0m\u001b[0;34m.\u001b[0m\u001b[0mmitre\u001b[0m\u001b[0;34m)\u001b[0m\u001b[0;34m\u001b[0m\u001b[0m\n\u001b[0m",
        "\u001b[0;32m/Users/huziy/virtualenvs/py2.7-default/lib/python2.7/site-packages/shapely/geometry/linestring.pyc\u001b[0m in \u001b[0;36mparallel_offset\u001b[0;34m(self, distance, side, resolution, join_style, mitre_limit)\u001b[0m\n\u001b[1;32m    113\u001b[0m                 \u001b[0mself\u001b[0m\u001b[0;34m,\u001b[0m \u001b[0mdistance\u001b[0m\u001b[0;34m,\u001b[0m \u001b[0mresolution\u001b[0m\u001b[0;34m,\u001b[0m \u001b[0mjoin_style\u001b[0m\u001b[0;34m,\u001b[0m \u001b[0mmitre_limit\u001b[0m\u001b[0;34m,\u001b[0m\u001b[0;34m\u001b[0m\u001b[0m\n\u001b[1;32m    114\u001b[0m                 bool(side == 'left')))\n\u001b[0;32m--> 115\u001b[0;31m         \u001b[0;32mexcept\u001b[0m \u001b[0mWindowsError\u001b[0m\u001b[0;34m:\u001b[0m\u001b[0;34m\u001b[0m\u001b[0m\n\u001b[0m\u001b[1;32m    116\u001b[0m             \u001b[0;32mraise\u001b[0m \u001b[0mTopologicalError\u001b[0m\u001b[0;34m(\u001b[0m\u001b[0;34m)\u001b[0m\u001b[0;34m\u001b[0m\u001b[0m\n\u001b[1;32m    117\u001b[0m \u001b[0;34m\u001b[0m\u001b[0m\n",
        "\u001b[0;31mNameError\u001b[0m: global name 'WindowsError' is not defined"
       ]
      }
     ],
     "prompt_number": 1
    },
    {
     "cell_type": "code",
     "collapsed": false,
     "input": [
      "import shapely\n",
      "shapely.__version__"
     ],
     "language": "python",
     "metadata": {},
     "outputs": [
      {
       "metadata": {},
       "output_type": "pyout",
       "prompt_number": 2,
       "text": [
        "'1.3.1'"
       ]
      }
     ],
     "prompt_number": 2
    },
    {
     "cell_type": "code",
     "collapsed": false,
     "input": [],
     "language": "python",
     "metadata": {},
     "outputs": []
    }
   ],
   "metadata": {}
  }
 ]
}