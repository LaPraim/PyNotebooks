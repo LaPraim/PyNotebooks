{
 "metadata": {
  "name": ""
 },
 "nbformat": 3,
 "nbformat_minor": 0,
 "worksheets": [
  {
   "cells": [
    {
     "cell_type": "code",
     "collapsed": false,
     "input": [
      "import numpy as np\n",
      "import calendar\n",
      "    \n",
      "pr = np.asarray([3,2.6, 2.4, 2.1])\n",
      "temp = np.asarray([17.0,6,19, 6])\n",
      "\n",
      "seasons = [\"winter\", \"spring\", \"summer\", \"autumn\"]\n",
      "\n",
      "def get_ndays_in_season(season=\"winter\"):\n",
      "    ndays = 0\n",
      "    if season == \"winter\":\n",
      "        months = [12, 1, 2]\n",
      "    elif season == \"spring\":\n",
      "        months = [3,4,5]\n",
      "    elif season == \"summer\":\n",
      "        months = [6,7,8]\n",
      "    else:\n",
      "        months = [9,10,11]\n",
      "        \n",
      "    for month in months:\n",
      "        weekday, ndaysi = calendar.monthrange(2001, month)\n",
      "        ndays += ndaysi\n",
      "        \n",
      "    return ndays\n",
      "\n",
      "\n",
      "\n",
      "days_counts = np.asarray( [get_ndays_in_season(season=s) for s in seasons] )\n",
      "\n",
      "\n",
      "print get_ndays_in_season()\n",
      "#in winter, spring, summer, autumn\n",
      "days = np.asarray([90,92,92,91])\n",
      "print days_counts.sum(), days_counts"
     ],
     "language": "python",
     "metadata": {},
     "outputs": [
      {
       "output_type": "stream",
       "stream": "stdout",
       "text": [
        "90\n",
        "365 [90 92 92 91]\n"
       ]
      }
     ],
     "prompt_number": 21
    },
    {
     "cell_type": "code",
     "collapsed": false,
     "input": [
      "print (pr*days_counts/days_counts.sum()).sum(), (temp*days_counts/days_counts.sum()).sum()\n",
      "print pr.mean(), temp.mean()\n",
      "\n"
     ],
     "language": "python",
     "metadata": {},
     "outputs": [
      {
       "output_type": "stream",
       "stream": "stdout",
       "text": [
        "2.52356164384 11.9890410959\n",
        "2.525 12.0\n"
       ]
      }
     ],
     "prompt_number": 24
    },
    {
     "cell_type": "code",
     "collapsed": false,
     "input": [
      "temp"
     ],
     "language": "python",
     "metadata": {},
     "outputs": [
      {
       "output_type": "pyout",
       "prompt_number": 4,
       "text": [
        "array([ 17.,   6.,  19.,   6.])"
       ]
      }
     ],
     "prompt_number": 4
    },
    {
     "cell_type": "code",
     "collapsed": false,
     "input": [
      "from datetime import datetime, timedelta\n",
      "start_date = datetime(1958, 1, 1)\n",
      "end_date = datetime(2005, 12, 31)\n",
      "\n",
      "print (end_date - start_date).days * 24 * 3\n",
      "\n",
      "dt = timedelta(days = 100)\n",
      "print start_date + 1000*dt"
     ],
     "language": "python",
     "metadata": {},
     "outputs": [
      {
       "output_type": "stream",
       "stream": "stdout",
       "text": [
        "1262232\n",
        "2231-10-17 00:00:00\n"
       ]
      }
     ],
     "prompt_number": 10
    },
    {
     "cell_type": "code",
     "collapsed": false,
     "input": [],
     "language": "python",
     "metadata": {},
     "outputs": []
    }
   ],
   "metadata": {}
  }
 ]
}