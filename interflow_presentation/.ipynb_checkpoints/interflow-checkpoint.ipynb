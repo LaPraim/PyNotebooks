{
 "metadata": {
  "name": ""
 },
 "nbformat": 3,
 "nbformat_minor": 0,
 "worksheets": [
  {
   "cells": [
    {
     "cell_type": "markdown",
     "metadata": {
      "slideshow": {
       "slide_type": "slide"
      }
     },
     "source": [
      "Interflow implementation in CRCM5-CLASS: methodology, results, validation and discussion\n",
      "=========\n",
      "\n",
      "by *Oleksandr (Sasha) Huziy*\n",
      "----------------------------\n",
      "\n",
      "<div style=\"text-align:center\"><img src=\"files/logo_uqam_0.png\"/></div>"
     ]
    },
    {
     "cell_type": "markdown",
     "metadata": {
      "slideshow": {
       "slide_type": "slide"
      }
     },
     "source": [
      "Outline\n",
      "==========\n",
      "\n",
      "* Physics and equations\n",
      "* Key code fragments\n",
      "    * Interflow rate calculation\n",
      "    * Updating CLASS variables (soil moisture, surface runoff)\n",
      "* Results and discussion"
     ]
    },
    {
     "cell_type": "markdown",
     "metadata": {
      "slideshow": {
       "slide_type": "slide"
      }
     },
     "source": [
      "Physics and equations governing interflow process\n",
      "=========================\n",
      "\n",
      "<div><img src=\"files/interflow.jpeg\" width=\"900px\"/></div>"
     ]
    },
    {
     "cell_type": "markdown",
     "metadata": {
      "slideshow": {
       "slide_type": "slide"
      }
     },
     "source": [
      "Physics and equations governing interflow process\n",
      "========================="
     ]
    },
    {
     "cell_type": "markdown",
     "metadata": {},
     "source": [
      "The prognostic variable is saturation $S(t) =\\theta_l/\\theta_s$, which can be expressed as a function of time from the continuity and Darcian equations. \n",
      "-----------------------------------------------------------\n",
      "\n",
      "$$\n",
      "S(t) = \\begin{cases}\n",
      "1-\\frac{1}{c}\\frac{t}{t_c}, & 0\\leq t \\leq t_c \\\\\n",
      "\\left( 1-\\frac{1}{c} \\right) \\left(\\frac{t_c}{t} \\right)^{1/(c-1)}, & t > t_c \n",
      "\\end{cases}\n",
      "$$"
     ]
    },
    {
     "cell_type": "markdown",
     "metadata": {
      "slideshow": {
       "slide_type": "subslide"
      }
     },
     "source": [
      "## $t_c$ - is the time when the lower vertical face of the soil element becomes not saturated, with $t=0$ corresponding to the total saturation of the element. And it is parameterized as follows:\n",
      "\n",
      "\n",
      "\n",
      "$$\n",
      "    t_c = \\frac{\\theta_s \\left(1+\\Lambda^2\\right)}{c\\cdot K_h \\cdot \\Lambda\\cdot 2\\cdot DD}\n",
      "$$\n",
      "\n",
      "\n",
      "\n",
      "----------------\n",
      "$\\Lambda$ - slope, $K_h$ - horizontal hydraulic conductivity, $DD$ - drainage density, $c$ - Clapp and Hornberger soil texture parameter.\n"
     ]
    },
    {
     "cell_type": "markdown",
     "metadata": {
      "slideshow": {
       "slide_type": "subslide"
      }
     },
     "source": [
      "Then the interflow rate for each time step is determined as:\n",
      "----------\n",
      "\n",
      "\n",
      "$$\n",
      "I = \\frac{S(t) - S(t+\\Delta t)}{\\Delta t}\\theta_s H\n",
      "$$"
     ]
    },
    {
     "cell_type": "code",
     "collapsed": false,
     "input": [
      "import numpy as np;import matplotlib.pyplot as plt;\n",
      "matplotlib.rcParams.update({'font.size': 16})\n",
      "tc = 100.0; c = 5.0; \n",
      "t = np.linspace(0, 500.0, 500);\n",
      "def f(ti):\n",
      "    if ti < tc:\n",
      "        return (1-1.0/c*ti/tc)  \n",
      "    else:\n",
      "        return (1-1.0/c) * (tc/ti)**(1.0/(c - 1.0))\n",
      "\n",
      "s = [f(ti) for ti in t ]; \n",
      "t0 = 75; dt = 150; \n",
      "deltax = 3; deltay = 0.03;"
     ],
     "language": "python",
     "metadata": {
      "slideshow": {
       "slide_type": "notes"
      }
     },
     "outputs": [],
     "prompt_number": 9
    },
    {
     "cell_type": "markdown",
     "metadata": {
      "slideshow": {
       "slide_type": "subslide"
      }
     },
     "source": [
      "Physics and equations governing interflow process\n",
      "========================="
     ]
    },
    {
     "cell_type": "code",
     "collapsed": false,
     "input": [
      "plt.figure(figsize=(10,4))\n",
      "plt.plot(t, s, lw=2);plt.xlabel(\"t\");plt.ylabel(r\"$S(t)$\");\n",
      "\n",
      "plt.annotate(r\"$S(t_0)$\", (deltax, (1+deltay)*f(t0)))\n",
      "plt.annotate(r\"$t_0$\", (deltax + t0, deltay))\n",
      "plt.plot([t0, t0], [f(t0), 0], \"k--\"); plt.plot([0, t0], [f(t0), f(t0)], \"k--\");\n",
      "\n",
      "t1 = t0 + dt\n",
      "plt.annotate(r\"$S(t_0 + \\Delta t)$\", (deltax, (1+deltay)*f(t1)))\n",
      "plt.annotate(r\"$t_1$\", (deltax + t1, deltay))\n",
      "plt.plot([t1, t1], [f(t1), 0], \"k--\"); plt.plot([0, t1], [f(t1), f(t1)], \"k--\");"
     ],
     "language": "python",
     "metadata": {
      "slideshow": {
       "slide_type": "-"
      }
     },
     "outputs": [
      {
       "metadata": {},
       "output_type": "display_data",
       "png": "[encoded data removed]",
       "text": [
        "<matplotlib.figure.Figure at 0x42de210>"
       ]
      }
     ],
     "prompt_number": 10
    },
    {
     "cell_type": "markdown",
     "metadata": {
      "slideshow": {
       "slide_type": "slide"
      }
     },
     "source": [
      "Key code fragments\n",
      "===================\n",
      "\n",
      "\n",
      "The interflow subroutine is called in ```classw``` for each of 4 subsurface types. \n",
      "\n",
      "Interflow calculation:\n",
      "\n",
      "```subflw(i) = (asat00(i)-asat1(i)) * thpora(i) * delzw(i)```"
     ]
    },
    {
     "cell_type": "markdown",
     "metadata": {
      "slideshow": {
       "slide_type": "slide"
      }
     },
     "source": [
      "Updating surface and total runoff\n",
      "===============\n",
      "\n",
      "<pre> \n",
      "    c -----------------------------------------------------------------------------\n",
      "    c           allow lateral flow if liquid water content is greater than\n",
      "    c           bulk field capacity.\n",
      "    c -----------------------------------------------------------------------------\n",
      "    if(thliq_avail(i).gt.0.0.and.thliq(i,j).ge.bulk_fc(i,j))then\n",
      "            didrn(i,j) = subflwj(i)\n",
      " \n",
      "    c Huziy relax the condition didrn(i,j) > 1.0e-8 to didrn(i,j) > 0\n",
      "      if(didrn(i,j).gt.0.0)then\n",
      "               \n",
      "         runoff(i)  = runoff(i)+didrn(i,j) !interflow goes directly to runoff\n",
      "         \n",
      "         \n",
      "         ovrflw(i) = ovrflw(i) + didrn(i,j) * fi(i)\n",
      " \n",
      " \n",
      "    c------------------------------------------------------------------------\n",
      "    c          remove the lateral flow from the layer\n",
      "    c------------------------------------------------------------------------\n",
      "         thliq(i,j) = thliq(i,j)-didrn(i,j)/delzw(i,j)\n",
      "       endif\n",
      "    endif\n",
      "</pre>\n"
     ]
    },
    {
     "cell_type": "markdown",
     "metadata": {
      "slideshow": {
       "slide_type": "slide"
      }
     },
     "source": [
      "Integration domain\n",
      "===========\n",
      "\n",
      "<div>\n",
      "    <img src=\"files/free_domain_260x260.jpeg\" width=\"900px\"/>\n",
      "</div>\n",
      "\n"
     ]
    },
    {
     "cell_type": "markdown",
     "metadata": {
      "slideshow": {
       "slide_type": "slide"
      }
     },
     "source": [
      "Fields of static parameters used in for the simulation\n",
      "======================================================\n",
      "\n",
      "<div>\n",
      "<img src=\"files/static_fields_ecoclimap.jpeg\" class=\"to-high\"/>\n",
      "</div>"
     ]
    },
    {
     "cell_type": "markdown",
     "metadata": {
      "slideshow": {
       "slide_type": "slide"
      }
     },
     "source": [
      "Seasonal mean interflow values (Default configuration) \n",
      "===\n",
      "\n",
      "\n",
      "<div>\n",
      "<img src=\"files/quebec_0.1_crcm5-hcd-rl-intfl_do_not_discard_small.hdf.jpeg\" class=\"to-high\"/>\n",
      "</div>"
     ]
    },
    {
     "cell_type": "markdown",
     "metadata": {
      "slideshow": {
       "slide_type": "slide"
      }
     },
     "source": [
      "Seasonal mean interflow values \n",
      "===\n",
      "\n",
      "(Soil anisotropy ratio was assigned 10000 for all grid points) \n",
      "\n",
      "<div>\n",
      "<img src=\"files/quebec_0.1_crcm5-hcd-rl-intfl_sani-10000.hdf.jpeg\" class=\"to-high\"/>\n",
      "</div>"
     ]
    },
    {
     "cell_type": "markdown",
     "metadata": {
      "slideshow": {
       "slide_type": "slide"
      }
     },
     "source": [
      "Seasonal mean interflow values  \n",
      "===\n",
      "\n",
      "(Soil anisotropy ratio was assigned 10000 for all grid points and interflow continues for the soil liquid fraction smaller then field capacity)\n",
      "\n",
      "<div>\n",
      "<img src=\"files/quebec_0.1_crcm5-hcd-rl-intfl_sani-10000_not_care_about_thfc.hdf.jpeg\" class=\"to-high\"/>\n",
      "</div>"
     ]
    },
    {
     "cell_type": "markdown",
     "metadata": {
      "slideshow": {
       "slide_type": "slide"
      }
     },
     "source": [
      "Interflow results (temporal evolution)\n",
      "=================\n",
      "\n",
      "<div>\n",
      "<img src=\"files/comp_point_with_obs_090613_CEHQ_SANI=1000, ignore THFC_CRCM5-HCD-RL_CRCM5-HCD-RL-INTFL_SANI=10000.jpeg\" class=\"to-high\"/>\n",
      "</div>\n",
      "\n"
     ]
    },
    {
     "cell_type": "markdown",
     "metadata": {
      "slideshow": {
       "slide_type": "slide"
      }
     },
     "source": [
      "Estimating maximum possible interflow value\n",
      "===========================================\n",
      "\n",
      "For $t < t_c$: \n",
      "--------------\n",
      "\n",
      "$$\n",
      "I \\sim \\frac{\\theta_s}{c \\cdot t_c} \\sim \\frac{K_h \\cdot \\Lambda\\cdot 2\\cdot DD}{ \\left(1+\\Lambda^2\\right)} \\sim K_h \\cdot \\Lambda\\cdot 2\\cdot DD \\sim 10^{-2}\\; {\\rm mm/day}\n",
      "$$"
     ]
    },
    {
     "cell_type": "markdown",
     "metadata": {
      "slideshow": {
       "slide_type": "slide"
      }
     },
     "source": [
      "Ranges of the interflow related parameters\n",
      "=============================================\n",
      "\n",
      "<div>\n",
      "<img src=\"files/static_fields_histograms.jpeg\" class=\"to-high\"/>\n",
      "</div>"
     ]
    },
    {
     "cell_type": "code",
     "collapsed": false,
     "input": [
      "imax = 10**(-9) * 1000 * 24 * 60 * 60\n",
      "iav = 10**(-10) * 1000 * 24 * 60 * 60\n",
      "print \"Iav ~ {0:.1g} (mm/day); Imax ~ {1:.1g} (mm/day)\".format(iav, imax)\n",
      "1e-5 *8e-3 * 0.6* 1e-3 *24*60*60* 1000"
     ],
     "language": "python",
     "metadata": {
      "slideshow": {
       "slide_type": "notes"
      }
     },
     "outputs": [
      {
       "output_type": "stream",
       "stream": "stdout",
       "text": [
        "Iav ~ 0.009 (mm/day); Imax ~ 0.09 (mm/day)\n"
       ]
      },
      {
       "metadata": {},
       "output_type": "pyout",
       "prompt_number": 6,
       "text": [
        "0.004147200000000001"
       ]
      }
     ],
     "prompt_number": 6
    },
    {
     "cell_type": "markdown",
     "metadata": {
      "slideshow": {
       "slide_type": "slide"
      }
     },
     "source": [
      "Iav = 0.009 (mm/day); Imax = 0.09 (mm/day) \n",
      "---\n",
      "But during the spring peak in the region the mean surface runoff is on the order of 1-10 mm/day.\n",
      "---"
     ]
    },
    {
     "cell_type": "markdown",
     "metadata": {
      "slideshow": {
       "slide_type": "slide"
      }
     },
     "source": [
      "Results summary\n",
      "===============\n",
      "\n",
      "* The effect of interflow does not seem to be significant for our domain and parameter set.\n",
      "* Our result can be different from some previous studies on interflow (e.g. Soulis et al 2000) due to several reasons:\n",
      "    * Differences in the baseflow parameterization (in our case the increase in surface runoff due to interflow is equillibrated by the decrease in baseflow.)\n",
      "    * The results of this study were obtained using coupled land-atmosphere system, which makes the results closer to reality but also it adds to the analysis possible change in precipitation pattern due to changes in soil moisture.\n",
      "* Interflow rate is maximum in spring and spatially concentrated along Saint-Lawrence river in the south-east part of the integration domain."
     ]
    }
   ],
   "metadata": {}
  }
 ]
}