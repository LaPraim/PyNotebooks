{
 "metadata": {
  "name": ""
 },
 "nbformat": 3,
 "nbformat_minor": 0,
 "worksheets": [
  {
   "cells": [
    {
     "cell_type": "markdown",
     "metadata": {
      "slideshow": {
       "slide_type": "slide"
      }
     },
     "source": [
      "Interflow implementation in CRCM5-CLASS: methodology, results, validation and discussion\n",
      "=========\n",
      "\n",
      "by *Oleksandr (Sasha) Huziy*\n",
      "----------------------------\n",
      "\n",
      "<div style=\"text-align:center\">\n",
      "    <img src=\"files/logo_uqam_0.png\"/>\n",
      "</div>\n"
     ]
    },
    {
     "cell_type": "markdown",
     "metadata": {
      "slideshow": {
       "slide_type": "slide"
      }
     },
     "source": [
      "Outline\n",
      "==========\n",
      "\n",
      "* ##Physics and equations\n",
      "* ##Key code fragments\n",
      "    * ###Interflow rate calculation\n",
      "    * ###Updating CLASS variables (soil moisture, surface runoff)\n",
      "* ##Results and discussion"
     ]
    },
    {
     "cell_type": "markdown",
     "metadata": {
      "slideshow": {
       "slide_type": "slide"
      }
     },
     "source": [
      "Physics and equations governing interflow process\n",
      "=========================\n",
      "\n",
      "<div>\n",
      "        <img src=\"files/interflow.jpeg\"/>\n",
      "</div>"
     ]
    },
    {
     "cell_type": "markdown",
     "metadata": {
      "slideshow": {
       "slide_type": "slide"
      }
     },
     "source": [
      "Physics and equations governing interflow process\n",
      "========================="
     ]
    },
    {
     "cell_type": "markdown",
     "metadata": {},
     "source": [
      "The prognostic variable is saturation $S(t) =\\theta_l/\\theta_s$, which can be expressed as a function of time from the continuity and Darcian equations. \n",
      "------\n",
      "\n",
      "$$\n",
      "S(t) = \\begin{cases}\n",
      "1-\\frac{1}{c}\\frac{t}{t_c}, & 0\\leq t \\leq t_c \\\\\n",
      "\\left( 1-\\frac{1}{c} \\right) \\left(\\frac{t_c}{t} \\right)^{1/(c-1)}, & t > t_c \n",
      "\\end{cases}\n",
      "$$"
     ]
    },
    {
     "cell_type": "markdown",
     "metadata": {
      "slideshow": {
       "slide_type": "subslide"
      }
     },
     "source": [
      "## $t_c$ - is the time when the lower vertical face of the soil element becomes not saturated, with $t=0$ corresponding to the total saturation of the element. And it is parameterized as follows:\n",
      "\n",
      "\n",
      "$$\n",
      "    t_c = \\frac{\\theta_s \\left(1+\\Lambda^2\\right)}{c\\cdot K_h \\cdot \\Lambda\\cdot 2\\cdot DD}\n",
      "$$\n",
      "\n",
      "----------------\n",
      "$\\Lambda$ - slope, $K_h$ - horizontal hydraulic conductivity, $DD$ - drainage density, $c$ - Clapp and Hornberger soil texture parameter.\n"
     ]
    },
    {
     "cell_type": "markdown",
     "metadata": {
      "slideshow": {
       "slide_type": "subslide"
      }
     },
     "source": [
      "Then the interflow rate for each time step is determined as:\n",
      "----------\n",
      "\n",
      "\n",
      "$$\n",
      "I = \\frac{S(t) - S(t+\\Delta t)}{\\Delta t}\\theta_s H\n",
      "$$"
     ]
    },
    {
     "cell_type": "markdown",
     "metadata": {
      "slideshow": {
       "slide_type": "subslide"
      }
     },
     "source": [
      "Physics and equations governing interflow process\n",
      "========================="
     ]
    },
    {
     "cell_type": "code",
     "collapsed": false,
     "input": [
      "import numpy as np;import matplotlib.pyplot as plt;\n",
      "matplotlib.rcParams.update({'font.size': 22})\n",
      "tc = 100.0; c = 5.0; plt.figure(figsize=(15,6))\n",
      "t = np.linspace(0, 500.0, 500);\n",
      "def f(ti):\n",
      "    if ti < tc:\n",
      "        return (1-1.0/c*ti/tc)  \n",
      "    else:\n",
      "        return (1-1.0/c) * (tc/ti)**(1.0/(c - 1.0))\n",
      "\n",
      "s = [f(ti) for ti in t ]; plt.plot(t, s, lw=2);plt.xlabel(\"t\");plt.ylabel(r\"$S(t)$\");\n"
     ],
     "language": "python",
     "metadata": {
      "slideshow": {
       "slide_type": "-"
      }
     },
     "outputs": [
      {
       "metadata": {},
       "output_type": "display_data",
       "png": "[encoded data removed]",
       "text": [
        "<matplotlib.figure.Figure at 0x48b44d0>"
       ]
      }
     ],
     "prompt_number": 34
    },
    {
     "cell_type": "markdown",
     "metadata": {
      "slideshow": {
       "slide_type": "slide"
      }
     },
     "source": [
      "Key code fragments\n",
      "===================\n",
      "\n",
      "Interflow calculation\n",
      "---------------------\n",
      "\n",
      "<pre class=fort-code>\n",
      "subflw(i) = (asat00(i)-asat1(i)) * thpora(i) * delzw(i)\n",
      "</pre>"
     ]
    },
    {
     "cell_type": "markdown",
     "metadata": {
      "slideshow": {
       "slide_type": "subslide"
      }
     },
     "source": [
      "\n",
      "Updating surface and total runoff\n",
      "-------------"
     ]
    },
    {
     "cell_type": "markdown",
     "metadata": {},
     "source": [
      "\n",
      "<pre class=fort-code>\n",
      "    c -----------------------------------------------------------------------------\n",
      "    c           allow lateral flow if liquid water content is greater than\n",
      "    c           bulk field capacity.\n",
      "    c -----------------------------------------------------------------------------\n",
      "    if(thliq_avail(i).gt.0.0.and.thliq(i,j).ge.bulk_fc(i,j))then\n",
      "            didrn(i,j) = subflwj(i)\n",
      " \n",
      "    c Huziy relax the condition didrn(i,j) > 1.0e-8 to didrn(i,j) > 0\n",
      "      if(didrn(i,j).gt.0.0)then\n",
      "               \n",
      "         runoff(i)  = runoff(i)+didrn(i,j) !interflow goes directly to runoff\n",
      "         \n",
      "         \n",
      "         ovrflw(i) = ovrflw(i) + didrn(i,j) * fi(i)\n",
      " \n",
      " \n",
      " \n",
      "    c------------------------------------------------------------------------\n",
      "    c          remove the lateral flow from the layer\n",
      "    c------------------------------------------------------------------------\n",
      "         thliq(i,j) = thliq(i,j)-didrn(i,j)/delzw(i,j)\n",
      "       endif\n",
      "    endif\n",
      "</pre>"
     ]
    },
    {
     "cell_type": "markdown",
     "metadata": {},
     "source": []
    }
   ],
   "metadata": {}
  }
 ]
}