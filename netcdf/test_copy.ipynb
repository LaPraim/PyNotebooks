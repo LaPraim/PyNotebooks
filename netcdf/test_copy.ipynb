{
 "cells": [
  {
   "cell_type": "code",
   "execution_count": 5,
   "metadata": {},
   "outputs": [
    {
     "name": "stdout",
     "output_type": "stream",
     "text": [
      "lon 360\n",
      "lat 180\n",
      "time 12\n",
      "float64\n",
      "float32\n",
      "float32\n",
      "int16\n"
     ]
    }
   ],
   "source": [
    "%matplotlib inline\n",
    "\n",
    "from netCDF4 import Dataset\n",
    "from pathlib import Path\n",
    "\n",
    "\n",
    "wrk_dir = Path(\"~/Downloads/\").expanduser()\n",
    "\n",
    "#input file\n",
    "dsin = Dataset(wrk_dir / \"sst.ltm.1971-2000.nc\")\n",
    "\n",
    "out_path = wrk_dir / \"copy_sst.ltm.1971-2000.nc\"\n",
    "\n",
    "\n",
    "if out_path.exists():\n",
    "    out_path.unlink()\n",
    "    \n",
    "\n",
    "#output file\n",
    "dsout = Dataset(out_path, \"w\", format=\"NETCDF4_CLASSIC\")\n",
    "\n",
    "#Copy dimensions\n",
    "for dname, the_dim in dsin.dimensions.items():\n",
    "    print(dname, len(the_dim))\n",
    "    dsout.createDimension(dname, len(the_dim) if not the_dim.isunlimited() else None)\n",
    "\n",
    "\n",
    "# Copy variables\n",
    "for v_name, varin in dsin.variables.items():\n",
    "    outVar = dsout.createVariable(v_name, varin.datatype, varin.dimensions)\n",
    "    print(varin.datatype)\n",
    "    \n",
    "    # Copy variable attributes\n",
    "    outVar.setncatts({k: varin.getncattr(k) for k in varin.ncattrs()})\n",
    "    \n",
    "    outVar[:] = varin[:]\n",
    "# close the output file\n",
    "dsout.close()"
   ]
  },
  {
   "cell_type": "code",
   "execution_count": null,
   "metadata": {},
   "outputs": [],
   "source": []
  }
 ],
 "metadata": {
  "kernelspec": {
   "display_name": "Python 3",
   "language": "python",
   "name": "python3"
  },
  "language_info": {
   "codemirror_mode": {
    "name": "ipython",
    "version": 3
   },
   "file_extension": ".py",
   "mimetype": "text/x-python",
   "name": "python",
   "nbconvert_exporter": "python",
   "pygments_lexer": "ipython3",
   "version": "3.7.3"
  }
 },
 "nbformat": 4,
 "nbformat_minor": 4
}
