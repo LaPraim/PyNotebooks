{
 "cells": [
  {
   "cell_type": "code",
   "execution_count": 7,
   "metadata": {},
   "outputs": [
    {
     "name": "stdout",
     "output_type": "stream",
     "text": [
      "lat 720\n",
      "lon 1440\n",
      "nv 2\n",
      "time 1\n",
      "float32\n",
      "['long_name', 'standard_name', 'axis', 'units', 'valid_min', 'valid_max', 'bounds', 'comment']\n",
      "float32\n",
      "['long_name', 'standard_name', 'axis', 'units', 'valid_min', 'valid_max', 'bounds', 'comment']\n",
      "int32\n",
      "['long_name', 'standard_name', 'axis', 'units', 'calendar', 'comment']\n",
      "float32\n",
      "['units', 'comment']\n",
      "float32\n",
      "['units', 'comment']\n",
      "int16\n",
      "['long_name', 'standard_name', 'units', '_FillValue', 'add_offset', 'scale_factor', 'valid_min', 'valid_max', 'source', 'comment']\n",
      "int16\n",
      "['long_name', 'units', '_FillValue', 'add_offset', 'scale_factor', 'valid_min', 'valid_max', 'comment']\n",
      "int8\n",
      "['long_name', '_FillValue', 'valid_min', 'valid_max', 'flag_masks', 'flag_meanings', 'source', 'comment']\n",
      "int8\n",
      "['long_name', 'standard_name', 'units', '_FillValue', 'add_offset', 'scale_factor', 'valid_min', 'valid_max', 'source', 'comment']\n"
     ]
    }
   ],
   "source": [
    "%matplotlib inline\n",
    "\n",
    "from netCDF4 import Dataset\n",
    "from pathlib import Path\n",
    "\n",
    "\n",
    "wrk_dir = Path(\"~/Downloads/\").expanduser()\n",
    "\n",
    "\n",
    "# fname = \"sst.ltm.1971-2000.nc\"\n",
    "fname = \"20200325120000-NCEI-L4_GHRSST-SSTblend-AVHRR_OI-GLOB-v02.0-fv02.0.nc\"\n",
    "\n",
    "#input file\n",
    "dsin = Dataset(wrk_dir / f\"{fname}\")\n",
    "\n",
    "out_path = wrk_dir / f\"copy_{fname}\"\n",
    "\n",
    "\n",
    "if out_path.exists():\n",
    "    out_path.unlink()\n",
    "    \n",
    "\n",
    "#output file\n",
    "dsout = Dataset(out_path, \"w\", format=\"NETCDF4_CLASSIC\")\n",
    "\n",
    "#Copy dimensions\n",
    "for dname, the_dim in dsin.dimensions.items():\n",
    "    print(dname, len(the_dim))\n",
    "    dsout.createDimension(dname, len(the_dim) if not the_dim.isunlimited() else None)\n",
    "\n",
    "\n",
    "# Copy variables\n",
    "for v_name, varin in dsin.variables.items():\n",
    "    \n",
    "    \n",
    "    fill_value = None\n",
    "    \n",
    "    if hasattr(varin, \"_FillValue\"):\n",
    "        fill_value = varin._FillValue\n",
    "    outVar = dsout.createVariable(v_name, varin.datatype, varin.dimensions, fill_value=fill_value)\n",
    "        \n",
    "    print(varin.datatype)\n",
    "    \n",
    "    print(varin.ncattrs())\n",
    "    \n",
    "    # Copy variable attributes\n",
    "    outVar.setncatts({k: varin.getncattr(k) for k in varin.ncattrs() if k not in [\"_FillValue\"]})\n",
    "    \n",
    "    outVar[:] = varin[:]\n",
    "# close the output file\n",
    "dsout.close()"
   ]
  },
  {
   "cell_type": "code",
   "execution_count": null,
   "metadata": {},
   "outputs": [],
   "source": []
  }
 ],
 "metadata": {
  "kernelspec": {
   "display_name": "Python 3",
   "language": "python",
   "name": "python3"
  },
  "language_info": {
   "codemirror_mode": {
    "name": "ipython",
    "version": 3
   },
   "file_extension": ".py",
   "mimetype": "text/x-python",
   "name": "python",
   "nbconvert_exporter": "python",
   "pygments_lexer": "ipython3",
   "version": "3.7.3"
  }
 },
 "nbformat": 4,
 "nbformat_minor": 4
}
