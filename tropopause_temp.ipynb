{
 "cells": [
  {
   "cell_type": "code",
   "execution_count": 1,
   "metadata": {
    "collapsed": false
   },
   "outputs": [],
   "source": [
    "%matplotlib inline\n",
    "import matplotlib.pyplot as plt\n",
    "from netCDF4 import Dataset"
   ]
  },
  {
   "cell_type": "code",
   "execution_count": 2,
   "metadata": {
    "collapsed": false
   },
   "outputs": [
    {
     "name": "stdout",
     "output_type": "stream",
     "text": [
      "OrderedDict([('lat', <class 'netCDF4._netCDF4.Dimension'>: name = 'lat', size = 64\n",
      "), ('lon', <class 'netCDF4._netCDF4.Dimension'>: name = 'lon', size = 128\n",
      "), ('lev', <class 'netCDF4._netCDF4.Dimension'>: name = 'lev', size = 26\n",
      "), ('ilev', <class 'netCDF4._netCDF4.Dimension'>: name = 'ilev', size = 27\n",
      "), ('time', <class 'netCDF4._netCDF4.Dimension'> (unlimited): name = 'time', size = 1\n",
      "), ('chars', <class 'netCDF4._netCDF4.Dimension'>: name = 'chars', size = 8\n",
      ")])\n"
     ]
    }
   ],
   "source": [
    "with Dataset(\"../Downloads/cami_0000-09-01_64x128_L26_c030918.nc\") as ds:\n",
    "    ps = ds.variables[\"PS\"][:]\n",
    "    p0 = ds.variables[\"P0\"][:]\n",
    "    temp = ds.variables[\"T\"][:].squeeze()\n",
    "    lev = ds.variables[\"lev\"][:]\n",
    "    print(ds.dimensions)\n",
    "    \n",
    "    \n",
    "#double T(time, lat, lev, lon) ;\n",
    "#        T:long_name = \"Temperature\" ;\n",
    "#        T:units = \"K\" ;"
   ]
  },
  {
   "cell_type": "code",
   "execution_count": 3,
   "metadata": {
    "collapsed": true
   },
   "outputs": [],
   "source": [
    "\n",
    "# to generate tropo.so \"f2py -m tropo\"\n",
    "import tropo"
   ]
  },
  {
   "cell_type": "code",
   "execution_count": 4,
   "metadata": {
    "collapsed": false
   },
   "outputs": [
    {
     "data": {
      "text/plain": [
       "(26,)"
      ]
     },
     "execution_count": 4,
     "metadata": {},
     "output_type": "execute_result"
    }
   ],
   "source": [
    "lev.shape"
   ]
  },
  {
   "cell_type": "code",
   "execution_count": 5,
   "metadata": {
    "collapsed": false
   },
   "outputs": [],
   "source": [
    "temp = temp.transpose((2,0,1))"
   ]
  },
  {
   "cell_type": "code",
   "execution_count": 6,
   "metadata": {
    "collapsed": false
   },
   "outputs": [
    {
     "data": {
      "text/plain": [
       "(128, 64, 26)"
      ]
     },
     "execution_count": 6,
     "metadata": {},
     "output_type": "execute_result"
    }
   ],
   "source": [
    "temp.shape"
   ]
  },
  {
   "cell_type": "code",
   "execution_count": 7,
   "metadata": {
    "collapsed": false
   },
   "outputs": [
    {
     "name": "stdout",
     "output_type": "stream",
     "text": [
      "(array([[ 22921.140625]], dtype=float32), 0)\n"
     ]
    }
   ],
   "source": [
    "plimu = 45000\n",
    "pliml = 7500\n",
    "plimlex = 7500\n",
    "\n",
    "t1 = temp[0, 0, :]\n",
    "t1.shape = (1, 1, len(lev))\n",
    "print(tropo.tropo(t1, lev, plimu, pliml, plimlex, 1))"
   ]
  },
  {
   "cell_type": "code",
   "execution_count": 8,
   "metadata": {
    "collapsed": false
   },
   "outputs": [
    {
     "name": "stdout",
     "output_type": "stream",
     "text": [
      "tp,tperr = tropo(temp,pres,plimu,pliml,plimlex,dofill,[nlon,nlat,nlev])\n",
      "\n",
      "Wrapper for ``tropo``.\n",
      "\n",
      "Parameters\n",
      "----------\n",
      "temp : input rank-3 array('f') with bounds (nlon,nlat,nlev)\n",
      "pres : input rank-1 array('f') with bounds (nlev)\n",
      "plimu : input float\n",
      "pliml : input float\n",
      "plimlex : input float\n",
      "dofill : input int\n",
      "\n",
      "Other Parameters\n",
      "----------------\n",
      "nlon : input int, optional\n",
      "    Default: shape(temp,0)\n",
      "nlat : input int, optional\n",
      "    Default: shape(temp,1)\n",
      "nlev : input int, optional\n",
      "    Default: shape(temp,2)\n",
      "\n",
      "Returns\n",
      "-------\n",
      "tp : rank-2 array('f') with bounds (nlon,nlat)\n",
      "tperr : int\n",
      "\n"
     ]
    }
   ],
   "source": [
    "print(tropo.tropo.__doc__)"
   ]
  },
  {
   "cell_type": "code",
   "execution_count": 9,
   "metadata": {
    "collapsed": false
   },
   "outputs": [
    {
     "data": {
      "text/plain": [
       "array([[[ 205.68383633,  200.63630374,  192.47655777,  182.08131805,\n",
       "          181.88659838,  183.48890066,  184.59284941,  186.98495502,\n",
       "          187.42124959,  187.66238082,  188.19148133,  188.15486339,\n",
       "          188.47911683,  189.39009932,  191.90035982,  196.73685083,\n",
       "          203.09406701,  209.72177402,  216.07416325,  223.40259776,\n",
       "          229.74270036,  233.37960001,  235.50296151,  239.79477951,\n",
       "          235.55691052,  230.02294253]]])"
      ]
     },
     "execution_count": 9,
     "metadata": {},
     "output_type": "execute_result"
    }
   ],
   "source": [
    "t1"
   ]
  },
  {
   "cell_type": "code",
   "execution_count": 14,
   "metadata": {
    "collapsed": false
   },
   "outputs": [
    {
     "data": {
      "text/plain": [
       "[<matplotlib.lines.Line2D at 0x10ec119e8>]"
      ]
     },
     "execution_count": 14,
     "metadata": {},
     "output_type": "execute_result"
    },
    {
     "data": {
      "image/png": "[encoded data removed]",
      "text/plain": [
       "<matplotlib.figure.Figure at 0x10eaf3208>"
      ]
     },
     "metadata": {},
     "output_type": "display_data"
    }
   ],
   "source": [
    "plt.plot(t1.squeeze(), lev)\n",
    "plt.gca().invert_yaxis()\n",
    "plt.plot([180, 240], [22.921, 22.921], \"r\")"
   ]
  },
  {
   "cell_type": "code",
   "execution_count": null,
   "metadata": {
    "collapsed": true
   },
   "outputs": [],
   "source": []
  }
 ],
 "metadata": {
  "kernelspec": {
   "display_name": "Python 3",
   "language": "python",
   "name": "python3"
  },
  "language_info": {
   "codemirror_mode": {
    "name": "ipython",
    "version": 3
   },
   "file_extension": ".py",
   "mimetype": "text/x-python",
   "name": "python",
   "nbconvert_exporter": "python",
   "pygments_lexer": "ipython3",
   "version": "3.4.3"
  }
 },
 "nbformat": 4,
 "nbformat_minor": 0
}
