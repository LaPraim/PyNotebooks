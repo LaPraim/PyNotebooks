{
 "metadata": {
  "name": "",
  "signature": "sha256:6e57742208f43d8f764aa8f5e2d8b73623c0f38ce07a4441e83450a4e716ebf0"
 },
 "nbformat": 3,
 "nbformat_minor": 0,
 "worksheets": [
  {
   "cells": [
    {
     "cell_type": "code",
     "collapsed": false,
     "input": [
      "%matplotlib inline"
     ],
     "language": "python",
     "metadata": {},
     "outputs": [],
     "prompt_number": 1
    },
    {
     "cell_type": "code",
     "collapsed": false,
     "input": [
      "import matplotlib.pyplot as plt\n",
      "\n",
      "import cartopy.crs as ccrs\n",
      "import cartopy.feature as cfeature\n",
      "\n",
      "\n",
      "def main():\n",
      "    ax = plt.axes(projection=ccrs.PlateCarree())\n",
      "    ax.set_extent([80, 170, -45, 30])\n",
      "\n",
      "    # Put a background image on for nice sea rendering.\n",
      "    ax.stock_img()\n",
      "\n",
      "    # Create a feature for States/Admin 1 regions at 1:50m from Natural Earth\n",
      "    states_provinces = cfeature.NaturalEarthFeature(\n",
      "        category='cultural',\n",
      "        name='admin_1_states_provinces_lines',\n",
      "        scale='50m',\n",
      "        facecolor='none')\n",
      "\n",
      "    ax.add_feature(cfeature.LAND)\n",
      "    ax.add_feature(cfeature.COASTLINE)\n",
      "    #plt.savefig(\"test.png\")\n",
      "    ax.add_feature(states_provinces, edgecolor=\"k\")\n",
      "    "
     ],
     "language": "python",
     "metadata": {},
     "outputs": [],
     "prompt_number": 2
    },
    {
     "cell_type": "code",
     "collapsed": false,
     "input": [
      "main()"
     ],
     "language": "python",
     "metadata": {},
     "outputs": [
      {
       "output_type": "stream",
       "stream": "stderr",
       "text": [
        "/Users/huziy/PyVirtualenvs/basic-py2.7/lib/python2.7/site-packages/cartopy/io/__init__.py:261: DownloadWarning: Downloading: http://www.nacis.org/naturalearth/110m/physical/ne_110m_land.zip\n",
        "  warnings.warn('Downloading: {}'.format(url), DownloadWarning)\n",
        "/Users/huziy/PyVirtualenvs/basic-py2.7/lib/python2.7/site-packages/IPython/core/formatters.py:239: FormatterWarning: Exception in image/png formatter: HTTP Error 404: Not Found\n",
        "  FormatterWarning,\n"
       ]
      },
      {
       "metadata": {},
       "output_type": "display_data",
       "text": [
        "<matplotlib.figure.Figure at 0x1066f4750>"
       ]
      }
     ],
     "prompt_number": 3
    },
    {
     "cell_type": "code",
     "collapsed": false,
     "input": [
      "import matplotlib.pyplot as plt\n",
      "import cartopy.crs as ccrs\n",
      "\n",
      "plt.figure(figsize=(6.92280629527, 3))\n",
      "ax = plt.axes(projection=ccrs.InterruptedGoodeHomolosine())\n",
      "ax.coastlines(resolution='110m')\n",
      "ax.gridlines()"
     ],
     "language": "python",
     "metadata": {},
     "outputs": [
      {
       "metadata": {},
       "output_type": "pyout",
       "prompt_number": 4,
       "text": [
        "<cartopy.mpl.gridliner.Gridliner at 0x108fe3b50>"
       ]
      },
      {
       "output_type": "stream",
       "stream": "stderr",
       "text": [
        "/Users/huziy/PyVirtualenvs/basic-py2.7/lib/python2.7/site-packages/cartopy/io/__init__.py:261: DownloadWarning: Downloading: http://www.nacis.org/naturalearth/110m/physical/ne_110m_coastline.zip\n",
        "  warnings.warn('Downloading: {}'.format(url), DownloadWarning)\n"
       ]
      },
      {
       "metadata": {},
       "output_type": "display_data",
       "text": [
        "<matplotlib.figure.Figure at 0x1085a8d10>"
       ]
      }
     ],
     "prompt_number": 4
    },
    {
     "cell_type": "code",
     "collapsed": false,
     "input": [
      "bmap_params = {'llcrnrlat': 39.004303137858841,\n",
      "               'urcrnrlat': 62.443077596938053,\n",
      "               'projection': 'rotpole',\n",
      "               'llcrnrlon': -86.99883217016388,\n",
      "               'urcrnrlon': -40.221671371989302,\n",
      "               'lon_0': -73.350000000000009,\n",
      "               'o_lat_p': 37.878708451507158,\n",
      "               'resolution': 'c',\n",
      "               'o_lon_p': 176.70918638372871}"
     ],
     "language": "python",
     "metadata": {},
     "outputs": [],
     "prompt_number": 5
    },
    {
     "cell_type": "code",
     "collapsed": false,
     "input": [
      "rpole_crs = ccrs.RotatedPole(pole_longitude=bmap_params[\"o_lon_p\"], \n",
      "                             pole_latitude=bmap_params[\"o_lat_p\"],\n",
      "                             central_rotated_longitude=bmap_params[\"lon_0\"])"
     ],
     "language": "python",
     "metadata": {},
     "outputs": [
      {
       "ename": "TypeError",
       "evalue": "__init__() got an unexpected keyword argument 'central_rotated_longitude'",
       "output_type": "pyerr",
       "traceback": [
        "\u001b[0;31m---------------------------------------------------------------------------\u001b[0m\n\u001b[0;31mTypeError\u001b[0m                                 Traceback (most recent call last)",
        "\u001b[0;32m<ipython-input-6-142f3e45a7d0>\u001b[0m in \u001b[0;36m<module>\u001b[0;34m()\u001b[0m\n\u001b[1;32m      1\u001b[0m rpole_crs = ccrs.RotatedPole(pole_longitude=bmap_params[\"o_lon_p\"], \n\u001b[1;32m      2\u001b[0m                              \u001b[0mpole_latitude\u001b[0m\u001b[0;34m=\u001b[0m\u001b[0mbmap_params\u001b[0m\u001b[0;34m[\u001b[0m\u001b[0;34m\"o_lat_p\"\u001b[0m\u001b[0;34m]\u001b[0m\u001b[0;34m,\u001b[0m\u001b[0;34m\u001b[0m\u001b[0m\n\u001b[0;32m----> 3\u001b[0;31m                              central_rotated_longitude=bmap_params[\"lon_0\"])\n\u001b[0m",
        "\u001b[0;31mTypeError\u001b[0m: __init__() got an unexpected keyword argument 'central_rotated_longitude'"
       ]
      }
     ],
     "prompt_number": 6
    },
    {
     "cell_type": "code",
     "collapsed": false,
     "input": [
      "plt.figure(figsize=(6.92280629527, 3))\n",
      "ax = plt.axes(projection=rpole_crs)\n",
      "ax.coastlines(resolution='110m')\n",
      "ax.gridlines()\n",
      "#ax.set_extent()\n",
      "xll, yll = rpole_crs.transform_point(bmap_params[\"llcrnrlat\"], bmap_params[\"llcrnrlon\"], ccrs.Geodetic())\n",
      "xur, yur = rpole_crs.transform_point(bmap_params[\"urcrnrlat\"], bmap_params[\"urcrnrlon\"], ccrs.Geodetic())\n",
      "#ax.set_extent([xll, xur, yll, yur], crs=rpole_crs)\n",
      "\n",
      "ax.set_extent([bmap_params[key] for key in ['llcrnrlon', 'urcrnrlon', 'llcrnrlat', 'urcrnrlat']])\n",
      "\n",
      "print xll, xur, yll, yur"
     ],
     "language": "python",
     "metadata": {},
     "outputs": [
      {
       "ename": "NameError",
       "evalue": "name 'rpole_crs' is not defined",
       "output_type": "pyerr",
       "traceback": [
        "\u001b[0;31m---------------------------------------------------------------------------\u001b[0m\n\u001b[0;31mNameError\u001b[0m                                 Traceback (most recent call last)",
        "\u001b[0;32m<ipython-input-7-ca13f9892a5e>\u001b[0m in \u001b[0;36m<module>\u001b[0;34m()\u001b[0m\n\u001b[1;32m      1\u001b[0m \u001b[0mplt\u001b[0m\u001b[0;34m.\u001b[0m\u001b[0mfigure\u001b[0m\u001b[0;34m(\u001b[0m\u001b[0mfigsize\u001b[0m\u001b[0;34m=\u001b[0m\u001b[0;34m(\u001b[0m\u001b[0;36m6.92280629527\u001b[0m\u001b[0;34m,\u001b[0m \u001b[0;36m3\u001b[0m\u001b[0;34m)\u001b[0m\u001b[0;34m)\u001b[0m\u001b[0;34m\u001b[0m\u001b[0m\n\u001b[0;32m----> 2\u001b[0;31m \u001b[0max\u001b[0m \u001b[0;34m=\u001b[0m \u001b[0mplt\u001b[0m\u001b[0;34m.\u001b[0m\u001b[0maxes\u001b[0m\u001b[0;34m(\u001b[0m\u001b[0mprojection\u001b[0m\u001b[0;34m=\u001b[0m\u001b[0mrpole_crs\u001b[0m\u001b[0;34m)\u001b[0m\u001b[0;34m\u001b[0m\u001b[0m\n\u001b[0m\u001b[1;32m      3\u001b[0m \u001b[0max\u001b[0m\u001b[0;34m.\u001b[0m\u001b[0mcoastlines\u001b[0m\u001b[0;34m(\u001b[0m\u001b[0mresolution\u001b[0m\u001b[0;34m=\u001b[0m\u001b[0;34m'110m'\u001b[0m\u001b[0;34m)\u001b[0m\u001b[0;34m\u001b[0m\u001b[0m\n\u001b[1;32m      4\u001b[0m \u001b[0max\u001b[0m\u001b[0;34m.\u001b[0m\u001b[0mgridlines\u001b[0m\u001b[0;34m(\u001b[0m\u001b[0;34m)\u001b[0m\u001b[0;34m\u001b[0m\u001b[0m\n\u001b[1;32m      5\u001b[0m \u001b[0;31m#ax.set_extent()\u001b[0m\u001b[0;34m\u001b[0m\u001b[0;34m\u001b[0m\u001b[0m\n",
        "\u001b[0;31mNameError\u001b[0m: name 'rpole_crs' is not defined"
       ]
      },
      {
       "metadata": {},
       "output_type": "display_data",
       "text": [
        "<matplotlib.figure.Figure at 0x108559b50>"
       ]
      }
     ],
     "prompt_number": 7
    },
    {
     "cell_type": "code",
     "collapsed": false,
     "input": [
      "from mpl_toolkits.basemap import Basemap\n",
      "b = Basemap(**bmap_params)\n",
      "b.drawcoastlines()"
     ],
     "language": "python",
     "metadata": {},
     "outputs": [
      {
       "metadata": {},
       "output_type": "pyout",
       "prompt_number": 61,
       "text": [
        "<matplotlib.collections.LineCollection at 0x3a46e50>"
       ]
      },
      {
       "metadata": {},
       "output_type": "display_data",
       "png": "[encoded data removed]",
       "text": [
        "<matplotlib.figure.Figure at 0x3235550>"
       ]
      }
     ],
     "prompt_number": 61
    },
    {
     "cell_type": "code",
     "collapsed": false,
     "input": [],
     "language": "python",
     "metadata": {},
     "outputs": []
    }
   ],
   "metadata": {}
  }
 ]
}