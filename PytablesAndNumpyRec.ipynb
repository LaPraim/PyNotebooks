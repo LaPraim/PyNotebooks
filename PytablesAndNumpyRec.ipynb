{
 "metadata": {
  "name": ""
 },
 "nbformat": 3,
 "nbformat_minor": 0,
 "worksheets": [
  {
   "cells": [
    {
     "cell_type": "markdown",
     "metadata": {},
     "source": [
      "Witing numpy recarray to hdf file using pytables\n",
      "=====\n",
      "------\n",
      "\n",
      "This is to demonstrate that even if you are using record array to wite data to hdf, you will still have to match the positions of the columns in the table descriptions (i.e. it seems that matching names are not taken into account).\n",
      "---"
     ]
    },
    {
     "cell_type": "code",
     "collapsed": false,
     "input": [
      "import tables as tb\n",
      "import numpy as np\n",
      "from datetime import datetime, timedelta"
     ],
     "language": "python",
     "metadata": {},
     "outputs": [],
     "prompt_number": 5
    },
    {
     "cell_type": "code",
     "collapsed": false,
     "input": [
      "#generate some data\n",
      "descr1 = {\n",
      "            \"year\": tb.Int32Col(pos = 1),\n",
      "            \"month\": tb.Int32Col(pos = 2),\n",
      "            \"level\": tb.Float32Col(pos = 3)\n",
      "}\n",
      "\n",
      "descr2 = {\n",
      "            \"year\": tb.Int32Col(),\n",
      "            \"month\": tb.Int32Col(),\n",
      "            \"level\": tb.Float32Col()\n",
      "}\n",
      "\n",
      "\n",
      "rectype = [\n",
      "            (\"year\", \"i4\"), (\"month\", \"i4\"), (\"level\", \"f4\")\n",
      "]\n",
      "\n",
      "dt = timedelta(days = 25)\n",
      "d0 = datetime.now()\n",
      "nrows = 300\n",
      "times = [d0 + i * dt for i in range(nrows)]\n",
      "levs = np.random.randn(nrows)\n",
      "arr = [(t.year, t.month, level) for t, level in zip(times, levs)]\n",
      "arr = np.array(arr, dtype=np.dtype(rectype))\n",
      "arr = arr.view(np.recarray)"
     ],
     "language": "python",
     "metadata": {},
     "outputs": [],
     "prompt_number": 11
    },
    {
     "cell_type": "code",
     "collapsed": false,
     "input": [
      "#write the tables into hdf file\n",
      "h = tb.open_file(\"test_rec_array.h5\", mode=\"w\")\n",
      "t1 = h.createTable(\"/\", \"table1\", descr1)\n",
      "t1.append(arr)\n",
      "\n",
      "t2 = h.createTable(\"/\", \"table2\", descr2)\n",
      "t2.append(arr)\n",
      "h.close()"
     ],
     "language": "python",
     "metadata": {},
     "outputs": [],
     "prompt_number": 12
    },
    {
     "cell_type": "code",
     "collapsed": false,
     "input": [
      "#read data and compare\n",
      "h = tb.open_file(\"test_rec_array.h5\")\n",
      "\n",
      "print \"Data from table1\"\n",
      "print h.root.table1[:3]\n",
      "\n",
      "print \"Data from table2\"\n",
      "print h.root.table2[:3]\n",
      "\n",
      "h.close()\n"
     ],
     "language": "python",
     "metadata": {},
     "outputs": [
      {
       "output_type": "stream",
       "stream": "stdout",
       "text": [
        "Data from table1\n",
        "[(2013, 12, -0.12171962112188339) (2014, 1, 0.030248010531067848)\n",
        " (2014, 2, 0.31609439849853516)]\n",
        "Data from table2\n",
        "[(2.8208138086858568e-42, 12, -1107736541)\n",
        " (2.8222151071501816e-42, 1, 1022872237)\n",
        " (2.8222151071501816e-42, 2, 1050793760)]\n"
       ]
      }
     ],
     "prompt_number": 14
    },
    {
     "cell_type": "code",
     "collapsed": false,
     "input": [],
     "language": "python",
     "metadata": {},
     "outputs": []
    }
   ],
   "metadata": {}
  }
 ]
}