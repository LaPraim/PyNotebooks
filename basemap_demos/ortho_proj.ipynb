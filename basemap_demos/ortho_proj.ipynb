{
 "metadata": {
  "name": "",
  "signature": "sha256:2fcd34e21df13f5837b7b024e1725af6dfc5a5c136568242e157637644e4622e"
 },
 "nbformat": 3,
 "nbformat_minor": 0,
 "worksheets": [
  {
   "cells": [
    {
     "cell_type": "code",
     "collapsed": false,
     "input": [
      "%matplotlib inline\n",
      "from mpl_toolkits.basemap import Basemap\n",
      "m = Basemap(projection='ortho',\n",
      "            lon_0=0,lat_0=0.0 )\n",
      "\n",
      "\n",
      "llcrnrx, llcrnry = m(-80, -20)\n",
      "urcrnrx, urcrnry = m(10, 20)\n",
      "\n",
      "m = Basemap(projection='ortho',\n",
      "            lon_0=0,lat_0=0.1, llcrnrx=llcrnrx, llcrnry=llcrnry, urcrnrx=urcrnrx, urcrnry=urcrnry )\n"
     ],
     "language": "python",
     "metadata": {},
     "outputs": [],
     "prompt_number": 37
    },
    {
     "cell_type": "code",
     "collapsed": false,
     "input": [
      "m.drawcoastlines()"
     ],
     "language": "python",
     "metadata": {},
     "outputs": [
      {
       "metadata": {},
       "output_type": "pyout",
       "prompt_number": 38,
       "text": [
        "<matplotlib.collections.LineCollection at 0x10a809510>"
       ]
      },
      {
       "metadata": {},
       "output_type": "display_data",
       "png": "[encoded data removed]",
       "text": [
        "<matplotlib.figure.Figure at 0x108617550>"
       ]
      }
     ],
     "prompt_number": 38
    },
    {
     "cell_type": "code",
     "collapsed": false,
     "input": [
      "\"ortho\" in \"ortho\""
     ],
     "language": "python",
     "metadata": {},
     "outputs": [
      {
       "metadata": {},
       "output_type": "pyout",
       "prompt_number": 31,
       "text": [
        "True"
       ]
      }
     ],
     "prompt_number": 31
    },
    {
     "cell_type": "code",
     "collapsed": false,
     "input": [],
     "language": "python",
     "metadata": {},
     "outputs": []
    }
   ],
   "metadata": {}
  }
 ]
}