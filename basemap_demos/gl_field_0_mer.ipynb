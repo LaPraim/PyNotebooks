{
 "cells": [
  {
   "cell_type": "code",
   "execution_count": 1,
   "metadata": {
    "collapsed": true
   },
   "outputs": [],
   "source": [
    "%matplotlib inline"
   ]
  },
  {
   "cell_type": "code",
   "execution_count": null,
   "metadata": {
    "collapsed": false
   },
   "outputs": [
    {
     "name": "stdout",
     "output_type": "stream",
     "text": [
      "1.0.8\n"
     ]
    },
    {
     "data": {
      "text/plain": [
       "<matplotlib.collections.LineCollection at 0x119143f98>"
      ]
     },
     "execution_count": 12,
     "metadata": {},
     "output_type": "execute_result"
    }
   ],
   "source": [
    "from mpl_toolkits.basemap import Basemap\n",
    "from netCDF4 import Dataset\n",
    "import matplotlib.pyplot as plt\n",
    "import numpy as np\n",
    "\n",
    "\n",
    "from mpl_toolkits import basemap\n",
    "\n",
    "print(basemap.__version__)\n",
    "\n",
    "nx, ny = 90, 45\n",
    "\n",
    "plt.figure(figsize=(10, 10))\n",
    "\n",
    "convrain_mean = np.random.randn(nx, ny).T\n",
    "lats = np.linspace(-90, 90, ny)\n",
    "lons = np.linspace(1.25, 360 - 1.25 , nx)\n",
    "\n",
    "map = Basemap(projection='ortho',lat_0=45,\n",
    "              lon_0=0,resolution='l')\n",
    "\n",
    "map.drawmeridians(np.arange(0,360,30))\n",
    "map.drawparallels(np.arange(-90,90,30))\n",
    "\n",
    "lon,lat = np.meshgrid(lons,lats)\n",
    "xx, yy = map(lon, lat)\n",
    "map.pcolormesh(xx, yy, convrain_mean)\n",
    "map.drawcoastlines()\n",
    "\n"
   ]
  },
  {
   "cell_type": "code",
   "execution_count": null,
   "metadata": {
    "collapsed": true
   },
   "outputs": [],
   "source": []
  }
 ],
 "metadata": {
  "kernelspec": {
   "display_name": "Python 3",
   "language": "python",
   "name": "python3"
  },
  "language_info": {
   "codemirror_mode": {
    "name": "ipython",
    "version": 3
   },
   "file_extension": ".py",
   "mimetype": "text/x-python",
   "name": "python",
   "nbconvert_exporter": "python",
   "pygments_lexer": "ipython3",
   "version": "3.4.3"
  }
 },
 "nbformat": 4,
 "nbformat_minor": 1
}
