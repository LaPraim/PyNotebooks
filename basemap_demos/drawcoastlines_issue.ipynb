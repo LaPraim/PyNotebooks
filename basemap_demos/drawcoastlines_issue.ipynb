{
 "cells": [
  {
   "cell_type": "code",
   "execution_count": 2,
   "metadata": {
    "collapsed": false
   },
   "outputs": [
    {
     "data": {
      "text/plain": [
       "'1.0.8'"
      ]
     },
     "execution_count": 2,
     "metadata": {},
     "output_type": "execute_result"
    }
   ],
   "source": [
    "%matplotlib inline\n",
    "from mpl_toolkits.basemap import Basemap\n",
    "from mpl_toolkits import basemap\n",
    "import matplotlib.pyplot as plt\n",
    "import numpy as np\n",
    "basemap.__version__"
   ]
  },
  {
   "cell_type": "code",
   "execution_count": 18,
   "metadata": {
    "collapsed": false
   },
   "outputs": [
    {
     "data": {
      "text/plain": [
       "<matplotlib.collections.PolyCollection at 0x114c2cfd0>"
      ]
     },
     "execution_count": 18,
     "metadata": {},
     "output_type": "execute_result"
    },
    {
     "data": {
      "image/png": "[encoded data removed]",
      "text/plain": [
       "<matplotlib.figure.Figure at 0x10de1c080>"
      ]
     },
     "metadata": {},
     "output_type": "display_data"
    }
   ],
   "source": [
    "# W is a class instance that loads a WRF model netCDF datafile\n",
    "# Hope it's fairly self-descriptive here\n",
    "\n",
    "def create_basemap(W,ax=None):\n",
    "    width_m = W.dx*(W.x_dim-1)\n",
    "    height_m = W.dy*(W.y_dim-1)\n",
    "    m = Basemap(projection='lcc',lon_0=W.cen_lon,lat_0=W.cen_lat,lat_1=W.truelat1,\n",
    "            lat_2=W.truelat2,resolution='i',area_thresh=500,ax=ax,\n",
    "            width=width_m,height=height_m,)\n",
    "    my, mx = m(*np.meshgrid(W.lats,W.lons))\n",
    "    return m, mx, my\n",
    "\n",
    "# data is a 2-D numpy array from that netCDF file\n",
    "\n",
    "class T(object):\n",
    "    pass\n",
    "\n",
    "W = T()\n",
    "W.x_dim = 100\n",
    "W.y_dim = 100\n",
    "W.dy = 50000\n",
    "W.dx = 50000\n",
    "W.truelat1 = 90\n",
    "W.truelat2 = 0\n",
    "W.cen_lat = 35\n",
    "W.cen_lon = 0\n",
    "\n",
    "W.lons = np.linspace(-150, -60, W.x_dim)\n",
    "W.lats = np.linspace(10, 60, W.y_dim)\n",
    "\n",
    "\n",
    "fig,axes = plt.subplots(1, 1)\n",
    "mm,mx,my = create_basemap(W,ax=axes)\n",
    "mm.contourf(mx, my, np.random.randn(W.x_dim, W.y_dim).T)\n",
    "mm.drawcounties()"
   ]
  },
  {
   "cell_type": "code",
   "execution_count": null,
   "metadata": {
    "collapsed": true
   },
   "outputs": [],
   "source": []
  }
 ],
 "metadata": {
  "kernelspec": {
   "display_name": "Python 3",
   "language": "python",
   "name": "python3"
  },
  "language_info": {
   "codemirror_mode": {
    "name": "ipython",
    "version": 3
   },
   "file_extension": ".py",
   "mimetype": "text/x-python",
   "name": "python",
   "nbconvert_exporter": "python",
   "pygments_lexer": "ipython3",
   "version": "3.5.2"
  }
 },
 "nbformat": 4,
 "nbformat_minor": 1
}
