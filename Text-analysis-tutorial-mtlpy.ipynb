{
 "metadata": {
  "name": ""
 },
 "nbformat": 3,
 "nbformat_minor": 0,
 "worksheets": [
  {
   "cells": [
    {
     "cell_type": "code",
     "collapsed": false,
     "input": [
      "%autosave 10"
     ],
     "language": "python",
     "metadata": {},
     "outputs": [
      {
       "javascript": [
        "IPython.notebook.set_autosave_interval(10000)"
       ],
       "metadata": {},
       "output_type": "display_data"
      },
      {
       "output_type": "stream",
       "stream": "stdout",
       "text": [
        "Autosaving every 10 seconds\n"
       ]
      }
     ],
     "prompt_number": 17
    },
    {
     "cell_type": "markdown",
     "metadata": {},
     "source": [
      "Tutorial notebook can be accessed here: [link](http://nbviewer.ipython.org/url/louis.philotech.org/confs/MtlPythonFr2014/MtlPythonFr2014.ipynb)\n"
     ]
    },
    {
     "cell_type": "code",
     "collapsed": false,
     "input": [
      "import pattern\n",
      "import scipy as sp\n",
      "import numpy as np\n",
      "\n",
      "import urllib, re"
     ],
     "language": "python",
     "metadata": {},
     "outputs": [],
     "prompt_number": 23
    },
    {
     "cell_type": "code",
     "collapsed": false,
     "input": [
      "from pattern import db"
     ],
     "language": "python",
     "metadata": {},
     "outputs": [],
     "prompt_number": 24
    },
    {
     "cell_type": "code",
     "collapsed": false,
     "input": [
      "print u\"\u00e9\u00e9\u00e9\u00e9\u00e9\".upper()"
     ],
     "language": "python",
     "metadata": {},
     "outputs": [
      {
       "output_type": "stream",
       "stream": "stdout",
       "text": [
        "\u00c9\u00c9\u00c9\u00c9\u00c9\n"
       ]
      }
     ],
     "prompt_number": 25
    },
    {
     "cell_type": "code",
     "collapsed": false,
     "input": [
      "test = \"djksj\u00e9\u00e9\u00e9\u00e9\u00e9\".decode(\"utf-8\")"
     ],
     "language": "python",
     "metadata": {},
     "outputs": [],
     "prompt_number": 26
    },
    {
     "cell_type": "code",
     "collapsed": false,
     "input": [
      "print test.upper()"
     ],
     "language": "python",
     "metadata": {},
     "outputs": [
      {
       "output_type": "stream",
       "stream": "stdout",
       "text": [
        "DJKSJ\u00c9\u00c9\u00c9\u00c9\u00c9\n"
       ]
      }
     ],
     "prompt_number": 27
    },
    {
     "cell_type": "code",
     "collapsed": false,
     "input": [
      "f = urllib.urlopen(\"http://louis.philotech.org/confs/MtlPythonFr2014/corpus/\")\n",
      "liste_html = f.read()\n",
      "liste_tous_corpus = re.findall('<a href=\"([a-zA-Z0-9_-]*\\.txt)\">',liste_html)"
     ],
     "language": "python",
     "metadata": {},
     "outputs": [],
     "prompt_number": 28
    },
    {
     "cell_type": "code",
     "collapsed": false,
     "input": [
      "liste_tous_corpus"
     ],
     "language": "python",
     "metadata": {},
     "outputs": [
      {
       "metadata": {},
       "output_type": "pyout",
       "prompt_number": 29,
       "text": [
        "['SandC_Corresondance1812-1876T1.txt',\n",
        " 'SandC_Corresondance1812-1876T2.txt',\n",
        " 'SandC_Corresondance1812-1876T3.txt',\n",
        " 'SandC_Corresondance1812-1876T4.txt',\n",
        " 'SandC_Corresondance1812-1876T5.txt',\n",
        " 'Sand_Aldolerimeur.txt',\n",
        " 'Sand_Andre.txt',\n",
        " 'Sand_Cadio.txt',\n",
        " 'Sand_ConsueloT1.txt',\n",
        " 'Sand_ConsueloT2.txt',\n",
        " 'Sand_ConsueloT3.txt',\n",
        " 'Sand_Contesdunegrandmere.txt',\n",
        " 'Sand_Elleetlui.txt',\n",
        " 'Sand_Gabriel.txt',\n",
        " 'Sand_HistoireduveritableGribouille.txt',\n",
        " 'Sand_HiveraMajorque.txt',\n",
        " 'Sand_Horace.txt',\n",
        " 'Sand_Jacques.txt',\n",
        " 'Sand_JeanZiska.txt',\n",
        " 'Sand_LaCoupeetal.txt',\n",
        " 'Sand_LaMareauDiable.txt',\n",
        " 'Sand_LacomtessedeRudolstadt.txt',\n",
        " 'Sand_Lapetitefadette.txt',\n",
        " 'Sand_LePiccinino.txt',\n",
        " 'Sand_Lelia.txt',\n",
        " 'Sand_LemeunierdAngibault.txt',\n",
        " 'Sand_LesMaitres.txt',\n",
        " 'Sand_Lesbeauxmessieurs.txt',\n",
        " 'Sand_Lettresdunvoyageur.txt',\n",
        " 'Sand_LucreziaFloriani.txt',\n",
        " 'Sand_Nouvelleslettresdunvoyageur.txt',\n",
        " 'Sand_Promenadesautourdunvillage.txt',\n",
        " 'Sand_Spiridion.txt',\n",
        " 'Sand_Valentine.txt',\n",
        " 'proust_1_swann.txt',\n",
        " 'proust_2_ombre1.txt',\n",
        " 'proust_2_ombre2.txt',\n",
        " 'proust_2_ombre3.txt',\n",
        " 'proust_3_sodome1.txt',\n",
        " 'proust_3_sodome2.txt',\n",
        " 'proust_4_guermantes1.txt',\n",
        " 'proust_4_guermantes2.txt',\n",
        " 'proust_4_guermantes3.txt',\n",
        " 'sandc2_correspondance.txt']"
       ]
      }
     ],
     "prompt_number": 29
    },
    {
     "cell_type": "code",
     "collapsed": false,
     "input": [
      "liste_proust = [ i for i in liste_tous_corpus if i.startswith(\"proust_\") ]\n",
      "print liste_proust"
     ],
     "language": "python",
     "metadata": {},
     "outputs": [
      {
       "output_type": "stream",
       "stream": "stdout",
       "text": [
        "['proust_1_swann.txt', 'proust_2_ombre1.txt', 'proust_2_ombre2.txt', 'proust_2_ombre3.txt', 'proust_3_sodome1.txt', 'proust_3_sodome2.txt', 'proust_4_guermantes1.txt', 'proust_4_guermantes2.txt', 'proust_4_guermantes3.txt']\n"
       ]
      }
     ],
     "prompt_number": 30
    },
    {
     "cell_type": "code",
     "collapsed": false,
     "input": [
      "#read a book\n",
      "f = urllib.urlopen(\"http://louis.philotech.org/confs/MtlPythonFr2014/corpus/\" + liste_proust[0])\n",
      "texte = f.read()\n",
      "texte = texte.replace(\"\\r\",\"\") # les fins de ligne de Gutenberg sont en CRLF. On enl\u00e8ve les CR."
     ],
     "language": "python",
     "metadata": {},
     "outputs": [],
     "prompt_number": 31
    },
    {
     "cell_type": "code",
     "collapsed": false,
     "input": [
      "texte = texte.decode(\"utf-8\")"
     ],
     "language": "python",
     "metadata": {},
     "outputs": [],
     "prompt_number": 33
    },
    {
     "cell_type": "code",
     "collapsed": false,
     "input": [
      "print texte[:60] + \"...\""
     ],
     "language": "python",
     "metadata": {},
     "outputs": [
      {
       "output_type": "stream",
       "stream": "stdout",
       "text": [
        "\ufeffThe Project Gutenberg EBook of Du C\u00f4t\u00e9 de Chez Swann, by Ma...\n"
       ]
      }
     ],
     "prompt_number": 37
    },
    {
     "cell_type": "code",
     "collapsed": false,
     "input": [
      "import pattern.vector as vec"
     ],
     "language": "python",
     "metadata": {},
     "outputs": [],
     "prompt_number": 39
    },
    {
     "cell_type": "code",
     "collapsed": false,
     "input": [
      "doc = vec.Document(string=texte, language=\"fr\")"
     ],
     "language": "python",
     "metadata": {},
     "outputs": [],
     "prompt_number": 47
    },
    {
     "cell_type": "code",
     "collapsed": false,
     "input": [
      "for kw in doc.keywords(top=20):\n",
      "    print kw[0], kw[1]"
     ],
     "language": "python",
     "metadata": {},
     "outputs": [
      {
       "output_type": "stream",
       "stream": "stdout",
       "text": [
        "0.0100964974982 swann\n",
        "0.00613533476293 faire\n",
        "0.00576304503217 odette\n",
        "0.00464617583989 mme\n",
        "0.00413986180605 dit\n",
        "0.00390159637837 voir\n",
        "0.00375268048606 verdurin\n",
        "0.00363354777222 temps\n",
        "0.00343995711222 vie\n",
        "0.00327614963069 dire\n",
        "0.00324636645223 air\n",
        "0.00285918513224 faisait\n",
        "0.00278472718609 moment\n",
        "0.00276983559685 tante\n",
        "0.00272516082916 chose\n",
        "0.00271026923993 jour\n",
        "0.00263581129378 disait\n",
        "0.00260602811532 grand\n",
        "0.00259113652609 the\n",
        "0.00251667857994 pouvait\n"
       ]
      }
     ],
     "prompt_number": 53
    },
    {
     "cell_type": "code",
     "collapsed": false,
     "input": [
      "len(doc.keywords())"
     ],
     "language": "python",
     "metadata": {},
     "outputs": [
      {
       "metadata": {},
       "output_type": "pyout",
       "prompt_number": 51,
       "text": [
        "10"
       ]
      }
     ],
     "prompt_number": 51
    },
    {
     "cell_type": "code",
     "collapsed": false,
     "input": [
      "for kw in doc.keywords(top = 20):\n",
      "    print doc.words[kw[1]], kw[1]"
     ],
     "language": "python",
     "metadata": {},
     "outputs": [
      {
       "output_type": "stream",
       "stream": "stdout",
       "text": [
        "678 swann\n",
        "412 faire\n",
        "387 odette\n",
        "312 mme\n",
        "278 dit\n",
        "262 voir\n",
        "252 verdurin\n",
        "244 temps\n",
        "231 vie\n",
        "220 dire\n",
        "218 air\n",
        "192 faisait\n",
        "187 moment\n",
        "186 tante\n",
        "183 chose\n",
        "182 jour\n",
        "177 disait\n",
        "175 grand\n",
        "174 the\n",
        "169 pouvait\n"
       ]
      }
     ],
     "prompt_number": 56
    },
    {
     "cell_type": "code",
     "collapsed": false,
     "input": [
      "stop_list = [u\"of\", u\"du\", u\"de\", u\"\u00e0\", u\"by\"]\n",
      "mots_etude = vec.words(texte.lower().replace(\"'\",\" \"),\n",
      "                       filter = lambda w: w.isalpha() and len(w)>1 and w not in stop_list,\n",
      "                           # On filtre les mots d'un seul caract\u00e8re et les mots fonctionnels\n",
      "                       punctuation = u'.,;:!?()[]{}\\'`\"@#$*+-|=~_\u00ab\u00bb')"
     ],
     "language": "python",
     "metadata": {},
     "outputs": [],
     "prompt_number": 72
    },
    {
     "cell_type": "code",
     "collapsed": false,
     "input": [
      "for mot in mots_etude[:10]:\n",
      "    print mot"
     ],
     "language": "python",
     "metadata": {},
     "outputs": [
      {
       "output_type": "stream",
       "stream": "stdout",
       "text": [
        "project\n",
        "gutenberg\n",
        "ebook\n",
        "c\u00f4t\u00e9\n",
        "chez\n",
        "swann\n",
        "marcel\n",
        "proust\n",
        "this\n",
        "ebook\n"
       ]
      }
     ],
     "prompt_number": 75
    },
    {
     "cell_type": "code",
     "collapsed": false,
     "input": [
      "# Create segments of 50 words long\n",
      "t = 50\n",
      "segments_etude = [ \" \".join(mots_etude[i:i+t]) for i in xrange(0, len(mots_etude), t) ]"
     ],
     "language": "python",
     "metadata": {},
     "outputs": [],
     "prompt_number": 78
    },
    {
     "cell_type": "code",
     "collapsed": false,
     "input": [
      "#Create base \n",
      "documents_etude = []\n",
      "for t in segments_etude:\n",
      "    d = vec.Document(t, language = 'fr')\n",
      "    documents_etude.append(d)\n",
      "\n",
      "corpus_etude = vec.Model(documents_etude[:30], weight=None)\n",
      "print len(documents_etude)"
     ],
     "language": "python",
     "metadata": {},
     "outputs": [
      {
       "output_type": "stream",
       "stream": "stdout",
       "text": [
        "3121\n"
       ]
      }
     ],
     "prompt_number": 83
    },
    {
     "cell_type": "code",
     "collapsed": false,
     "input": [
      "classes = corpus_etude.cluster(k=10, iterations = 10)"
     ],
     "language": "python",
     "metadata": {},
     "outputs": [],
     "prompt_number": 84
    },
    {
     "cell_type": "code",
     "collapsed": false,
     "input": [
      "c = classes[0]"
     ],
     "language": "python",
     "metadata": {},
     "outputs": [],
     "prompt_number": 86
    },
    {
     "cell_type": "code",
     "collapsed": false,
     "input": [
      "for c in classes:\n",
      "    print len(c)"
     ],
     "language": "python",
     "metadata": {},
     "outputs": [
      {
       "output_type": "stream",
       "stream": "stdout",
       "text": [
        "3\n",
        "3\n",
        "3\n",
        "3\n",
        "3\n",
        "3\n",
        "3\n",
        "3\n",
        "3\n",
        "3\n"
       ]
      }
     ],
     "prompt_number": 96
    },
    {
     "cell_type": "code",
     "collapsed": false,
     "input": [
      "d1.count"
     ],
     "language": "python",
     "metadata": {},
     "outputs": [
      {
       "metadata": {},
       "output_type": "pyout",
       "prompt_number": 95,
       "text": [
        "43"
       ]
      }
     ],
     "prompt_number": 95
    },
    {
     "cell_type": "code",
     "collapsed": false,
     "input": [],
     "language": "python",
     "metadata": {},
     "outputs": []
    }
   ],
   "metadata": {}
  }
 ]
}