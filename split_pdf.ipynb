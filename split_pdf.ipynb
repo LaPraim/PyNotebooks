{
 "cells": [
  {
   "cell_type": "code",
   "execution_count": 3,
   "metadata": {
    "collapsed": false
   },
   "outputs": [],
   "source": [
    "import os\n",
    "from pdfrw import PdfReader, PdfWriter\n",
    "\n",
    "infile = PdfReader(os.path.expanduser(\"~/Dropbox/gevslides.pdf\"))\n",
    "\n",
    "out_dir = os.path.expanduser(\"~/test\")\n",
    "if not os.path.isdir(out_dir):\n",
    "    os.mkdir(out_dir)\n",
    "\n",
    "for i, p in enumerate(infile.pages):\n",
    "    PdfWriter().addpage(p).write(os.path.join(out_dir, 'page-%02d.pdf' % i))"
   ]
  },
  {
   "cell_type": "code",
   "execution_count": null,
   "metadata": {
    "collapsed": true
   },
   "outputs": [],
   "source": []
  }
 ],
 "metadata": {
  "kernelspec": {
   "display_name": "Python 3",
   "language": "python",
   "name": "python3"
  },
  "language_info": {
   "codemirror_mode": {
    "name": "ipython",
    "version": 3
   },
   "file_extension": ".py",
   "mimetype": "text/x-python",
   "name": "python",
   "nbconvert_exporter": "python",
   "pygments_lexer": "ipython3",
   "version": "3.4.2"
  }
 },
 "nbformat": 4,
 "nbformat_minor": 0
}
