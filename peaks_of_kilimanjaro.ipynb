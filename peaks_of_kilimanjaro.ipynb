{
 "metadata": {
  "name": "peaks_of_kilimanjaro"
 },
 "nbformat": 3,
 "nbformat_minor": 0,
 "worksheets": [
  {
   "cells": [
    {
     "cell_type": "markdown",
     "metadata": {},
     "source": [
      "**Your brother is going on an expidition to build a bridge between the two\n",
      "peaks of Mount Kilimanjaro.  He needs you to create a database of information \n",
      "about the team.  This needs to include:**\n",
      "\n",
      "I. A table of critical team member information.\n",
      "\n",
      "II. An array of oxygen depravation fraction (to be filled in later)\n",
      "    for everyone team member for each of the million steps up the mountain.\n",
      "\n",
      "The info he has about the team is their first name, last name, age, and \n",
      "whether they are alive or not.\n",
      "\n",
      "Suddenly, he has forgotten the first half of team's names.  \n",
      "\n",
      "III. Please read these off for him.\n",
      "\n",
      "Careful out there!"
     ]
    },
    {
     "cell_type": "code",
     "collapsed": false,
     "input": [
      "import numpy as np\n",
      "import tables as tb\n",
      "\n",
      "team = [('Flavia',   'Jacquin',   21, True),\n",
      "        ('Michal',   'Ards',       7, True),\n",
      "        ('Madaline', 'Herta',     25, True), \n",
      "        ('Ike',      'Jerding',    3, True),\n",
      "        ('Winford',  'Bergenty',  59, True),\n",
      "        ('Fernanda', 'Leuze',     51, True),\n",
      "        ('Larae',    'Dalaq',     44, False),\n",
      "        ('Ema',      'Czyrnik',   51, True),\n",
      "        ('Britt',    'Housemate', 32, False),\n",
      "        ('Eldridge', 'Lerow',     72, False),\n",
      "        ]\n",
      "\n"
     ],
     "language": "python",
     "metadata": {},
     "outputs": [],
     "prompt_number": 18
    },
    {
     "cell_type": "code",
     "collapsed": false,
     "input": [
      "f = tb.openFile(\"team.h\", \"w\")\n",
      "data_type = np.dtype([(\"name\", \"S100\"),(\"last_name\", \"S100\"), (\"age\", int), (\"alive\", bool)])"
     ],
     "language": "python",
     "metadata": {},
     "outputs": [],
     "prompt_number": 19
    },
    {
     "cell_type": "code",
     "collapsed": false,
     "input": [
      "data_type"
     ],
     "language": "python",
     "metadata": {},
     "outputs": [
      {
       "output_type": "pyout",
       "prompt_number": 20,
       "text": [
        "dtype([('name', 'S100'), ('last_name', 'S100'), ('age', '<i8'), ('alive', '?')])"
       ]
      }
     ],
     "prompt_number": 20
    },
    {
     "cell_type": "code",
     "collapsed": false,
     "input": [
      "team_table = f.createTable(\"/\", \"team_info\", data_type)"
     ],
     "language": "python",
     "metadata": {},
     "outputs": [],
     "prompt_number": 21
    },
    {
     "cell_type": "code",
     "collapsed": false,
     "input": [
      "team_table.append(team)"
     ],
     "language": "python",
     "metadata": {},
     "outputs": [],
     "prompt_number": 22
    },
    {
     "cell_type": "code",
     "collapsed": false,
     "input": [
      "team_table"
     ],
     "language": "python",
     "metadata": {},
     "outputs": [
      {
       "output_type": "pyout",
       "prompt_number": 23,
       "text": [
        "/team_info (Table(10,)) ''\n",
        "  description := {\n",
        "  \"name\": StringCol(itemsize=100, shape=(), dflt='', pos=0),\n",
        "  \"last_name\": StringCol(itemsize=100, shape=(), dflt='', pos=1),\n",
        "  \"age\": Int64Col(shape=(), dflt=0, pos=2),\n",
        "  \"alive\": BoolCol(shape=(), dflt=False, pos=3)}\n",
        "  byteorder := 'little'\n",
        "  chunkshape := (313,)"
       ]
      }
     ],
     "prompt_number": 23
    },
    {
     "cell_type": "code",
     "collapsed": false,
     "input": [
      "for x in team_table:\n",
      "    print x['last_name']"
     ],
     "language": "python",
     "metadata": {},
     "outputs": [
      {
       "output_type": "stream",
       "stream": "stdout",
       "text": [
        "Jacquin\n",
        "Ards\n",
        "Herta\n",
        "Jerding\n",
        "Bergenty\n",
        "Leuze\n",
        "Dalaq\n",
        "Czyrnik\n",
        "Housemate\n",
        "Lerow\n"
       ]
      }
     ],
     "prompt_number": 24
    },
    {
     "cell_type": "code",
     "collapsed": false,
     "input": [
      "depr= f.createArray(\"/\",\"oxygen_depravation_array\", [])"
     ],
     "language": "python",
     "metadata": {},
     "outputs": [],
     "prompt_number": 25
    },
    {
     "cell_type": "code",
     "collapsed": false,
     "input": [
      "depr"
     ],
     "language": "python",
     "metadata": {},
     "outputs": [
      {
       "output_type": "pyout",
       "prompt_number": 26,
       "text": [
        "/oxygen_depravation_array (Array(0,)) ''\n",
        "  atom := Float64Atom(shape=(), dflt=0.0)\n",
        "  maindim := 0\n",
        "  flavor := 'python'\n",
        "  byteorder := 'little'\n",
        "  chunkshape := None"
       ]
      }
     ],
     "prompt_number": 26
    },
    {
     "cell_type": "code",
     "collapsed": false,
     "input": [
      "team_table.cols.name[team_table.nrows/2:]"
     ],
     "language": "python",
     "metadata": {},
     "outputs": [
      {
       "output_type": "pyout",
       "prompt_number": 34,
       "text": [
        "array(['Fernanda', 'Larae', 'Ema', 'Britt', 'Eldridge'], \n",
        "      dtype='|S100')"
       ]
      }
     ],
     "prompt_number": 34
    },
    {
     "cell_type": "code",
     "collapsed": false,
     "input": [],
     "language": "python",
     "metadata": {},
     "outputs": []
    }
   ],
   "metadata": {}
  }
 ]
}