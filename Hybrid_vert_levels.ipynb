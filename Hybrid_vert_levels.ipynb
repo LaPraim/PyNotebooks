{
 "metadata": {
  "name": ""
 },
 "nbformat": 3,
 "nbformat_minor": 0,
 "worksheets": [
  {
   "cells": [
    {
     "cell_type": "code",
     "collapsed": false,
     "input": [
      "hyb = [0.012500, 0.014340, 0.016404, 0.018694, 0.021206,\n",
      "         0.023930, 0.026849, 0.030074, 0.033623, 0.037515,\n",
      "         0.041764, 0.046384, 0.051386, 0.056780, 0.062570,\n",
      "         0.068760, 0.075347, 0.082325, 0.089684, 0.097408,\n",
      "         0.105909, 0.115273, 0.125596, 0.136986, 0.149561,\n",
      "         0.163458, 0.178827, 0.195837, 0.214679, 0.235567,\n",
      "         0.258743, 0.283548, 0.310015, 0.338169, 0.368022,\n",
      "         0.399577, 0.432822, 0.467732, 0.504269, 0.542379,\n",
      "         0.581991, 0.623018, 0.663901, 0.704243, 0.743627,\n",
      "         0.781631, 0.817824, 0.851783, 0.883096, 0.911374,\n",
      "         0.936255, 0.957414, 0.974571, 0.987495, 0.996010,\n",
      "         1.000000,]"
     ],
     "language": "python",
     "metadata": {},
     "outputs": [],
     "prompt_number": 1
    },
    {
     "cell_type": "code",
     "collapsed": false,
     "input": [
      "hyb[1]/hyb[0]"
     ],
     "language": "python",
     "metadata": {},
     "outputs": [
      {
       "metadata": {},
       "output_type": "pyout",
       "prompt_number": 2,
       "text": [
        "1.1472"
       ]
      }
     ],
     "prompt_number": 2
    },
    {
     "cell_type": "code",
     "collapsed": false,
     "input": [
      "4750.0/(3.0*8.31)"
     ],
     "language": "python",
     "metadata": {},
     "outputs": [
      {
       "metadata": {},
       "output_type": "pyout",
       "prompt_number": 4,
       "text": [
        "190.53349378259125"
       ]
      }
     ],
     "prompt_number": 4
    },
    {
     "cell_type": "code",
     "collapsed": false,
     "input": [
      "from math import pi, sqrt\n",
      "pi * (2+1.3*3/sqrt(7))**2"
     ],
     "language": "python",
     "metadata": {},
     "outputs": [
      {
       "metadata": {},
       "output_type": "pyout",
       "prompt_number": 5,
       "text": [
        "37.91620507454941"
       ]
      }
     ],
     "prompt_number": 5
    },
    {
     "cell_type": "code",
     "collapsed": false,
     "input": [],
     "language": "python",
     "metadata": {},
     "outputs": []
    }
   ],
   "metadata": {}
  }
 ]
}