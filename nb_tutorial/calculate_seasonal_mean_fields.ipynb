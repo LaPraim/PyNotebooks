{
 "metadata": {
  "name": "",
  "signature": "sha256:10ee2fb846f6ca6cb6e789905752c87b596aca1b48580fda1592ec2ca0f0fea8"
 },
 "nbformat": 3,
 "nbformat_minor": 0,
 "worksheets": [
  {
   "cells": [
    {
     "cell_type": "code",
     "collapsed": false,
     "input": [
      "u_file = \"\"\n",
      "v_file = \"\"\n",
      "t2_file = \"\"\n",
      "q2_file = \"\""
     ],
     "language": "python",
     "metadata": {},
     "outputs": [],
     "prompt_number": 1
    },
    {
     "cell_type": "code",
     "collapsed": false,
     "input": [
      "#TODO:\n",
      "\n"
     ],
     "language": "python",
     "metadata": {},
     "outputs": [],
     "prompt_number": 2
    },
    {
     "cell_type": "code",
     "collapsed": false,
     "input": [],
     "language": "python",
     "metadata": {},
     "outputs": []
    }
   ],
   "metadata": {}
  }
 ]
}