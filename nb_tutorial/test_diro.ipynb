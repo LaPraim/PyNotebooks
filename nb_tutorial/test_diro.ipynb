{
 "metadata": {
  "name": "",
  "signature": "sha256:d9058744378cb92def962c56f274be09f7ff0ef2065246d06db0a597ff502602"
 },
 "nbformat": 3,
 "nbformat_minor": 0,
 "worksheets": []
}