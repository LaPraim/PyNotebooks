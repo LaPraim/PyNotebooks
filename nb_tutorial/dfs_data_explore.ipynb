{
 "metadata": {
  "name": "",
  "signature": "sha256:75c6ca4401f26d6f86a8e55c761039d0976888783109d0c0f4ded83a8e0592ff"
 },
 "nbformat": 3,
 "nbformat_minor": 0,
 "worksheets": [
  {
   "cells": [
    {
     "cell_type": "code",
     "collapsed": false,
     "input": [
      "%matplotlib inline\n",
      "\n",
      "import matplotlib.pyplot as plt # plotting\n",
      "from mpl_toolkits.basemap import Basemap, maskoceans\n",
      "\n",
      "import numpy as np # \n",
      "\n",
      "\n",
      "\n",
      "#Interactivity\n",
      "from IPython.display import display\n",
      "from IPython.html.widgets import interactive\n",
      "\n",
      "#netcdf \n",
      "from netCDF4 import Dataset\n",
      "\n",
      "#Misc\n",
      "import os"
     ],
     "language": "python",
     "metadata": {},
     "outputs": [],
     "prompt_number": 62
    },
    {
     "cell_type": "code",
     "collapsed": false,
     "input": [
      "data_folder = \"/home/huziy/skynet3_rech1/dfs_data_for_cnrcwp_tutorial_3dec_2014\""
     ],
     "language": "python",
     "metadata": {},
     "outputs": [],
     "prompt_number": 56
    },
    {
     "cell_type": "code",
     "collapsed": false,
     "input": [
      "def simple_func(a, b = None):\n",
      "    \"\"\"\n",
      "    Adds 2 numbers\n",
      "    \"\"\"\n",
      "    b = a if b is None else b\n",
      "    return a + b"
     ],
     "language": "python",
     "metadata": {},
     "outputs": [],
     "prompt_number": 44
    },
    {
     "cell_type": "code",
     "collapsed": false,
     "input": [
      "simple_func(10, b = 15)"
     ],
     "language": "python",
     "metadata": {},
     "outputs": [
      {
       "metadata": {},
       "output_type": "pyout",
       "prompt_number": 45,
       "text": [
        "25"
       ]
      }
     ],
     "prompt_number": 45
    },
    {
     "cell_type": "code",
     "collapsed": false,
     "input": [
      "os.listdir(data_folder)"
     ],
     "language": "python",
     "metadata": {},
     "outputs": [
      {
       "metadata": {},
       "output_type": "pyout",
       "prompt_number": 14,
       "text": [
        "['drowned_radsw_DFS5.2_y2012.nc',\n",
        " 'drowned_u10_DFS5.2_y2012.nc',\n",
        " 'drowned_v10_DFS5.2_y2012.nc',\n",
        " 'drowned_snow_DFS5.2_y2012.nc',\n",
        " 'drowned_radlw_DFS5.2_y2012.nc',\n",
        " 'drowned_t2_DFS5.2_y2012.nc']"
       ]
      }
     ],
     "prompt_number": 14
    },
    {
     "cell_type": "code",
     "collapsed": false,
     "input": [
      "\n",
      "bmap = None\n",
      "x2d = y2d = None\n",
      "def my_iplot(varname, t):\n",
      "    global bmap, x2d, y2d\n",
      "    filename = \"drowned_{}_DFS5.2_y2012.nc\".format(varname)\n",
      "    filepath = os.path.join(data_folder, filename)\n",
      "    with Dataset(filepath) as ds:\n",
      "        \n",
      "        print ds.variables.keys()\n",
      "        \n",
      "        if bmap is None:\n",
      "            lons1d = ds.variables[\"lon0\"][:]\n",
      "            lats1d = ds.variables[\"lat0\"][:]\n",
      "            \n",
      "            lons2d, lats2d = np.meshgrid(lons1d, lats1d)\n",
      "            \n",
      "            bmap = Basemap(lon_0=180)\n",
      "            x2d, y2d = bmap(lons2d, lats2d)\n",
      "            \n",
      "        im = bmap.contourf(x2d, y2d, ds.variables[varname][t])    \n",
      "        bmap.colorbar(im)\n",
      "        \n",
      "        \n",
      "        "
     ],
     "language": "python",
     "metadata": {},
     "outputs": [],
     "prompt_number": 63
    },
    {
     "cell_type": "code",
     "collapsed": false,
     "input": [
      "w = interactive(my_iplot, varname = [\"t2\", \"q2\"] , t = (0, 30, 1))"
     ],
     "language": "python",
     "metadata": {},
     "outputs": [],
     "prompt_number": 64
    },
    {
     "cell_type": "code",
     "collapsed": false,
     "input": [
      "display(w)"
     ],
     "language": "python",
     "metadata": {},
     "outputs": [
      {
       "output_type": "stream",
       "stream": "stdout",
       "text": [
        "[u'lat0', u'lon0', u't2', u'time']\n"
       ]
      },
      {
       "metadata": {},
       "output_type": "display_data",
       "png": "[encoded data removed]",
       "text": [
        "<matplotlib.figure.Figure at 0x2aaaac6bb9d0>"
       ]
      }
     ],
     "prompt_number": 65
    },
    {
     "cell_type": "code",
     "collapsed": false,
     "input": [],
     "language": "python",
     "metadata": {},
     "outputs": [
      {
       "metadata": {},
       "output_type": "pyout",
       "prompt_number": 29,
       "text": [
        "<mpl_toolkits.basemap.Basemap at 0x2aaaac596790>"
       ]
      }
     ],
     "prompt_number": 29
    },
    {
     "cell_type": "code",
     "collapsed": false,
     "input": [],
     "language": "python",
     "metadata": {},
     "outputs": []
    }
   ],
   "metadata": {}
  }
 ]
}