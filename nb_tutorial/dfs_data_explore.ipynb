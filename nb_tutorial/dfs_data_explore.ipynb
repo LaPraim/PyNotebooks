{
 "metadata": {
  "name": "",
  "signature": "sha256:d357b9bce644a5b95d4d5ff176d46e62f67be663abb72b0141a4a5877a0bef37"
 },
 "nbformat": 3,
 "nbformat_minor": 0,
 "worksheets": [
  {
   "cells": [
    {
     "cell_type": "code",
     "collapsed": false,
     "input": [
      "%matplotlib inline\n",
      "\n",
      "import matplotlib.pyplot as plt # plotting\n",
      "from mpl_toolkits.basemap import Basemap, maskoceans\n",
      "\n",
      "import numpy as np # \n",
      "\n",
      "\n",
      "\n",
      "#Interactivity\n",
      "from IPython.display import display\n",
      "from IPython.html.widgets import interactive\n",
      "\n",
      "#netcdf \n",
      "from netCDF4 import Dataset\n",
      "\n",
      "#Misc\n",
      "import os"
     ],
     "language": "python",
     "metadata": {},
     "outputs": [
      {
       "output_type": "stream",
       "stream": "stderr",
       "text": [
        "/skynet3_rech1/huziy/virtualenv_cython/lib/python2.7/site-packages/mpl_toolkits/__init__.py:2: UserWarning: Module argparse was already imported from /usr/local/Python-2.7.2/lib/python2.7/argparse.pyc, but /skynet3_rech1/huziy/virtualenv_cython/lib/python2.7/site-packages is being added to sys.path\n",
        "  __import__('pkg_resources').declare_namespace(__name__)\n"
       ]
      }
     ],
     "prompt_number": 1
    },
    {
     "cell_type": "code",
     "collapsed": false,
     "input": [
      "data_folder = \"/home/huziy/skynet3_rech1/dfs_data_for_cnrcwp_tutorial_3dec_2014\""
     ],
     "language": "python",
     "metadata": {},
     "outputs": [],
     "prompt_number": 2
    },
    {
     "cell_type": "code",
     "collapsed": false,
     "input": [
      "def simple_func(a, b = None):\n",
      "    \"\"\"\n",
      "    Adds 2 numbers\n",
      "    \"\"\"\n",
      "    b = a if b is None else b\n",
      "    return a + b"
     ],
     "language": "python",
     "metadata": {},
     "outputs": [],
     "prompt_number": 3
    },
    {
     "cell_type": "code",
     "collapsed": false,
     "input": [
      "simple_func(10, b = 15)"
     ],
     "language": "python",
     "metadata": {},
     "outputs": [
      {
       "metadata": {},
       "output_type": "pyout",
       "prompt_number": 4,
       "text": [
        "25"
       ]
      }
     ],
     "prompt_number": 4
    },
    {
     "cell_type": "code",
     "collapsed": false,
     "input": [
      "os.listdir(data_folder)"
     ],
     "language": "python",
     "metadata": {},
     "outputs": [
      {
       "metadata": {},
       "output_type": "pyout",
       "prompt_number": 5,
       "text": [
        "['drowned_radsw_DFS5.2_y2012.nc',\n",
        " 'drowned_u10_DFS5.2_y2012.nc',\n",
        " 'drowned_q2_DFS5.2_y2012.nc',\n",
        " 'drowned_v10_DFS5.2_y2012.nc',\n",
        " 'drowned_snow_DFS5.2_y2012.nc',\n",
        " 'drowned_radlw_DFS5.2_y2012.nc',\n",
        " 'drowned_t2_DFS5.2_y2012.nc']"
       ]
      }
     ],
     "prompt_number": 5
    },
    {
     "cell_type": "code",
     "collapsed": false,
     "input": [
      "\n",
      "bmap = None\n",
      "x2d = y2d = None\n",
      "def my_iplot(varname, t):\n",
      "    global bmap, x2d, y2d\n",
      "    filename = \"drowned_{}_DFS5.2_y2012.nc\".format(varname)\n",
      "    filepath = os.path.join(data_folder, filename)\n",
      "    with Dataset(filepath) as ds:\n",
      "        \n",
      "        print ds.variables.keys()\n",
      "        \n",
      "        if bmap is None:\n",
      "            lons1d = ds.variables[\"lon0\"][:]\n",
      "            lats1d = ds.variables[\"lat0\"][:]\n",
      "            \n",
      "            lons2d, lats2d = np.meshgrid(lons1d, lats1d)\n",
      "            \n",
      "            bmap = Basemap(lon_0=180)\n",
      "            x2d, y2d = bmap(lons2d, lats2d)\n",
      "            \n",
      "        im = bmap.contourf(x2d, y2d, ds.variables[varname][t])    \n",
      "        bmap.colorbar(im)\n",
      "        \n",
      "        \n",
      "        "
     ],
     "language": "python",
     "metadata": {},
     "outputs": [],
     "prompt_number": 6
    },
    {
     "cell_type": "code",
     "collapsed": false,
     "input": [
      "w = interactive(my_iplot, varname = [\"t2\", \"q2\"] , t = (0, 30, 1))"
     ],
     "language": "python",
     "metadata": {},
     "outputs": [],
     "prompt_number": 7
    },
    {
     "cell_type": "code",
     "collapsed": false,
     "input": [
      "display(w)"
     ],
     "language": "python",
     "metadata": {},
     "outputs": [
      {
       "output_type": "stream",
       "stream": "stdout",
       "text": [
        "[u'lat0', u'lon0', u't2', u'time']\n"
       ]
      },
      {
       "metadata": {},
       "output_type": "display_data",
       "png": "[encoded data removed]",
       "text": [
        "<matplotlib.figure.Figure at 0x2aaaac7d9d90>"
       ]
      }
     ],
     "prompt_number": 8
    },
    {
     "cell_type": "code",
     "collapsed": false,
     "input": [],
     "language": "python",
     "metadata": {},
     "outputs": [
      {
       "metadata": {},
       "output_type": "pyout",
       "prompt_number": 29,
       "text": [
        "<mpl_toolkits.basemap.Basemap at 0x2aaaac596790>"
       ]
      }
     ],
     "prompt_number": 29
    },
    {
     "cell_type": "code",
     "collapsed": false,
     "input": [],
     "language": "python",
     "metadata": {},
     "outputs": []
    }
   ],
   "metadata": {}
  }
 ]
}