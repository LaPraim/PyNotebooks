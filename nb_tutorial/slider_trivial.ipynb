{
 "metadata": {
  "name": "",
  "signature": "sha256:98e395963d5e58a8c3128d5730d60ae2284bb5d0575df0ab5802ad7ce7cf50a0"
 },
 "nbformat": 3,
 "nbformat_minor": 0,
 "worksheets": [
  {
   "cells": [
    {
     "cell_type": "code",
     "collapsed": false,
     "input": [
      "%matplotlib inline"
     ],
     "language": "python",
     "metadata": {},
     "outputs": [],
     "prompt_number": 1
    },
    {
     "cell_type": "code",
     "collapsed": false,
     "input": [
      "#Necessary imports\n",
      "import matplotlib.pyplot as plt # for plotting\n",
      "from IPython.display import display\n",
      "from IPython.html.widgets import interactive\n",
      "import numpy as np # for array manipulation"
     ],
     "language": "python",
     "metadata": {},
     "outputs": [],
     "prompt_number": 2
    },
    {
     "cell_type": "code",
     "collapsed": false,
     "input": [
      "dx = 0.01\n",
      "x = np.arange(-2 * np.pi, 2 * np.pi + dx, dx)\n"
     ],
     "language": "python",
     "metadata": {},
     "outputs": [],
     "prompt_number": 3
    },
    {
     "cell_type": "code",
     "collapsed": false,
     "input": [
      "def on_change(val, color, title, koef = 0.5, font_size=\"10\"):\n",
      "    plt.rcParams[\"font.size\"] = int(font_size.strip())\n",
      "    plt.rcParams.update()\n",
      "    y = x * np.cos(koef*x)\n",
      "    plt.plot(x, y, color, lw=val)\n",
      "    plt.title(r\"{}\".format(title) + \"\\n\")\n",
      "    \n"
     ],
     "language": "python",
     "metadata": {},
     "outputs": [],
     "prompt_number": 6
    },
    {
     "cell_type": "code",
     "collapsed": false,
     "input": [
      "w = interactive(on_change, val = (1, 10, 1), \n",
      "                color=[\"r--\", \"r-.\", \"g\", \"b\", \"k\", \"m\"], \n",
      "                title=\"Default title\", koef=(-5, 5, 0.1))\n",
      "display(w)"
     ],
     "language": "python",
     "metadata": {},
     "outputs": [
      {
       "metadata": {},
       "output_type": "display_data",
       "png": "[encoded data removed]",
       "text": [
        "<matplotlib.figure.Figure at 0x2ae13adc7110>"
       ]
      }
     ],
     "prompt_number": 7
    },
    {
     "cell_type": "code",
     "collapsed": false,
     "input": [],
     "language": "python",
     "metadata": {},
     "outputs": [],
     "prompt_number": 5
    },
    {
     "cell_type": "code",
     "collapsed": false,
     "input": [],
     "language": "python",
     "metadata": {},
     "outputs": [],
     "prompt_number": 5
    },
    {
     "cell_type": "code",
     "collapsed": false,
     "input": [],
     "language": "python",
     "metadata": {},
     "outputs": [],
     "prompt_number": 5
    },
    {
     "cell_type": "code",
     "collapsed": false,
     "input": [],
     "language": "python",
     "metadata": {},
     "outputs": [],
     "prompt_number": 5
    }
   ],
   "metadata": {}
  }
 ]
}