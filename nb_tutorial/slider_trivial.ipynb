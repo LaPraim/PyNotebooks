{
 "metadata": {
  "name": "",
  "signature": "sha256:b90af9e178484ce77e4ae62e55d4821dea1d92f1c793379834f924bb76901fe7"
 },
 "nbformat": 3,
 "nbformat_minor": 0,
 "worksheets": [
  {
   "cells": [
    {
     "cell_type": "code",
     "collapsed": false,
     "input": [
      "%matplotlib inline"
     ],
     "language": "python",
     "metadata": {},
     "outputs": [],
     "prompt_number": 1
    },
    {
     "cell_type": "code",
     "collapsed": false,
     "input": [
      "#Necessary imports\n",
      "import matplotlib.pyplot as plt # for plotting\n",
      "\n",
      "from IPython.display import display\n",
      "from IPython.html import widgets\n",
      "from IPython.html.widgets import interactive\n",
      "import numpy as np # for array manipulation"
     ],
     "language": "python",
     "metadata": {},
     "outputs": [],
     "prompt_number": 29
    },
    {
     "cell_type": "code",
     "collapsed": false,
     "input": [
      "dx = 0.01\n",
      "x = np.arange(-2 * np.pi, 2 * np.pi + dx, dx)\n",
      "y = x * np.cos(x)"
     ],
     "language": "python",
     "metadata": {},
     "outputs": [],
     "prompt_number": 39
    },
    {
     "cell_type": "code",
     "collapsed": false,
     "input": [
      "def on_change(val, color):\n",
      "    plt.plot(x, y, color, lw=val)\n",
      "    plt.title(\"{}\".format(val))"
     ],
     "language": "python",
     "metadata": {},
     "outputs": [],
     "prompt_number": 45
    },
    {
     "cell_type": "code",
     "collapsed": false,
     "input": [
      "w = interactive(on_change, val = (1, 10, 1), color=[\"r\", \"g\", \"b\", \"k\", \"m\"])\n",
      "display(w)"
     ],
     "language": "python",
     "metadata": {},
     "outputs": [
      {
       "metadata": {},
       "output_type": "display_data",
       "png": "[encoded data removed]",
       "text": [
        "<matplotlib.figure.Figure at 0x10b786590>"
       ]
      }
     ],
     "prompt_number": 46
    },
    {
     "cell_type": "code",
     "collapsed": false,
     "input": [],
     "language": "python",
     "metadata": {},
     "outputs": [],
     "prompt_number": 38
    },
    {
     "cell_type": "code",
     "collapsed": false,
     "input": [],
     "language": "python",
     "metadata": {},
     "outputs": []
    }
   ],
   "metadata": {}
  }
 ]
}