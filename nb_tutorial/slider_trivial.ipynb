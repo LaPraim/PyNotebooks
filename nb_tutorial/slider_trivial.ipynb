{
 "metadata": {
  "name": "",
  "signature": "sha256:72fca564bc86727496dc421c3c99b0a639462106c617d4d8c49ee66f22529f2a"
 },
 "nbformat": 3,
 "nbformat_minor": 0,
 "worksheets": [
  {
   "cells": [
    {
     "cell_type": "code",
     "collapsed": false,
     "input": [
      "%matplotlib inline"
     ],
     "language": "python",
     "metadata": {},
     "outputs": [],
     "prompt_number": 1
    },
    {
     "cell_type": "code",
     "collapsed": false,
     "input": [
      "#Necessary imports\n",
      "import matplotlib.pyplot as plt # for plotting\n",
      "from IPython.display import display\n",
      "from IPython.html.widgets import interactive\n",
      "import numpy as np # for array manipulation"
     ],
     "language": "python",
     "metadata": {},
     "outputs": [],
     "prompt_number": 2
    },
    {
     "cell_type": "code",
     "collapsed": false,
     "input": [
      "dx = 0.01\n",
      "x = np.arange(-2 * np.pi, 2 * np.pi + dx, dx)\n"
     ],
     "language": "python",
     "metadata": {},
     "outputs": [],
     "prompt_number": 3
    },
    {
     "cell_type": "code",
     "collapsed": false,
     "input": [
      "def on_change(val, color, title, koef = 0.5):\n",
      "    y = x * np.cos(koef*x)\n",
      "    plt.plot(x, y, color, lw=val)\n",
      "    plt.title(r\"{}\".format(title) + \"\\n\")\n"
     ],
     "language": "python",
     "metadata": {},
     "outputs": [],
     "prompt_number": 4
    },
    {
     "cell_type": "code",
     "collapsed": false,
     "input": [
      "w = interactive(on_change, val = (1, 10, 1), \n",
      "                color=[\"r--\", \"r-.\", \"g\", \"b\", \"k\", \"m\"], \n",
      "                title=\"Default title\", koef=(-5, 5, 0.1))\n",
      "display(w)"
     ],
     "language": "python",
     "metadata": {},
     "outputs": [
      {
       "metadata": {},
       "output_type": "display_data",
       "png": "[encoded data removed]",
       "text": [
        "<matplotlib.figure.Figure at 0x127393d0>"
       ]
      }
     ],
     "prompt_number": 5
    },
    {
     "cell_type": "code",
     "collapsed": false,
     "input": [],
     "language": "python",
     "metadata": {},
     "outputs": [],
     "prompt_number": 5
    },
    {
     "cell_type": "code",
     "collapsed": false,
     "input": [],
     "language": "python",
     "metadata": {},
     "outputs": [],
     "prompt_number": 5
    },
    {
     "cell_type": "code",
     "collapsed": false,
     "input": [],
     "language": "python",
     "metadata": {},
     "outputs": [],
     "prompt_number": 5
    },
    {
     "cell_type": "code",
     "collapsed": false,
     "input": [],
     "language": "python",
     "metadata": {},
     "outputs": [],
     "prompt_number": 5
    }
   ],
   "metadata": {}
  }
 ]
}