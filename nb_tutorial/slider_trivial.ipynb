{
 "metadata": {
  "name": "",
  "signature": "sha256:dd539654dd61bc39859bca699405bd3028a066908376f4d265fe42a68bf99823"
 },
 "nbformat": 3,
 "nbformat_minor": 0,
 "worksheets": [
  {
   "cells": [
    {
     "cell_type": "code",
     "collapsed": false,
     "input": [
      "%matplotlib inline"
     ],
     "language": "python",
     "metadata": {},
     "outputs": [],
     "prompt_number": 7
    },
    {
     "cell_type": "code",
     "collapsed": false,
     "input": [
      "#Necessary imports\n",
      "import matplotlib.pyplot as plt # for plotting\n",
      "from IPython.display import display\n",
      "from IPython.html.widgets import interactive\n",
      "import numpy as np # for array manipulation"
     ],
     "language": "python",
     "metadata": {},
     "outputs": [],
     "prompt_number": 8
    },
    {
     "cell_type": "code",
     "collapsed": false,
     "input": [
      "dx = 0.01\n",
      "x = np.arange(-2 * np.pi, 2 * np.pi + dx, dx)\n",
      "y = x * np.cos(x)"
     ],
     "language": "python",
     "metadata": {},
     "outputs": [],
     "prompt_number": 14
    },
    {
     "cell_type": "code",
     "collapsed": false,
     "input": [
      "def on_change(val, color, title):\n",
      "    plt.plot(x, y, color, lw=val)\n",
      "    plt.title(\"{}\".format(title))\n"
     ],
     "language": "python",
     "metadata": {},
     "outputs": [],
     "prompt_number": 15
    },
    {
     "cell_type": "code",
     "collapsed": false,
     "input": [
      "w = interactive(on_change, val = (1, 10, 1), \n",
      "                color=[\"r--\", \"r-.\", \"g\", \"b\", \"k\", \"m\"], \n",
      "                title=\"Default title\")\n",
      "display(w)"
     ],
     "language": "python",
     "metadata": {},
     "outputs": [
      {
       "metadata": {},
       "output_type": "display_data",
       "png": "[encoded data removed]",
       "text": [
        "<matplotlib.figure.Figure at 0x105045a10>"
       ]
      }
     ],
     "prompt_number": 16
    },
    {
     "cell_type": "code",
     "collapsed": false,
     "input": [],
     "language": "python",
     "metadata": {},
     "outputs": [],
     "prompt_number": 11
    },
    {
     "cell_type": "code",
     "collapsed": false,
     "input": [],
     "language": "python",
     "metadata": {},
     "outputs": []
    }
   ],
   "metadata": {}
  }
 ]
}